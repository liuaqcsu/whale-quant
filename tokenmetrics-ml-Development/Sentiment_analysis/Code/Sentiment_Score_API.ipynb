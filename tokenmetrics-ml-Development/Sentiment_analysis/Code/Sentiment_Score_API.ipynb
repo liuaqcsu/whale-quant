{
 "cells": [
  {
   "cell_type": "markdown",
   "metadata": {},
   "source": [
    "# General Sentiment Analysis"
   ]
  },
  {
   "cell_type": "code",
   "execution_count": 1,
   "metadata": {},
   "outputs": [
    {
     "name": "stderr",
     "output_type": "stream",
     "text": [
      "/Library/Frameworks/Python.framework/Versions/3.8/lib/python3.8/site-packages/tqdm/std.py:668: FutureWarning: The Panel class is removed from pandas. Accessing it from the top-level namespace will also be removed in the next version\n",
      "  from pandas import Panel\n",
      "/Library/Frameworks/Python.framework/Versions/3.8/lib/python3.8/site-packages/tqdm/std.py:668: FutureWarning: The Panel class is removed from pandas. Accessing it from the top-level namespace will also be removed in the next version\n",
      "  from pandas import Panel\n"
     ]
    }
   ],
   "source": [
    "# Basic libraries\n",
    "import pandas as pd\n",
    "\n",
    "\n",
    "# Scraping library\n",
    "from Tools import  datascraping\n",
    "\n",
    "# Processing library\n",
    "from Tools import datapreprocessing\n",
    "\n",
    "# Sentiment Analysis Library\n",
    "from Tools import sentimentscoring"
   ]
  },
  {
   "cell_type": "code",
   "execution_count": 2,
   "metadata": {},
   "outputs": [
    {
     "name": "stdout",
     "output_type": "stream",
     "text": [
      "Time of first scraped tweet: 2020-08-31 09:27:41.744068\n",
      "Starting scraping tweets...\n",
      "Done.\n"
     ]
    }
   ],
   "source": [
    "# Downloading and Processing twitter data\n",
    "####################################################\n",
    "coin_name = 'Ethereum'\n",
    "coin_symbol = \"ETH\"\n",
    "####################################################\n",
    "\n",
    "data = datascraping.scrape_tweets(coin_name, coin_symbol, timespan=24*60)"
   ]
  },
  {
   "cell_type": "code",
   "execution_count": 3,
   "metadata": {},
   "outputs": [
    {
     "name": "stdout",
     "output_type": "stream",
     "text": [
      "Detecting scam tweets...\n"
     ]
    },
    {
     "name": "stderr",
     "output_type": "stream",
     "text": [
      "100%|██████████| 474/474 [00:00<00:00, 170082.99it/s]\n",
      "100%|██████████| 474/474 [00:00<00:00, 3396.49it/s]\n"
     ]
    },
    {
     "name": "stdout",
     "output_type": "stream",
     "text": [
      "Remaining data: 76 %\n",
      "\n",
      "Cleaning text...\n"
     ]
    },
    {
     "name": "stderr",
     "output_type": "stream",
     "text": [
      "100%|██████████| 358/358 [00:00<00:00, 56583.67it/s]"
     ]
    },
    {
     "name": "stdout",
     "output_type": "stream",
     "text": [
      "Done.\n"
     ]
    },
    {
     "name": "stderr",
     "output_type": "stream",
     "text": [
      "\n"
     ]
    }
   ],
   "source": [
    "data = datapreprocessing.preprocess(data, scam_dict='Tools/Scam_keywords.txt').copy()"
   ]
  },
  {
   "cell_type": "markdown",
   "metadata": {},
   "source": [
    "### Sentiment"
   ]
  },
  {
   "cell_type": "code",
   "execution_count": 4,
   "metadata": {},
   "outputs": [
    {
     "name": "stdout",
     "output_type": "stream",
     "text": [
      "Computing sentiment with Textblob...\n"
     ]
    },
    {
     "name": "stderr",
     "output_type": "stream",
     "text": [
      "100%|██████████| 358/358 [00:00<00:00, 2341.29it/s]\n"
     ]
    },
    {
     "name": "stdout",
     "output_type": "stream",
     "text": [
      "Computing sentiment with Vader...\n"
     ]
    },
    {
     "name": "stderr",
     "output_type": "stream",
     "text": [
      "100%|██████████| 358/358 [00:00<00:00, 3243.46it/s]"
     ]
    },
    {
     "name": "stdout",
     "output_type": "stream",
     "text": [
      "Done.\n"
     ]
    },
    {
     "name": "stderr",
     "output_type": "stream",
     "text": [
      "\n"
     ]
    }
   ],
   "source": [
    "# Extracting sentiment of tweets\n",
    "sentiment_data = sentimentscoring.GetSentiment(data)"
   ]
  },
  {
   "cell_type": "code",
   "execution_count": 5,
   "metadata": {},
   "outputs": [
    {
     "data": {
      "text/plain": [
       "'{\"coin name\":\"Ethereum\",\"coin symbol\":\"ETH\",\"number of tweets\":358,\"very negative\":0.0055865922,\"negative\":0.2932960894,\"neutral\":0.2234636872,\"positive\":0.3687150838,\"very positive\":0.1089385475,\"average sentiment score\":0.2604776662}'"
      ]
     },
     "execution_count": 5,
     "metadata": {},
     "output_type": "execute_result"
    }
   ],
   "source": [
    "nb_tweets = int(len(sentiment_data))\n",
    "very_neg = len(sentiment_data[sentiment_data.sentiment == 'very negative']) / len(sentiment_data)\n",
    "neg = len(sentiment_data[sentiment_data.sentiment == 'negative']) / len(sentiment_data)\n",
    "neutral = len(sentiment_data[sentiment_data.sentiment == 'neutral']) / len(sentiment_data)\n",
    "pos = len(sentiment_data[sentiment_data.sentiment == 'positive']) / len(sentiment_data)\n",
    "very_pos = len(sentiment_data[sentiment_data.sentiment == 'very positive']) / len(sentiment_data)\n",
    "avg_score = sentimentscoring.weighted_avg(sentiment_data, 'sentiment_score', weight='favorites')\n",
    "index = ['coin name', 'coin symbol', 'number of tweets', 'very negative', 'negative', 'neutral', 'positive', 'very positive', 'average sentiment score']\n",
    "pd.Series([coin_name, coin_symbol, nb_tweets, very_neg, neg, neutral, pos, very_pos, avg_score], index).to_json()"
   ]
  },
  {
   "cell_type": "code",
   "execution_count": null,
   "metadata": {},
   "outputs": [],
   "source": []
  }
 ],
 "metadata": {
  "kernelspec": {
   "display_name": "Python 3",
   "language": "python",
   "name": "python3"
  },
  "language_info": {
   "codemirror_mode": {
    "name": "ipython",
    "version": 3
   },
   "file_extension": ".py",
   "mimetype": "text/x-python",
   "name": "python",
   "nbconvert_exporter": "python",
   "pygments_lexer": "ipython3",
   "version": "3.7.6"
  }
 },
 "nbformat": 4,
 "nbformat_minor": 4
}
