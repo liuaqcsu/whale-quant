{
 "cells": [
  {
   "cell_type": "markdown",
   "metadata": {},
   "source": [
    "# Automatized notebook for Tweets scraping"
   ]
  },
  {
   "cell_type": "code",
   "execution_count": null,
   "metadata": {},
   "outputs": [],
   "source": [
    "# Importing basic libraries\n",
    "import pandas as pd\n",
    "import numpy as np\n",
    "import time as t\n",
    "import datetime\n",
    "\n",
    "# Scraping library\n",
    "import datascraping\n",
    "\n",
    "# Processing library\n",
    "import datapreprocessing"
   ]
  },
  {
   "cell_type": "markdown",
   "metadata": {},
   "source": [
    "## Initialization - 24 first hours"
   ]
  },
  {
   "cell_type": "code",
   "execution_count": null,
   "metadata": {},
   "outputs": [],
   "source": [
    "########################\n",
    "coin_name = 'bitcoin'\n",
    "coin_symbol = 'BTC'\n",
    "########################\n",
    "\n",
    "tweets_dataset = datascraping.scrape_tweets(coin_name, coin_symbol, timespan=24*60)\n",
    "tweets_dataset = datapreprocessing.preprocess(tweets_dataset)\n",
    "tweets_dataset.to_csv(coin_symbol + '_last_tweets.csv')"
   ]
  },
  {
   "cell_type": "markdown",
   "metadata": {},
   "source": [
    "## Loop - updating every 1 hour"
   ]
  },
  {
   "cell_type": "code",
   "execution_count": null,
   "metadata": {},
   "outputs": [],
   "source": [
    "# Sleeping 60 minutes\n",
    "while True:\n",
    "    nb_min = 10\n",
    "    for stage in range(10):\n",
    "        print(f'Next update: {nb_min - stage:>4} minutes...')\n",
    "        t.sleep(60 * nb_min / 10)\n",
    "\n",
    "    now = datetime.datetime.now()\n",
    "    new_tweets = datascraping.scrape_tweets(coin_name, coin_symbol, timespan=nb_min)\n",
    "    new_tweets = datapreprocessing.preprocess(new_tweets)\n",
    "    tweets_dataset.append(new_tweets)\n",
    "    tweets_dataset = tweets_dataset[tweets_dataset.date > pd.to_datetime(now - datetime.timedelta(hours=24)).tz_localize('US/Eastern')]\n",
    "    tweets_dataset.to_csv(coin_symbol + '_last_tweets.csv')\n",
    "    print('*' * 50)"
   ]
  }
 ],
 "metadata": {
  "kernelspec": {
   "display_name": "Python 3",
   "language": "python",
   "name": "python3"
  },
  "language_info": {
   "codemirror_mode": {
    "name": "ipython",
    "version": 3
   },
   "file_extension": ".py",
   "mimetype": "text/x-python",
   "name": "python",
   "nbconvert_exporter": "python",
   "pygments_lexer": "ipython3",
   "version": "3.8.5"
  }
 },
 "nbformat": 4,
 "nbformat_minor": 4
}
