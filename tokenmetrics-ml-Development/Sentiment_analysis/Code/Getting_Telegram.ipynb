{
 "cells": [
  {
   "cell_type": "markdown",
   "metadata": {},
   "source": [
    "## Importing libraries"
   ]
  },
  {
   "cell_type": "code",
   "execution_count": 1,
   "metadata": {},
   "outputs": [
    {
     "name": "stderr",
     "output_type": "stream",
     "text": [
      "/Library/Frameworks/Python.framework/Versions/3.8/lib/python3.8/site-packages/tqdm/std.py:668: FutureWarning: The Panel class is removed from pandas. Accessing it from the top-level namespace will also be removed in the next version\n",
      "  from pandas import Panel\n",
      "/Library/Frameworks/Python.framework/Versions/3.8/lib/python3.8/site-packages/tqdm/std.py:668: FutureWarning: The Panel class is removed from pandas. Accessing it from the top-level namespace will also be removed in the next version\n",
      "  from pandas import Panel\n"
     ]
    }
   ],
   "source": [
    "# Basic Libraries\n",
    "import json\n",
    "import pandas as pd\n",
    "from configparser import ConfigParser\n",
    "import datetime\n",
    "config = ConfigParser()\n",
    "import asyncio\n",
    "import nest_asyncio\n",
    "nest_asyncio.apply()\n",
    "\n",
    "# Telegram module\n",
    "from Tools import telegramscraping\n",
    "from Tools import datapreprocessing\n",
    "from Tools import sentimentscoring"
   ]
  },
  {
   "cell_type": "markdown",
   "metadata": {},
   "source": [
    "## Setting up Telegram client"
   ]
  },
  {
   "cell_type": "code",
   "execution_count": 2,
   "metadata": {},
   "outputs": [
    {
     "name": "stdout",
     "output_type": "stream",
     "text": [
      "Client successfully created.\n"
     ]
    }
   ],
   "source": [
    "# Setting configuration values\n",
    "config.read('/Users/pauldoan/Documents/Token Metrics/1 Admin/telegram_credentials.ini')\n",
    "\n",
    "api_id = config['Telegram']['api_id']\n",
    "api_hash = config['Telegram']['api_hash']\n",
    "phone = config['Telegram']['phone']\n",
    "username = config['Telegram']['username']\n",
    "\n",
    "from telethon import TelegramClient\n",
    "from telethon.errors import SessionPasswordNeededError\n",
    "\n",
    "# Create the client and connect\n",
    "client = TelegramClient(username, api_id, api_hash)\n",
    "await client.start()\n",
    "print(\"Client successfully created.\")\n",
    "# Ensure you're authorized\n",
    "if not await client.is_user_authorized():\n",
    "    client.send_code_request(phone)\n",
    "    try:\n",
    "        client.sign_in(phone, input('Enter the code: '))\n",
    "    except SessionPasswordNeededError:\n",
    "        client.sign_in(password=input('Password: '))"
   ]
  },
  {
   "cell_type": "markdown",
   "metadata": {},
   "source": [
    "## Retrieving telegram group id from Token Metrics db"
   ]
  },
  {
   "cell_type": "code",
   "execution_count": 3,
   "metadata": {},
   "outputs": [
    {
     "name": "stdout",
     "output_type": "stream",
     "text": [
      "Telegram group found: chainlinkofficial\n"
     ]
    }
   ],
   "source": [
    "channel = telegramscraping.find_tm_group('Chainlink')"
   ]
  },
  {
   "cell_type": "markdown",
   "metadata": {},
   "source": [
    "## Getting channel members\n"
   ]
  },
  {
   "cell_type": "code",
   "execution_count": 4,
   "metadata": {},
   "outputs": [
    {
     "name": "stdout",
     "output_type": "stream",
     "text": [
      "Getting members data for telegram group: chainlinkofficial ...\n",
      "Scraped 2002 users...\n",
      "Scraped 4003 users...\n",
      "Scraped 6004 users...\n",
      "Scraped 8004 users...\n",
      "Scraped 10000 users...\n",
      "No more participants to scrape.\n",
      "Done.\n",
      "\n"
     ]
    }
   ],
   "source": [
    "members = asyncio.run(telegramscraping.scrape_telegram_members(channel, client))"
   ]
  },
  {
   "cell_type": "code",
   "execution_count": 5,
   "metadata": {},
   "outputs": [
    {
     "data": {
      "text/html": [
       "<div>\n",
       "<style scoped>\n",
       "    .dataframe tbody tr th:only-of-type {\n",
       "        vertical-align: middle;\n",
       "    }\n",
       "\n",
       "    .dataframe tbody tr th {\n",
       "        vertical-align: top;\n",
       "    }\n",
       "\n",
       "    .dataframe thead th {\n",
       "        text-align: right;\n",
       "    }\n",
       "</style>\n",
       "<table border=\"1\" class=\"dataframe\">\n",
       "  <thead>\n",
       "    <tr style=\"text-align: right;\">\n",
       "      <th></th>\n",
       "      <th>id</th>\n",
       "      <th>first_name</th>\n",
       "      <th>last_name</th>\n",
       "      <th>user</th>\n",
       "      <th>phone</th>\n",
       "      <th>is_bot</th>\n",
       "    </tr>\n",
       "  </thead>\n",
       "  <tbody>\n",
       "    <tr>\n",
       "      <th>0</th>\n",
       "      <td>144145193</td>\n",
       "      <td>Ian</td>\n",
       "      <td>Balina</td>\n",
       "      <td>diaryofamademan</td>\n",
       "      <td>None</td>\n",
       "      <td>False</td>\n",
       "    </tr>\n",
       "    <tr>\n",
       "      <th>1</th>\n",
       "      <td>1332508099</td>\n",
       "      <td>Urushai</td>\n",
       "      <td>None</td>\n",
       "      <td>urushal</td>\n",
       "      <td>None</td>\n",
       "      <td>False</td>\n",
       "    </tr>\n",
       "    <tr>\n",
       "      <th>2</th>\n",
       "      <td>434324582</td>\n",
       "      <td>Сергей Александрович</td>\n",
       "      <td>None</td>\n",
       "      <td>Markusina</td>\n",
       "      <td>None</td>\n",
       "      <td>False</td>\n",
       "    </tr>\n",
       "    <tr>\n",
       "      <th>3</th>\n",
       "      <td>1210349723</td>\n",
       "      <td>Anton</td>\n",
       "      <td>Dzyatkovsk</td>\n",
       "      <td>antondzyatkovsk1</td>\n",
       "      <td>None</td>\n",
       "      <td>False</td>\n",
       "    </tr>\n",
       "    <tr>\n",
       "      <th>4</th>\n",
       "      <td>485250297</td>\n",
       "      <td>Dusan</td>\n",
       "      <td>Cajic</td>\n",
       "      <td>None</td>\n",
       "      <td>None</td>\n",
       "      <td>False</td>\n",
       "    </tr>\n",
       "  </tbody>\n",
       "</table>\n",
       "</div>"
      ],
      "text/plain": [
       "           id            first_name   last_name              user phone  \\\n",
       "0   144145193                   Ian      Balina   diaryofamademan  None   \n",
       "1  1332508099               Urushai        None           urushal  None   \n",
       "2   434324582  Сергей Александрович        None         Markusina  None   \n",
       "3  1210349723                 Anton  Dzyatkovsk  antondzyatkovsk1  None   \n",
       "4   485250297                 Dusan       Cajic              None  None   \n",
       "\n",
       "   is_bot  \n",
       "0   False  \n",
       "1   False  \n",
       "2   False  \n",
       "3   False  \n",
       "4   False  "
      ]
     },
     "execution_count": 5,
     "metadata": {},
     "output_type": "execute_result"
    }
   ],
   "source": [
    "members.head()"
   ]
  },
  {
   "cell_type": "markdown",
   "metadata": {},
   "source": [
    "## Getting channel messages\n"
   ]
  },
  {
   "cell_type": "code",
   "execution_count": 6,
   "metadata": {},
   "outputs": [
    {
     "name": "stdout",
     "output_type": "stream",
     "text": [
      "Getting messages data for telegram group: chainlinkofficial ...\n",
      "Current Offset ID is: 201884 ; Total Messages: 1000\n",
      "Current Offset ID is: 199428 ; Total Messages: 2000\n",
      "Current Offset ID is: 197257 ; Total Messages: 3000\n",
      "Current Offset ID is: 194915 ; Total Messages: 4000\n",
      "Current Offset ID is: 192521 ; Total Messages: 5000\n",
      "Limit reached.\n",
      "Done.\n",
      "\n"
     ]
    }
   ],
   "source": [
    "messages = asyncio.run(telegramscraping.scrape_telegram_messages(channel, client, limit_msgs=5000))"
   ]
  },
  {
   "cell_type": "code",
   "execution_count": 7,
   "metadata": {},
   "outputs": [
    {
     "data": {
      "text/html": [
       "<div>\n",
       "<style scoped>\n",
       "    .dataframe tbody tr th:only-of-type {\n",
       "        vertical-align: middle;\n",
       "    }\n",
       "\n",
       "    .dataframe tbody tr th {\n",
       "        vertical-align: top;\n",
       "    }\n",
       "\n",
       "    .dataframe thead th {\n",
       "        text-align: right;\n",
       "    }\n",
       "</style>\n",
       "<table border=\"1\" class=\"dataframe\">\n",
       "  <thead>\n",
       "    <tr style=\"text-align: right;\">\n",
       "      <th></th>\n",
       "      <th>id</th>\n",
       "      <th>post_author</th>\n",
       "      <th>date</th>\n",
       "      <th>message</th>\n",
       "    </tr>\n",
       "  </thead>\n",
       "  <tbody>\n",
       "    <tr>\n",
       "      <th>0</th>\n",
       "      <td>204220</td>\n",
       "      <td>None</td>\n",
       "      <td>2020-09-02 20:16:56+00:00</td>\n",
       "      <td>hey</td>\n",
       "    </tr>\n",
       "    <tr>\n",
       "      <th>1</th>\n",
       "      <td>204214</td>\n",
       "      <td>None</td>\n",
       "      <td>2020-09-02 20:06:13+00:00</td>\n",
       "      <td>Hi guys i cant download ledger live mobile ( a...</td>\n",
       "    </tr>\n",
       "    <tr>\n",
       "      <th>2</th>\n",
       "      <td>204208</td>\n",
       "      <td>None</td>\n",
       "      <td>2020-09-02 19:47:57+00:00</td>\n",
       "      <td>who are you guys and what protocol, coin or to...</td>\n",
       "    </tr>\n",
       "    <tr>\n",
       "      <th>3</th>\n",
       "      <td>204186</td>\n",
       "      <td>None</td>\n",
       "      <td>2020-09-02 17:01:19+00:00</td>\n",
       "      <td>Chainlink - Official Channel (@chainlink): \\n\\...</td>\n",
       "    </tr>\n",
       "    <tr>\n",
       "      <th>4</th>\n",
       "      <td>204183</td>\n",
       "      <td>None</td>\n",
       "      <td>2020-09-02 16:47:16+00:00</td>\n",
       "      <td>Welcome new members to the Chainlink community...</td>\n",
       "    </tr>\n",
       "  </tbody>\n",
       "</table>\n",
       "</div>"
      ],
      "text/plain": [
       "       id post_author                      date  \\\n",
       "0  204220        None 2020-09-02 20:16:56+00:00   \n",
       "1  204214        None 2020-09-02 20:06:13+00:00   \n",
       "2  204208        None 2020-09-02 19:47:57+00:00   \n",
       "3  204186        None 2020-09-02 17:01:19+00:00   \n",
       "4  204183        None 2020-09-02 16:47:16+00:00   \n",
       "\n",
       "                                             message  \n",
       "0                                                hey  \n",
       "1  Hi guys i cant download ledger live mobile ( a...  \n",
       "2  who are you guys and what protocol, coin or to...  \n",
       "3  Chainlink - Official Channel (@chainlink): \\n\\...  \n",
       "4  Welcome new members to the Chainlink community...  "
      ]
     },
     "execution_count": 7,
     "metadata": {},
     "output_type": "execute_result"
    }
   ],
   "source": [
    "messages.head()"
   ]
  },
  {
   "cell_type": "code",
   "execution_count": 8,
   "metadata": {},
   "outputs": [
    {
     "name": "stdout",
     "output_type": "stream",
     "text": [
      "Detecting url only messages...\n"
     ]
    },
    {
     "name": "stderr",
     "output_type": "stream",
     "text": [
      "100%|██████████| 5000/5000 [00:00<00:00, 296279.05it/s]\n"
     ]
    },
    {
     "name": "stdout",
     "output_type": "stream",
     "text": [
      "Cleaning text...\n"
     ]
    },
    {
     "name": "stderr",
     "output_type": "stream",
     "text": [
      "100%|██████████| 4822/4822 [00:00<00:00, 110771.18it/s]"
     ]
    },
    {
     "name": "stdout",
     "output_type": "stream",
     "text": [
      "Remaining data: 92 %\n",
      "\n",
      "Done.\n"
     ]
    },
    {
     "name": "stderr",
     "output_type": "stream",
     "text": [
      "\n"
     ]
    },
    {
     "data": {
      "text/html": [
       "<div>\n",
       "<style scoped>\n",
       "    .dataframe tbody tr th:only-of-type {\n",
       "        vertical-align: middle;\n",
       "    }\n",
       "\n",
       "    .dataframe tbody tr th {\n",
       "        vertical-align: top;\n",
       "    }\n",
       "\n",
       "    .dataframe thead th {\n",
       "        text-align: right;\n",
       "    }\n",
       "</style>\n",
       "<table border=\"1\" class=\"dataframe\">\n",
       "  <thead>\n",
       "    <tr style=\"text-align: right;\">\n",
       "      <th></th>\n",
       "      <th>id</th>\n",
       "      <th>post_author</th>\n",
       "      <th>date</th>\n",
       "      <th>text</th>\n",
       "      <th>day</th>\n",
       "    </tr>\n",
       "  </thead>\n",
       "  <tbody>\n",
       "    <tr>\n",
       "      <th>0</th>\n",
       "      <td>204220</td>\n",
       "      <td>None</td>\n",
       "      <td>2020-09-02 20:16:56+00:00</td>\n",
       "      <td>hey</td>\n",
       "      <td>2020-09-02</td>\n",
       "    </tr>\n",
       "    <tr>\n",
       "      <th>1</th>\n",
       "      <td>204214</td>\n",
       "      <td>None</td>\n",
       "      <td>2020-09-02 20:06:13+00:00</td>\n",
       "      <td>Hi guys i cant download ledger live mobile ( a...</td>\n",
       "      <td>2020-09-02</td>\n",
       "    </tr>\n",
       "    <tr>\n",
       "      <th>2</th>\n",
       "      <td>204208</td>\n",
       "      <td>None</td>\n",
       "      <td>2020-09-02 19:47:57+00:00</td>\n",
       "      <td>who are you guys and what protocol, coin or to...</td>\n",
       "      <td>2020-09-02</td>\n",
       "    </tr>\n",
       "    <tr>\n",
       "      <th>3</th>\n",
       "      <td>204186</td>\n",
       "      <td>None</td>\n",
       "      <td>2020-09-02 17:01:19+00:00</td>\n",
       "      <td>Chainlink - Official Channel (chainlink):   In...</td>\n",
       "      <td>2020-09-02</td>\n",
       "    </tr>\n",
       "    <tr>\n",
       "      <th>4</th>\n",
       "      <td>204183</td>\n",
       "      <td>None</td>\n",
       "      <td>2020-09-02 16:47:16+00:00</td>\n",
       "      <td>Welcome new members to the Chainlink community...</td>\n",
       "      <td>2020-09-02</td>\n",
       "    </tr>\n",
       "  </tbody>\n",
       "</table>\n",
       "</div>"
      ],
      "text/plain": [
       "       id post_author                      date  \\\n",
       "0  204220        None 2020-09-02 20:16:56+00:00   \n",
       "1  204214        None 2020-09-02 20:06:13+00:00   \n",
       "2  204208        None 2020-09-02 19:47:57+00:00   \n",
       "3  204186        None 2020-09-02 17:01:19+00:00   \n",
       "4  204183        None 2020-09-02 16:47:16+00:00   \n",
       "\n",
       "                                                text         day  \n",
       "0                                                hey  2020-09-02  \n",
       "1  Hi guys i cant download ledger live mobile ( a...  2020-09-02  \n",
       "2  who are you guys and what protocol, coin or to...  2020-09-02  \n",
       "3  Chainlink - Official Channel (chainlink):   In...  2020-09-02  \n",
       "4  Welcome new members to the Chainlink community...  2020-09-02  "
      ]
     },
     "execution_count": 8,
     "metadata": {},
     "output_type": "execute_result"
    }
   ],
   "source": [
    "messages_processed = datapreprocessing.preprocess_telegram(messages)\n",
    "messages_processed.head()"
   ]
  },
  {
   "cell_type": "code",
   "execution_count": 9,
   "metadata": {},
   "outputs": [
    {
     "name": "stdout",
     "output_type": "stream",
     "text": [
      "Computing sentiment with Textblob...\n"
     ]
    },
    {
     "name": "stderr",
     "output_type": "stream",
     "text": [
      "100%|██████████| 4592/4592 [00:00<00:00, 4897.32it/s]\n"
     ]
    },
    {
     "name": "stdout",
     "output_type": "stream",
     "text": [
      "Computing sentiment with Vader...\n"
     ]
    },
    {
     "name": "stderr",
     "output_type": "stream",
     "text": [
      "100%|██████████| 4592/4592 [00:00<00:00, 7569.61it/s]"
     ]
    },
    {
     "name": "stdout",
     "output_type": "stream",
     "text": [
      "Done.\n"
     ]
    },
    {
     "name": "stderr",
     "output_type": "stream",
     "text": [
      "\n"
     ]
    },
    {
     "data": {
      "text/html": [
       "<div>\n",
       "<style scoped>\n",
       "    .dataframe tbody tr th:only-of-type {\n",
       "        vertical-align: middle;\n",
       "    }\n",
       "\n",
       "    .dataframe tbody tr th {\n",
       "        vertical-align: top;\n",
       "    }\n",
       "\n",
       "    .dataframe thead th {\n",
       "        text-align: right;\n",
       "    }\n",
       "</style>\n",
       "<table border=\"1\" class=\"dataframe\">\n",
       "  <thead>\n",
       "    <tr style=\"text-align: right;\">\n",
       "      <th></th>\n",
       "      <th>id</th>\n",
       "      <th>post_author</th>\n",
       "      <th>date</th>\n",
       "      <th>text</th>\n",
       "      <th>day</th>\n",
       "      <th>blob_polarity</th>\n",
       "      <th>blob_sentiment</th>\n",
       "      <th>vader_polarity</th>\n",
       "      <th>vader_sentiment</th>\n",
       "      <th>sentiment_score</th>\n",
       "      <th>sentiment</th>\n",
       "    </tr>\n",
       "  </thead>\n",
       "  <tbody>\n",
       "    <tr>\n",
       "      <th>0</th>\n",
       "      <td>204220</td>\n",
       "      <td>None</td>\n",
       "      <td>2020-09-02 20:16:56+00:00</td>\n",
       "      <td>hey</td>\n",
       "      <td>2020-09-02</td>\n",
       "      <td>0.000000</td>\n",
       "      <td>neutral</td>\n",
       "      <td>0.0000</td>\n",
       "      <td>neutral</td>\n",
       "      <td>0.000000</td>\n",
       "      <td>neutral</td>\n",
       "    </tr>\n",
       "    <tr>\n",
       "      <th>1</th>\n",
       "      <td>204214</td>\n",
       "      <td>None</td>\n",
       "      <td>2020-09-02 20:06:13+00:00</td>\n",
       "      <td>Hi guys i cant download ledger live mobile ( a...</td>\n",
       "      <td>2020-09-02</td>\n",
       "      <td>0.136364</td>\n",
       "      <td>positive</td>\n",
       "      <td>-0.1431</td>\n",
       "      <td>negative</td>\n",
       "      <td>-0.003368</td>\n",
       "      <td>negative</td>\n",
       "    </tr>\n",
       "    <tr>\n",
       "      <th>2</th>\n",
       "      <td>204208</td>\n",
       "      <td>None</td>\n",
       "      <td>2020-09-02 19:47:57+00:00</td>\n",
       "      <td>who are you guys and what protocol, coin or to...</td>\n",
       "      <td>2020-09-02</td>\n",
       "      <td>-0.156250</td>\n",
       "      <td>negative</td>\n",
       "      <td>0.4374</td>\n",
       "      <td>positive</td>\n",
       "      <td>0.140575</td>\n",
       "      <td>positive</td>\n",
       "    </tr>\n",
       "    <tr>\n",
       "      <th>3</th>\n",
       "      <td>204186</td>\n",
       "      <td>None</td>\n",
       "      <td>2020-09-02 17:01:19+00:00</td>\n",
       "      <td>Chainlink - Official Channel (chainlink):   In...</td>\n",
       "      <td>2020-09-02</td>\n",
       "      <td>0.675000</td>\n",
       "      <td>very positive</td>\n",
       "      <td>0.8316</td>\n",
       "      <td>very positive</td>\n",
       "      <td>0.753300</td>\n",
       "      <td>very positive</td>\n",
       "    </tr>\n",
       "    <tr>\n",
       "      <th>4</th>\n",
       "      <td>204183</td>\n",
       "      <td>None</td>\n",
       "      <td>2020-09-02 16:47:16+00:00</td>\n",
       "      <td>Welcome new members to the Chainlink community...</td>\n",
       "      <td>2020-09-02</td>\n",
       "      <td>0.307054</td>\n",
       "      <td>positive</td>\n",
       "      <td>0.9441</td>\n",
       "      <td>very positive</td>\n",
       "      <td>0.625577</td>\n",
       "      <td>very positive</td>\n",
       "    </tr>\n",
       "    <tr>\n",
       "      <th>...</th>\n",
       "      <td>...</td>\n",
       "      <td>...</td>\n",
       "      <td>...</td>\n",
       "      <td>...</td>\n",
       "      <td>...</td>\n",
       "      <td>...</td>\n",
       "      <td>...</td>\n",
       "      <td>...</td>\n",
       "      <td>...</td>\n",
       "      <td>...</td>\n",
       "      <td>...</td>\n",
       "    </tr>\n",
       "    <tr>\n",
       "      <th>4994</th>\n",
       "      <td>192531</td>\n",
       "      <td>None</td>\n",
       "      <td>2020-08-13 19:30:04+00:00</td>\n",
       "      <td>Search for Chainlink Community. They are unoff...</td>\n",
       "      <td>2020-08-13</td>\n",
       "      <td>0.000000</td>\n",
       "      <td>neutral</td>\n",
       "      <td>0.0000</td>\n",
       "      <td>neutral</td>\n",
       "      <td>0.000000</td>\n",
       "      <td>neutral</td>\n",
       "    </tr>\n",
       "    <tr>\n",
       "      <th>4995</th>\n",
       "      <td>192530</td>\n",
       "      <td>None</td>\n",
       "      <td>2020-08-13 19:29:40+00:00</td>\n",
       "      <td>Do we have Community Based Group ?</td>\n",
       "      <td>2020-08-13</td>\n",
       "      <td>0.000000</td>\n",
       "      <td>neutral</td>\n",
       "      <td>0.0000</td>\n",
       "      <td>neutral</td>\n",
       "      <td>0.000000</td>\n",
       "      <td>neutral</td>\n",
       "    </tr>\n",
       "    <tr>\n",
       "      <th>4996</th>\n",
       "      <td>192529</td>\n",
       "      <td>None</td>\n",
       "      <td>2020-08-13 19:29:26+00:00</td>\n",
       "      <td>Hlw Sir</td>\n",
       "      <td>2020-08-13</td>\n",
       "      <td>0.000000</td>\n",
       "      <td>neutral</td>\n",
       "      <td>0.0000</td>\n",
       "      <td>neutral</td>\n",
       "      <td>0.000000</td>\n",
       "      <td>neutral</td>\n",
       "    </tr>\n",
       "    <tr>\n",
       "      <th>4997</th>\n",
       "      <td>192528</td>\n",
       "      <td>None</td>\n",
       "      <td>2020-08-13 19:27:59+00:00</td>\n",
       "      <td>Hi</td>\n",
       "      <td>2020-08-13</td>\n",
       "      <td>0.000000</td>\n",
       "      <td>neutral</td>\n",
       "      <td>0.0000</td>\n",
       "      <td>neutral</td>\n",
       "      <td>0.000000</td>\n",
       "      <td>neutral</td>\n",
       "    </tr>\n",
       "    <tr>\n",
       "      <th>4999</th>\n",
       "      <td>192521</td>\n",
       "      <td>None</td>\n",
       "      <td>2020-08-13 19:23:18+00:00</td>\n",
       "      <td>I highly recommend anyone investing or interes...</td>\n",
       "      <td>2020-08-13</td>\n",
       "      <td>0.208095</td>\n",
       "      <td>positive</td>\n",
       "      <td>0.8016</td>\n",
       "      <td>very positive</td>\n",
       "      <td>0.504848</td>\n",
       "      <td>very positive</td>\n",
       "    </tr>\n",
       "  </tbody>\n",
       "</table>\n",
       "<p>4592 rows × 11 columns</p>\n",
       "</div>"
      ],
      "text/plain": [
       "          id post_author                      date  \\\n",
       "0     204220        None 2020-09-02 20:16:56+00:00   \n",
       "1     204214        None 2020-09-02 20:06:13+00:00   \n",
       "2     204208        None 2020-09-02 19:47:57+00:00   \n",
       "3     204186        None 2020-09-02 17:01:19+00:00   \n",
       "4     204183        None 2020-09-02 16:47:16+00:00   \n",
       "...      ...         ...                       ...   \n",
       "4994  192531        None 2020-08-13 19:30:04+00:00   \n",
       "4995  192530        None 2020-08-13 19:29:40+00:00   \n",
       "4996  192529        None 2020-08-13 19:29:26+00:00   \n",
       "4997  192528        None 2020-08-13 19:27:59+00:00   \n",
       "4999  192521        None 2020-08-13 19:23:18+00:00   \n",
       "\n",
       "                                                   text         day  \\\n",
       "0                                                   hey  2020-09-02   \n",
       "1     Hi guys i cant download ledger live mobile ( a...  2020-09-02   \n",
       "2     who are you guys and what protocol, coin or to...  2020-09-02   \n",
       "3     Chainlink - Official Channel (chainlink):   In...  2020-09-02   \n",
       "4     Welcome new members to the Chainlink community...  2020-09-02   \n",
       "...                                                 ...         ...   \n",
       "4994  Search for Chainlink Community. They are unoff...  2020-08-13   \n",
       "4995                 Do we have Community Based Group ?  2020-08-13   \n",
       "4996                                            Hlw Sir  2020-08-13   \n",
       "4997                                                 Hi  2020-08-13   \n",
       "4999  I highly recommend anyone investing or interes...  2020-08-13   \n",
       "\n",
       "      blob_polarity blob_sentiment  vader_polarity vader_sentiment  \\\n",
       "0          0.000000        neutral          0.0000         neutral   \n",
       "1          0.136364       positive         -0.1431        negative   \n",
       "2         -0.156250       negative          0.4374        positive   \n",
       "3          0.675000  very positive          0.8316   very positive   \n",
       "4          0.307054       positive          0.9441   very positive   \n",
       "...             ...            ...             ...             ...   \n",
       "4994       0.000000        neutral          0.0000         neutral   \n",
       "4995       0.000000        neutral          0.0000         neutral   \n",
       "4996       0.000000        neutral          0.0000         neutral   \n",
       "4997       0.000000        neutral          0.0000         neutral   \n",
       "4999       0.208095       positive          0.8016   very positive   \n",
       "\n",
       "      sentiment_score      sentiment  \n",
       "0            0.000000        neutral  \n",
       "1           -0.003368       negative  \n",
       "2            0.140575       positive  \n",
       "3            0.753300  very positive  \n",
       "4            0.625577  very positive  \n",
       "...               ...            ...  \n",
       "4994         0.000000        neutral  \n",
       "4995         0.000000        neutral  \n",
       "4996         0.000000        neutral  \n",
       "4997         0.000000        neutral  \n",
       "4999         0.504848  very positive  \n",
       "\n",
       "[4592 rows x 11 columns]"
      ]
     },
     "execution_count": 9,
     "metadata": {},
     "output_type": "execute_result"
    }
   ],
   "source": [
    "sentimentscoring.get_sentiment(messages_processed)"
   ]
  },
  {
   "cell_type": "code",
   "execution_count": null,
   "metadata": {},
   "outputs": [],
   "source": []
  }
 ],
 "metadata": {
  "kernelspec": {
   "display_name": "Python 3",
   "language": "python",
   "name": "python3"
  },
  "language_info": {
   "codemirror_mode": {
    "name": "ipython",
    "version": 3
   },
   "file_extension": ".py",
   "mimetype": "text/x-python",
   "name": "python",
   "nbconvert_exporter": "python",
   "pygments_lexer": "ipython3",
   "version": "3.8.5"
  }
 },
 "nbformat": 4,
 "nbformat_minor": 4
}
