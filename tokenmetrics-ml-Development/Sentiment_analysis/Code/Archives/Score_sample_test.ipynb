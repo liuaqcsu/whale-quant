{
 "cells": [
  {
   "cell_type": "markdown",
   "metadata": {},
   "source": [
    "# Textblob Sentiment Analysis"
   ]
  },
  {
   "cell_type": "code",
   "execution_count": 2,
   "metadata": {},
   "outputs": [
    {
     "name": "stderr",
     "output_type": "stream",
     "text": [
      "/Library/Frameworks/Python.framework/Versions/3.8/lib/python3.8/site-packages/tqdm/std.py:656: FutureWarning: The Panel class is removed from pandas. Accessing it from the top-level namespace will also be removed in the next version\n",
      "  from pandas import Panel\n"
     ]
    }
   ],
   "source": [
    "# Importing libraries\n",
    "import pandas as pd\n",
    "import numpy as np\n",
    "import re\n",
    "import matplotlib.pyplot as plt\n",
    "%matplotlib inline\n",
    "import seaborn as sns\n",
    "sns.set(rc={'figure.figsize':(12,10)})\n",
    "sns.set_style('dark')\n",
    "\n",
    "from tqdm import tqdm\n",
    "tqdm.pandas()\n",
    "\n",
    "# Sentiment libraries\n",
    "from textblob import TextBlob \n",
    "\n",
    "from nltk.sentiment.vader import SentimentIntensityAnalyzer\n",
    "analyser = SentimentIntensityAnalyzer()"
   ]
  },
  {
   "cell_type": "markdown",
   "metadata": {},
   "source": [
    "### User Input\n",
    "Please input the name of the csv file below:"
   ]
  },
  {
   "cell_type": "code",
   "execution_count": 3,
   "metadata": {},
   "outputs": [
    {
     "data": {
      "text/html": [
       "<div>\n",
       "<style scoped>\n",
       "    .dataframe tbody tr th:only-of-type {\n",
       "        vertical-align: middle;\n",
       "    }\n",
       "\n",
       "    .dataframe tbody tr th {\n",
       "        vertical-align: top;\n",
       "    }\n",
       "\n",
       "    .dataframe thead th {\n",
       "        text-align: right;\n",
       "    }\n",
       "</style>\n",
       "<table border=\"1\" class=\"dataframe\">\n",
       "  <thead>\n",
       "    <tr style=\"text-align: right;\">\n",
       "      <th></th>\n",
       "      <th>Text</th>\n",
       "      <th>Sentiment</th>\n",
       "    </tr>\n",
       "  </thead>\n",
       "  <tbody>\n",
       "    <tr>\n",
       "      <th>0</th>\n",
       "      <td>I AM SO SORRY FUCKING ERIC THINKS HES FUNNY :)</td>\n",
       "      <td>1</td>\n",
       "    </tr>\n",
       "    <tr>\n",
       "      <th>1</th>\n",
       "      <td>ksoo makes me so emo :((((((((((((((((((((((((...</td>\n",
       "      <td>-1</td>\n",
       "    </tr>\n",
       "    <tr>\n",
       "      <th>2</th>\n",
       "      <td>The saddest thing is when you are feeling real...</td>\n",
       "      <td>-1</td>\n",
       "    </tr>\n",
       "    <tr>\n",
       "      <th>3</th>\n",
       "      <td>Hi happys!!:) http://t.co/AGiLlxJdbi</td>\n",
       "      <td>1</td>\n",
       "    </tr>\n",
       "    <tr>\n",
       "      <th>4</th>\n",
       "      <td>OH MY GAAAWD :( https://t.co/ZAd3jg0jzF</td>\n",
       "      <td>-1</td>\n",
       "    </tr>\n",
       "  </tbody>\n",
       "</table>\n",
       "</div>"
      ],
      "text/plain": [
       "                                                Text  Sentiment\n",
       "0     I AM SO SORRY FUCKING ERIC THINKS HES FUNNY :)          1\n",
       "1  ksoo makes me so emo :((((((((((((((((((((((((...         -1\n",
       "2  The saddest thing is when you are feeling real...         -1\n",
       "3               Hi happys!!:) http://t.co/AGiLlxJdbi          1\n",
       "4            OH MY GAAAWD :( https://t.co/ZAd3jg0jzF         -1"
      ]
     },
     "execution_count": 3,
     "metadata": {},
     "output_type": "execute_result"
    }
   ],
   "source": [
    "####################################################\n",
    "filename =  \"../Data/twitter_samples.csv\"\n",
    "####################################################\n",
    "\n",
    "data = pd.read_csv(filename)\n",
    "data.head()"
   ]
  },
  {
   "cell_type": "markdown",
   "metadata": {},
   "source": [
    "### Textblob Sentiment"
   ]
  },
  {
   "cell_type": "code",
   "execution_count": 4,
   "metadata": {},
   "outputs": [],
   "source": [
    "# Building Sentiment helper Function\n",
    "\n",
    "def BlobGetSentiment(dataframe, col_text='Text'):\n",
    "    \n",
    "    df = dataframe.copy()\n",
    "    \n",
    "    def get_senti(score):\n",
    "        if score >= 0:\n",
    "            return 1\n",
    "        elif score < 0:\n",
    "            return -1\n",
    "     \n",
    "    \n",
    "    df['Predicted_polarity'] = df[col_text].progress_apply(lambda x: TextBlob(x).sentiment.polarity)\n",
    "    df['Predicted_sentiment'] = df.Predicted_polarity.progress_apply(get_senti)\n",
    "\n",
    "    return df\n"
   ]
  },
  {
   "cell_type": "code",
   "execution_count": 5,
   "metadata": {},
   "outputs": [
    {
     "name": "stderr",
     "output_type": "stream",
     "text": [
      "100%|██████████| 10000/10000 [00:03<00:00, 2715.93it/s]\n",
      "100%|██████████| 10000/10000 [00:00<00:00, 472230.49it/s]\n"
     ]
    },
    {
     "data": {
      "text/html": [
       "<div>\n",
       "<style scoped>\n",
       "    .dataframe tbody tr th:only-of-type {\n",
       "        vertical-align: middle;\n",
       "    }\n",
       "\n",
       "    .dataframe tbody tr th {\n",
       "        vertical-align: top;\n",
       "    }\n",
       "\n",
       "    .dataframe thead th {\n",
       "        text-align: right;\n",
       "    }\n",
       "</style>\n",
       "<table border=\"1\" class=\"dataframe\">\n",
       "  <thead>\n",
       "    <tr style=\"text-align: right;\">\n",
       "      <th></th>\n",
       "      <th>Text</th>\n",
       "      <th>Sentiment</th>\n",
       "      <th>Predicted_polarity</th>\n",
       "      <th>Predicted_sentiment</th>\n",
       "    </tr>\n",
       "  </thead>\n",
       "  <tbody>\n",
       "    <tr>\n",
       "      <th>0</th>\n",
       "      <td>I AM SO SORRY FUCKING ERIC THINKS HES FUNNY :)</td>\n",
       "      <td>1</td>\n",
       "      <td>-0.0875</td>\n",
       "      <td>-1</td>\n",
       "    </tr>\n",
       "    <tr>\n",
       "      <th>1</th>\n",
       "      <td>ksoo makes me so emo :((((((((((((((((((((((((...</td>\n",
       "      <td>-1</td>\n",
       "      <td>-0.7500</td>\n",
       "      <td>-1</td>\n",
       "    </tr>\n",
       "    <tr>\n",
       "      <th>2</th>\n",
       "      <td>The saddest thing is when you are feeling real...</td>\n",
       "      <td>-1</td>\n",
       "      <td>-0.2500</td>\n",
       "      <td>-1</td>\n",
       "    </tr>\n",
       "    <tr>\n",
       "      <th>3</th>\n",
       "      <td>Hi happys!!:) http://t.co/AGiLlxJdbi</td>\n",
       "      <td>1</td>\n",
       "      <td>0.5000</td>\n",
       "      <td>1</td>\n",
       "    </tr>\n",
       "    <tr>\n",
       "      <th>4</th>\n",
       "      <td>OH MY GAAAWD :( https://t.co/ZAd3jg0jzF</td>\n",
       "      <td>-1</td>\n",
       "      <td>-0.7500</td>\n",
       "      <td>-1</td>\n",
       "    </tr>\n",
       "  </tbody>\n",
       "</table>\n",
       "</div>"
      ],
      "text/plain": [
       "                                                Text  Sentiment  \\\n",
       "0     I AM SO SORRY FUCKING ERIC THINKS HES FUNNY :)          1   \n",
       "1  ksoo makes me so emo :((((((((((((((((((((((((...         -1   \n",
       "2  The saddest thing is when you are feeling real...         -1   \n",
       "3               Hi happys!!:) http://t.co/AGiLlxJdbi          1   \n",
       "4            OH MY GAAAWD :( https://t.co/ZAd3jg0jzF         -1   \n",
       "\n",
       "   Predicted_polarity  Predicted_sentiment  \n",
       "0             -0.0875                   -1  \n",
       "1             -0.7500                   -1  \n",
       "2             -0.2500                   -1  \n",
       "3              0.5000                    1  \n",
       "4             -0.7500                   -1  "
      ]
     },
     "execution_count": 5,
     "metadata": {},
     "output_type": "execute_result"
    }
   ],
   "source": [
    "blob_data = BlobGetSentiment(data)\n",
    "blob_data.head()"
   ]
  },
  {
   "cell_type": "code",
   "execution_count": 6,
   "metadata": {},
   "outputs": [
    {
     "name": "stdout",
     "output_type": "stream",
     "text": [
      "Accuracy: 0.9675\n"
     ]
    }
   ],
   "source": [
    "acc = np.mean(blob_data.Sentiment == blob_data.Predicted_sentiment)\n",
    "print(f\"Accuracy: {acc}\")"
   ]
  },
  {
   "cell_type": "markdown",
   "metadata": {},
   "source": [
    "### Vader Sentiment"
   ]
  },
  {
   "cell_type": "code",
   "execution_count": 7,
   "metadata": {},
   "outputs": [],
   "source": [
    "# Helper function\n",
    "\n",
    "def VaderGetSentiment(dataframe, col_text='Text'):\n",
    "    \n",
    "    df = dataframe.copy()\n",
    "    \n",
    "    def get_senti(score):\n",
    "        if score >= 0:\n",
    "            return 1\n",
    "        elif score < 0:\n",
    "            return -1\n",
    "     \n",
    "    \n",
    "    df['Predicted_polarity'] = df[col_text].progress_apply(lambda x: analyser.polarity_scores(x)['compound'])\n",
    "    df['Predicted_sentiment'] = df.Predicted_polarity.progress_apply(get_senti)\n",
    "    return df"
   ]
  },
  {
   "cell_type": "code",
   "execution_count": 8,
   "metadata": {},
   "outputs": [
    {
     "name": "stderr",
     "output_type": "stream",
     "text": [
      "100%|██████████| 10000/10000 [00:02<00:00, 4098.07it/s]\n",
      "100%|██████████| 10000/10000 [00:00<00:00, 467947.16it/s]\n"
     ]
    },
    {
     "data": {
      "text/html": [
       "<div>\n",
       "<style scoped>\n",
       "    .dataframe tbody tr th:only-of-type {\n",
       "        vertical-align: middle;\n",
       "    }\n",
       "\n",
       "    .dataframe tbody tr th {\n",
       "        vertical-align: top;\n",
       "    }\n",
       "\n",
       "    .dataframe thead th {\n",
       "        text-align: right;\n",
       "    }\n",
       "</style>\n",
       "<table border=\"1\" class=\"dataframe\">\n",
       "  <thead>\n",
       "    <tr style=\"text-align: right;\">\n",
       "      <th></th>\n",
       "      <th>Text</th>\n",
       "      <th>Sentiment</th>\n",
       "      <th>Predicted_polarity</th>\n",
       "      <th>Predicted_sentiment</th>\n",
       "    </tr>\n",
       "  </thead>\n",
       "  <tbody>\n",
       "    <tr>\n",
       "      <th>0</th>\n",
       "      <td>I AM SO SORRY FUCKING ERIC THINKS HES FUNNY :)</td>\n",
       "      <td>1</td>\n",
       "      <td>0.5535</td>\n",
       "      <td>1</td>\n",
       "    </tr>\n",
       "    <tr>\n",
       "      <th>1</th>\n",
       "      <td>ksoo makes me so emo :((((((((((((((((((((((((...</td>\n",
       "      <td>-1</td>\n",
       "      <td>0.0000</td>\n",
       "      <td>1</td>\n",
       "    </tr>\n",
       "    <tr>\n",
       "      <th>2</th>\n",
       "      <td>The saddest thing is when you are feeling real...</td>\n",
       "      <td>-1</td>\n",
       "      <td>-0.8356</td>\n",
       "      <td>-1</td>\n",
       "    </tr>\n",
       "    <tr>\n",
       "      <th>3</th>\n",
       "      <td>Hi happys!!:) http://t.co/AGiLlxJdbi</td>\n",
       "      <td>1</td>\n",
       "      <td>0.0000</td>\n",
       "      <td>1</td>\n",
       "    </tr>\n",
       "    <tr>\n",
       "      <th>4</th>\n",
       "      <td>OH MY GAAAWD :( https://t.co/ZAd3jg0jzF</td>\n",
       "      <td>-1</td>\n",
       "      <td>-0.4404</td>\n",
       "      <td>-1</td>\n",
       "    </tr>\n",
       "  </tbody>\n",
       "</table>\n",
       "</div>"
      ],
      "text/plain": [
       "                                                Text  Sentiment  \\\n",
       "0     I AM SO SORRY FUCKING ERIC THINKS HES FUNNY :)          1   \n",
       "1  ksoo makes me so emo :((((((((((((((((((((((((...         -1   \n",
       "2  The saddest thing is when you are feeling real...         -1   \n",
       "3               Hi happys!!:) http://t.co/AGiLlxJdbi          1   \n",
       "4            OH MY GAAAWD :( https://t.co/ZAd3jg0jzF         -1   \n",
       "\n",
       "   Predicted_polarity  Predicted_sentiment  \n",
       "0              0.5535                    1  \n",
       "1              0.0000                    1  \n",
       "2             -0.8356                   -1  \n",
       "3              0.0000                    1  \n",
       "4             -0.4404                   -1  "
      ]
     },
     "execution_count": 8,
     "metadata": {},
     "output_type": "execute_result"
    }
   ],
   "source": [
    "vader_data = VaderGetSentiment(data)\n",
    "vader_data.head()"
   ]
  },
  {
   "cell_type": "code",
   "execution_count": 9,
   "metadata": {},
   "outputs": [
    {
     "name": "stdout",
     "output_type": "stream",
     "text": [
      "Accuracy: 0.8345\n"
     ]
    }
   ],
   "source": [
    "acc = np.mean(vader_data.Sentiment == vader_data.Predicted_sentiment)\n",
    "print(f\"Accuracy: {acc}\")"
   ]
  },
  {
   "cell_type": "code",
   "execution_count": null,
   "metadata": {},
   "outputs": [],
   "source": []
  }
 ],
 "metadata": {
  "kernelspec": {
   "display_name": "Python 3",
   "language": "python",
   "name": "python3"
  },
  "language_info": {
   "codemirror_mode": {
    "name": "ipython",
    "version": 3
   },
   "file_extension": ".py",
   "mimetype": "text/x-python",
   "name": "python",
   "nbconvert_exporter": "python",
   "pygments_lexer": "ipython3",
   "version": "3.8.0"
  }
 },
 "nbformat": 4,
 "nbformat_minor": 4
}
