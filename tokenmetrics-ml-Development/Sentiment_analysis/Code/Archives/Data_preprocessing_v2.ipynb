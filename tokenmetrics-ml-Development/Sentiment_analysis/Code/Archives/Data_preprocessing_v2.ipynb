{
 "cells": [
  {
   "cell_type": "markdown",
   "metadata": {},
   "source": [
    "# User Input\n",
    "Please input the name of the csv file below:"
   ]
  },
  {
   "cell_type": "code",
   "execution_count": null,
   "metadata": {},
   "outputs": [],
   "source": [
    "####################################################\n",
    "filename =  \"../Data/Unprocessed_data/Bitcoin_13395.csv\"\n",
    "####################################################"
   ]
  },
  {
   "cell_type": "markdown",
   "metadata": {},
   "source": [
    "## Importing libraries & data"
   ]
  },
  {
   "cell_type": "code",
   "execution_count": null,
   "metadata": {
    "colab": {
     "base_uri": "https://localhost:8080/",
     "height": 612
    },
    "colab_type": "code",
    "executionInfo": {
     "elapsed": 24510,
     "status": "ok",
     "timestamp": 1595253656675,
     "user": {
      "displayName": "Paul Doan",
      "photoUrl": "https://lh3.googleusercontent.com/a-/AOh14Gh_PRq6r_cx6Muc12StzP-KUbK4iRJP16OzW0ym=s64",
      "userId": "09758343323255005129"
     },
     "user_tz": 240
    },
    "id": "3GlfxV8CavNc",
    "outputId": "fc8e76c0-5da8-4114-d094-d5052e7ab3c7"
   },
   "outputs": [],
   "source": [
    "import pandas as pd\n",
    "import numpy as np\n",
    "import re \n",
    "from tqdm import tqdm\n",
    "tqdm.pandas()\n",
    "import string\n",
    "\n",
    "data = pd.read_csv(filename)\n",
    "data.head()"
   ]
  },
  {
   "cell_type": "markdown",
   "metadata": {},
   "source": [
    "## Cleaning the data"
   ]
  },
  {
   "cell_type": "code",
   "execution_count": null,
   "metadata": {},
   "outputs": [],
   "source": [
    "# Formating the columns\n",
    "data.date = pd.to_datetime(data.date)\n",
    "data = data[['username', 'date', 'hashtags', 'mentions', 'retweets', 'favorites', 'text']]"
   ]
  },
  {
   "cell_type": "code",
   "execution_count": null,
   "metadata": {},
   "outputs": [],
   "source": [
    "# Cleaning text helper function\n",
    "def text_cleaning(text):\n",
    "    \n",
    "    # checking if text empty\n",
    "    if (not re.search('[a-zA-Z0-9]', text)) or (type(text) != str) or (text == 'nan'):\n",
    "        return ''\n",
    "         \n",
    "    text = re.sub(r'@', '', text)             # Remove @ mentions\n",
    "    text = re.sub(r'#', '', text)              # Remove Hastags symbols\n",
    "    text = re.sub(r'RT[\\s]+', '', text)        # Remove RT mention\n",
    "    text = re.sub(r'\\n', ' ', text)              # Remove line terminator character\n",
    "    text = re.sub(r'(pictwitter)\\w+', '', text)    # Removing picture names\n",
    "    text = re.sub(r'\\xa0', ' ', text)               # Removing non breaking space character\n",
    "    \n",
    "    return text\n",
    "\n",
    "# Presence of URL helper function\n",
    "def url_detect(text):\n",
    "    list_url = re.findall(r'https?:\\/\\/.*', text)\n",
    "    return len(list_url)"
   ]
  },
  {
   "cell_type": "code",
   "execution_count": null,
   "metadata": {},
   "outputs": [],
   "source": [
    "# Analyzing URL\n",
    "data['url'] = data.text.progress_apply(url_detect)"
   ]
  },
  {
   "cell_type": "code",
   "execution_count": null,
   "metadata": {},
   "outputs": [],
   "source": [
    "####################################################\n",
    "likes_threshold = 5\n",
    "retweets_thershold = 5\n",
    "####################################################\n",
    "\n",
    "# Looking for scam keywords\n",
    "with open('Scam_keywords.txt', 'r') as file:\n",
    "    content = file.readlines()\n",
    "# you may also want to remove whitespace characters like `\\n` at the end of each line\n",
    "scam_dictionary = [x.strip().lower() for x in content] \n",
    "\n",
    "def scam_detect(text):\n",
    "    if any([re.search(f'[{string.punctuation} ]{word}[{string.punctuation} ]', text.lower()) for word in scam_dictionary]):\n",
    "        return True\n",
    "    if not re.search(' [a-zA-Z]+ ', text):\n",
    "        return True\n",
    "\n",
    "# Filtering data\n",
    "mask1 = data.url > 0 \n",
    "mask2 = data.favorites <= likes_threshold\n",
    "mask3 = data.retweets <= retweets_thershold\n",
    "mask4 = data.text.progress_apply(scam_detect)\n",
    "ads_data = data[mask1 & mask2 & mask3 | mask4].drop('url', axis=1)\n",
    "no_ads_data = data.drop(labels = ads_data.index).drop('url', axis=1)\n",
    "print(f\"Remaining data: {round(100 * len(no_ads_data) / len(data))} %\")"
   ]
  },
  {
   "cell_type": "code",
   "execution_count": null,
   "metadata": {},
   "outputs": [],
   "source": [
    "# Cleaning Text\n",
    "data.text = data.text.progress_apply(text_cleaning)"
   ]
  },
  {
   "cell_type": "code",
   "execution_count": null,
   "metadata": {},
   "outputs": [],
   "source": [
    "# # Get a look at a sample from detected ads\n",
    "# pd.set_option('display.max_colwidth', None)\n",
    "# for txt in ads_data.text.sample(5):\n",
    "#     print(txt)\n",
    "#     print()"
   ]
  },
  {
   "cell_type": "markdown",
   "metadata": {},
   "source": [
    "## Saving Data"
   ]
  },
  {
   "cell_type": "code",
   "execution_count": null,
   "metadata": {
    "colab": {},
    "colab_type": "code",
    "id": "-R_pCwGIhUdG"
   },
   "outputs": [],
   "source": [
    "# ads_filename = re.sub(r'\\d+\\.csv', '', filename) + '_ads_' + str(len(ads_data)) + \".csv\"\n",
    "# ads_data.to_csv(ads_filename, index=False)\n",
    "\n",
    "no_ads_filename = re.sub(r'\\d+\\.csv', '', filename) + str(len(no_ads_data)) + '_clean' + \".csv\"\n",
    "no_ads_filename = re.sub('Unprocessed_data', 'Processed_data', no_ads_filename)\n",
    "no_ads_data.to_csv(no_ads_filename, index=False)\n"
   ]
  },
  {
   "cell_type": "code",
   "execution_count": null,
   "metadata": {},
   "outputs": [],
   "source": []
  }
 ],
 "metadata": {
  "colab": {
   "authorship_tag": "ABX9TyPw/akIoNWK0FQZkwjEY4vR",
   "collapsed_sections": [],
   "name": "Clean_language_Paul.ipynb",
   "provenance": []
  },
  "kernelspec": {
   "display_name": "Python 3",
   "language": "python",
   "name": "python3"
  },
  "language_info": {
   "codemirror_mode": {
    "name": "ipython",
    "version": 3
   },
   "file_extension": ".py",
   "mimetype": "text/x-python",
   "name": "python",
   "nbconvert_exporter": "python",
   "pygments_lexer": "ipython3",
   "version": "3.8.5"
  },
  "widgets": {
   "application/vnd.jupyter.widget-state+json": {
    "035f781747d541e5b32a00df30cd08d5": {
     "model_module": "@jupyter-widgets/controls",
     "model_name": "HBoxModel",
     "state": {
      "_dom_classes": [],
      "_model_module": "@jupyter-widgets/controls",
      "_model_module_version": "1.5.0",
      "_model_name": "HBoxModel",
      "_view_count": null,
      "_view_module": "@jupyter-widgets/controls",
      "_view_module_version": "1.5.0",
      "_view_name": "HBoxView",
      "box_style": "",
      "children": [
       "IPY_MODEL_7d6b5c9d6a6142a5bc77ac4487059105",
       "IPY_MODEL_484e9532629942d3afa407b691fdefa4"
      ],
      "layout": "IPY_MODEL_aa3a4ff79f7b442999058d001c939d36"
     }
    },
    "3a96e5f5574a47748492e43aa52099c8": {
     "model_module": "@jupyter-widgets/base",
     "model_name": "LayoutModel",
     "state": {
      "_model_module": "@jupyter-widgets/base",
      "_model_module_version": "1.2.0",
      "_model_name": "LayoutModel",
      "_view_count": null,
      "_view_module": "@jupyter-widgets/base",
      "_view_module_version": "1.2.0",
      "_view_name": "LayoutView",
      "align_content": null,
      "align_items": null,
      "align_self": null,
      "border": null,
      "bottom": null,
      "display": null,
      "flex": null,
      "flex_flow": null,
      "grid_area": null,
      "grid_auto_columns": null,
      "grid_auto_flow": null,
      "grid_auto_rows": null,
      "grid_column": null,
      "grid_gap": null,
      "grid_row": null,
      "grid_template_areas": null,
      "grid_template_columns": null,
      "grid_template_rows": null,
      "height": null,
      "justify_content": null,
      "justify_items": null,
      "left": null,
      "margin": null,
      "max_height": null,
      "max_width": null,
      "min_height": null,
      "min_width": null,
      "object_fit": null,
      "object_position": null,
      "order": null,
      "overflow": null,
      "overflow_x": null,
      "overflow_y": null,
      "padding": null,
      "right": null,
      "top": null,
      "visibility": null,
      "width": null
     }
    },
    "484e9532629942d3afa407b691fdefa4": {
     "model_module": "@jupyter-widgets/controls",
     "model_name": "HTMLModel",
     "state": {
      "_dom_classes": [],
      "_model_module": "@jupyter-widgets/controls",
      "_model_module_version": "1.5.0",
      "_model_name": "HTMLModel",
      "_view_count": null,
      "_view_module": "@jupyter-widgets/controls",
      "_view_module_version": "1.5.0",
      "_view_name": "HTMLView",
      "description": "",
      "description_tooltip": null,
      "layout": "IPY_MODEL_3a96e5f5574a47748492e43aa52099c8",
      "placeholder": "​",
      "style": "IPY_MODEL_f919c488f3e54bee86447cf9a3f40bf6",
      "value": " 2411/2411 [00:11&lt;00:00, 212.86it/s]"
     }
    },
    "7d6b5c9d6a6142a5bc77ac4487059105": {
     "model_module": "@jupyter-widgets/controls",
     "model_name": "FloatProgressModel",
     "state": {
      "_dom_classes": [],
      "_model_module": "@jupyter-widgets/controls",
      "_model_module_version": "1.5.0",
      "_model_name": "FloatProgressModel",
      "_view_count": null,
      "_view_module": "@jupyter-widgets/controls",
      "_view_module_version": "1.5.0",
      "_view_name": "ProgressView",
      "bar_style": "success",
      "description": "100%",
      "description_tooltip": null,
      "layout": "IPY_MODEL_cf00ac23bf224022be2ac8dfd3c910c7",
      "max": 2411,
      "min": 0,
      "orientation": "horizontal",
      "style": "IPY_MODEL_930661a54d184cc3ad397e9a976ab068",
      "value": 2411
     }
    },
    "930661a54d184cc3ad397e9a976ab068": {
     "model_module": "@jupyter-widgets/controls",
     "model_name": "ProgressStyleModel",
     "state": {
      "_model_module": "@jupyter-widgets/controls",
      "_model_module_version": "1.5.0",
      "_model_name": "ProgressStyleModel",
      "_view_count": null,
      "_view_module": "@jupyter-widgets/base",
      "_view_module_version": "1.2.0",
      "_view_name": "StyleView",
      "bar_color": null,
      "description_width": "initial"
     }
    },
    "aa3a4ff79f7b442999058d001c939d36": {
     "model_module": "@jupyter-widgets/base",
     "model_name": "LayoutModel",
     "state": {
      "_model_module": "@jupyter-widgets/base",
      "_model_module_version": "1.2.0",
      "_model_name": "LayoutModel",
      "_view_count": null,
      "_view_module": "@jupyter-widgets/base",
      "_view_module_version": "1.2.0",
      "_view_name": "LayoutView",
      "align_content": null,
      "align_items": null,
      "align_self": null,
      "border": null,
      "bottom": null,
      "display": null,
      "flex": null,
      "flex_flow": null,
      "grid_area": null,
      "grid_auto_columns": null,
      "grid_auto_flow": null,
      "grid_auto_rows": null,
      "grid_column": null,
      "grid_gap": null,
      "grid_row": null,
      "grid_template_areas": null,
      "grid_template_columns": null,
      "grid_template_rows": null,
      "height": null,
      "justify_content": null,
      "justify_items": null,
      "left": null,
      "margin": null,
      "max_height": null,
      "max_width": null,
      "min_height": null,
      "min_width": null,
      "object_fit": null,
      "object_position": null,
      "order": null,
      "overflow": null,
      "overflow_x": null,
      "overflow_y": null,
      "padding": null,
      "right": null,
      "top": null,
      "visibility": null,
      "width": null
     }
    },
    "cf00ac23bf224022be2ac8dfd3c910c7": {
     "model_module": "@jupyter-widgets/base",
     "model_name": "LayoutModel",
     "state": {
      "_model_module": "@jupyter-widgets/base",
      "_model_module_version": "1.2.0",
      "_model_name": "LayoutModel",
      "_view_count": null,
      "_view_module": "@jupyter-widgets/base",
      "_view_module_version": "1.2.0",
      "_view_name": "LayoutView",
      "align_content": null,
      "align_items": null,
      "align_self": null,
      "border": null,
      "bottom": null,
      "display": null,
      "flex": null,
      "flex_flow": null,
      "grid_area": null,
      "grid_auto_columns": null,
      "grid_auto_flow": null,
      "grid_auto_rows": null,
      "grid_column": null,
      "grid_gap": null,
      "grid_row": null,
      "grid_template_areas": null,
      "grid_template_columns": null,
      "grid_template_rows": null,
      "height": null,
      "justify_content": null,
      "justify_items": null,
      "left": null,
      "margin": null,
      "max_height": null,
      "max_width": null,
      "min_height": null,
      "min_width": null,
      "object_fit": null,
      "object_position": null,
      "order": null,
      "overflow": null,
      "overflow_x": null,
      "overflow_y": null,
      "padding": null,
      "right": null,
      "top": null,
      "visibility": null,
      "width": null
     }
    },
    "f919c488f3e54bee86447cf9a3f40bf6": {
     "model_module": "@jupyter-widgets/controls",
     "model_name": "DescriptionStyleModel",
     "state": {
      "_model_module": "@jupyter-widgets/controls",
      "_model_module_version": "1.5.0",
      "_model_name": "DescriptionStyleModel",
      "_view_count": null,
      "_view_module": "@jupyter-widgets/base",
      "_view_module_version": "1.2.0",
      "_view_name": "StyleView",
      "description_width": ""
     }
    }
   }
  }
 },
 "nbformat": 4,
 "nbformat_minor": 4
}
