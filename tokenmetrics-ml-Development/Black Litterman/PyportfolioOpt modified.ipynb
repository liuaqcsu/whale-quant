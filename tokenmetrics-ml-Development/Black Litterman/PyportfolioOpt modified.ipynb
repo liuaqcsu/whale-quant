{
 "cells": [
  {
   "cell_type": "code",
   "execution_count": 1,
   "metadata": {},
   "outputs": [],
   "source": [
    "import pandas as pd\n",
    "from pypfopt import EfficientFrontier\n",
    "from pypfopt import risk_models\n",
    "from pypfopt import expected_returns\n",
    "\n",
    "import MySQLdb \n",
    "import numpy as np"
   ]
  },
  {
   "cell_type": "code",
   "execution_count": 2,
   "metadata": {},
   "outputs": [],
   "source": [
    "ieo = pd.DataFrame()\n",
    "price = pd.DataFrame()\n",
    "grades = pd.DataFrame()\n",
    "\n",
    "\n",
    "conn = MySQLdb.connect(host='tokenmetrics-restored-27-05.cxuzrhvtziar.us-east-1.rds.amazonaws.com', user='admin', passwd='WiG8Rled2cTvZ5JibJui',db='tokenmetrics')\n",
    "cursor = conn.cursor()\n",
    "\n",
    "query = '''SELECT * FROM icos;'''\n",
    "data = pd.read_sql_query(query, conn)\n",
    "ieo = pd.concat([ieo,data])\n",
    "\n",
    "query = 'SELECT * FROM ico_price_daily_summaries where currency =\"USD\";'\n",
    "data = pd.read_sql_query(query, conn)\n",
    "price = pd.concat([price,data])\n",
    "\n",
    "query = 'SELECT * FROM ico_ml_grade_history;'\n",
    "data = pd.read_sql_query(query, conn)\n",
    "grades = pd.concat([grades,data])\n",
    "    \n",
    "conn.close() "
   ]
  },
  {
   "cell_type": "code",
   "execution_count": 3,
   "metadata": {},
   "outputs": [],
   "source": [
    "ieo.sort_values('ico_market_cap', ascending=False, inplace=True)\n",
    "ieo = ieo.drop(ieo[ieo['id'] == 3245].index)\n",
    "ieo = ieo[:150]\n",
    "ieo['weight'] = ieo['ico_market_cap'] / ieo['ico_market_cap'].sum()\n",
    "ieo = pd.merge(ieo,price[['ico_id','ico_symbol']], left_on='id',right_on='ico_id',how='inner')\n",
    "ieo = ieo.drop_duplicates('id')\n",
    "weight = ieo[['ico_symbol','weight']]\n",
    "weight = weight.sort_values('ico_symbol')\n",
    "\n",
    "ieos = ieo['id'][:150]\n",
    "df = price[price['ico_id'].isin(ieos)]\n",
    "df = df.drop_duplicates(subset=['ico_symbol','date']).sort_values(by='date')\n",
    "\n",
    "\n",
    "#temp = temp.dropna()"
   ]
  },
  {
   "cell_type": "code",
   "execution_count": 4,
   "metadata": {},
   "outputs": [],
   "source": [
    "temp = df['close'].groupby([df['date'],df['ico_symbol']]).mean()\n",
    "temp = temp.unstack().sort_index()\n",
    "temp.index = pd.to_datetime(temp.index)"
   ]
  },
  {
   "cell_type": "code",
   "execution_count": 5,
   "metadata": {},
   "outputs": [
    {
     "name": "stdout",
     "output_type": "stream",
     "text": [
      "OrderedDict([('ABBC', 0.0), ('ADA', 0.0), ('ALGO', 0.0), ('AMPL', 0.0), ('AR', 0.1147), ('ATOM', 0.0), ('BAT', 0.0), ('BAY', 0.01456), ('BCD', 0.0), ('BCH', 0.0), ('BCN', 0.0), ('BNB', 0.0), ('BNT', 0.0), ('BOTX', 0.01868), ('BSV', 0.0), ('BTC', 0.0), ('BTG', 0.0), ('BTM', 0.0), ('BTRS', 0.00406), ('BTT', 0.0), ('BZT', 0.0), ('CCC', 0.01699), ('CCXX', 0.0), ('CEL', 0.09814), ('CELO', 0.0), ('CENNZ', 0.0), ('CKB', 0.15005), ('COMP', 0.01626), ('CRO', 0.0), ('DAI', 0.0), ('DASH', 0.0), ('DCR', 0.0), ('DEV', 0.0), ('DGB', 0.0), ('DOGE', 0.05055), ('EKT', 0.0), ('ELA', 0.0), ('ELAMA', 0.13674), ('ENJ', 0.0), ('EON', 0.0), ('EOS', 0.0), ('ETC', 0.0), ('ETH', 0.0), ('FST', 0.00193), ('FXC', 0.0), ('GAP', 0.0), ('GTN', 0.02151), ('GXC', 0.0), ('HBAR', 0.0), ('HC', 0.0), ('HDAC', 0.04564), ('HEDG', 0.0), ('HIVE', 0.0), ('HMR', 0.0), ('HOT', 0.0), ('HT', 0.0), ('ICX', 0.0), ('INB', 0.0), ('INO', 0.0), ('IOST', 0.0), ('KBC', 0.0), ('KCS', 0.0), ('KIN', 0.0), ('KMD', 0.0), ('KNC', 0.0), ('LBC', 0.0), ('LEND', 0.0), ('LEO', 0.0), ('LINK', 0.0), ('LSK', 0.0), ('LTC', 0.0), ('MCO', 0.0), ('MIN', 0.0), ('MIOTA', 0.0), ('MKR', 0.0), ('MONA', 0.0), ('MXM', 0.00695), ('NANO', 0.0), ('NEO', 0.0), ('NEXO', 0.0), ('NGC', 0.0), ('NIM', 0.0), ('NMR', 0.0), ('OMG', 0.0), ('ONE', 0.04665), ('ONT', 0.0), ('PAX', 0.0), ('PIX', 0.00405), ('PLF', 0.0), ('QBIT', 0.0), ('QQQ', 0.01719), ('QTUM', 0.0), ('REN', 0.0), ('REP', 0.0), ('RVN', 0.0), ('SC', 0.0), ('SEELE', 0.0), ('SNX', 0.0437), ('SXP', 0.0), ('TAGZ5', 0.00684), ('THETA', 0.0), ('THR', 0.0), ('TNC', 0.0), ('TRX', 0.0), ('TUSD', 0.0), ('UMA', 0.10144), ('USDC', 0.0), ('USDT', 0.0), ('VEE', 0.00068), ('VEST', 0.0), ('VET', 0.0), ('VSYS', 0.0), ('WAVES', 0.0), ('WTC', 0.00045), ('XEM', 0.0), ('XIN', 0.0), ('XLM', 0.0), ('XMR', 0.0), ('XRP', 0.0), ('XTZ', 0.0), ('XVG', 0.0), ('YFI', 0.08226), ('ZB', 0.0), ('ZEC', 0.0), ('ZRX', 0.0)])\n",
      "Expected annual return: 464.4%\n",
      "Annual volatility: 41.2%\n",
      "Sharpe Ratio: 11.21\n"
     ]
    },
    {
     "name": "stderr",
     "output_type": "stream",
     "text": [
      "C:\\Users\\Aagam\\Anaconda3\\lib\\site-packages\\pypfopt\\risk_models.py:68: UserWarning: The covariance matrix is non positive semidefinite. Amending eigenvalues.\n",
      "  \"The covariance matrix is non positive semidefinite. Amending eigenvalues.\"\n",
      "C:\\Users\\Aagam\\Anaconda3\\lib\\site-packages\\pypfopt\\risk_models.py:87: UserWarning: Could not fix matrix. Please try a different risk model.\n",
      "  warnings.warn(\"Could not fix matrix. Please try a different risk model.\")\n"
     ]
    },
    {
     "data": {
      "text/plain": [
       "(4.644114114535931, 0.4123697994566162, 11.213513018240358)"
      ]
     },
     "execution_count": 5,
     "metadata": {},
     "output_type": "execute_result"
    }
   ],
   "source": [
    "# Calculate expected returns and sample covariance\n",
    "mu = expected_returns.mean_historical_return(temp.loc['2019-01-01':])\n",
    "S = risk_models.sample_cov(temp.loc['2019-01-01':])\n",
    "\n",
    "# Optimise for maximal Sharpe ratio\n",
    "ef = EfficientFrontier(mu, S)\n",
    "raw_weights = ef.max_sharpe()\n",
    "cleaned_weights = ef.clean_weights()\n",
    "ef.save_weights_to_file(\"weights.csv\")  # saves to file\n",
    "print(cleaned_weights)\n",
    "ef.portfolio_performance(verbose=True)"
   ]
  },
  {
   "cell_type": "code",
   "execution_count": 6,
   "metadata": {},
   "outputs": [],
   "source": [
    "weights = pd.DataFrame.from_dict(dict(cleaned_weights), orient='index')\n",
    "weights = weights[weights[0] > 0]"
   ]
  },
  {
   "cell_type": "raw",
   "metadata": {},
   "source": [
    "from pypfopt.discrete_allocation import DiscreteAllocation, get_latest_prices\n",
    "\n",
    "\n",
    "latest_prices = temp.iloc[-1]#get_latest_prices(df)\n",
    "\n",
    "da = DiscreteAllocation(cleaned_weights, latest_prices, total_portfolio_value=10000,short_ratio=0.01)\n",
    "allocation, leftover = da.lp_portfolio()\n",
    "print(\"Discrete allocation:\", allocation)\n",
    "print(\"Funds remaining: ${:.2f}\".format(leftover))"
   ]
  },
  {
   "cell_type": "raw",
   "metadata": {},
   "source": [
    "price = price.sort_values('date',ascending=False)\n",
    "price = price[price['date'] == price['date'].iloc[0]]\n",
    "\n",
    "allocation = pd.merge(allocation, price[['ico_symbol', 'close']])"
   ]
  },
  {
   "cell_type": "markdown",
   "metadata": {},
   "source": [
    "price = price.sort_values('date',ascending=False)\n",
    "price = price[price['date'] == price['date'].iloc[0]]\n",
    "\n",
    "allocation = pd.DataFrame.from_dict(allocation,orient='index')\n",
    "allocation.columns = ['Token Volume']\n",
    "allocation['ico_symbol'] = allocation.index\n",
    "\n",
    "allocation = pd.merge(allocation, price[['close','ico_symbol']])\n",
    "\n",
    "allocation['Holding Amount'] = abs(allocation['Token Volume']) * allocation['close']\n",
    "allocation['Position'] = np.where(allocation['Token Volume']<0, 'Short', 'Long')\n",
    "allocation"
   ]
  },
  {
   "cell_type": "code",
   "execution_count": 7,
   "metadata": {},
   "outputs": [],
   "source": [
    "allocation = pd.DataFrame()\n",
    "allocation['ico_symbol'] = weights.index.tolist()\n",
    "allocation['weights'] = weights[0].tolist()"
   ]
  },
  {
   "cell_type": "code",
   "execution_count": 8,
   "metadata": {},
   "outputs": [],
   "source": [
    "close = []\n",
    "for symbol in allocation['ico_symbol'].tolist():\n",
    "    temp = price[price['ico_symbol'] == symbol]\n",
    "    temp = temp.sort_values('date',ascending=False)\n",
    "    temp = temp[temp['date'] == temp['date'].iloc[0]]\n",
    "    close.append(temp['close'].values[0])"
   ]
  },
  {
   "cell_type": "code",
   "execution_count": 9,
   "metadata": {},
   "outputs": [],
   "source": [
    "allocation['price'] = close"
   ]
  },
  {
   "cell_type": "code",
   "execution_count": 10,
   "metadata": {},
   "outputs": [],
   "source": [
    "allocation['Holding Amount'] = allocation['weights'] * 10000"
   ]
  },
  {
   "cell_type": "code",
   "execution_count": 11,
   "metadata": {},
   "outputs": [],
   "source": [
    "allocation['% Holding'] = allocation['Holding Amount'] / allocation['Holding Amount'].sum() * 100"
   ]
  },
  {
   "cell_type": "code",
   "execution_count": 12,
   "metadata": {},
   "outputs": [
    {
     "data": {
      "text/html": [
       "<div>\n",
       "<style scoped>\n",
       "    .dataframe tbody tr th:only-of-type {\n",
       "        vertical-align: middle;\n",
       "    }\n",
       "\n",
       "    .dataframe tbody tr th {\n",
       "        vertical-align: top;\n",
       "    }\n",
       "\n",
       "    .dataframe thead th {\n",
       "        text-align: right;\n",
       "    }\n",
       "</style>\n",
       "<table border=\"1\" class=\"dataframe\">\n",
       "  <thead>\n",
       "    <tr style=\"text-align: right;\">\n",
       "      <th></th>\n",
       "      <th>ico_symbol</th>\n",
       "      <th>weights</th>\n",
       "      <th>price</th>\n",
       "      <th>Holding Amount</th>\n",
       "      <th>% Holding</th>\n",
       "    </tr>\n",
       "  </thead>\n",
       "  <tbody>\n",
       "    <tr>\n",
       "      <th>6</th>\n",
       "      <td>CKB</td>\n",
       "      <td>0.15005</td>\n",
       "      <td>0.005622</td>\n",
       "      <td>1500.5</td>\n",
       "      <td>15.004700</td>\n",
       "    </tr>\n",
       "    <tr>\n",
       "      <th>9</th>\n",
       "      <td>ELAMA</td>\n",
       "      <td>0.13674</td>\n",
       "      <td>0.110921</td>\n",
       "      <td>1367.4</td>\n",
       "      <td>13.673727</td>\n",
       "    </tr>\n",
       "    <tr>\n",
       "      <th>0</th>\n",
       "      <td>AR</td>\n",
       "      <td>0.11470</td>\n",
       "      <td>1.561404</td>\n",
       "      <td>1147.0</td>\n",
       "      <td>11.469771</td>\n",
       "    </tr>\n",
       "    <tr>\n",
       "      <th>19</th>\n",
       "      <td>UMA</td>\n",
       "      <td>0.10144</td>\n",
       "      <td>3.827458</td>\n",
       "      <td>1014.4</td>\n",
       "      <td>10.143797</td>\n",
       "    </tr>\n",
       "    <tr>\n",
       "      <th>5</th>\n",
       "      <td>CEL</td>\n",
       "      <td>0.09814</td>\n",
       "      <td>0.404295</td>\n",
       "      <td>981.4</td>\n",
       "      <td>9.813804</td>\n",
       "    </tr>\n",
       "    <tr>\n",
       "      <th>22</th>\n",
       "      <td>YFI</td>\n",
       "      <td>0.08226</td>\n",
       "      <td>4230.514648</td>\n",
       "      <td>822.6</td>\n",
       "      <td>8.225835</td>\n",
       "    </tr>\n",
       "    <tr>\n",
       "      <th>8</th>\n",
       "      <td>DOGE</td>\n",
       "      <td>0.05055</td>\n",
       "      <td>0.003174</td>\n",
       "      <td>505.5</td>\n",
       "      <td>5.054899</td>\n",
       "    </tr>\n",
       "    <tr>\n",
       "      <th>14</th>\n",
       "      <td>ONE</td>\n",
       "      <td>0.04665</td>\n",
       "      <td>0.008803</td>\n",
       "      <td>466.5</td>\n",
       "      <td>4.664907</td>\n",
       "    </tr>\n",
       "    <tr>\n",
       "      <th>12</th>\n",
       "      <td>HDAC</td>\n",
       "      <td>0.04564</td>\n",
       "      <td>0.029780</td>\n",
       "      <td>456.4</td>\n",
       "      <td>4.563909</td>\n",
       "    </tr>\n",
       "    <tr>\n",
       "      <th>17</th>\n",
       "      <td>SNX</td>\n",
       "      <td>0.04370</td>\n",
       "      <td>3.396879</td>\n",
       "      <td>437.0</td>\n",
       "      <td>4.369913</td>\n",
       "    </tr>\n",
       "    <tr>\n",
       "      <th>11</th>\n",
       "      <td>GTN</td>\n",
       "      <td>0.02151</td>\n",
       "      <td>0.282845</td>\n",
       "      <td>215.1</td>\n",
       "      <td>2.150957</td>\n",
       "    </tr>\n",
       "    <tr>\n",
       "      <th>2</th>\n",
       "      <td>BOTX</td>\n",
       "      <td>0.01868</td>\n",
       "      <td>0.078798</td>\n",
       "      <td>186.8</td>\n",
       "      <td>1.867963</td>\n",
       "    </tr>\n",
       "    <tr>\n",
       "      <th>16</th>\n",
       "      <td>QQQ</td>\n",
       "      <td>0.01719</td>\n",
       "      <td>0.018119</td>\n",
       "      <td>171.9</td>\n",
       "      <td>1.718966</td>\n",
       "    </tr>\n",
       "    <tr>\n",
       "      <th>4</th>\n",
       "      <td>CCC</td>\n",
       "      <td>0.01699</td>\n",
       "      <td>0.001729</td>\n",
       "      <td>169.9</td>\n",
       "      <td>1.698966</td>\n",
       "    </tr>\n",
       "    <tr>\n",
       "      <th>7</th>\n",
       "      <td>COMP</td>\n",
       "      <td>0.01626</td>\n",
       "      <td>134.010330</td>\n",
       "      <td>162.6</td>\n",
       "      <td>1.625967</td>\n",
       "    </tr>\n",
       "    <tr>\n",
       "      <th>1</th>\n",
       "      <td>BAY</td>\n",
       "      <td>0.01456</td>\n",
       "      <td>0.175920</td>\n",
       "      <td>145.6</td>\n",
       "      <td>1.455971</td>\n",
       "    </tr>\n",
       "    <tr>\n",
       "      <th>13</th>\n",
       "      <td>MXM</td>\n",
       "      <td>0.00695</td>\n",
       "      <td>0.009198</td>\n",
       "      <td>69.5</td>\n",
       "      <td>0.694986</td>\n",
       "    </tr>\n",
       "    <tr>\n",
       "      <th>18</th>\n",
       "      <td>TAGZ5</td>\n",
       "      <td>0.00684</td>\n",
       "      <td>0.014609</td>\n",
       "      <td>68.4</td>\n",
       "      <td>0.683986</td>\n",
       "    </tr>\n",
       "    <tr>\n",
       "      <th>3</th>\n",
       "      <td>BTRS</td>\n",
       "      <td>0.00406</td>\n",
       "      <td>125.119148</td>\n",
       "      <td>40.6</td>\n",
       "      <td>0.405992</td>\n",
       "    </tr>\n",
       "    <tr>\n",
       "      <th>15</th>\n",
       "      <td>PIX</td>\n",
       "      <td>0.00405</td>\n",
       "      <td>0.000843</td>\n",
       "      <td>40.5</td>\n",
       "      <td>0.404992</td>\n",
       "    </tr>\n",
       "    <tr>\n",
       "      <th>10</th>\n",
       "      <td>FST</td>\n",
       "      <td>0.00193</td>\n",
       "      <td>0.317198</td>\n",
       "      <td>19.3</td>\n",
       "      <td>0.192996</td>\n",
       "    </tr>\n",
       "    <tr>\n",
       "      <th>20</th>\n",
       "      <td>VEE</td>\n",
       "      <td>0.00068</td>\n",
       "      <td>0.001513</td>\n",
       "      <td>6.8</td>\n",
       "      <td>0.067999</td>\n",
       "    </tr>\n",
       "    <tr>\n",
       "      <th>21</th>\n",
       "      <td>WTC</td>\n",
       "      <td>0.00045</td>\n",
       "      <td>0.434576</td>\n",
       "      <td>4.5</td>\n",
       "      <td>0.044999</td>\n",
       "    </tr>\n",
       "  </tbody>\n",
       "</table>\n",
       "</div>"
      ],
      "text/plain": [
       "   ico_symbol  weights        price  Holding Amount  % Holding\n",
       "6         CKB  0.15005     0.005622          1500.5  15.004700\n",
       "9       ELAMA  0.13674     0.110921          1367.4  13.673727\n",
       "0          AR  0.11470     1.561404          1147.0  11.469771\n",
       "19        UMA  0.10144     3.827458          1014.4  10.143797\n",
       "5         CEL  0.09814     0.404295           981.4   9.813804\n",
       "22        YFI  0.08226  4230.514648           822.6   8.225835\n",
       "8        DOGE  0.05055     0.003174           505.5   5.054899\n",
       "14        ONE  0.04665     0.008803           466.5   4.664907\n",
       "12       HDAC  0.04564     0.029780           456.4   4.563909\n",
       "17        SNX  0.04370     3.396879           437.0   4.369913\n",
       "11        GTN  0.02151     0.282845           215.1   2.150957\n",
       "2        BOTX  0.01868     0.078798           186.8   1.867963\n",
       "16        QQQ  0.01719     0.018119           171.9   1.718966\n",
       "4         CCC  0.01699     0.001729           169.9   1.698966\n",
       "7        COMP  0.01626   134.010330           162.6   1.625967\n",
       "1         BAY  0.01456     0.175920           145.6   1.455971\n",
       "13        MXM  0.00695     0.009198            69.5   0.694986\n",
       "18      TAGZ5  0.00684     0.014609            68.4   0.683986\n",
       "3        BTRS  0.00406   125.119148            40.6   0.405992\n",
       "15        PIX  0.00405     0.000843            40.5   0.404992\n",
       "10        FST  0.00193     0.317198            19.3   0.192996\n",
       "20        VEE  0.00068     0.001513             6.8   0.067999\n",
       "21        WTC  0.00045     0.434576             4.5   0.044999"
      ]
     },
     "execution_count": 12,
     "metadata": {},
     "output_type": "execute_result"
    }
   ],
   "source": [
    "allocation.sort_values('% Holding', ascending=False)"
   ]
  },
  {
   "cell_type": "markdown",
   "metadata": {},
   "source": [
    "### Views"
   ]
  },
  {
   "cell_type": "code",
   "execution_count": 13,
   "metadata": {},
   "outputs": [],
   "source": [
    "from pypfopt import black_litterman\n",
    "from pypfopt.black_litterman import BlackLittermanModel\n",
    "from pypfopt.efficient_frontier import EfficientFrontier\n",
    "\n",
    "grades = grades[grades['ico_id'].isin(ieos)]\n",
    "grades = pd.merge(grades,price[['ico_id','ico_symbol']], on='ico_id',how='inner')\n",
    "grades = grades.drop_duplicates(['ico_id','date'])\n",
    "grades = grades.sort_values('date', ascending=False)\n",
    "grades = grades[grades['date'] == grades['date'].iloc[0]]"
   ]
  },
  {
   "cell_type": "code",
   "execution_count": 14,
   "metadata": {},
   "outputs": [],
   "source": [
    "grades['view'] = grades['final_grade'] / grades['final_grade'].sum()\n",
    "views = grades[['ico_symbol','view']]\n",
    "views.set_index('ico_symbol', inplace=True)\n",
    "views = views.to_dict()\n",
    "viewdict = views['view']\n",
    "\n",
    "temp = df['close'].groupby([df['date'],df['ico_symbol']]).mean()\n",
    "temp = temp.unstack().sort_index()\n",
    "temp.index = pd.to_datetime(temp.index)\n",
    "\n",
    "cov_matrix = temp.loc['2019-01-01':].cov()"
   ]
  },
  {
   "cell_type": "code",
   "execution_count": 15,
   "metadata": {
    "scrolled": true
   },
   "outputs": [
    {
     "name": "stderr",
     "output_type": "stream",
     "text": [
      "C:\\Users\\Aagam\\Anaconda3\\lib\\site-packages\\pypfopt\\black_litterman.py:442: RuntimeWarning: invalid value encountered in multiply\n",
      "  A = risk_aversion * self.cov_matrix\n",
      "C:\\Users\\Aagam\\Anaconda3\\lib\\site-packages\\pypfopt\\base_optimizer.py:87: RuntimeWarning: invalid value encountered in less\n",
      "  clean_weights[np.abs(clean_weights) < cutoff] = 0\n"
     ]
    }
   ],
   "source": [
    "bl = BlackLittermanModel(cov_matrix, pi=\"equal\", absolute_views=viewdict, omega='default')\n",
    "\n",
    "rets = bl.bl_returns()\n",
    "ef = EfficientFrontier(rets, cov_matrix, weight_bounds=(0, 0.1))\n",
    "\n",
    "# OR use return-implied weights\n",
    "delta = black_litterman.market_implied_risk_aversion(temp.loc['2019-01-01':])\n",
    "bl.bl_weights(delta.values)\n",
    "weights = bl.clean_weights()"
   ]
  },
  {
   "cell_type": "code",
   "execution_count": 16,
   "metadata": {},
   "outputs": [],
   "source": [
    "weights = pd.DataFrame.from_dict(dict(weights), orient='index')\n",
    "weights = weights[weights[0] > 0]"
   ]
  },
  {
   "cell_type": "code",
   "execution_count": 17,
   "metadata": {},
   "outputs": [
    {
     "data": {
      "text/html": [
       "<div>\n",
       "<style scoped>\n",
       "    .dataframe tbody tr th:only-of-type {\n",
       "        vertical-align: middle;\n",
       "    }\n",
       "\n",
       "    .dataframe tbody tr th {\n",
       "        vertical-align: top;\n",
       "    }\n",
       "\n",
       "    .dataframe thead th {\n",
       "        text-align: right;\n",
       "    }\n",
       "</style>\n",
       "<table border=\"1\" class=\"dataframe\">\n",
       "  <thead>\n",
       "    <tr style=\"text-align: right;\">\n",
       "      <th></th>\n",
       "      <th>0</th>\n",
       "    </tr>\n",
       "  </thead>\n",
       "  <tbody>\n",
       "  </tbody>\n",
       "</table>\n",
       "</div>"
      ],
      "text/plain": [
       "Empty DataFrame\n",
       "Columns: [0]\n",
       "Index: []"
      ]
     },
     "execution_count": 17,
     "metadata": {},
     "output_type": "execute_result"
    }
   ],
   "source": [
    "weights"
   ]
  },
  {
   "cell_type": "code",
   "execution_count": null,
   "metadata": {},
   "outputs": [],
   "source": []
  },
  {
   "cell_type": "code",
   "execution_count": null,
   "metadata": {},
   "outputs": [],
   "source": []
  },
  {
   "cell_type": "code",
   "execution_count": 12,
   "metadata": {},
   "outputs": [
    {
     "name": "stdout",
     "output_type": "stream",
     "text": [
      "Discrete allocation: {'HT': 5.0, 'TRX': 555171.0, 'XLM': 1106.0, 'XTZ': 28.0, 'LBC': -5.0, 'XRP': -4.0}\n",
      "Funds remaining: $0.08\n"
     ]
    }
   ],
   "source": [
    "da = DiscreteAllocation(weights, latest_prices, total_portfolio_value=10000,short_ratio=0.0001)\n",
    "allocation, leftover = da.lp_portfolio()\n",
    "print(\"Discrete allocation:\", allocation)\n",
    "print(\"Funds remaining: ${:.2f}\".format(leftover))"
   ]
  },
  {
   "cell_type": "code",
   "execution_count": 13,
   "metadata": {},
   "outputs": [
    {
     "data": {
      "text/html": [
       "<div>\n",
       "<style scoped>\n",
       "    .dataframe tbody tr th:only-of-type {\n",
       "        vertical-align: middle;\n",
       "    }\n",
       "\n",
       "    .dataframe tbody tr th {\n",
       "        vertical-align: top;\n",
       "    }\n",
       "\n",
       "    .dataframe thead th {\n",
       "        text-align: right;\n",
       "    }\n",
       "</style>\n",
       "<table border=\"1\" class=\"dataframe\">\n",
       "  <thead>\n",
       "    <tr style=\"text-align: right;\">\n",
       "      <th></th>\n",
       "      <th>Token Volume</th>\n",
       "      <th>ico_symbol</th>\n",
       "      <th>close</th>\n",
       "      <th>Holding Amount</th>\n",
       "      <th>Position</th>\n",
       "    </tr>\n",
       "  </thead>\n",
       "  <tbody>\n",
       "    <tr>\n",
       "      <th>0</th>\n",
       "      <td>5.0</td>\n",
       "      <td>HT</td>\n",
       "      <td>4.238911</td>\n",
       "      <td>21.194553</td>\n",
       "      <td>Long</td>\n",
       "    </tr>\n",
       "    <tr>\n",
       "      <th>1</th>\n",
       "      <td>555171.0</td>\n",
       "      <td>TRX</td>\n",
       "      <td>0.017635</td>\n",
       "      <td>9790.570328</td>\n",
       "      <td>Long</td>\n",
       "    </tr>\n",
       "    <tr>\n",
       "      <th>2</th>\n",
       "      <td>1106.0</td>\n",
       "      <td>XLM</td>\n",
       "      <td>0.096894</td>\n",
       "      <td>107.164875</td>\n",
       "      <td>Long</td>\n",
       "    </tr>\n",
       "    <tr>\n",
       "      <th>3</th>\n",
       "      <td>28.0</td>\n",
       "      <td>XTZ</td>\n",
       "      <td>2.895190</td>\n",
       "      <td>81.065320</td>\n",
       "      <td>Long</td>\n",
       "    </tr>\n",
       "    <tr>\n",
       "      <th>4</th>\n",
       "      <td>-5.0</td>\n",
       "      <td>LBC</td>\n",
       "      <td>0.025488</td>\n",
       "      <td>0.127438</td>\n",
       "      <td>Short</td>\n",
       "    </tr>\n",
       "    <tr>\n",
       "      <th>5</th>\n",
       "      <td>-4.0</td>\n",
       "      <td>XRP</td>\n",
       "      <td>0.199965</td>\n",
       "      <td>0.799861</td>\n",
       "      <td>Short</td>\n",
       "    </tr>\n",
       "  </tbody>\n",
       "</table>\n",
       "</div>"
      ],
      "text/plain": [
       "   Token Volume ico_symbol     close  Holding Amount Position\n",
       "0           5.0         HT  4.238911       21.194553     Long\n",
       "1      555171.0        TRX  0.017635     9790.570328     Long\n",
       "2        1106.0        XLM  0.096894      107.164875     Long\n",
       "3          28.0        XTZ  2.895190       81.065320     Long\n",
       "4          -5.0        LBC  0.025488        0.127438    Short\n",
       "5          -4.0        XRP  0.199965        0.799861    Short"
      ]
     },
     "execution_count": 13,
     "metadata": {},
     "output_type": "execute_result"
    }
   ],
   "source": [
    "price = price.sort_values('date',ascending=False)\n",
    "price = price[price['date'] == price['date'].iloc[0]]\n",
    "\n",
    "allocation = pd.DataFrame.from_dict(allocation,orient='index')\n",
    "allocation.columns = ['Token Volume']\n",
    "allocation['ico_symbol'] = allocation.index\n",
    "\n",
    "allocation = pd.merge(allocation, price[['close','ico_symbol']])\n",
    "\n",
    "allocation['Holding Amount'] = abs(allocation['Token Volume']) * allocation['close']\n",
    "allocation['Position'] = np.where(allocation['Token Volume']<0, 'Short', 'Long')\n",
    "allocation"
   ]
  },
  {
   "cell_type": "code",
   "execution_count": null,
   "metadata": {},
   "outputs": [],
   "source": []
  },
  {
   "cell_type": "code",
   "execution_count": null,
   "metadata": {},
   "outputs": [],
   "source": []
  }
 ],
 "metadata": {
  "kernelspec": {
   "display_name": "Python 3",
   "language": "python",
   "name": "python3"
  },
  "language_info": {
   "codemirror_mode": {
    "name": "ipython",
    "version": 3
   },
   "file_extension": ".py",
   "mimetype": "text/x-python",
   "name": "python",
   "nbconvert_exporter": "python",
   "pygments_lexer": "ipython3",
   "version": "3.7.4"
  }
 },
 "nbformat": 4,
 "nbformat_minor": 2
}
