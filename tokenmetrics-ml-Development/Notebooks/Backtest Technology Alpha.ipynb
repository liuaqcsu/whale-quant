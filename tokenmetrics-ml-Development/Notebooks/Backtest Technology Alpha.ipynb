{
 "cells": [
  {
   "cell_type": "code",
   "execution_count": 1,
   "metadata": {},
   "outputs": [
    {
     "name": "stderr",
     "output_type": "stream",
     "text": [
      "Using TensorFlow backend.\n"
     ]
    }
   ],
   "source": [
    "import numpy as np\n",
    "import pandas as pd\n",
    "import matplotlib.pyplot as plt\n",
    "import glob\n",
    "import json\n",
    "from cryptocompy import coin,price\n",
    "import tqdm\n",
    "import seaborn as sns\n",
    "sns.set();\n",
    "\n",
    "import io\n",
    "import requests\n",
    "import json\n",
    "from datetime import datetime\n",
    "import time\n",
    "from time import gmtime, strftime\n",
    "\n",
    "from sklearn import metrics\n",
    "from fbprophet import Prophet\n",
    "plt.rcParams[\"figure.figsize\"] = [14,8]\n",
    "pd.set_option('float_format', '{:f}'.format)\n",
    "\n",
    "import warnings\n",
    "warnings.filterwarnings(\"ignore\")\n",
    "\n",
    "pd.set_option('display.max_rows', 500)\n",
    "pd.set_option('display.max_columns', 500)\n",
    "pd.set_option('display.width', 1000)\n",
    "\n",
    "import datetime\n",
    "from datetime import datetime as dt\n",
    "from datetime import timedelta\n",
    "\n",
    "\n",
    "from tqdm import tqdm_notebook\n",
    "from livelossplot.keras import PlotLossesCallback\n",
    "\n",
    "\n",
    "from sklearn.linear_model import LinearRegression\n",
    "from sklearn.preprocessing import LabelEncoder\n",
    "from sklearn.model_selection import train_test_split\n",
    "from sklearn import metrics\n",
    "#from xgboost import XGBRegressor\n",
    "from catboost import CatBoostRegressor, Pool, cv\n",
    "import catboost\n",
    "from sklearn.ensemble import RandomForestRegressor\n",
    "\n",
    "from keras.models import Sequential\n",
    "from keras.layers import Dense\n",
    "from keras.models import model_from_json\n",
    "#from sklearn.cross_validation import cross_val_score\n",
    "#from sklearn.grid_search import GridSearchCV\n",
    "from numpy.random import seed\n",
    "seed(1)\n",
    "from tensorflow import set_random_seed\n",
    "set_random_seed(1)\n",
    "\n",
    "from keras.models import Sequential  \n",
    "from keras.layers.core import Dense, Activation  \n",
    "from keras.layers.recurrent import LSTM\n",
    "from keras.layers.advanced_activations import LeakyReLU\n",
    "\n",
    "from keras import optimizers\n",
    "from keras import backend as K\n",
    "\n",
    "adam = optimizers.Adam(lr=0.01, clipnorm=1.)\n",
    "\n",
    "def root_mean_squared_error(y_true, y_pred):\n",
    "    return K.sqrt(K.mean(K.square(y_pred - y_true), axis=-1)) \n",
    "def nn_r2_score(y_true, y_pred):\n",
    "    total_error = K.sum(K.square( y_true - K.mean(y_true) ) )\n",
    "    residual_error = K.sum(K.square( y_true - y_pred ))\n",
    "    R_squared = 1 - (residual_error / total_error)\n",
    "    return -R_squared\n",
    "\n",
    "\n",
    "from math import sin, cos\n",
    "\n",
    "from gaft import GAEngine\n",
    "from gaft.components import BinaryIndividual,DecimalIndividual\n",
    "from gaft.components import Population\n",
    "from gaft.operators import TournamentSelection, LinearRankingSelection\n",
    "from gaft.operators import UniformCrossover\n",
    "from gaft.operators import FlipBitMutation\n",
    "from gaft.analysis import ConsoleOutput\n",
    "\n",
    "# Analysis plugin base class.\n",
    "from gaft.plugin_interfaces.analysis import OnTheFlyAnalysis\n",
    "\n",
    "# Built-in best fitness analysis.\n",
    "from gaft.analysis.fitness_store import FitnessStore\n",
    "\n",
    "import MySQLdb \n",
    "import sshtunnel\n",
    "from sshtunnel import SSHTunnelForwarder"
   ]
  },
  {
   "cell_type": "code",
   "execution_count": 2,
   "metadata": {},
   "outputs": [
    {
     "name": "stderr",
     "output_type": "stream",
     "text": [
      "WARNING: Logging before flag parsing goes to stderr.\n",
      "I1013 08:54:36.120357  3112 transport.py:1819] Connected (version 2.0, client OpenSSH_7.6p1)\n",
      "I1013 08:54:38.066727  3112 transport.py:1819] Authentication (password) successful!\n"
     ]
    }
   ],
   "source": [
    "df = pd.DataFrame()\n",
    "d1 = pd.DataFrame()\n",
    "d2 = pd.DataFrame()\n",
    "d3 = pd.DataFrame()\n",
    "d4 = pd.DataFrame()\n",
    "d5 = pd.DataFrame()\n",
    "\n",
    "d6 = pd.DataFrame()\n",
    "\n",
    "with SSHTunnelForwarder(('206.189.186.74', 22), ssh_password='crypto1234', ssh_username='aagam', remote_bind_address=('127.0.0.1', 3306)) as server:\n",
    "    conn = MySQLdb.connect(host='localhost', port=server.local_bind_port, user='ianbalina', passwd='5!sT3jt26K%tFN*W',db='ianbalina')\n",
    "    cursor = conn.cursor()\n",
    "    \n",
    "    #cursor.execute(\"SELECT * FROM ianbalina.ico_price_daily_summaries;\") \n",
    "    #m = cursor.fetchone()\n",
    "    query = '''SELECT * FROM ianbalina.ico_price_daily_summaries;'''\n",
    "    data = pd.read_sql_query(query, conn)\n",
    "    df = pd.concat([df,data])\n",
    "    \n",
    "    query = '''SELECT * FROM ianbalina.ico_grade_history;'''\n",
    "    data = pd.read_sql_query(query, conn)\n",
    "    d1 = pd.concat([d1,data])\n",
    "    \n",
    "    query = '''SELECT * FROM ianbalina.ico_analytics;'''\n",
    "    data = pd.read_sql_query(query, conn)\n",
    "    d2 = pd.concat([d2,data])\n",
    "    \n",
    "    query = '''SELECT * FROM ianbalina.icos;'''\n",
    "    data = pd.read_sql_query(query, conn)\n",
    "    d3 = pd.concat([d3,data])\n",
    "    \n",
    "    query = '''SELECT * FROM ianbalina.ico_analytics;'''\n",
    "    data = pd.read_sql_query(query, conn)\n",
    "    d4 = pd.concat([d4,data])\n",
    "    \n",
    "    query = '''SELECT * FROM ianbalina.ico_grade_history_scores;'''\n",
    "    data = pd.read_sql_query(query, conn)\n",
    "    d5 = pd.concat([d5,data])\n",
    "    \n",
    "    query = '''SELECT * FROM ianbalina.tech_scorecard_options;'''\n",
    "    data = pd.read_sql_query(query, conn)\n",
    "    d6 = pd.concat([d6,data])\n",
    "    \n",
    "    conn.close() "
   ]
  },
  {
   "cell_type": "code",
   "execution_count": 3,
   "metadata": {},
   "outputs": [],
   "source": [
    "def get_bins(v):\n",
    "    if v <= 10:\n",
    "        return 0\n",
    "    elif v > 10 and v <= 20:\n",
    "        return 1\n",
    "    elif v > 20 and v <= 30:\n",
    "        return 2\n",
    "    elif v > 30 and v <= 40:\n",
    "        return 3\n",
    "    elif v > 40 and v <= 50:\n",
    "        return 4\n",
    "    elif v > 50 and v <= 60:\n",
    "        return 5\n",
    "    elif v > 60 and v <= 70:\n",
    "        return 6\n",
    "    elif v > 70 and v <= 80:\n",
    "        return 7\n",
    "    elif v > 80 and v <= 90:\n",
    "        return 8\n",
    "    elif v > 90:\n",
    "        return 9"
   ]
  },
  {
   "cell_type": "code",
   "execution_count": 4,
   "metadata": {},
   "outputs": [],
   "source": [
    "def get_technology_accuracy(weights, max_score, tech):\n",
    "    t1 = pd.DataFrame()\n",
    "\n",
    "    for i in tech['ico_symbol'].unique().tolist():\n",
    "        temp = tech[tech['ico_symbol'] == i]\n",
    "        temp = temp.sort_values('question_number')\n",
    "        score = temp['score'] * weights[:len(temp)] \n",
    "        \n",
    "        t1 = pd.concat([t1,pd.DataFrame([i, score.sum() / max_score * 100 / sum(weights[:len(temp)]) * len(temp)]).T])\n",
    "        \n",
    "    t1.columns = ['Coin','Score']\n",
    "    #ids = tech['ico_id'][tech['ico_symbol'].isin(t1['Coin'])].unique()\n",
    "    alpha = []\n",
    "    for coin in t1['Coin']:\n",
    "        k = tech['ico_id'][tech['ico_symbol'] == coin].unique()\n",
    "        alpha.append(d4['alpha'][d4['ico_id'] == k[0]].values[0])\n",
    "    \n",
    "    t1['Alpha'] = alpha\n",
    "\n",
    "    t1['Score_bins'] = t1['Score'].apply(get_bins)\n",
    "    t1['Alpha_bins'] = pd.cut(t1['Alpha'],[np.floor(t1['Alpha'].min()),0,np.ceil(t1['Alpha'].max())])\n",
    "\n",
    "    final = t1['Alpha_bins'].groupby([t1['Score_bins'],t1['Alpha_bins']]).count().unstack()\n",
    "\n",
    "    x0 = []\n",
    "    x1 = []\n",
    "    for j in range(10):\n",
    "        try:\n",
    "            x0.append(final.loc[j,0])\n",
    "        except:\n",
    "            x0.append(0)\n",
    "\n",
    "    for j in range(10):\n",
    "        try:\n",
    "            x1.append(final.loc[j,1])\n",
    "        except:\n",
    "            x1.append(0)\n",
    "\n",
    "    x = pd.DataFrame()\n",
    "    x[0] = x0\n",
    "    x[1] = x1\n",
    "    x.index = ['(0,10]','(10,20]','(20,30]','(30,40]','(40,50]','(50,60]','(60,70]','(70,80]','(80,90]','(90,100]']\n",
    "\n",
    "    x.fillna(0,inplace=True)\n",
    "\n",
    "    y = x.sum(axis=1)\n",
    "    y1 = (x.iloc[0:5,0] / y[:5]) \n",
    "    y2 = (x.iloc[5:,1] / y[5:])\n",
    "\n",
    "    x['Accuracy'] = y1.append(y2).fillna(0).astype('float64').values * 100\n",
    "    x.columns = [str(final.columns[0]),str(final.columns[1]),'Accuracy']\n",
    "\n",
    "    accuracy = x.iloc[0:5,0].append(x.iloc[5:10,1]).sum() / x.iloc[:,:2].sum(axis=1).sum()\n",
    "    return x, accuracy"
   ]
  },
  {
   "cell_type": "code",
   "execution_count": 5,
   "metadata": {},
   "outputs": [],
   "source": [
    "tech = d5[d5['type'] == 2]\n",
    "d1 = d1[d1['date'] == d1['date'].sort_values().iloc[-1]]\n",
    "tech = tech[tech['ico_grade_history_id'].isin(d1['id'].unique())]\n",
    "tech = pd.merge(tech,d1[['id','ico_id']], left_on = 'ico_grade_history_id', right_on = 'id', how='left')\n",
    "tech = tech.drop('id_y', axis=1)\n",
    "tech.rename(columns={'id_x':'id'}, inplace=True)\n",
    "\n",
    "ids = d3['id'][d3['technology_published_at'].notnull()].unique().tolist()\n",
    "coin = []\n",
    "for id in ids:\n",
    "    coin.append(df['ico_symbol'][df['ico_id'] == id].unique().tolist()[0])\n",
    "    \n",
    "tech = tech[tech['ico_id'].isin(ids)]\n",
    "temp = pd.DataFrame([ids,coin]).T\n",
    "temp.columns = ['ico_id','ico_symbol']\n",
    "\n",
    "tech = pd.merge(tech,temp)\n",
    "tech['question_number'] = tech['name'].str.split('_').str.get(-1)"
   ]
  },
  {
   "cell_type": "code",
   "execution_count": 6,
   "metadata": {},
   "outputs": [
    {
     "data": {
      "text/plain": [
       "(          (-142.0, 0.0]  (0.0, 241.0]   Accuracy\n",
       " (0,10]         0.000000      0.000000   0.000000\n",
       " (10,20]        0.000000      0.000000   0.000000\n",
       " (20,30]        2.000000      0.000000 100.000000\n",
       " (30,40]        3.000000      1.000000  75.000000\n",
       " (40,50]        3.000000      0.000000 100.000000\n",
       " (50,60]        2.000000      2.000000  50.000000\n",
       " (60,70]        6.000000      4.000000  40.000000\n",
       " (70,80]        5.000000      5.000000  50.000000\n",
       " (80,90]        7.000000      2.000000  22.222222\n",
       " (90,100]       1.000000      2.000000  66.666667, 0.5111111111111111)"
      ]
     },
     "execution_count": 6,
     "metadata": {},
     "output_type": "execute_result"
    }
   ],
   "source": [
    "weights = np.ones(28)\n",
    "max_score = d6['score'].groupby([d6['tech_scorecard_question_id']]).max().sum()\n",
    "\n",
    "get_technology_accuracy(weights, max_score, tech)"
   ]
  },
  {
   "cell_type": "code",
   "execution_count": null,
   "metadata": {},
   "outputs": [],
   "source": []
  },
  {
   "cell_type": "code",
   "execution_count": 7,
   "metadata": {},
   "outputs": [
    {
     "data": {
      "text/plain": [
       "('Correlation: ', 0.06943535407610386)"
      ]
     },
     "execution_count": 7,
     "metadata": {},
     "output_type": "execute_result"
    }
   ],
   "source": [
    "ids = d3['id'][d3['technology_published_at'].notnull()].unique().tolist()\n",
    "coin = []\n",
    "for id in ids:\n",
    "    coin.append(df['ico_symbol'][df['ico_id'] == id].unique().tolist()[0])\n",
    "    \n",
    "temp = pd.DataFrame()\n",
    "temp['Coin'] = coin\n",
    "temp['Score'] = d1['tech_scorecard_score'][d1['ico_id'].isin(ids)].values\n",
    "\n",
    "alpha = []\n",
    "for coin in temp['Coin']:\n",
    "    k = tech['ico_id'][tech['ico_symbol'] == coin].unique()\n",
    "    alpha.append(d4['alpha'][d4['ico_id'] == k[0]].values[0])\n",
    "\n",
    "temp['Alpha'] = alpha\n",
    "temp[['Score','Alpha']] = temp[['Score','Alpha']].astype('float64')\n",
    "'Correlation: ', temp.corr().iloc[0,1]"
   ]
  },
  {
   "cell_type": "code",
   "execution_count": 8,
   "metadata": {},
   "outputs": [
    {
     "data": {
      "text/html": [
       "<div>\n",
       "<style scoped>\n",
       "    .dataframe tbody tr th:only-of-type {\n",
       "        vertical-align: middle;\n",
       "    }\n",
       "\n",
       "    .dataframe tbody tr th {\n",
       "        vertical-align: top;\n",
       "    }\n",
       "\n",
       "    .dataframe thead th {\n",
       "        text-align: right;\n",
       "    }\n",
       "</style>\n",
       "<table border=\"1\" class=\"dataframe\">\n",
       "  <thead>\n",
       "    <tr style=\"text-align: right;\">\n",
       "      <th></th>\n",
       "      <th>Coin</th>\n",
       "      <th>Score</th>\n",
       "      <th>Alpha</th>\n",
       "    </tr>\n",
       "  </thead>\n",
       "  <tbody>\n",
       "    <tr>\n",
       "      <th>0</th>\n",
       "      <td>ZRX</td>\n",
       "      <td>81.818200</td>\n",
       "      <td>-11.549000</td>\n",
       "    </tr>\n",
       "    <tr>\n",
       "      <th>1</th>\n",
       "      <td>TRX</td>\n",
       "      <td>81.818200</td>\n",
       "      <td>-0.806200</td>\n",
       "    </tr>\n",
       "    <tr>\n",
       "      <th>2</th>\n",
       "      <td>ONT</td>\n",
       "      <td>70.909100</td>\n",
       "      <td>-11.076700</td>\n",
       "    </tr>\n",
       "    <tr>\n",
       "      <th>3</th>\n",
       "      <td>ETH</td>\n",
       "      <td>98.181800</td>\n",
       "      <td>10.982000</td>\n",
       "    </tr>\n",
       "    <tr>\n",
       "      <th>4</th>\n",
       "      <td>NEO</td>\n",
       "      <td>85.454500</td>\n",
       "      <td>0.321500</td>\n",
       "    </tr>\n",
       "    <tr>\n",
       "      <th>5</th>\n",
       "      <td>BNB</td>\n",
       "      <td>90.909100</td>\n",
       "      <td>-12.474500</td>\n",
       "    </tr>\n",
       "    <tr>\n",
       "      <th>6</th>\n",
       "      <td>ADA</td>\n",
       "      <td>87.272700</td>\n",
       "      <td>-5.906000</td>\n",
       "    </tr>\n",
       "    <tr>\n",
       "      <th>7</th>\n",
       "      <td>LSK</td>\n",
       "      <td>74.545500</td>\n",
       "      <td>-6.055400</td>\n",
       "    </tr>\n",
       "    <tr>\n",
       "      <th>8</th>\n",
       "      <td>REP</td>\n",
       "      <td>74.545500</td>\n",
       "      <td>-0.239500</td>\n",
       "    </tr>\n",
       "    <tr>\n",
       "      <th>9</th>\n",
       "      <td>QTUM</td>\n",
       "      <td>67.272700</td>\n",
       "      <td>-2.874300</td>\n",
       "    </tr>\n",
       "    <tr>\n",
       "      <th>10</th>\n",
       "      <td>OMG</td>\n",
       "      <td>74.545500</td>\n",
       "      <td>6.135200</td>\n",
       "    </tr>\n",
       "    <tr>\n",
       "      <th>11</th>\n",
       "      <td>BAT</td>\n",
       "      <td>40.000000</td>\n",
       "      <td>-3.178400</td>\n",
       "    </tr>\n",
       "    <tr>\n",
       "      <th>12</th>\n",
       "      <td>HOT</td>\n",
       "      <td>67.272700</td>\n",
       "      <td>-11.688800</td>\n",
       "    </tr>\n",
       "    <tr>\n",
       "      <th>13</th>\n",
       "      <td>EOS</td>\n",
       "      <td>80.000000</td>\n",
       "      <td>2.092600</td>\n",
       "    </tr>\n",
       "    <tr>\n",
       "      <th>14</th>\n",
       "      <td>XRP</td>\n",
       "      <td>78.181800</td>\n",
       "      <td>-0.578400</td>\n",
       "    </tr>\n",
       "    <tr>\n",
       "      <th>15</th>\n",
       "      <td>BTC</td>\n",
       "      <td>98.181800</td>\n",
       "      <td>24.276600</td>\n",
       "    </tr>\n",
       "    <tr>\n",
       "      <th>16</th>\n",
       "      <td>BCH</td>\n",
       "      <td>65.454500</td>\n",
       "      <td>0.118500</td>\n",
       "    </tr>\n",
       "    <tr>\n",
       "      <th>17</th>\n",
       "      <td>LTC</td>\n",
       "      <td>56.363600</td>\n",
       "      <td>8.854800</td>\n",
       "    </tr>\n",
       "    <tr>\n",
       "      <th>18</th>\n",
       "      <td>USDT</td>\n",
       "      <td>61.818200</td>\n",
       "      <td>14.040300</td>\n",
       "    </tr>\n",
       "    <tr>\n",
       "      <th>19</th>\n",
       "      <td>XLM</td>\n",
       "      <td>81.818200</td>\n",
       "      <td>-12.375100</td>\n",
       "    </tr>\n",
       "    <tr>\n",
       "      <th>20</th>\n",
       "      <td>XMR</td>\n",
       "      <td>70.909100</td>\n",
       "      <td>9.273600</td>\n",
       "    </tr>\n",
       "    <tr>\n",
       "      <th>21</th>\n",
       "      <td>DASH</td>\n",
       "      <td>85.454500</td>\n",
       "      <td>9.468700</td>\n",
       "    </tr>\n",
       "    <tr>\n",
       "      <th>22</th>\n",
       "      <td>BSV</td>\n",
       "      <td>52.727300</td>\n",
       "      <td>-15.012700</td>\n",
       "    </tr>\n",
       "    <tr>\n",
       "      <th>23</th>\n",
       "      <td>XTZ</td>\n",
       "      <td>81.818200</td>\n",
       "      <td>-10.770500</td>\n",
       "    </tr>\n",
       "    <tr>\n",
       "      <th>24</th>\n",
       "      <td>MIOTA</td>\n",
       "      <td>80.000000</td>\n",
       "      <td>46.188200</td>\n",
       "    </tr>\n",
       "    <tr>\n",
       "      <th>25</th>\n",
       "      <td>ETC</td>\n",
       "      <td>69.090900</td>\n",
       "      <td>-2.575100</td>\n",
       "    </tr>\n",
       "    <tr>\n",
       "      <th>26</th>\n",
       "      <td>XEM</td>\n",
       "      <td>67.272700</td>\n",
       "      <td>-12.550800</td>\n",
       "    </tr>\n",
       "    <tr>\n",
       "      <th>27</th>\n",
       "      <td>ZEC</td>\n",
       "      <td>80.000000</td>\n",
       "      <td>6.589500</td>\n",
       "    </tr>\n",
       "    <tr>\n",
       "      <th>28</th>\n",
       "      <td>DOGE</td>\n",
       "      <td>40.000000</td>\n",
       "      <td>-10.923900</td>\n",
       "    </tr>\n",
       "    <tr>\n",
       "      <th>29</th>\n",
       "      <td>BTG</td>\n",
       "      <td>65.454500</td>\n",
       "      <td>2.115800</td>\n",
       "    </tr>\n",
       "    <tr>\n",
       "      <th>30</th>\n",
       "      <td>USDC</td>\n",
       "      <td>60.000000</td>\n",
       "      <td>240.377900</td>\n",
       "    </tr>\n",
       "    <tr>\n",
       "      <th>31</th>\n",
       "      <td>DCR</td>\n",
       "      <td>72.727300</td>\n",
       "      <td>-141.944300</td>\n",
       "    </tr>\n",
       "    <tr>\n",
       "      <th>32</th>\n",
       "      <td>NANO</td>\n",
       "      <td>61.818200</td>\n",
       "      <td>-42.562200</td>\n",
       "    </tr>\n",
       "    <tr>\n",
       "      <th>33</th>\n",
       "      <td>RVN</td>\n",
       "      <td>54.545500</td>\n",
       "      <td>-11.804200</td>\n",
       "    </tr>\n",
       "    <tr>\n",
       "      <th>34</th>\n",
       "      <td>BCD</td>\n",
       "      <td>41.818200</td>\n",
       "      <td>-89.729700</td>\n",
       "    </tr>\n",
       "    <tr>\n",
       "      <th>35</th>\n",
       "      <td>TUSD</td>\n",
       "      <td>45.454500</td>\n",
       "      <td>-8.427600</td>\n",
       "    </tr>\n",
       "    <tr>\n",
       "      <th>36</th>\n",
       "      <td>BTT</td>\n",
       "      <td>45.454500</td>\n",
       "      <td>-73.978100</td>\n",
       "    </tr>\n",
       "    <tr>\n",
       "      <th>37</th>\n",
       "      <td>HT</td>\n",
       "      <td>23.636400</td>\n",
       "      <td>-12.573400</td>\n",
       "    </tr>\n",
       "    <tr>\n",
       "      <th>38</th>\n",
       "      <td>PAX</td>\n",
       "      <td>61.818200</td>\n",
       "      <td>22.457900</td>\n",
       "    </tr>\n",
       "    <tr>\n",
       "      <th>39</th>\n",
       "      <td>ABBC</td>\n",
       "      <td>29.090900</td>\n",
       "      <td>-1.672600</td>\n",
       "    </tr>\n",
       "    <tr>\n",
       "      <th>40</th>\n",
       "      <td>INB</td>\n",
       "      <td>67.272700</td>\n",
       "      <td>-3.503700</td>\n",
       "    </tr>\n",
       "    <tr>\n",
       "      <th>41</th>\n",
       "      <td>LEO</td>\n",
       "      <td>32.727300</td>\n",
       "      <td>-9.005700</td>\n",
       "    </tr>\n",
       "    <tr>\n",
       "      <th>42</th>\n",
       "      <td>ATOM</td>\n",
       "      <td>85.454500</td>\n",
       "      <td>-41.021300</td>\n",
       "    </tr>\n",
       "    <tr>\n",
       "      <th>43</th>\n",
       "      <td>VSYS</td>\n",
       "      <td>81.818200</td>\n",
       "      <td>-5.811200</td>\n",
       "    </tr>\n",
       "    <tr>\n",
       "      <th>44</th>\n",
       "      <td>HEDG</td>\n",
       "      <td>32.727300</td>\n",
       "      <td>16.431900</td>\n",
       "    </tr>\n",
       "  </tbody>\n",
       "</table>\n",
       "</div>"
      ],
      "text/plain": [
       "     Coin     Score       Alpha\n",
       "0     ZRX 81.818200  -11.549000\n",
       "1     TRX 81.818200   -0.806200\n",
       "2     ONT 70.909100  -11.076700\n",
       "3     ETH 98.181800   10.982000\n",
       "4     NEO 85.454500    0.321500\n",
       "5     BNB 90.909100  -12.474500\n",
       "6     ADA 87.272700   -5.906000\n",
       "7     LSK 74.545500   -6.055400\n",
       "8     REP 74.545500   -0.239500\n",
       "9    QTUM 67.272700   -2.874300\n",
       "10    OMG 74.545500    6.135200\n",
       "11    BAT 40.000000   -3.178400\n",
       "12    HOT 67.272700  -11.688800\n",
       "13    EOS 80.000000    2.092600\n",
       "14    XRP 78.181800   -0.578400\n",
       "15    BTC 98.181800   24.276600\n",
       "16    BCH 65.454500    0.118500\n",
       "17    LTC 56.363600    8.854800\n",
       "18   USDT 61.818200   14.040300\n",
       "19    XLM 81.818200  -12.375100\n",
       "20    XMR 70.909100    9.273600\n",
       "21   DASH 85.454500    9.468700\n",
       "22    BSV 52.727300  -15.012700\n",
       "23    XTZ 81.818200  -10.770500\n",
       "24  MIOTA 80.000000   46.188200\n",
       "25    ETC 69.090900   -2.575100\n",
       "26    XEM 67.272700  -12.550800\n",
       "27    ZEC 80.000000    6.589500\n",
       "28   DOGE 40.000000  -10.923900\n",
       "29    BTG 65.454500    2.115800\n",
       "30   USDC 60.000000  240.377900\n",
       "31    DCR 72.727300 -141.944300\n",
       "32   NANO 61.818200  -42.562200\n",
       "33    RVN 54.545500  -11.804200\n",
       "34    BCD 41.818200  -89.729700\n",
       "35   TUSD 45.454500   -8.427600\n",
       "36    BTT 45.454500  -73.978100\n",
       "37     HT 23.636400  -12.573400\n",
       "38    PAX 61.818200   22.457900\n",
       "39   ABBC 29.090900   -1.672600\n",
       "40    INB 67.272700   -3.503700\n",
       "41    LEO 32.727300   -9.005700\n",
       "42   ATOM 85.454500  -41.021300\n",
       "43   VSYS 81.818200   -5.811200\n",
       "44   HEDG 32.727300   16.431900"
      ]
     },
     "execution_count": 8,
     "metadata": {},
     "output_type": "execute_result"
    }
   ],
   "source": [
    "temp"
   ]
  },
  {
   "cell_type": "code",
   "execution_count": 9,
   "metadata": {},
   "outputs": [
    {
     "data": {
      "text/plain": [
       "Alpha_bins  (-142.0, 0.0]  (0.0, 241.0]\n",
       "Score_bins                             \n",
       "(20, 30]         2.000000           nan\n",
       "(30, 40]         3.000000      1.000000\n",
       "(40, 50]         3.000000           nan\n",
       "(50, 60]         2.000000      2.000000\n",
       "(60, 70]         6.000000      4.000000\n",
       "(70, 80]         5.000000      5.000000\n",
       "(80, 90]         7.000000      2.000000\n",
       "(90, 100]        1.000000      2.000000"
      ]
     },
     "execution_count": 9,
     "metadata": {},
     "output_type": "execute_result"
    }
   ],
   "source": [
    "temp['Score_bins'] = pd.cut(temp['Score'],[0,10,20,30,40,50,60,70,80,90,100])\n",
    "temp['Alpha_bins'] = pd.cut(temp['Alpha'],[np.floor(temp['Alpha'].min()),0,np.ceil(temp['Alpha'].max())])\n",
    "final = temp['Alpha_bins'].groupby([temp['Score_bins'],temp['Alpha_bins']]).count().unstack()\n",
    "final"
   ]
  },
  {
   "cell_type": "code",
   "execution_count": 10,
   "metadata": {},
   "outputs": [
    {
     "data": {
      "text/html": [
       "<div>\n",
       "<style scoped>\n",
       "    .dataframe tbody tr th:only-of-type {\n",
       "        vertical-align: middle;\n",
       "    }\n",
       "\n",
       "    .dataframe tbody tr th {\n",
       "        vertical-align: top;\n",
       "    }\n",
       "\n",
       "    .dataframe thead th {\n",
       "        text-align: right;\n",
       "    }\n",
       "</style>\n",
       "<table border=\"1\" class=\"dataframe\">\n",
       "  <thead>\n",
       "    <tr style=\"text-align: right;\">\n",
       "      <th></th>\n",
       "      <th>(-142.0, 0.0]</th>\n",
       "      <th>(0.0, 241.0]</th>\n",
       "      <th>Accuracy</th>\n",
       "    </tr>\n",
       "  </thead>\n",
       "  <tbody>\n",
       "    <tr>\n",
       "      <th>(0,10]</th>\n",
       "      <td>0.000000</td>\n",
       "      <td>0.000000</td>\n",
       "      <td>0.000000</td>\n",
       "    </tr>\n",
       "    <tr>\n",
       "      <th>(10,20]</th>\n",
       "      <td>0.000000</td>\n",
       "      <td>0.000000</td>\n",
       "      <td>0.000000</td>\n",
       "    </tr>\n",
       "    <tr>\n",
       "      <th>(20,30]</th>\n",
       "      <td>2.000000</td>\n",
       "      <td>0.000000</td>\n",
       "      <td>100.000000</td>\n",
       "    </tr>\n",
       "    <tr>\n",
       "      <th>(30,40]</th>\n",
       "      <td>3.000000</td>\n",
       "      <td>1.000000</td>\n",
       "      <td>75.000000</td>\n",
       "    </tr>\n",
       "    <tr>\n",
       "      <th>(40,50]</th>\n",
       "      <td>3.000000</td>\n",
       "      <td>0.000000</td>\n",
       "      <td>100.000000</td>\n",
       "    </tr>\n",
       "    <tr>\n",
       "      <th>(50,60]</th>\n",
       "      <td>2.000000</td>\n",
       "      <td>2.000000</td>\n",
       "      <td>50.000000</td>\n",
       "    </tr>\n",
       "    <tr>\n",
       "      <th>(60,70]</th>\n",
       "      <td>6.000000</td>\n",
       "      <td>4.000000</td>\n",
       "      <td>40.000000</td>\n",
       "    </tr>\n",
       "    <tr>\n",
       "      <th>(70,80]</th>\n",
       "      <td>5.000000</td>\n",
       "      <td>5.000000</td>\n",
       "      <td>50.000000</td>\n",
       "    </tr>\n",
       "    <tr>\n",
       "      <th>(80,90]</th>\n",
       "      <td>7.000000</td>\n",
       "      <td>2.000000</td>\n",
       "      <td>22.222222</td>\n",
       "    </tr>\n",
       "    <tr>\n",
       "      <th>(90,100]</th>\n",
       "      <td>1.000000</td>\n",
       "      <td>2.000000</td>\n",
       "      <td>66.666667</td>\n",
       "    </tr>\n",
       "  </tbody>\n",
       "</table>\n",
       "</div>"
      ],
      "text/plain": [
       "          (-142.0, 0.0]  (0.0, 241.0]   Accuracy\n",
       "(0,10]         0.000000      0.000000   0.000000\n",
       "(10,20]        0.000000      0.000000   0.000000\n",
       "(20,30]        2.000000      0.000000 100.000000\n",
       "(30,40]        3.000000      1.000000  75.000000\n",
       "(40,50]        3.000000      0.000000 100.000000\n",
       "(50,60]        2.000000      2.000000  50.000000\n",
       "(60,70]        6.000000      4.000000  40.000000\n",
       "(70,80]        5.000000      5.000000  50.000000\n",
       "(80,90]        7.000000      2.000000  22.222222\n",
       "(90,100]       1.000000      2.000000  66.666667"
      ]
     },
     "execution_count": 10,
     "metadata": {},
     "output_type": "execute_result"
    }
   ],
   "source": [
    "x = pd.DataFrame()\n",
    "x[0] = [0,0] + final.values[:,0].tolist()\n",
    "x[1] = [0,0] + final.values[:,1].tolist()\n",
    "x.index = ['(0,10]','(10,20]','(20,30]','(30,40]','(40,50]','(50,60]','(60,70]','(70,80]','(80,90]','(90,100]']\n",
    "\n",
    "x.fillna(0,inplace=True)\n",
    "\n",
    "y = x.sum(axis=1)\n",
    "y1 = (x.iloc[0:5,0] / y[:5]) \n",
    "y2 = (x.iloc[5:,1] / y[5:])\n",
    "\n",
    "x['Accuracy'] = y1.append(y2).fillna(0).astype('float64').values * 100\n",
    "x.columns = [str(final.columns[0]),str(final.columns[1]),'Accuracy']\n",
    "x"
   ]
  },
  {
   "cell_type": "code",
   "execution_count": 11,
   "metadata": {},
   "outputs": [
    {
     "data": {
      "text/plain": [
       "0.5111111111111111"
      ]
     },
     "execution_count": 11,
     "metadata": {},
     "output_type": "execute_result"
    }
   ],
   "source": [
    "x.iloc[0:5,0].append(x.iloc[5:10,1]).sum() / x.iloc[:,:2].sum(axis=1).sum()"
   ]
  },
  {
   "cell_type": "code",
   "execution_count": 12,
   "metadata": {},
   "outputs": [],
   "source": [
    "weights = [9, 2, 6, 4, 9, 5, 2, 2, 4, 10, 7, 3, 0, 4, 1, 3, 6, 10, 10, 10, 3, 0, 6, 1, 5, 9, 5, 10]\n",
    "\n",
    "max_score = d6['score'].groupby([d6['tech_scorecard_question_id']]).max().sum()\n",
    "\n",
    "y,z = get_technology_accuracy(weights, max_score, tech)"
   ]
  },
  {
   "cell_type": "code",
   "execution_count": 13,
   "metadata": {},
   "outputs": [
    {
     "data": {
      "text/html": [
       "<div>\n",
       "<style scoped>\n",
       "    .dataframe tbody tr th:only-of-type {\n",
       "        vertical-align: middle;\n",
       "    }\n",
       "\n",
       "    .dataframe tbody tr th {\n",
       "        vertical-align: top;\n",
       "    }\n",
       "\n",
       "    .dataframe thead th {\n",
       "        text-align: right;\n",
       "    }\n",
       "</style>\n",
       "<table border=\"1\" class=\"dataframe\">\n",
       "  <thead>\n",
       "    <tr style=\"text-align: right;\">\n",
       "      <th></th>\n",
       "      <th>(-142.0, 0.0]</th>\n",
       "      <th>(0.0, 241.0]</th>\n",
       "      <th>Accuracy</th>\n",
       "    </tr>\n",
       "  </thead>\n",
       "  <tbody>\n",
       "    <tr>\n",
       "      <th>(0,10]</th>\n",
       "      <td>0.000000</td>\n",
       "      <td>0.000000</td>\n",
       "      <td>0.000000</td>\n",
       "    </tr>\n",
       "    <tr>\n",
       "      <th>(10,20]</th>\n",
       "      <td>1.000000</td>\n",
       "      <td>0.000000</td>\n",
       "      <td>100.000000</td>\n",
       "    </tr>\n",
       "    <tr>\n",
       "      <th>(20,30]</th>\n",
       "      <td>5.000000</td>\n",
       "      <td>1.000000</td>\n",
       "      <td>83.333333</td>\n",
       "    </tr>\n",
       "    <tr>\n",
       "      <th>(30,40]</th>\n",
       "      <td>3.000000</td>\n",
       "      <td>1.000000</td>\n",
       "      <td>75.000000</td>\n",
       "    </tr>\n",
       "    <tr>\n",
       "      <th>(40,50]</th>\n",
       "      <td>7.000000</td>\n",
       "      <td>3.000000</td>\n",
       "      <td>70.000000</td>\n",
       "    </tr>\n",
       "    <tr>\n",
       "      <th>(50,60]</th>\n",
       "      <td>5.000000</td>\n",
       "      <td>6.000000</td>\n",
       "      <td>54.545455</td>\n",
       "    </tr>\n",
       "    <tr>\n",
       "      <th>(60,70]</th>\n",
       "      <td>8.000000</td>\n",
       "      <td>3.000000</td>\n",
       "      <td>27.272727</td>\n",
       "    </tr>\n",
       "    <tr>\n",
       "      <th>(70,80]</th>\n",
       "      <td>0.000000</td>\n",
       "      <td>2.000000</td>\n",
       "      <td>100.000000</td>\n",
       "    </tr>\n",
       "    <tr>\n",
       "      <th>(80,90]</th>\n",
       "      <td>0.000000</td>\n",
       "      <td>0.000000</td>\n",
       "      <td>0.000000</td>\n",
       "    </tr>\n",
       "    <tr>\n",
       "      <th>(90,100]</th>\n",
       "      <td>0.000000</td>\n",
       "      <td>0.000000</td>\n",
       "      <td>0.000000</td>\n",
       "    </tr>\n",
       "  </tbody>\n",
       "</table>\n",
       "</div>"
      ],
      "text/plain": [
       "          (-142.0, 0.0]  (0.0, 241.0]   Accuracy\n",
       "(0,10]         0.000000      0.000000   0.000000\n",
       "(10,20]        1.000000      0.000000 100.000000\n",
       "(20,30]        5.000000      1.000000  83.333333\n",
       "(30,40]        3.000000      1.000000  75.000000\n",
       "(40,50]        7.000000      3.000000  70.000000\n",
       "(50,60]        5.000000      6.000000  54.545455\n",
       "(60,70]        8.000000      3.000000  27.272727\n",
       "(70,80]        0.000000      2.000000 100.000000\n",
       "(80,90]        0.000000      0.000000   0.000000\n",
       "(90,100]       0.000000      0.000000   0.000000"
      ]
     },
     "execution_count": 13,
     "metadata": {},
     "output_type": "execute_result"
    }
   ],
   "source": [
    "y"
   ]
  },
  {
   "cell_type": "code",
   "execution_count": null,
   "metadata": {},
   "outputs": [],
   "source": []
  },
  {
   "cell_type": "code",
   "execution_count": 12,
   "metadata": {},
   "outputs": [
    {
     "name": "stdout",
     "output_type": "stream",
     "text": [
      "\n",
      "INSTALLED VERSIONS\n",
      "------------------\n",
      "commit: None\n",
      "python: 3.7.3.final.0\n",
      "python-bits: 64\n",
      "OS: Windows\n",
      "OS-release: 10\n",
      "machine: AMD64\n",
      "processor: Intel64 Family 6 Model 158 Stepping 10, GenuineIntel\n",
      "byteorder: little\n",
      "LC_ALL: None\n",
      "LANG: None\n",
      "LOCALE: None.None\n",
      "\n",
      "pandas: 0.24.2\n",
      "pytest: None\n",
      "pip: 19.1.1\n",
      "setuptools: 41.0.1\n",
      "Cython: 0.29.13\n",
      "numpy: 1.16.4\n",
      "scipy: 1.3.0\n",
      "pyarrow: None\n",
      "xarray: None\n",
      "IPython: 7.6.1\n",
      "sphinx: 2.1.2\n",
      "patsy: None\n",
      "dateutil: 2.8.0\n",
      "pytz: 2019.1\n",
      "blosc: None\n",
      "bottleneck: None\n",
      "tables: None\n",
      "numexpr: None\n",
      "feather: None\n",
      "matplotlib: 3.1.1\n",
      "openpyxl: 2.6.3\n",
      "xlrd: 1.0.0\n",
      "xlwt: None\n",
      "xlsxwriter: None\n",
      "lxml.etree: 4.4.0\n",
      "bs4: 4.7.1\n",
      "html5lib: None\n",
      "sqlalchemy: None\n",
      "pymysql: 0.9.3\n",
      "psycopg2: None\n",
      "jinja2: 2.10.1\n",
      "s3fs: None\n",
      "fastparquet: None\n",
      "pandas_gbq: None\n",
      "pandas_datareader: 0.7.4\n",
      "gcsfs: None\n"
     ]
    }
   ],
   "source": [
    "pd.show_versions()"
   ]
  },
  {
   "cell_type": "code",
   "execution_count": 13,
   "metadata": {},
   "outputs": [],
   "source": [
    "tech = d5[d5['type'] == 2]"
   ]
  },
  {
   "cell_type": "code",
   "execution_count": 14,
   "metadata": {},
   "outputs": [],
   "source": [
    "d1 = d1[d1['date'] == d1['date'].sort_values().iloc[-1]]"
   ]
  },
  {
   "cell_type": "code",
   "execution_count": 15,
   "metadata": {},
   "outputs": [],
   "source": [
    "tech = tech[tech['ico_grade_history_id'].isin(d1['id'].unique())]"
   ]
  },
  {
   "cell_type": "code",
   "execution_count": 17,
   "metadata": {},
   "outputs": [],
   "source": [
    "tech = pd.merge(tech,d1[['id','ico_id']], left_on = 'ico_grade_history_id', right_on = 'id', how='left')"
   ]
  },
  {
   "cell_type": "code",
   "execution_count": 18,
   "metadata": {},
   "outputs": [],
   "source": [
    "tech = tech.drop('id_y', axis=1)"
   ]
  },
  {
   "cell_type": "code",
   "execution_count": 19,
   "metadata": {},
   "outputs": [],
   "source": [
    "tech.rename(columns={'id_x':'id'}, inplace=True)"
   ]
  },
  {
   "cell_type": "code",
   "execution_count": 20,
   "metadata": {},
   "outputs": [],
   "source": [
    "ids = d3['id'][d3['technology_published_at'].notnull()].unique().tolist()\n",
    "coin = []\n",
    "for id in ids:\n",
    "    coin.append(df['ico_symbol'][df['ico_id'] == id].unique().tolist()[0])"
   ]
  },
  {
   "cell_type": "code",
   "execution_count": 21,
   "metadata": {},
   "outputs": [],
   "source": [
    "tech = tech[tech['ico_id'].isin(ids)]"
   ]
  },
  {
   "cell_type": "code",
   "execution_count": 22,
   "metadata": {},
   "outputs": [],
   "source": [
    "temp = pd.DataFrame([ids,coin]).T\n",
    "temp.columns = ['ico_id','ico_symbol']"
   ]
  },
  {
   "cell_type": "code",
   "execution_count": 23,
   "metadata": {},
   "outputs": [],
   "source": [
    "tech = pd.merge(tech,temp)"
   ]
  },
  {
   "cell_type": "code",
   "execution_count": 24,
   "metadata": {},
   "outputs": [],
   "source": [
    "tech['question_number'] = tech['name'].str.split('_').str.get(-1)"
   ]
  },
  {
   "cell_type": "code",
   "execution_count": 32,
   "metadata": {},
   "outputs": [
    {
     "data": {
      "text/plain": [
       "55.0"
      ]
     },
     "execution_count": 32,
     "metadata": {},
     "output_type": "execute_result"
    }
   ],
   "source": [
    "d6['score'].groupby([d6['tech_scorecard_question_id']]).max().sum()"
   ]
  },
  {
   "cell_type": "code",
   "execution_count": 106,
   "metadata": {},
   "outputs": [],
   "source": [
    "def get_bins(v):\n",
    "    if v <= 10:\n",
    "        return 0\n",
    "    elif v > 10 and v <= 20:\n",
    "        return 1\n",
    "    elif v > 20 and v <= 30:\n",
    "        return 2\n",
    "    elif v > 30 and v <= 40:\n",
    "        return 3\n",
    "    elif v > 40 and v <= 50:\n",
    "        return 4\n",
    "    elif v > 50 and v <= 60:\n",
    "        return 5\n",
    "    elif v > 60 and v <= 70:\n",
    "        return 6\n",
    "    elif v > 70 and v <= 80:\n",
    "        return 7\n",
    "    elif v > 80 and v <= 90:\n",
    "        return 8\n",
    "    elif v > 90:\n",
    "        return 9"
   ]
  },
  {
   "cell_type": "code",
   "execution_count": 141,
   "metadata": {},
   "outputs": [],
   "source": [
    "def get_technology_accuracy(weights, max_score, tech):\n",
    "    t1 = pd.DataFrame()\n",
    "\n",
    "    for i in tech['ico_symbol'].unique().tolist():\n",
    "        temp = tech[tech['ico_symbol'] == i]\n",
    "        temp = temp.sort_values('question_number')\n",
    "        score = temp['score'] * weights[:len(temp)] \n",
    "        \n",
    "        t1 = pd.concat([t1,pd.DataFrame([i, score.sum() / max_score * 100 / sum(weights[:len(temp)]) * len(temp)]).T])\n",
    "        \n",
    "    t1.columns = ['Coin','Score']\n",
    "    #ids = tech['ico_id'][tech['ico_symbol'].isin(t1['Coin'])].unique()\n",
    "    alpha = []\n",
    "    for coin in t1['Coin']:\n",
    "        k = tech['ico_id'][tech['ico_symbol'] == coin].unique()\n",
    "        alpha.append(d4['alpha'][d4['ico_id'] == k[0]].values[0])\n",
    "    \n",
    "    t1['Alpha'] = alpha\n",
    "\n",
    "    t1['Score_bins'] = t1['Score'].apply(get_bins)\n",
    "    t1['Alpha_bins'] = pd.cut(t1['Alpha'],[np.floor(t1['Alpha'].min()),0,np.ceil(t1['Alpha'].max())])\n",
    "\n",
    "    final = t1['Alpha_bins'].groupby([t1['Score_bins'],t1['Alpha_bins']]).count().unstack()\n",
    "\n",
    "    x0 = []\n",
    "    x1 = []\n",
    "    for j in range(10):\n",
    "        try:\n",
    "            x0.append(final.loc[j,0])\n",
    "        except:\n",
    "            x0.append(0)\n",
    "\n",
    "    for j in range(10):\n",
    "        try:\n",
    "            x1.append(final.loc[j,1])\n",
    "        except:\n",
    "            x1.append(0)\n",
    "\n",
    "    x = pd.DataFrame()\n",
    "    x[0] = x0\n",
    "    x[1] = x1\n",
    "    x.index = ['(0,10]','(10,20]','(20,30]','(30,40]','(40,50]','(50,60]','(60,70]','(70,80]','(80,90]','(90,100]']\n",
    "\n",
    "    x.fillna(0,inplace=True)\n",
    "\n",
    "    y = x.sum(axis=1)\n",
    "    y1 = (x.iloc[0:5,0] / y[:5]) \n",
    "    y2 = (x.iloc[5:,1] / y[5:])\n",
    "\n",
    "    x['Accuracy'] = y1.append(y2).fillna(0).astype('float64').values * 100\n",
    "    x.columns = [str(final.columns[0]),str(final.columns[1]),'Accuracy']\n",
    "\n",
    "    accuracy = x.iloc[0:5,0].append(x.iloc[5:10,1]).sum() / x.iloc[:,:2].sum(axis=1).sum()\n",
    "    return x, accuracy"
   ]
  },
  {
   "cell_type": "code",
   "execution_count": 13,
   "metadata": {},
   "outputs": [
    {
     "data": {
      "text/plain": [
       "(          (-143.0, 0.0]  (0.0, 242.0]   Accuracy\n",
       " (0,10]         0.000000      0.000000   0.000000\n",
       " (10,20]        0.000000      0.000000   0.000000\n",
       " (20,30]        2.000000      0.000000 100.000000\n",
       " (30,40]        3.000000      1.000000  75.000000\n",
       " (40,50]        3.000000      0.000000 100.000000\n",
       " (50,60]        2.000000      2.000000  50.000000\n",
       " (60,70]        6.000000      4.000000  40.000000\n",
       " (70,80]        5.000000      5.000000  50.000000\n",
       " (80,90]        7.000000      2.000000  22.222222\n",
       " (90,100]       1.000000      2.000000  66.666667, 0.5111111111111111)"
      ]
     },
     "execution_count": 13,
     "metadata": {},
     "output_type": "execute_result"
    }
   ],
   "source": [
    "weights = np.ones(28)*0.1\n",
    "max_score = d6['score'].groupby([d6['tech_scorecard_question_id']]).max().sum()\n",
    "\n",
    "get_technology_accuracy(weights, max_score, tech)"
   ]
  },
  {
   "cell_type": "code",
   "execution_count": 16,
   "metadata": {
    "scrolled": true
   },
   "outputs": [
    {
     "name": "stdout",
     "output_type": "stream",
     "text": [
      "gaft.ConsoleOutputAnalysis   INFO     Generation: 0, best fitness: 0.556, best_individual: [5, 4, 7, 2, 8, 7, 0, 6, 2, 4, 9, 7, 5, 5, 7, 5, 2, 10, 6, 5, 9, 10, 3, 6, 4, 3, 4, 1]\n"
     ]
    },
    {
     "name": "stderr",
     "output_type": "stream",
     "text": [
      "I1010 08:48:07.707921 32656 <ipython-input-16-46d7ad2432ef>:37] Generation: 0, best fitness: 0.556, best_individual: [5, 4, 7, 2, 8, 7, 0, 6, 2, 4, 9, 7, 5, 5, 7, 5, 2, 10, 6, 5, 9, 10, 3, 6, 4, 3, 4, 1]\n"
     ]
    },
    {
     "name": "stdout",
     "output_type": "stream",
     "text": [
      "gaft.ConsoleOutputAnalysis   INFO     Generation: 1, best fitness: 0.578, best_individual: [2, 1, 9, 1, 6, 3, 2, 5, 1, 9, 0, 7, 3, 0, 8, 4, 5, 10, 0, 3, 6, 10, 8, 7, 5, 6, 9, 9]\n"
     ]
    },
    {
     "name": "stderr",
     "output_type": "stream",
     "text": [
      "I1010 08:48:50.848676 32656 <ipython-input-16-46d7ad2432ef>:37] Generation: 1, best fitness: 0.578, best_individual: [2, 1, 9, 1, 6, 3, 2, 5, 1, 9, 0, 7, 3, 0, 8, 4, 5, 10, 0, 3, 6, 10, 8, 7, 5, 6, 9, 9]\n"
     ]
    },
    {
     "name": "stdout",
     "output_type": "stream",
     "text": [
      "gaft.ConsoleOutputAnalysis   INFO     Generation: 2, best fitness: 0.578, best_individual: [2, 1, 9, 1, 6, 3, 2, 5, 1, 9, 0, 7, 3, 0, 8, 4, 5, 10, 0, 3, 6, 10, 8, 7, 5, 6, 9, 9]\n"
     ]
    },
    {
     "name": "stderr",
     "output_type": "stream",
     "text": [
      "I1010 08:49:34.292645 32656 <ipython-input-16-46d7ad2432ef>:37] Generation: 2, best fitness: 0.578, best_individual: [2, 1, 9, 1, 6, 3, 2, 5, 1, 9, 0, 7, 3, 0, 8, 4, 5, 10, 0, 3, 6, 10, 8, 7, 5, 6, 9, 9]\n"
     ]
    },
    {
     "name": "stdout",
     "output_type": "stream",
     "text": [
      "gaft.ConsoleOutputAnalysis   INFO     Generation: 3, best fitness: 0.578, best_individual: [2, 1, 9, 1, 6, 3, 2, 5, 1, 9, 0, 7, 3, 0, 8, 4, 5, 10, 0, 3, 6, 10, 8, 7, 5, 6, 9, 9]\n"
     ]
    },
    {
     "name": "stderr",
     "output_type": "stream",
     "text": [
      "I1010 08:50:17.876280 32656 <ipython-input-16-46d7ad2432ef>:37] Generation: 3, best fitness: 0.578, best_individual: [2, 1, 9, 1, 6, 3, 2, 5, 1, 9, 0, 7, 3, 0, 8, 4, 5, 10, 0, 3, 6, 10, 8, 7, 5, 6, 9, 9]\n"
     ]
    },
    {
     "name": "stdout",
     "output_type": "stream",
     "text": [
      "gaft.ConsoleOutputAnalysis   INFO     Generation: 4, best fitness: 0.578, best_individual: [2, 1, 9, 1, 6, 3, 2, 5, 1, 9, 0, 7, 3, 0, 8, 4, 5, 10, 0, 3, 6, 10, 8, 7, 5, 6, 9, 9]\n"
     ]
    },
    {
     "name": "stderr",
     "output_type": "stream",
     "text": [
      "I1010 08:51:01.432209 32656 <ipython-input-16-46d7ad2432ef>:37] Generation: 4, best fitness: 0.578, best_individual: [2, 1, 9, 1, 6, 3, 2, 5, 1, 9, 0, 7, 3, 0, 8, 4, 5, 10, 0, 3, 6, 10, 8, 7, 5, 6, 9, 9]\n"
     ]
    },
    {
     "name": "stdout",
     "output_type": "stream",
     "text": [
      "gaft.ConsoleOutputAnalysis   INFO     Generation: 5, best fitness: 0.578, best_individual: [2, 1, 9, 1, 6, 3, 2, 5, 1, 9, 0, 7, 3, 0, 8, 4, 5, 10, 0, 3, 6, 10, 8, 7, 5, 6, 9, 9]\n"
     ]
    },
    {
     "name": "stderr",
     "output_type": "stream",
     "text": [
      "I1010 08:51:44.974800 32656 <ipython-input-16-46d7ad2432ef>:37] Generation: 5, best fitness: 0.578, best_individual: [2, 1, 9, 1, 6, 3, 2, 5, 1, 9, 0, 7, 3, 0, 8, 4, 5, 10, 0, 3, 6, 10, 8, 7, 5, 6, 9, 9]\n"
     ]
    },
    {
     "name": "stdout",
     "output_type": "stream",
     "text": [
      "gaft.ConsoleOutputAnalysis   INFO     Generation: 6, best fitness: 0.578, best_individual: [2, 1, 9, 1, 6, 3, 2, 5, 1, 9, 0, 7, 3, 0, 8, 4, 5, 10, 0, 3, 6, 10, 8, 7, 5, 6, 9, 9]\n"
     ]
    },
    {
     "name": "stderr",
     "output_type": "stream",
     "text": [
      "I1010 08:52:28.474818 32656 <ipython-input-16-46d7ad2432ef>:37] Generation: 6, best fitness: 0.578, best_individual: [2, 1, 9, 1, 6, 3, 2, 5, 1, 9, 0, 7, 3, 0, 8, 4, 5, 10, 0, 3, 6, 10, 8, 7, 5, 6, 9, 9]\n"
     ]
    },
    {
     "name": "stdout",
     "output_type": "stream",
     "text": [
      "gaft.ConsoleOutputAnalysis   INFO     Generation: 7, best fitness: 0.578, best_individual: [2, 1, 9, 1, 6, 3, 2, 5, 1, 9, 0, 7, 3, 0, 8, 4, 5, 10, 0, 3, 6, 10, 8, 7, 5, 6, 9, 9]\n"
     ]
    },
    {
     "name": "stderr",
     "output_type": "stream",
     "text": [
      "I1010 08:53:11.956258 32656 <ipython-input-16-46d7ad2432ef>:37] Generation: 7, best fitness: 0.578, best_individual: [2, 1, 9, 1, 6, 3, 2, 5, 1, 9, 0, 7, 3, 0, 8, 4, 5, 10, 0, 3, 6, 10, 8, 7, 5, 6, 9, 9]\n"
     ]
    },
    {
     "name": "stdout",
     "output_type": "stream",
     "text": [
      "gaft.ConsoleOutputAnalysis   INFO     Generation: 8, best fitness: 0.578, best_individual: [2, 1, 9, 1, 6, 3, 2, 5, 1, 9, 0, 7, 3, 0, 8, 4, 5, 10, 0, 3, 6, 10, 8, 7, 5, 6, 9, 9]\n"
     ]
    },
    {
     "name": "stderr",
     "output_type": "stream",
     "text": [
      "I1010 08:53:55.717124 32656 <ipython-input-16-46d7ad2432ef>:37] Generation: 8, best fitness: 0.578, best_individual: [2, 1, 9, 1, 6, 3, 2, 5, 1, 9, 0, 7, 3, 0, 8, 4, 5, 10, 0, 3, 6, 10, 8, 7, 5, 6, 9, 9]\n"
     ]
    },
    {
     "name": "stdout",
     "output_type": "stream",
     "text": [
      "gaft.ConsoleOutputAnalysis   INFO     Generation: 9, best fitness: 0.578, best_individual: [2, 1, 9, 1, 6, 3, 2, 5, 1, 9, 0, 7, 3, 0, 8, 4, 5, 10, 0, 3, 6, 10, 8, 7, 5, 6, 9, 9]\n"
     ]
    },
    {
     "name": "stderr",
     "output_type": "stream",
     "text": [
      "I1010 08:54:41.319942 32656 <ipython-input-16-46d7ad2432ef>:37] Generation: 9, best fitness: 0.578, best_individual: [2, 1, 9, 1, 6, 3, 2, 5, 1, 9, 0, 7, 3, 0, 8, 4, 5, 10, 0, 3, 6, 10, 8, 7, 5, 6, 9, 9]\n"
     ]
    },
    {
     "name": "stdout",
     "output_type": "stream",
     "text": [
      "gaft.ConsoleOutputAnalysis   INFO     Generation: 10, best fitness: 0.578, best_individual: [2, 1, 9, 1, 6, 3, 2, 5, 1, 9, 0, 7, 3, 0, 8, 4, 5, 10, 0, 3, 6, 10, 8, 7, 5, 6, 9, 9]\n"
     ]
    },
    {
     "name": "stderr",
     "output_type": "stream",
     "text": [
      "I1010 08:55:29.910493 32656 <ipython-input-16-46d7ad2432ef>:37] Generation: 10, best fitness: 0.578, best_individual: [2, 1, 9, 1, 6, 3, 2, 5, 1, 9, 0, 7, 3, 0, 8, 4, 5, 10, 0, 3, 6, 10, 8, 7, 5, 6, 9, 9]\n"
     ]
    },
    {
     "name": "stdout",
     "output_type": "stream",
     "text": [
      "gaft.ConsoleOutputAnalysis   INFO     Generation: 11, best fitness: 0.578, best_individual: [2, 1, 9, 1, 6, 3, 2, 5, 1, 9, 0, 7, 3, 0, 8, 4, 5, 10, 0, 3, 6, 10, 8, 7, 5, 6, 9, 9]\n"
     ]
    },
    {
     "name": "stderr",
     "output_type": "stream",
     "text": [
      "I1010 08:56:19.664354 32656 <ipython-input-16-46d7ad2432ef>:37] Generation: 11, best fitness: 0.578, best_individual: [2, 1, 9, 1, 6, 3, 2, 5, 1, 9, 0, 7, 3, 0, 8, 4, 5, 10, 0, 3, 6, 10, 8, 7, 5, 6, 9, 9]\n"
     ]
    },
    {
     "name": "stdout",
     "output_type": "stream",
     "text": [
      "gaft.ConsoleOutputAnalysis   INFO     Generation: 12, best fitness: 0.578, best_individual: [2, 1, 9, 1, 6, 3, 2, 5, 1, 9, 0, 7, 3, 0, 8, 4, 5, 10, 0, 3, 6, 10, 8, 7, 5, 6, 9, 9]\n"
     ]
    },
    {
     "name": "stderr",
     "output_type": "stream",
     "text": [
      "I1010 08:57:12.247690 32656 <ipython-input-16-46d7ad2432ef>:37] Generation: 12, best fitness: 0.578, best_individual: [2, 1, 9, 1, 6, 3, 2, 5, 1, 9, 0, 7, 3, 0, 8, 4, 5, 10, 0, 3, 6, 10, 8, 7, 5, 6, 9, 9]\n"
     ]
    },
    {
     "name": "stdout",
     "output_type": "stream",
     "text": [
      "gaft.ConsoleOutputAnalysis   INFO     Generation: 13, best fitness: 0.578, best_individual: [2, 1, 9, 1, 6, 3, 2, 5, 1, 9, 0, 7, 3, 0, 8, 4, 5, 10, 0, 3, 6, 10, 8, 7, 5, 6, 9, 9]\n"
     ]
    },
    {
     "name": "stderr",
     "output_type": "stream",
     "text": [
      "I1010 08:57:59.997848 32656 <ipython-input-16-46d7ad2432ef>:37] Generation: 13, best fitness: 0.578, best_individual: [2, 1, 9, 1, 6, 3, 2, 5, 1, 9, 0, 7, 3, 0, 8, 4, 5, 10, 0, 3, 6, 10, 8, 7, 5, 6, 9, 9]\n"
     ]
    },
    {
     "name": "stdout",
     "output_type": "stream",
     "text": [
      "gaft.ConsoleOutputAnalysis   INFO     Generation: 14, best fitness: 0.578, best_individual: [2, 1, 9, 1, 6, 3, 2, 5, 1, 9, 0, 7, 3, 0, 8, 4, 5, 10, 0, 3, 6, 10, 8, 7, 5, 6, 9, 9]\n"
     ]
    },
    {
     "name": "stderr",
     "output_type": "stream",
     "text": [
      "I1010 08:58:46.820873 32656 <ipython-input-16-46d7ad2432ef>:37] Generation: 14, best fitness: 0.578, best_individual: [2, 1, 9, 1, 6, 3, 2, 5, 1, 9, 0, 7, 3, 0, 8, 4, 5, 10, 0, 3, 6, 10, 8, 7, 5, 6, 9, 9]\n"
     ]
    },
    {
     "name": "stdout",
     "output_type": "stream",
     "text": [
      "gaft.ConsoleOutputAnalysis   INFO     Generation: 15, best fitness: 0.578, best_individual: [2, 1, 9, 1, 6, 3, 2, 5, 1, 9, 0, 7, 3, 0, 8, 4, 5, 10, 0, 3, 6, 10, 8, 7, 5, 6, 9, 9]\n"
     ]
    },
    {
     "name": "stderr",
     "output_type": "stream",
     "text": [
      "I1010 08:59:29.639486 32656 <ipython-input-16-46d7ad2432ef>:37] Generation: 15, best fitness: 0.578, best_individual: [2, 1, 9, 1, 6, 3, 2, 5, 1, 9, 0, 7, 3, 0, 8, 4, 5, 10, 0, 3, 6, 10, 8, 7, 5, 6, 9, 9]\n"
     ]
    },
    {
     "name": "stdout",
     "output_type": "stream",
     "text": [
      "gaft.ConsoleOutputAnalysis   INFO     Generation: 16, best fitness: 0.578, best_individual: [2, 1, 9, 1, 6, 3, 2, 5, 1, 9, 0, 7, 3, 0, 8, 4, 5, 10, 0, 3, 6, 10, 8, 7, 5, 6, 9, 9]\n"
     ]
    },
    {
     "name": "stderr",
     "output_type": "stream",
     "text": [
      "I1010 09:00:12.710533 32656 <ipython-input-16-46d7ad2432ef>:37] Generation: 16, best fitness: 0.578, best_individual: [2, 1, 9, 1, 6, 3, 2, 5, 1, 9, 0, 7, 3, 0, 8, 4, 5, 10, 0, 3, 6, 10, 8, 7, 5, 6, 9, 9]\n"
     ]
    },
    {
     "name": "stdout",
     "output_type": "stream",
     "text": [
      "gaft.ConsoleOutputAnalysis   INFO     Generation: 17, best fitness: 0.600, best_individual: [9, 2, 6, 4, 9, 5, 2, 2, 4, 10, 7, 3, 0, 4, 1, 3, 6, 10, 10, 10, 3, 0, 6, 1, 5, 9, 5, 10]\n"
     ]
    },
    {
     "name": "stderr",
     "output_type": "stream",
     "text": [
      "I1010 09:00:55.857375 32656 <ipython-input-16-46d7ad2432ef>:37] Generation: 17, best fitness: 0.600, best_individual: [9, 2, 6, 4, 9, 5, 2, 2, 4, 10, 7, 3, 0, 4, 1, 3, 6, 10, 10, 10, 3, 0, 6, 1, 5, 9, 5, 10]\n"
     ]
    },
    {
     "name": "stdout",
     "output_type": "stream",
     "text": [
      "gaft.ConsoleOutputAnalysis   INFO     Generation: 18, best fitness: 0.600, best_individual: [9, 2, 6, 4, 9, 5, 2, 2, 4, 10, 7, 3, 0, 4, 1, 3, 6, 10, 10, 10, 3, 0, 6, 1, 5, 9, 5, 10]\n"
     ]
    },
    {
     "name": "stderr",
     "output_type": "stream",
     "text": [
      "I1010 09:01:39.039683 32656 <ipython-input-16-46d7ad2432ef>:37] Generation: 18, best fitness: 0.600, best_individual: [9, 2, 6, 4, 9, 5, 2, 2, 4, 10, 7, 3, 0, 4, 1, 3, 6, 10, 10, 10, 3, 0, 6, 1, 5, 9, 5, 10]\n"
     ]
    },
    {
     "name": "stdout",
     "output_type": "stream",
     "text": [
      "gaft.ConsoleOutputAnalysis   INFO     Generation: 19, best fitness: 0.600, best_individual: [9, 2, 6, 4, 9, 5, 2, 2, 4, 10, 7, 3, 0, 4, 1, 3, 6, 10, 10, 10, 3, 0, 6, 1, 5, 9, 5, 10]\n"
     ]
    },
    {
     "name": "stderr",
     "output_type": "stream",
     "text": [
      "I1010 09:02:26.972601 32656 <ipython-input-16-46d7ad2432ef>:37] Generation: 19, best fitness: 0.600, best_individual: [9, 2, 6, 4, 9, 5, 2, 2, 4, 10, 7, 3, 0, 4, 1, 3, 6, 10, 10, 10, 3, 0, 6, 1, 5, 9, 5, 10]\n"
     ]
    },
    {
     "name": "stdout",
     "output_type": "stream",
     "text": [
      "gaft.ConsoleOutputAnalysis   INFO     Generation: 20, best fitness: 0.600, best_individual: [9, 2, 6, 4, 9, 5, 2, 2, 4, 10, 7, 3, 0, 4, 1, 3, 6, 10, 10, 10, 3, 0, 6, 1, 5, 9, 5, 10]\n"
     ]
    },
    {
     "name": "stderr",
     "output_type": "stream",
     "text": [
      "I1010 09:03:13.654894 32656 <ipython-input-16-46d7ad2432ef>:37] Generation: 20, best fitness: 0.600, best_individual: [9, 2, 6, 4, 9, 5, 2, 2, 4, 10, 7, 3, 0, 4, 1, 3, 6, 10, 10, 10, 3, 0, 6, 1, 5, 9, 5, 10]\n"
     ]
    },
    {
     "name": "stdout",
     "output_type": "stream",
     "text": [
      "gaft.ConsoleOutputAnalysis   INFO     Generation: 21, best fitness: 0.600, best_individual: [9, 2, 6, 4, 9, 5, 2, 2, 4, 10, 7, 3, 0, 4, 1, 3, 6, 10, 10, 10, 3, 0, 6, 1, 5, 9, 5, 10]\n"
     ]
    },
    {
     "name": "stderr",
     "output_type": "stream",
     "text": [
      "I1010 09:03:58.752846 32656 <ipython-input-16-46d7ad2432ef>:37] Generation: 21, best fitness: 0.600, best_individual: [9, 2, 6, 4, 9, 5, 2, 2, 4, 10, 7, 3, 0, 4, 1, 3, 6, 10, 10, 10, 3, 0, 6, 1, 5, 9, 5, 10]\n"
     ]
    },
    {
     "name": "stdout",
     "output_type": "stream",
     "text": [
      "gaft.ConsoleOutputAnalysis   INFO     Generation: 22, best fitness: 0.600, best_individual: [9, 2, 6, 4, 9, 5, 2, 2, 4, 10, 7, 3, 0, 4, 1, 3, 6, 10, 10, 10, 3, 0, 6, 1, 5, 9, 5, 10]\n"
     ]
    },
    {
     "name": "stderr",
     "output_type": "stream",
     "text": [
      "I1010 09:04:43.231866 32656 <ipython-input-16-46d7ad2432ef>:37] Generation: 22, best fitness: 0.600, best_individual: [9, 2, 6, 4, 9, 5, 2, 2, 4, 10, 7, 3, 0, 4, 1, 3, 6, 10, 10, 10, 3, 0, 6, 1, 5, 9, 5, 10]\n"
     ]
    },
    {
     "name": "stdout",
     "output_type": "stream",
     "text": [
      "gaft.ConsoleOutputAnalysis   INFO     Generation: 23, best fitness: 0.600, best_individual: [9, 2, 6, 4, 9, 5, 2, 2, 4, 10, 7, 3, 0, 4, 1, 3, 6, 10, 10, 10, 3, 0, 6, 1, 5, 9, 5, 10]\n"
     ]
    },
    {
     "name": "stderr",
     "output_type": "stream",
     "text": [
      "I1010 09:05:26.312353 32656 <ipython-input-16-46d7ad2432ef>:37] Generation: 23, best fitness: 0.600, best_individual: [9, 2, 6, 4, 9, 5, 2, 2, 4, 10, 7, 3, 0, 4, 1, 3, 6, 10, 10, 10, 3, 0, 6, 1, 5, 9, 5, 10]\n"
     ]
    },
    {
     "name": "stdout",
     "output_type": "stream",
     "text": [
      "gaft.ConsoleOutputAnalysis   INFO     Generation: 24, best fitness: 0.600, best_individual: [9, 2, 6, 4, 9, 5, 2, 2, 4, 10, 7, 3, 0, 4, 1, 3, 6, 10, 10, 10, 3, 0, 6, 1, 5, 9, 5, 10]\n"
     ]
    },
    {
     "name": "stderr",
     "output_type": "stream",
     "text": [
      "I1010 09:06:13.351224 32656 <ipython-input-16-46d7ad2432ef>:37] Generation: 24, best fitness: 0.600, best_individual: [9, 2, 6, 4, 9, 5, 2, 2, 4, 10, 7, 3, 0, 4, 1, 3, 6, 10, 10, 10, 3, 0, 6, 1, 5, 9, 5, 10]\n"
     ]
    },
    {
     "name": "stdout",
     "output_type": "stream",
     "text": [
      "gaft.ConsoleOutputAnalysis   INFO     Generation: 25, best fitness: 0.600, best_individual: [9, 2, 6, 4, 9, 5, 2, 2, 4, 10, 7, 3, 0, 4, 1, 3, 6, 10, 10, 10, 3, 0, 6, 1, 5, 9, 5, 10]\n"
     ]
    },
    {
     "name": "stderr",
     "output_type": "stream",
     "text": [
      "I1010 09:06:58.130263 32656 <ipython-input-16-46d7ad2432ef>:37] Generation: 25, best fitness: 0.600, best_individual: [9, 2, 6, 4, 9, 5, 2, 2, 4, 10, 7, 3, 0, 4, 1, 3, 6, 10, 10, 10, 3, 0, 6, 1, 5, 9, 5, 10]\n"
     ]
    },
    {
     "name": "stdout",
     "output_type": "stream",
     "text": [
      "gaft.ConsoleOutputAnalysis   INFO     Generation: 26, best fitness: 0.600, best_individual: [9, 2, 6, 4, 9, 5, 2, 2, 4, 10, 7, 3, 0, 4, 1, 3, 6, 10, 10, 10, 3, 0, 6, 1, 5, 9, 5, 10]\n"
     ]
    },
    {
     "name": "stderr",
     "output_type": "stream",
     "text": [
      "I1010 09:07:43.305267 32656 <ipython-input-16-46d7ad2432ef>:37] Generation: 26, best fitness: 0.600, best_individual: [9, 2, 6, 4, 9, 5, 2, 2, 4, 10, 7, 3, 0, 4, 1, 3, 6, 10, 10, 10, 3, 0, 6, 1, 5, 9, 5, 10]\n"
     ]
    },
    {
     "name": "stdout",
     "output_type": "stream",
     "text": [
      "gaft.ConsoleOutputAnalysis   INFO     Generation: 27, best fitness: 0.600, best_individual: [9, 2, 6, 4, 9, 5, 2, 2, 4, 10, 7, 3, 0, 4, 1, 3, 6, 10, 10, 10, 3, 0, 6, 1, 5, 9, 5, 10]\n"
     ]
    },
    {
     "name": "stderr",
     "output_type": "stream",
     "text": [
      "I1010 09:08:30.129021 32656 <ipython-input-16-46d7ad2432ef>:37] Generation: 27, best fitness: 0.600, best_individual: [9, 2, 6, 4, 9, 5, 2, 2, 4, 10, 7, 3, 0, 4, 1, 3, 6, 10, 10, 10, 3, 0, 6, 1, 5, 9, 5, 10]\n"
     ]
    },
    {
     "name": "stdout",
     "output_type": "stream",
     "text": [
      "gaft.ConsoleOutputAnalysis   INFO     Generation: 28, best fitness: 0.600, best_individual: [9, 2, 6, 4, 9, 5, 2, 2, 4, 10, 7, 3, 0, 4, 1, 3, 6, 10, 10, 10, 3, 0, 6, 1, 5, 9, 5, 10]\n"
     ]
    },
    {
     "name": "stderr",
     "output_type": "stream",
     "text": [
      "I1010 09:09:15.968305 32656 <ipython-input-16-46d7ad2432ef>:37] Generation: 28, best fitness: 0.600, best_individual: [9, 2, 6, 4, 9, 5, 2, 2, 4, 10, 7, 3, 0, 4, 1, 3, 6, 10, 10, 10, 3, 0, 6, 1, 5, 9, 5, 10]\n"
     ]
    },
    {
     "name": "stdout",
     "output_type": "stream",
     "text": [
      "gaft.ConsoleOutputAnalysis   INFO     Generation: 29, best fitness: 0.600, best_individual: [9, 2, 6, 4, 9, 5, 2, 2, 4, 10, 7, 3, 0, 4, 1, 3, 6, 10, 10, 10, 3, 0, 6, 1, 5, 9, 5, 10]\n"
     ]
    },
    {
     "name": "stderr",
     "output_type": "stream",
     "text": [
      "I1010 09:10:00.439034 32656 <ipython-input-16-46d7ad2432ef>:37] Generation: 29, best fitness: 0.600, best_individual: [9, 2, 6, 4, 9, 5, 2, 2, 4, 10, 7, 3, 0, 4, 1, 3, 6, 10, 10, 10, 3, 0, 6, 1, 5, 9, 5, 10]\n"
     ]
    },
    {
     "name": "stdout",
     "output_type": "stream",
     "text": [
      "gaft.ConsoleOutputAnalysis   INFO     Generation: 30, best fitness: 0.600, best_individual: [9, 2, 6, 4, 9, 5, 2, 2, 4, 10, 7, 3, 0, 4, 1, 3, 6, 10, 10, 10, 3, 0, 6, 1, 5, 9, 5, 10]\n"
     ]
    },
    {
     "name": "stderr",
     "output_type": "stream",
     "text": [
      "I1010 09:10:43.566932 32656 <ipython-input-16-46d7ad2432ef>:37] Generation: 30, best fitness: 0.600, best_individual: [9, 2, 6, 4, 9, 5, 2, 2, 4, 10, 7, 3, 0, 4, 1, 3, 6, 10, 10, 10, 3, 0, 6, 1, 5, 9, 5, 10]\n"
     ]
    },
    {
     "name": "stdout",
     "output_type": "stream",
     "text": [
      "gaft.ConsoleOutputAnalysis   INFO     Generation: 31, best fitness: 0.600, best_individual: [9, 2, 6, 4, 9, 5, 2, 2, 4, 10, 7, 3, 0, 4, 1, 3, 6, 10, 10, 10, 3, 0, 6, 1, 5, 9, 5, 10]\n"
     ]
    },
    {
     "name": "stderr",
     "output_type": "stream",
     "text": [
      "I1010 09:11:27.967692 32656 <ipython-input-16-46d7ad2432ef>:37] Generation: 31, best fitness: 0.600, best_individual: [9, 2, 6, 4, 9, 5, 2, 2, 4, 10, 7, 3, 0, 4, 1, 3, 6, 10, 10, 10, 3, 0, 6, 1, 5, 9, 5, 10]\n"
     ]
    },
    {
     "name": "stdout",
     "output_type": "stream",
     "text": [
      "gaft.ConsoleOutputAnalysis   INFO     Generation: 32, best fitness: 0.600, best_individual: [9, 2, 6, 4, 9, 5, 2, 2, 4, 10, 7, 3, 0, 4, 1, 3, 6, 10, 10, 10, 3, 0, 6, 1, 5, 9, 5, 10]\n"
     ]
    },
    {
     "name": "stderr",
     "output_type": "stream",
     "text": [
      "I1010 09:12:11.408207 32656 <ipython-input-16-46d7ad2432ef>:37] Generation: 32, best fitness: 0.600, best_individual: [9, 2, 6, 4, 9, 5, 2, 2, 4, 10, 7, 3, 0, 4, 1, 3, 6, 10, 10, 10, 3, 0, 6, 1, 5, 9, 5, 10]\n"
     ]
    },
    {
     "name": "stdout",
     "output_type": "stream",
     "text": [
      "gaft.ConsoleOutputAnalysis   INFO     Generation: 33, best fitness: 0.600, best_individual: [9, 2, 6, 4, 9, 5, 2, 2, 4, 10, 7, 3, 0, 4, 1, 3, 6, 10, 10, 10, 3, 0, 6, 1, 5, 9, 5, 10]\n"
     ]
    },
    {
     "name": "stderr",
     "output_type": "stream",
     "text": [
      "I1010 09:12:54.615670 32656 <ipython-input-16-46d7ad2432ef>:37] Generation: 33, best fitness: 0.600, best_individual: [9, 2, 6, 4, 9, 5, 2, 2, 4, 10, 7, 3, 0, 4, 1, 3, 6, 10, 10, 10, 3, 0, 6, 1, 5, 9, 5, 10]\n"
     ]
    },
    {
     "name": "stdout",
     "output_type": "stream",
     "text": [
      "gaft.ConsoleOutputAnalysis   INFO     Generation: 34, best fitness: 0.600, best_individual: [9, 2, 6, 4, 9, 5, 2, 2, 4, 10, 7, 3, 0, 4, 1, 3, 6, 10, 10, 10, 3, 0, 6, 1, 5, 9, 5, 10]\n"
     ]
    },
    {
     "name": "stderr",
     "output_type": "stream",
     "text": [
      "I1010 09:13:37.410484 32656 <ipython-input-16-46d7ad2432ef>:37] Generation: 34, best fitness: 0.600, best_individual: [9, 2, 6, 4, 9, 5, 2, 2, 4, 10, 7, 3, 0, 4, 1, 3, 6, 10, 10, 10, 3, 0, 6, 1, 5, 9, 5, 10]\n"
     ]
    },
    {
     "name": "stdout",
     "output_type": "stream",
     "text": [
      "gaft.ConsoleOutputAnalysis   INFO     Generation: 35, best fitness: 0.600, best_individual: [9, 2, 6, 4, 9, 5, 2, 2, 4, 10, 7, 3, 0, 4, 1, 3, 6, 10, 10, 10, 3, 0, 6, 1, 5, 9, 5, 10]\n"
     ]
    },
    {
     "name": "stderr",
     "output_type": "stream",
     "text": [
      "I1010 09:14:20.380529 32656 <ipython-input-16-46d7ad2432ef>:37] Generation: 35, best fitness: 0.600, best_individual: [9, 2, 6, 4, 9, 5, 2, 2, 4, 10, 7, 3, 0, 4, 1, 3, 6, 10, 10, 10, 3, 0, 6, 1, 5, 9, 5, 10]\n"
     ]
    },
    {
     "name": "stdout",
     "output_type": "stream",
     "text": [
      "gaft.ConsoleOutputAnalysis   INFO     Generation: 36, best fitness: 0.600, best_individual: [9, 2, 6, 4, 9, 5, 2, 2, 4, 10, 7, 3, 0, 4, 1, 3, 6, 10, 10, 10, 3, 0, 6, 1, 5, 9, 5, 10]\n"
     ]
    },
    {
     "name": "stderr",
     "output_type": "stream",
     "text": [
      "I1010 09:15:03.621876 32656 <ipython-input-16-46d7ad2432ef>:37] Generation: 36, best fitness: 0.600, best_individual: [9, 2, 6, 4, 9, 5, 2, 2, 4, 10, 7, 3, 0, 4, 1, 3, 6, 10, 10, 10, 3, 0, 6, 1, 5, 9, 5, 10]\n"
     ]
    },
    {
     "name": "stdout",
     "output_type": "stream",
     "text": [
      "gaft.ConsoleOutputAnalysis   INFO     Generation: 37, best fitness: 0.600, best_individual: [9, 2, 6, 4, 9, 5, 2, 2, 4, 10, 7, 3, 0, 4, 1, 3, 6, 10, 10, 10, 3, 0, 6, 1, 5, 9, 5, 10]\n"
     ]
    },
    {
     "name": "stderr",
     "output_type": "stream",
     "text": [
      "I1010 09:15:46.980730 32656 <ipython-input-16-46d7ad2432ef>:37] Generation: 37, best fitness: 0.600, best_individual: [9, 2, 6, 4, 9, 5, 2, 2, 4, 10, 7, 3, 0, 4, 1, 3, 6, 10, 10, 10, 3, 0, 6, 1, 5, 9, 5, 10]\n"
     ]
    },
    {
     "name": "stdout",
     "output_type": "stream",
     "text": [
      "gaft.ConsoleOutputAnalysis   INFO     Generation: 38, best fitness: 0.600, best_individual: [9, 2, 6, 4, 9, 5, 2, 2, 4, 10, 7, 3, 0, 4, 1, 3, 6, 10, 10, 10, 3, 0, 6, 1, 5, 9, 5, 10]\n"
     ]
    },
    {
     "name": "stderr",
     "output_type": "stream",
     "text": [
      "I1010 09:16:29.373346 32656 <ipython-input-16-46d7ad2432ef>:37] Generation: 38, best fitness: 0.600, best_individual: [9, 2, 6, 4, 9, 5, 2, 2, 4, 10, 7, 3, 0, 4, 1, 3, 6, 10, 10, 10, 3, 0, 6, 1, 5, 9, 5, 10]\n"
     ]
    },
    {
     "name": "stdout",
     "output_type": "stream",
     "text": [
      "gaft.ConsoleOutputAnalysis   INFO     Generation: 39, best fitness: 0.600, best_individual: [9, 2, 6, 4, 9, 5, 2, 2, 4, 10, 7, 3, 0, 4, 1, 3, 6, 10, 10, 10, 3, 0, 6, 1, 5, 9, 5, 10]\n"
     ]
    },
    {
     "name": "stderr",
     "output_type": "stream",
     "text": [
      "I1010 09:17:12.517316 32656 <ipython-input-16-46d7ad2432ef>:37] Generation: 39, best fitness: 0.600, best_individual: [9, 2, 6, 4, 9, 5, 2, 2, 4, 10, 7, 3, 0, 4, 1, 3, 6, 10, 10, 10, 3, 0, 6, 1, 5, 9, 5, 10]\n"
     ]
    },
    {
     "name": "stdout",
     "output_type": "stream",
     "text": [
      "gaft.ConsoleOutputAnalysis   INFO     Generation: 40, best fitness: 0.600, best_individual: [9, 2, 6, 4, 9, 5, 2, 2, 4, 10, 7, 3, 0, 4, 1, 3, 6, 10, 10, 10, 3, 0, 6, 1, 5, 9, 5, 10]\n"
     ]
    },
    {
     "name": "stderr",
     "output_type": "stream",
     "text": [
      "I1010 09:17:59.410548 32656 <ipython-input-16-46d7ad2432ef>:37] Generation: 40, best fitness: 0.600, best_individual: [9, 2, 6, 4, 9, 5, 2, 2, 4, 10, 7, 3, 0, 4, 1, 3, 6, 10, 10, 10, 3, 0, 6, 1, 5, 9, 5, 10]\n"
     ]
    },
    {
     "name": "stdout",
     "output_type": "stream",
     "text": [
      "gaft.ConsoleOutputAnalysis   INFO     Generation: 41, best fitness: 0.600, best_individual: [9, 2, 6, 4, 9, 5, 2, 2, 4, 10, 7, 3, 0, 4, 1, 3, 6, 10, 10, 10, 3, 0, 6, 1, 5, 9, 5, 10]\n"
     ]
    },
    {
     "name": "stderr",
     "output_type": "stream",
     "text": [
      "I1010 09:18:44.019086 32656 <ipython-input-16-46d7ad2432ef>:37] Generation: 41, best fitness: 0.600, best_individual: [9, 2, 6, 4, 9, 5, 2, 2, 4, 10, 7, 3, 0, 4, 1, 3, 6, 10, 10, 10, 3, 0, 6, 1, 5, 9, 5, 10]\n"
     ]
    },
    {
     "name": "stdout",
     "output_type": "stream",
     "text": [
      "gaft.ConsoleOutputAnalysis   INFO     Generation: 42, best fitness: 0.600, best_individual: [9, 2, 6, 4, 9, 5, 2, 2, 4, 10, 7, 3, 0, 4, 1, 3, 6, 10, 10, 10, 3, 0, 6, 1, 5, 9, 5, 10]\n"
     ]
    },
    {
     "name": "stderr",
     "output_type": "stream",
     "text": [
      "I1010 09:19:28.398351 32656 <ipython-input-16-46d7ad2432ef>:37] Generation: 42, best fitness: 0.600, best_individual: [9, 2, 6, 4, 9, 5, 2, 2, 4, 10, 7, 3, 0, 4, 1, 3, 6, 10, 10, 10, 3, 0, 6, 1, 5, 9, 5, 10]\n"
     ]
    },
    {
     "name": "stdout",
     "output_type": "stream",
     "text": [
      "gaft.ConsoleOutputAnalysis   INFO     Generation: 43, best fitness: 0.600, best_individual: [9, 2, 6, 4, 9, 5, 2, 2, 4, 10, 7, 3, 0, 4, 1, 3, 6, 10, 10, 10, 3, 0, 6, 1, 5, 9, 5, 10]\n"
     ]
    },
    {
     "name": "stderr",
     "output_type": "stream",
     "text": [
      "I1010 09:20:23.347405 32656 <ipython-input-16-46d7ad2432ef>:37] Generation: 43, best fitness: 0.600, best_individual: [9, 2, 6, 4, 9, 5, 2, 2, 4, 10, 7, 3, 0, 4, 1, 3, 6, 10, 10, 10, 3, 0, 6, 1, 5, 9, 5, 10]\n"
     ]
    },
    {
     "name": "stdout",
     "output_type": "stream",
     "text": [
      "gaft.ConsoleOutputAnalysis   INFO     Generation: 44, best fitness: 0.600, best_individual: [9, 2, 6, 4, 9, 5, 2, 2, 4, 10, 7, 3, 0, 4, 1, 3, 6, 10, 10, 10, 3, 0, 6, 1, 5, 9, 5, 10]\n"
     ]
    },
    {
     "name": "stderr",
     "output_type": "stream",
     "text": [
      "I1010 09:21:08.916568 32656 <ipython-input-16-46d7ad2432ef>:37] Generation: 44, best fitness: 0.600, best_individual: [9, 2, 6, 4, 9, 5, 2, 2, 4, 10, 7, 3, 0, 4, 1, 3, 6, 10, 10, 10, 3, 0, 6, 1, 5, 9, 5, 10]\n"
     ]
    },
    {
     "name": "stdout",
     "output_type": "stream",
     "text": [
      "gaft.ConsoleOutputAnalysis   INFO     Generation: 45, best fitness: 0.600, best_individual: [9, 2, 6, 4, 9, 5, 2, 2, 4, 10, 7, 3, 0, 4, 1, 3, 6, 10, 10, 10, 3, 0, 6, 1, 5, 9, 5, 10]\n"
     ]
    },
    {
     "name": "stderr",
     "output_type": "stream",
     "text": [
      "I1010 09:21:51.855417 32656 <ipython-input-16-46d7ad2432ef>:37] Generation: 45, best fitness: 0.600, best_individual: [9, 2, 6, 4, 9, 5, 2, 2, 4, 10, 7, 3, 0, 4, 1, 3, 6, 10, 10, 10, 3, 0, 6, 1, 5, 9, 5, 10]\n"
     ]
    },
    {
     "name": "stdout",
     "output_type": "stream",
     "text": [
      "gaft.ConsoleOutputAnalysis   INFO     Generation: 46, best fitness: 0.600, best_individual: [9, 2, 6, 4, 9, 5, 2, 2, 4, 10, 7, 3, 0, 4, 1, 3, 6, 10, 10, 10, 3, 0, 6, 1, 5, 9, 5, 10]\n"
     ]
    },
    {
     "name": "stderr",
     "output_type": "stream",
     "text": [
      "I1010 09:22:34.730377 32656 <ipython-input-16-46d7ad2432ef>:37] Generation: 46, best fitness: 0.600, best_individual: [9, 2, 6, 4, 9, 5, 2, 2, 4, 10, 7, 3, 0, 4, 1, 3, 6, 10, 10, 10, 3, 0, 6, 1, 5, 9, 5, 10]\n"
     ]
    },
    {
     "name": "stdout",
     "output_type": "stream",
     "text": [
      "gaft.ConsoleOutputAnalysis   INFO     Generation: 47, best fitness: 0.600, best_individual: [9, 2, 6, 4, 9, 5, 2, 2, 4, 10, 7, 3, 0, 4, 1, 3, 6, 10, 10, 10, 3, 0, 6, 1, 5, 9, 5, 10]\n"
     ]
    },
    {
     "name": "stderr",
     "output_type": "stream",
     "text": [
      "I1010 09:23:18.011876 32656 <ipython-input-16-46d7ad2432ef>:37] Generation: 47, best fitness: 0.600, best_individual: [9, 2, 6, 4, 9, 5, 2, 2, 4, 10, 7, 3, 0, 4, 1, 3, 6, 10, 10, 10, 3, 0, 6, 1, 5, 9, 5, 10]\n"
     ]
    },
    {
     "name": "stdout",
     "output_type": "stream",
     "text": [
      "gaft.ConsoleOutputAnalysis   INFO     Generation: 48, best fitness: 0.600, best_individual: [9, 2, 6, 4, 9, 5, 2, 2, 4, 10, 7, 3, 0, 4, 1, 3, 6, 10, 10, 10, 3, 0, 6, 1, 5, 9, 5, 10]\n"
     ]
    },
    {
     "name": "stderr",
     "output_type": "stream",
     "text": [
      "I1010 09:24:00.758412 32656 <ipython-input-16-46d7ad2432ef>:37] Generation: 48, best fitness: 0.600, best_individual: [9, 2, 6, 4, 9, 5, 2, 2, 4, 10, 7, 3, 0, 4, 1, 3, 6, 10, 10, 10, 3, 0, 6, 1, 5, 9, 5, 10]\n"
     ]
    },
    {
     "name": "stdout",
     "output_type": "stream",
     "text": [
      "gaft.ConsoleOutputAnalysis   INFO     Generation: 49, best fitness: 0.600, best_individual: [9, 2, 6, 4, 9, 5, 2, 2, 4, 10, 7, 3, 0, 4, 1, 3, 6, 10, 10, 10, 3, 0, 6, 1, 5, 9, 5, 10]\n"
     ]
    },
    {
     "name": "stderr",
     "output_type": "stream",
     "text": [
      "I1010 09:24:43.605229 32656 <ipython-input-16-46d7ad2432ef>:37] Generation: 49, best fitness: 0.600, best_individual: [9, 2, 6, 4, 9, 5, 2, 2, 4, 10, 7, 3, 0, 4, 1, 3, 6, 10, 10, 10, 3, 0, 6, 1, 5, 9, 5, 10]\n"
     ]
    },
    {
     "name": "stdout",
     "output_type": "stream",
     "text": [
      "gaft.ConsoleOutputAnalysis   INFO     Generation: 50, best fitness: 0.600, best_individual: [9, 2, 6, 4, 9, 5, 2, 2, 4, 10, 7, 3, 0, 4, 1, 3, 6, 10, 10, 10, 3, 0, 6, 1, 5, 9, 5, 10]\n"
     ]
    },
    {
     "name": "stderr",
     "output_type": "stream",
     "text": [
      "I1010 09:25:26.726846 32656 <ipython-input-16-46d7ad2432ef>:37] Generation: 50, best fitness: 0.600, best_individual: [9, 2, 6, 4, 9, 5, 2, 2, 4, 10, 7, 3, 0, 4, 1, 3, 6, 10, 10, 10, 3, 0, 6, 1, 5, 9, 5, 10]\n"
     ]
    },
    {
     "name": "stdout",
     "output_type": "stream",
     "text": [
      "gaft.ConsoleOutputAnalysis   INFO     Generation: 51, best fitness: 0.600, best_individual: [9, 2, 6, 4, 9, 5, 2, 2, 4, 10, 7, 3, 0, 4, 1, 3, 6, 10, 10, 10, 3, 0, 6, 1, 5, 9, 5, 10]\n"
     ]
    },
    {
     "name": "stderr",
     "output_type": "stream",
     "text": [
      "I1010 09:26:10.431553 32656 <ipython-input-16-46d7ad2432ef>:37] Generation: 51, best fitness: 0.600, best_individual: [9, 2, 6, 4, 9, 5, 2, 2, 4, 10, 7, 3, 0, 4, 1, 3, 6, 10, 10, 10, 3, 0, 6, 1, 5, 9, 5, 10]\n"
     ]
    },
    {
     "name": "stdout",
     "output_type": "stream",
     "text": [
      "gaft.ConsoleOutputAnalysis   INFO     Generation: 52, best fitness: 0.600, best_individual: [9, 2, 6, 4, 9, 5, 2, 2, 4, 10, 7, 3, 0, 4, 1, 3, 6, 10, 10, 10, 3, 0, 6, 1, 5, 9, 5, 10]\n"
     ]
    },
    {
     "name": "stderr",
     "output_type": "stream",
     "text": [
      "I1010 09:26:53.842801 32656 <ipython-input-16-46d7ad2432ef>:37] Generation: 52, best fitness: 0.600, best_individual: [9, 2, 6, 4, 9, 5, 2, 2, 4, 10, 7, 3, 0, 4, 1, 3, 6, 10, 10, 10, 3, 0, 6, 1, 5, 9, 5, 10]\n"
     ]
    },
    {
     "name": "stdout",
     "output_type": "stream",
     "text": [
      "gaft.ConsoleOutputAnalysis   INFO     Generation: 53, best fitness: 0.600, best_individual: [9, 2, 6, 4, 9, 5, 2, 2, 4, 10, 7, 3, 0, 4, 1, 3, 6, 10, 10, 10, 3, 0, 6, 1, 5, 9, 5, 10]\n"
     ]
    },
    {
     "name": "stderr",
     "output_type": "stream",
     "text": [
      "I1010 09:27:36.633505 32656 <ipython-input-16-46d7ad2432ef>:37] Generation: 53, best fitness: 0.600, best_individual: [9, 2, 6, 4, 9, 5, 2, 2, 4, 10, 7, 3, 0, 4, 1, 3, 6, 10, 10, 10, 3, 0, 6, 1, 5, 9, 5, 10]\n"
     ]
    },
    {
     "name": "stdout",
     "output_type": "stream",
     "text": [
      "gaft.ConsoleOutputAnalysis   INFO     Generation: 54, best fitness: 0.600, best_individual: [9, 2, 6, 4, 9, 5, 2, 2, 4, 10, 7, 3, 0, 4, 1, 3, 6, 10, 10, 10, 3, 0, 6, 1, 5, 9, 5, 10]\n"
     ]
    },
    {
     "name": "stderr",
     "output_type": "stream",
     "text": [
      "I1010 09:28:19.808972 32656 <ipython-input-16-46d7ad2432ef>:37] Generation: 54, best fitness: 0.600, best_individual: [9, 2, 6, 4, 9, 5, 2, 2, 4, 10, 7, 3, 0, 4, 1, 3, 6, 10, 10, 10, 3, 0, 6, 1, 5, 9, 5, 10]\n"
     ]
    },
    {
     "name": "stdout",
     "output_type": "stream",
     "text": [
      "gaft.ConsoleOutputAnalysis   INFO     Generation: 55, best fitness: 0.600, best_individual: [9, 2, 6, 4, 9, 5, 2, 2, 4, 10, 7, 3, 0, 4, 1, 3, 6, 10, 10, 10, 3, 0, 6, 1, 5, 9, 5, 10]\n"
     ]
    },
    {
     "name": "stderr",
     "output_type": "stream",
     "text": [
      "I1010 09:29:02.682103 32656 <ipython-input-16-46d7ad2432ef>:37] Generation: 55, best fitness: 0.600, best_individual: [9, 2, 6, 4, 9, 5, 2, 2, 4, 10, 7, 3, 0, 4, 1, 3, 6, 10, 10, 10, 3, 0, 6, 1, 5, 9, 5, 10]\n"
     ]
    },
    {
     "name": "stdout",
     "output_type": "stream",
     "text": [
      "gaft.ConsoleOutputAnalysis   INFO     Generation: 56, best fitness: 0.600, best_individual: [9, 2, 6, 4, 9, 5, 2, 2, 4, 10, 7, 3, 0, 4, 1, 3, 6, 10, 10, 10, 3, 0, 6, 1, 5, 9, 5, 10]\n"
     ]
    },
    {
     "name": "stderr",
     "output_type": "stream",
     "text": [
      "I1010 09:29:45.890598 32656 <ipython-input-16-46d7ad2432ef>:37] Generation: 56, best fitness: 0.600, best_individual: [9, 2, 6, 4, 9, 5, 2, 2, 4, 10, 7, 3, 0, 4, 1, 3, 6, 10, 10, 10, 3, 0, 6, 1, 5, 9, 5, 10]\n"
     ]
    },
    {
     "name": "stdout",
     "output_type": "stream",
     "text": [
      "gaft.ConsoleOutputAnalysis   INFO     Generation: 57, best fitness: 0.600, best_individual: [9, 2, 6, 4, 9, 5, 2, 2, 4, 10, 7, 3, 0, 4, 1, 3, 6, 10, 10, 10, 3, 0, 6, 1, 5, 9, 5, 10]\n"
     ]
    },
    {
     "name": "stderr",
     "output_type": "stream",
     "text": [
      "I1010 09:30:28.607160 32656 <ipython-input-16-46d7ad2432ef>:37] Generation: 57, best fitness: 0.600, best_individual: [9, 2, 6, 4, 9, 5, 2, 2, 4, 10, 7, 3, 0, 4, 1, 3, 6, 10, 10, 10, 3, 0, 6, 1, 5, 9, 5, 10]\n"
     ]
    },
    {
     "name": "stdout",
     "output_type": "stream",
     "text": [
      "gaft.ConsoleOutputAnalysis   INFO     Generation: 58, best fitness: 0.600, best_individual: [9, 2, 6, 4, 9, 5, 2, 2, 4, 10, 7, 3, 0, 4, 1, 3, 6, 10, 10, 10, 3, 0, 6, 1, 5, 9, 5, 10]\n"
     ]
    },
    {
     "name": "stderr",
     "output_type": "stream",
     "text": [
      "I1010 09:31:11.882517 32656 <ipython-input-16-46d7ad2432ef>:37] Generation: 58, best fitness: 0.600, best_individual: [9, 2, 6, 4, 9, 5, 2, 2, 4, 10, 7, 3, 0, 4, 1, 3, 6, 10, 10, 10, 3, 0, 6, 1, 5, 9, 5, 10]\n"
     ]
    },
    {
     "name": "stdout",
     "output_type": "stream",
     "text": [
      "gaft.ConsoleOutputAnalysis   INFO     Generation: 59, best fitness: 0.600, best_individual: [9, 2, 6, 4, 9, 5, 2, 2, 4, 10, 7, 3, 0, 4, 1, 3, 6, 10, 10, 10, 3, 0, 6, 1, 5, 9, 5, 10]\n"
     ]
    },
    {
     "name": "stderr",
     "output_type": "stream",
     "text": [
      "I1010 09:31:54.647256 32656 <ipython-input-16-46d7ad2432ef>:37] Generation: 59, best fitness: 0.600, best_individual: [9, 2, 6, 4, 9, 5, 2, 2, 4, 10, 7, 3, 0, 4, 1, 3, 6, 10, 10, 10, 3, 0, 6, 1, 5, 9, 5, 10]\n"
     ]
    },
    {
     "name": "stdout",
     "output_type": "stream",
     "text": [
      "gaft.ConsoleOutputAnalysis   INFO     Generation: 60, best fitness: 0.600, best_individual: [9, 2, 6, 4, 9, 5, 2, 2, 4, 10, 7, 3, 0, 4, 1, 3, 6, 10, 10, 10, 3, 0, 6, 1, 5, 9, 5, 10]\n"
     ]
    },
    {
     "name": "stderr",
     "output_type": "stream",
     "text": [
      "I1010 09:32:37.357420 32656 <ipython-input-16-46d7ad2432ef>:37] Generation: 60, best fitness: 0.600, best_individual: [9, 2, 6, 4, 9, 5, 2, 2, 4, 10, 7, 3, 0, 4, 1, 3, 6, 10, 10, 10, 3, 0, 6, 1, 5, 9, 5, 10]\n"
     ]
    },
    {
     "name": "stdout",
     "output_type": "stream",
     "text": [
      "gaft.ConsoleOutputAnalysis   INFO     Generation: 61, best fitness: 0.600, best_individual: [9, 2, 6, 4, 9, 5, 2, 2, 4, 10, 7, 3, 0, 4, 1, 3, 6, 10, 10, 10, 3, 0, 6, 1, 5, 9, 5, 10]\n"
     ]
    },
    {
     "name": "stderr",
     "output_type": "stream",
     "text": [
      "I1010 09:33:20.831909 32656 <ipython-input-16-46d7ad2432ef>:37] Generation: 61, best fitness: 0.600, best_individual: [9, 2, 6, 4, 9, 5, 2, 2, 4, 10, 7, 3, 0, 4, 1, 3, 6, 10, 10, 10, 3, 0, 6, 1, 5, 9, 5, 10]\n"
     ]
    },
    {
     "name": "stdout",
     "output_type": "stream",
     "text": [
      "gaft.ConsoleOutputAnalysis   INFO     Generation: 62, best fitness: 0.600, best_individual: [9, 2, 6, 4, 9, 5, 2, 2, 4, 10, 7, 3, 0, 4, 1, 3, 6, 10, 10, 10, 3, 0, 6, 1, 5, 9, 5, 10]\n"
     ]
    },
    {
     "name": "stderr",
     "output_type": "stream",
     "text": [
      "I1010 09:34:05.462783 32656 <ipython-input-16-46d7ad2432ef>:37] Generation: 62, best fitness: 0.600, best_individual: [9, 2, 6, 4, 9, 5, 2, 2, 4, 10, 7, 3, 0, 4, 1, 3, 6, 10, 10, 10, 3, 0, 6, 1, 5, 9, 5, 10]\n"
     ]
    },
    {
     "name": "stdout",
     "output_type": "stream",
     "text": [
      "gaft.ConsoleOutputAnalysis   INFO     Generation: 63, best fitness: 0.600, best_individual: [9, 2, 6, 4, 9, 5, 2, 2, 4, 10, 7, 3, 0, 4, 1, 3, 6, 10, 10, 10, 3, 0, 6, 1, 5, 9, 5, 10]\n"
     ]
    },
    {
     "name": "stderr",
     "output_type": "stream",
     "text": [
      "I1010 09:34:52.171191 32656 <ipython-input-16-46d7ad2432ef>:37] Generation: 63, best fitness: 0.600, best_individual: [9, 2, 6, 4, 9, 5, 2, 2, 4, 10, 7, 3, 0, 4, 1, 3, 6, 10, 10, 10, 3, 0, 6, 1, 5, 9, 5, 10]\n"
     ]
    },
    {
     "name": "stdout",
     "output_type": "stream",
     "text": [
      "gaft.ConsoleOutputAnalysis   INFO     Generation: 64, best fitness: 0.600, best_individual: [9, 2, 6, 4, 9, 5, 2, 2, 4, 10, 7, 3, 0, 4, 1, 3, 6, 10, 10, 10, 3, 0, 6, 1, 5, 9, 5, 10]\n"
     ]
    },
    {
     "name": "stderr",
     "output_type": "stream",
     "text": [
      "I1010 09:35:38.077444 32656 <ipython-input-16-46d7ad2432ef>:37] Generation: 64, best fitness: 0.600, best_individual: [9, 2, 6, 4, 9, 5, 2, 2, 4, 10, 7, 3, 0, 4, 1, 3, 6, 10, 10, 10, 3, 0, 6, 1, 5, 9, 5, 10]\n"
     ]
    },
    {
     "name": "stdout",
     "output_type": "stream",
     "text": [
      "gaft.ConsoleOutputAnalysis   INFO     Generation: 65, best fitness: 0.600, best_individual: [9, 2, 6, 4, 9, 5, 2, 2, 4, 10, 7, 3, 0, 4, 1, 3, 6, 10, 10, 10, 3, 0, 6, 1, 5, 9, 5, 10]\n"
     ]
    },
    {
     "name": "stderr",
     "output_type": "stream",
     "text": [
      "I1010 09:36:21.627742 32656 <ipython-input-16-46d7ad2432ef>:37] Generation: 65, best fitness: 0.600, best_individual: [9, 2, 6, 4, 9, 5, 2, 2, 4, 10, 7, 3, 0, 4, 1, 3, 6, 10, 10, 10, 3, 0, 6, 1, 5, 9, 5, 10]\n"
     ]
    },
    {
     "name": "stdout",
     "output_type": "stream",
     "text": [
      "gaft.ConsoleOutputAnalysis   INFO     Generation: 66, best fitness: 0.600, best_individual: [9, 2, 6, 4, 9, 5, 2, 2, 4, 10, 7, 3, 0, 4, 1, 3, 6, 10, 10, 10, 3, 0, 6, 1, 5, 9, 5, 10]\n"
     ]
    },
    {
     "name": "stderr",
     "output_type": "stream",
     "text": [
      "I1010 09:37:06.396216 32656 <ipython-input-16-46d7ad2432ef>:37] Generation: 66, best fitness: 0.600, best_individual: [9, 2, 6, 4, 9, 5, 2, 2, 4, 10, 7, 3, 0, 4, 1, 3, 6, 10, 10, 10, 3, 0, 6, 1, 5, 9, 5, 10]\n"
     ]
    },
    {
     "name": "stdout",
     "output_type": "stream",
     "text": [
      "gaft.ConsoleOutputAnalysis   INFO     Generation: 67, best fitness: 0.600, best_individual: [9, 2, 6, 4, 9, 5, 2, 2, 4, 10, 7, 3, 0, 4, 1, 3, 6, 10, 10, 10, 3, 0, 6, 1, 5, 9, 5, 10]\n"
     ]
    },
    {
     "name": "stderr",
     "output_type": "stream",
     "text": [
      "I1010 09:37:49.527041 32656 <ipython-input-16-46d7ad2432ef>:37] Generation: 67, best fitness: 0.600, best_individual: [9, 2, 6, 4, 9, 5, 2, 2, 4, 10, 7, 3, 0, 4, 1, 3, 6, 10, 10, 10, 3, 0, 6, 1, 5, 9, 5, 10]\n"
     ]
    },
    {
     "name": "stdout",
     "output_type": "stream",
     "text": [
      "gaft.ConsoleOutputAnalysis   INFO     Generation: 68, best fitness: 0.600, best_individual: [9, 2, 6, 4, 9, 5, 2, 2, 4, 10, 7, 3, 0, 4, 1, 3, 6, 10, 10, 10, 3, 0, 6, 1, 5, 9, 5, 10]\n"
     ]
    },
    {
     "name": "stderr",
     "output_type": "stream",
     "text": [
      "I1010 09:38:34.101176 32656 <ipython-input-16-46d7ad2432ef>:37] Generation: 68, best fitness: 0.600, best_individual: [9, 2, 6, 4, 9, 5, 2, 2, 4, 10, 7, 3, 0, 4, 1, 3, 6, 10, 10, 10, 3, 0, 6, 1, 5, 9, 5, 10]\n"
     ]
    },
    {
     "name": "stdout",
     "output_type": "stream",
     "text": [
      "gaft.ConsoleOutputAnalysis   INFO     Generation: 69, best fitness: 0.600, best_individual: [9, 2, 6, 4, 9, 5, 2, 2, 4, 10, 7, 3, 0, 4, 1, 3, 6, 10, 10, 10, 3, 0, 6, 1, 5, 9, 5, 10]\n"
     ]
    },
    {
     "name": "stderr",
     "output_type": "stream",
     "text": [
      "I1010 09:39:18.396014 32656 <ipython-input-16-46d7ad2432ef>:37] Generation: 69, best fitness: 0.600, best_individual: [9, 2, 6, 4, 9, 5, 2, 2, 4, 10, 7, 3, 0, 4, 1, 3, 6, 10, 10, 10, 3, 0, 6, 1, 5, 9, 5, 10]\n"
     ]
    },
    {
     "name": "stdout",
     "output_type": "stream",
     "text": [
      "gaft.ConsoleOutputAnalysis   INFO     Generation: 70, best fitness: 0.600, best_individual: [9, 2, 6, 4, 9, 5, 2, 2, 4, 10, 7, 3, 0, 4, 1, 3, 6, 10, 10, 10, 3, 0, 6, 1, 5, 9, 5, 10]\n"
     ]
    },
    {
     "name": "stderr",
     "output_type": "stream",
     "text": [
      "I1010 09:40:01.530845 32656 <ipython-input-16-46d7ad2432ef>:37] Generation: 70, best fitness: 0.600, best_individual: [9, 2, 6, 4, 9, 5, 2, 2, 4, 10, 7, 3, 0, 4, 1, 3, 6, 10, 10, 10, 3, 0, 6, 1, 5, 9, 5, 10]\n"
     ]
    },
    {
     "name": "stdout",
     "output_type": "stream",
     "text": [
      "gaft.ConsoleOutputAnalysis   INFO     Generation: 71, best fitness: 0.600, best_individual: [9, 2, 6, 4, 9, 5, 2, 2, 4, 10, 7, 3, 0, 4, 1, 3, 6, 10, 10, 10, 3, 0, 6, 1, 5, 9, 5, 10]\n"
     ]
    },
    {
     "name": "stderr",
     "output_type": "stream",
     "text": [
      "I1010 09:40:44.765797 32656 <ipython-input-16-46d7ad2432ef>:37] Generation: 71, best fitness: 0.600, best_individual: [9, 2, 6, 4, 9, 5, 2, 2, 4, 10, 7, 3, 0, 4, 1, 3, 6, 10, 10, 10, 3, 0, 6, 1, 5, 9, 5, 10]\n"
     ]
    },
    {
     "name": "stdout",
     "output_type": "stream",
     "text": [
      "gaft.ConsoleOutputAnalysis   INFO     Generation: 72, best fitness: 0.600, best_individual: [9, 2, 6, 4, 9, 5, 2, 2, 4, 10, 7, 3, 0, 4, 1, 3, 6, 10, 10, 10, 3, 0, 6, 1, 5, 9, 5, 10]\n"
     ]
    },
    {
     "name": "stderr",
     "output_type": "stream",
     "text": [
      "I1010 09:41:21.145321 32656 <ipython-input-16-46d7ad2432ef>:37] Generation: 72, best fitness: 0.600, best_individual: [9, 2, 6, 4, 9, 5, 2, 2, 4, 10, 7, 3, 0, 4, 1, 3, 6, 10, 10, 10, 3, 0, 6, 1, 5, 9, 5, 10]\n"
     ]
    },
    {
     "name": "stdout",
     "output_type": "stream",
     "text": [
      "gaft.ConsoleOutputAnalysis   INFO     Generation: 73, best fitness: 0.600, best_individual: [9, 2, 6, 4, 9, 5, 2, 2, 4, 10, 7, 3, 0, 4, 1, 3, 6, 10, 10, 10, 3, 0, 6, 1, 5, 9, 5, 10]\n"
     ]
    },
    {
     "name": "stderr",
     "output_type": "stream",
     "text": [
      "I1010 09:41:58.837221 32656 <ipython-input-16-46d7ad2432ef>:37] Generation: 73, best fitness: 0.600, best_individual: [9, 2, 6, 4, 9, 5, 2, 2, 4, 10, 7, 3, 0, 4, 1, 3, 6, 10, 10, 10, 3, 0, 6, 1, 5, 9, 5, 10]\n"
     ]
    },
    {
     "name": "stdout",
     "output_type": "stream",
     "text": [
      "gaft.ConsoleOutputAnalysis   INFO     Generation: 74, best fitness: 0.600, best_individual: [9, 2, 6, 4, 9, 5, 2, 2, 4, 10, 7, 3, 0, 4, 1, 3, 6, 10, 10, 10, 3, 0, 6, 1, 5, 9, 5, 10]\n"
     ]
    },
    {
     "name": "stderr",
     "output_type": "stream",
     "text": [
      "I1010 09:42:42.729921 32656 <ipython-input-16-46d7ad2432ef>:37] Generation: 74, best fitness: 0.600, best_individual: [9, 2, 6, 4, 9, 5, 2, 2, 4, 10, 7, 3, 0, 4, 1, 3, 6, 10, 10, 10, 3, 0, 6, 1, 5, 9, 5, 10]\n"
     ]
    },
    {
     "name": "stdout",
     "output_type": "stream",
     "text": [
      "gaft.ConsoleOutputAnalysis   INFO     Generation: 75, best fitness: 0.600, best_individual: [9, 2, 6, 4, 9, 5, 2, 2, 4, 10, 7, 3, 0, 4, 1, 3, 6, 10, 10, 10, 3, 0, 6, 1, 5, 9, 5, 10]\n"
     ]
    },
    {
     "name": "stderr",
     "output_type": "stream",
     "text": [
      "I1010 09:43:26.133231 32656 <ipython-input-16-46d7ad2432ef>:37] Generation: 75, best fitness: 0.600, best_individual: [9, 2, 6, 4, 9, 5, 2, 2, 4, 10, 7, 3, 0, 4, 1, 3, 6, 10, 10, 10, 3, 0, 6, 1, 5, 9, 5, 10]\n"
     ]
    },
    {
     "name": "stdout",
     "output_type": "stream",
     "text": [
      "gaft.ConsoleOutputAnalysis   INFO     Generation: 76, best fitness: 0.600, best_individual: [9, 2, 6, 4, 9, 5, 2, 2, 4, 10, 7, 3, 0, 4, 1, 3, 6, 10, 10, 10, 3, 0, 6, 1, 5, 9, 5, 10]\n"
     ]
    },
    {
     "name": "stderr",
     "output_type": "stream",
     "text": [
      "I1010 09:44:08.761302 32656 <ipython-input-16-46d7ad2432ef>:37] Generation: 76, best fitness: 0.600, best_individual: [9, 2, 6, 4, 9, 5, 2, 2, 4, 10, 7, 3, 0, 4, 1, 3, 6, 10, 10, 10, 3, 0, 6, 1, 5, 9, 5, 10]\n"
     ]
    },
    {
     "name": "stdout",
     "output_type": "stream",
     "text": [
      "gaft.ConsoleOutputAnalysis   INFO     Generation: 77, best fitness: 0.600, best_individual: [9, 2, 6, 4, 9, 5, 2, 2, 4, 10, 7, 3, 0, 4, 1, 3, 6, 10, 10, 10, 3, 0, 6, 1, 5, 9, 5, 10]\n"
     ]
    },
    {
     "name": "stderr",
     "output_type": "stream",
     "text": [
      "I1010 09:44:52.237540 32656 <ipython-input-16-46d7ad2432ef>:37] Generation: 77, best fitness: 0.600, best_individual: [9, 2, 6, 4, 9, 5, 2, 2, 4, 10, 7, 3, 0, 4, 1, 3, 6, 10, 10, 10, 3, 0, 6, 1, 5, 9, 5, 10]\n"
     ]
    },
    {
     "name": "stdout",
     "output_type": "stream",
     "text": [
      "gaft.ConsoleOutputAnalysis   INFO     Generation: 78, best fitness: 0.600, best_individual: [9, 2, 6, 4, 9, 5, 2, 2, 4, 10, 7, 3, 0, 4, 1, 3, 6, 10, 10, 10, 3, 0, 6, 1, 5, 9, 5, 10]\n"
     ]
    },
    {
     "name": "stderr",
     "output_type": "stream",
     "text": [
      "I1010 09:45:35.529906 32656 <ipython-input-16-46d7ad2432ef>:37] Generation: 78, best fitness: 0.600, best_individual: [9, 2, 6, 4, 9, 5, 2, 2, 4, 10, 7, 3, 0, 4, 1, 3, 6, 10, 10, 10, 3, 0, 6, 1, 5, 9, 5, 10]\n"
     ]
    },
    {
     "name": "stdout",
     "output_type": "stream",
     "text": [
      "gaft.ConsoleOutputAnalysis   INFO     Generation: 79, best fitness: 0.600, best_individual: [9, 2, 6, 4, 9, 5, 2, 2, 4, 10, 7, 3, 0, 4, 1, 3, 6, 10, 10, 10, 3, 0, 6, 1, 5, 9, 5, 10]\n"
     ]
    },
    {
     "name": "stderr",
     "output_type": "stream",
     "text": [
      "I1010 09:46:23.321780 32656 <ipython-input-16-46d7ad2432ef>:37] Generation: 79, best fitness: 0.600, best_individual: [9, 2, 6, 4, 9, 5, 2, 2, 4, 10, 7, 3, 0, 4, 1, 3, 6, 10, 10, 10, 3, 0, 6, 1, 5, 9, 5, 10]\n"
     ]
    },
    {
     "name": "stdout",
     "output_type": "stream",
     "text": [
      "gaft.ConsoleOutputAnalysis   INFO     Generation: 80, best fitness: 0.600, best_individual: [9, 2, 6, 4, 9, 5, 2, 2, 4, 10, 7, 3, 0, 4, 1, 3, 6, 10, 10, 10, 3, 0, 6, 1, 5, 9, 5, 10]\n"
     ]
    },
    {
     "name": "stderr",
     "output_type": "stream",
     "text": [
      "I1010 09:47:06.669250 32656 <ipython-input-16-46d7ad2432ef>:37] Generation: 80, best fitness: 0.600, best_individual: [9, 2, 6, 4, 9, 5, 2, 2, 4, 10, 7, 3, 0, 4, 1, 3, 6, 10, 10, 10, 3, 0, 6, 1, 5, 9, 5, 10]\n"
     ]
    },
    {
     "name": "stdout",
     "output_type": "stream",
     "text": [
      "gaft.ConsoleOutputAnalysis   INFO     Generation: 81, best fitness: 0.600, best_individual: [9, 2, 6, 4, 9, 5, 2, 2, 4, 10, 7, 3, 0, 4, 1, 3, 6, 10, 10, 10, 3, 0, 6, 1, 5, 9, 5, 10]\n"
     ]
    },
    {
     "name": "stderr",
     "output_type": "stream",
     "text": [
      "I1010 09:47:50.535973 32656 <ipython-input-16-46d7ad2432ef>:37] Generation: 81, best fitness: 0.600, best_individual: [9, 2, 6, 4, 9, 5, 2, 2, 4, 10, 7, 3, 0, 4, 1, 3, 6, 10, 10, 10, 3, 0, 6, 1, 5, 9, 5, 10]\n"
     ]
    },
    {
     "name": "stdout",
     "output_type": "stream",
     "text": [
      "gaft.ConsoleOutputAnalysis   INFO     Generation: 82, best fitness: 0.600, best_individual: [9, 2, 6, 4, 9, 5, 2, 2, 4, 10, 7, 3, 0, 4, 1, 3, 6, 10, 10, 10, 3, 0, 6, 1, 5, 9, 5, 10]\n"
     ]
    },
    {
     "name": "stderr",
     "output_type": "stream",
     "text": [
      "I1010 09:48:33.845927 32656 <ipython-input-16-46d7ad2432ef>:37] Generation: 82, best fitness: 0.600, best_individual: [9, 2, 6, 4, 9, 5, 2, 2, 4, 10, 7, 3, 0, 4, 1, 3, 6, 10, 10, 10, 3, 0, 6, 1, 5, 9, 5, 10]\n"
     ]
    },
    {
     "name": "stdout",
     "output_type": "stream",
     "text": [
      "gaft.ConsoleOutputAnalysis   INFO     Generation: 83, best fitness: 0.600, best_individual: [9, 2, 6, 4, 9, 5, 2, 2, 4, 10, 7, 3, 0, 4, 1, 3, 6, 10, 10, 10, 3, 0, 6, 1, 5, 9, 5, 10]\n"
     ]
    },
    {
     "name": "stderr",
     "output_type": "stream",
     "text": [
      "I1010 09:49:17.188369 32656 <ipython-input-16-46d7ad2432ef>:37] Generation: 83, best fitness: 0.600, best_individual: [9, 2, 6, 4, 9, 5, 2, 2, 4, 10, 7, 3, 0, 4, 1, 3, 6, 10, 10, 10, 3, 0, 6, 1, 5, 9, 5, 10]\n"
     ]
    },
    {
     "name": "stdout",
     "output_type": "stream",
     "text": [
      "gaft.ConsoleOutputAnalysis   INFO     Generation: 84, best fitness: 0.600, best_individual: [9, 2, 6, 4, 9, 5, 2, 2, 4, 10, 7, 3, 0, 4, 1, 3, 6, 10, 10, 10, 3, 0, 6, 1, 5, 9, 5, 10]\n"
     ]
    },
    {
     "name": "stderr",
     "output_type": "stream",
     "text": [
      "I1010 09:50:00.322436 32656 <ipython-input-16-46d7ad2432ef>:37] Generation: 84, best fitness: 0.600, best_individual: [9, 2, 6, 4, 9, 5, 2, 2, 4, 10, 7, 3, 0, 4, 1, 3, 6, 10, 10, 10, 3, 0, 6, 1, 5, 9, 5, 10]\n"
     ]
    },
    {
     "name": "stdout",
     "output_type": "stream",
     "text": [
      "gaft.ConsoleOutputAnalysis   INFO     Generation: 85, best fitness: 0.600, best_individual: [9, 2, 6, 4, 9, 5, 2, 2, 4, 10, 7, 3, 0, 4, 1, 3, 6, 10, 10, 10, 3, 0, 6, 1, 5, 9, 5, 10]\n"
     ]
    },
    {
     "name": "stderr",
     "output_type": "stream",
     "text": [
      "I1010 09:50:43.277223 32656 <ipython-input-16-46d7ad2432ef>:37] Generation: 85, best fitness: 0.600, best_individual: [9, 2, 6, 4, 9, 5, 2, 2, 4, 10, 7, 3, 0, 4, 1, 3, 6, 10, 10, 10, 3, 0, 6, 1, 5, 9, 5, 10]\n"
     ]
    },
    {
     "name": "stdout",
     "output_type": "stream",
     "text": [
      "gaft.ConsoleOutputAnalysis   INFO     Generation: 86, best fitness: 0.600, best_individual: [9, 2, 6, 4, 9, 5, 2, 2, 4, 10, 7, 3, 0, 4, 1, 3, 6, 10, 10, 10, 3, 0, 6, 1, 5, 9, 5, 10]\n"
     ]
    },
    {
     "name": "stderr",
     "output_type": "stream",
     "text": [
      "I1010 09:51:26.469721 32656 <ipython-input-16-46d7ad2432ef>:37] Generation: 86, best fitness: 0.600, best_individual: [9, 2, 6, 4, 9, 5, 2, 2, 4, 10, 7, 3, 0, 4, 1, 3, 6, 10, 10, 10, 3, 0, 6, 1, 5, 9, 5, 10]\n"
     ]
    },
    {
     "name": "stdout",
     "output_type": "stream",
     "text": [
      "gaft.ConsoleOutputAnalysis   INFO     Generation: 87, best fitness: 0.600, best_individual: [9, 2, 6, 4, 9, 5, 2, 2, 4, 10, 7, 3, 0, 4, 1, 3, 6, 10, 10, 10, 3, 0, 6, 1, 5, 9, 5, 10]\n"
     ]
    },
    {
     "name": "stderr",
     "output_type": "stream",
     "text": [
      "I1010 09:52:09.391241 32656 <ipython-input-16-46d7ad2432ef>:37] Generation: 87, best fitness: 0.600, best_individual: [9, 2, 6, 4, 9, 5, 2, 2, 4, 10, 7, 3, 0, 4, 1, 3, 6, 10, 10, 10, 3, 0, 6, 1, 5, 9, 5, 10]\n"
     ]
    },
    {
     "name": "stdout",
     "output_type": "stream",
     "text": [
      "gaft.ConsoleOutputAnalysis   INFO     Generation: 88, best fitness: 0.600, best_individual: [9, 2, 6, 4, 9, 5, 2, 2, 4, 10, 7, 3, 0, 4, 1, 3, 6, 10, 10, 10, 3, 0, 6, 1, 5, 9, 5, 10]\n"
     ]
    },
    {
     "name": "stderr",
     "output_type": "stream",
     "text": [
      "I1010 09:52:52.869653 32656 <ipython-input-16-46d7ad2432ef>:37] Generation: 88, best fitness: 0.600, best_individual: [9, 2, 6, 4, 9, 5, 2, 2, 4, 10, 7, 3, 0, 4, 1, 3, 6, 10, 10, 10, 3, 0, 6, 1, 5, 9, 5, 10]\n"
     ]
    },
    {
     "name": "stdout",
     "output_type": "stream",
     "text": [
      "gaft.ConsoleOutputAnalysis   INFO     Generation: 89, best fitness: 0.600, best_individual: [9, 2, 6, 4, 9, 5, 2, 2, 4, 10, 7, 3, 0, 4, 1, 3, 6, 10, 10, 10, 3, 0, 6, 1, 5, 9, 5, 10]\n"
     ]
    },
    {
     "name": "stderr",
     "output_type": "stream",
     "text": [
      "I1010 09:53:35.670906 32656 <ipython-input-16-46d7ad2432ef>:37] Generation: 89, best fitness: 0.600, best_individual: [9, 2, 6, 4, 9, 5, 2, 2, 4, 10, 7, 3, 0, 4, 1, 3, 6, 10, 10, 10, 3, 0, 6, 1, 5, 9, 5, 10]\n"
     ]
    },
    {
     "name": "stdout",
     "output_type": "stream",
     "text": [
      "gaft.ConsoleOutputAnalysis   INFO     Generation: 90, best fitness: 0.600, best_individual: [9, 2, 6, 4, 9, 5, 2, 2, 4, 10, 7, 3, 0, 4, 1, 3, 6, 10, 10, 10, 3, 0, 6, 1, 5, 9, 5, 10]\n"
     ]
    },
    {
     "name": "stderr",
     "output_type": "stream",
     "text": [
      "I1010 09:54:21.956320 32656 <ipython-input-16-46d7ad2432ef>:37] Generation: 90, best fitness: 0.600, best_individual: [9, 2, 6, 4, 9, 5, 2, 2, 4, 10, 7, 3, 0, 4, 1, 3, 6, 10, 10, 10, 3, 0, 6, 1, 5, 9, 5, 10]\n"
     ]
    },
    {
     "name": "stdout",
     "output_type": "stream",
     "text": [
      "gaft.ConsoleOutputAnalysis   INFO     Generation: 91, best fitness: 0.600, best_individual: [9, 2, 6, 4, 9, 5, 2, 2, 4, 10, 7, 3, 0, 4, 1, 3, 6, 10, 10, 10, 3, 0, 6, 1, 5, 9, 5, 10]\n"
     ]
    },
    {
     "name": "stderr",
     "output_type": "stream",
     "text": [
      "I1010 09:55:09.471235 32656 <ipython-input-16-46d7ad2432ef>:37] Generation: 91, best fitness: 0.600, best_individual: [9, 2, 6, 4, 9, 5, 2, 2, 4, 10, 7, 3, 0, 4, 1, 3, 6, 10, 10, 10, 3, 0, 6, 1, 5, 9, 5, 10]\n"
     ]
    },
    {
     "name": "stdout",
     "output_type": "stream",
     "text": [
      "gaft.ConsoleOutputAnalysis   INFO     Generation: 92, best fitness: 0.600, best_individual: [9, 2, 6, 4, 9, 5, 2, 2, 4, 10, 7, 3, 0, 4, 1, 3, 6, 10, 10, 10, 3, 0, 6, 1, 5, 9, 5, 10]\n"
     ]
    },
    {
     "name": "stderr",
     "output_type": "stream",
     "text": [
      "I1010 09:55:56.724008 32656 <ipython-input-16-46d7ad2432ef>:37] Generation: 92, best fitness: 0.600, best_individual: [9, 2, 6, 4, 9, 5, 2, 2, 4, 10, 7, 3, 0, 4, 1, 3, 6, 10, 10, 10, 3, 0, 6, 1, 5, 9, 5, 10]\n"
     ]
    },
    {
     "name": "stdout",
     "output_type": "stream",
     "text": [
      "gaft.ConsoleOutputAnalysis   INFO     Generation: 93, best fitness: 0.600, best_individual: [9, 2, 6, 4, 9, 5, 2, 2, 4, 10, 7, 3, 0, 4, 1, 3, 6, 10, 10, 10, 3, 0, 6, 1, 5, 9, 5, 10]\n"
     ]
    },
    {
     "name": "stderr",
     "output_type": "stream",
     "text": [
      "I1010 09:56:40.136207 32656 <ipython-input-16-46d7ad2432ef>:37] Generation: 93, best fitness: 0.600, best_individual: [9, 2, 6, 4, 9, 5, 2, 2, 4, 10, 7, 3, 0, 4, 1, 3, 6, 10, 10, 10, 3, 0, 6, 1, 5, 9, 5, 10]\n"
     ]
    },
    {
     "name": "stdout",
     "output_type": "stream",
     "text": [
      "gaft.ConsoleOutputAnalysis   INFO     Generation: 94, best fitness: 0.600, best_individual: [9, 2, 6, 4, 9, 5, 2, 2, 4, 10, 7, 3, 0, 4, 1, 3, 6, 10, 10, 10, 3, 0, 6, 1, 5, 9, 5, 10]\n"
     ]
    },
    {
     "name": "stderr",
     "output_type": "stream",
     "text": [
      "I1010 09:57:22.826053 32656 <ipython-input-16-46d7ad2432ef>:37] Generation: 94, best fitness: 0.600, best_individual: [9, 2, 6, 4, 9, 5, 2, 2, 4, 10, 7, 3, 0, 4, 1, 3, 6, 10, 10, 10, 3, 0, 6, 1, 5, 9, 5, 10]\n"
     ]
    },
    {
     "name": "stdout",
     "output_type": "stream",
     "text": [
      "gaft.ConsoleOutputAnalysis   INFO     Generation: 95, best fitness: 0.600, best_individual: [9, 2, 6, 4, 9, 5, 2, 2, 4, 10, 7, 3, 0, 4, 1, 3, 6, 10, 10, 10, 3, 0, 6, 1, 5, 9, 5, 10]\n"
     ]
    },
    {
     "name": "stderr",
     "output_type": "stream",
     "text": [
      "I1010 09:58:06.100879 32656 <ipython-input-16-46d7ad2432ef>:37] Generation: 95, best fitness: 0.600, best_individual: [9, 2, 6, 4, 9, 5, 2, 2, 4, 10, 7, 3, 0, 4, 1, 3, 6, 10, 10, 10, 3, 0, 6, 1, 5, 9, 5, 10]\n"
     ]
    },
    {
     "name": "stdout",
     "output_type": "stream",
     "text": [
      "gaft.ConsoleOutputAnalysis   INFO     Generation: 96, best fitness: 0.600, best_individual: [9, 2, 6, 4, 9, 5, 2, 2, 4, 10, 7, 3, 0, 4, 1, 3, 6, 10, 10, 10, 3, 0, 6, 1, 5, 9, 5, 10]\n"
     ]
    },
    {
     "name": "stderr",
     "output_type": "stream",
     "text": [
      "I1010 09:58:49.154366 32656 <ipython-input-16-46d7ad2432ef>:37] Generation: 96, best fitness: 0.600, best_individual: [9, 2, 6, 4, 9, 5, 2, 2, 4, 10, 7, 3, 0, 4, 1, 3, 6, 10, 10, 10, 3, 0, 6, 1, 5, 9, 5, 10]\n"
     ]
    },
    {
     "name": "stdout",
     "output_type": "stream",
     "text": [
      "gaft.ConsoleOutputAnalysis   INFO     Generation: 97, best fitness: 0.600, best_individual: [9, 2, 6, 4, 9, 5, 2, 2, 4, 10, 7, 3, 0, 4, 1, 3, 6, 10, 10, 10, 3, 0, 6, 1, 5, 9, 5, 10]\n"
     ]
    },
    {
     "name": "stderr",
     "output_type": "stream",
     "text": [
      "I1010 09:59:32.335692 32656 <ipython-input-16-46d7ad2432ef>:37] Generation: 97, best fitness: 0.600, best_individual: [9, 2, 6, 4, 9, 5, 2, 2, 4, 10, 7, 3, 0, 4, 1, 3, 6, 10, 10, 10, 3, 0, 6, 1, 5, 9, 5, 10]\n"
     ]
    },
    {
     "name": "stdout",
     "output_type": "stream",
     "text": [
      "gaft.ConsoleOutputAnalysis   INFO     Generation: 98, best fitness: 0.600, best_individual: [9, 2, 6, 4, 9, 5, 2, 2, 4, 10, 7, 3, 0, 4, 1, 3, 6, 10, 10, 10, 3, 0, 6, 1, 5, 9, 5, 10]\n"
     ]
    },
    {
     "name": "stderr",
     "output_type": "stream",
     "text": [
      "I1010 10:00:15.509292 32656 <ipython-input-16-46d7ad2432ef>:37] Generation: 98, best fitness: 0.600, best_individual: [9, 2, 6, 4, 9, 5, 2, 2, 4, 10, 7, 3, 0, 4, 1, 3, 6, 10, 10, 10, 3, 0, 6, 1, 5, 9, 5, 10]\n"
     ]
    },
    {
     "name": "stdout",
     "output_type": "stream",
     "text": [
      "gaft.ConsoleOutputAnalysis   INFO     Generation: 99, best fitness: 0.600, best_individual: [9, 2, 6, 4, 9, 5, 2, 2, 4, 10, 7, 3, 0, 4, 1, 3, 6, 10, 10, 10, 3, 0, 6, 1, 5, 9, 5, 10]\n"
     ]
    },
    {
     "name": "stderr",
     "output_type": "stream",
     "text": [
      "I1010 10:00:57.757362 32656 <ipython-input-16-46d7ad2432ef>:37] Generation: 99, best fitness: 0.600, best_individual: [9, 2, 6, 4, 9, 5, 2, 2, 4, 10, 7, 3, 0, 4, 1, 3, 6, 10, 10, 10, 3, 0, 6, 1, 5, 9, 5, 10]\n"
     ]
    },
    {
     "name": "stdout",
     "output_type": "stream",
     "text": [
      "gaft.FitnessStore   INFO     Best fitness values are written to best_fit.py\n"
     ]
    },
    {
     "name": "stderr",
     "output_type": "stream",
     "text": [
      "I1010 10:00:57.772454 32656 fitness_store.py:48] Best fitness values are written to best_fit.py\n"
     ]
    },
    {
     "name": "stdout",
     "output_type": "stream",
     "text": [
      "gaft.ConsoleOutputAnalysis   INFO     Optimal solution: ([9, 2, 6, 4, 9, 5, 2, 2, 4, 10, 7, 3, 0, 4, 1, 3, 6, 10, 10, 10, 3, 0, 6, 1, 5, 9, 5, 10], 0.6)\n"
     ]
    },
    {
     "name": "stderr",
     "output_type": "stream",
     "text": [
      "I1010 10:00:57.776458 32656 <ipython-input-16-46d7ad2432ef>:44] Optimal solution: ([9, 2, 6, 4, 9, 5, 2, 2, 4, 10, 7, 3, 0, 4, 1, 3, 6, 10, 10, 10, 3, 0, 6, 1, 5, 9, 5, 10], 0.6)\n"
     ]
    },
    {
     "ename": "ValueError",
     "evalue": "too many values to unpack (expected 4)",
     "output_type": "error",
     "traceback": [
      "\u001b[1;31m---------------------------------------------------------------------------\u001b[0m",
      "\u001b[1;31mValueError\u001b[0m                                Traceback (most recent call last)",
      "\u001b[1;32m<ipython-input-16-46d7ad2432ef>\u001b[0m in \u001b[0;36m<module>\u001b[1;34m\u001b[0m\n\u001b[0;32m     48\u001b[0m     \u001b[0mengine\u001b[0m\u001b[1;33m.\u001b[0m\u001b[0mrun\u001b[0m\u001b[1;33m(\u001b[0m\u001b[0mng\u001b[0m\u001b[1;33m=\u001b[0m\u001b[1;36m100\u001b[0m\u001b[1;33m)\u001b[0m\u001b[1;33m\u001b[0m\u001b[1;33m\u001b[0m\u001b[0m\n\u001b[0;32m     49\u001b[0m     \u001b[0mbest_indv\u001b[0m \u001b[1;33m=\u001b[0m \u001b[0mengine\u001b[0m\u001b[1;33m.\u001b[0m\u001b[0mpopulation\u001b[0m\u001b[1;33m.\u001b[0m\u001b[0mbest_indv\u001b[0m\u001b[1;33m(\u001b[0m\u001b[0mengine\u001b[0m\u001b[1;33m.\u001b[0m\u001b[0mfitness\u001b[0m\u001b[1;33m)\u001b[0m\u001b[1;33m\u001b[0m\u001b[1;33m\u001b[0m\u001b[0m\n\u001b[1;32m---> 50\u001b[1;33m     \u001b[0mw1\u001b[0m\u001b[1;33m,\u001b[0m\u001b[0mw2\u001b[0m\u001b[1;33m,\u001b[0m\u001b[0mw3\u001b[0m\u001b[1;33m,\u001b[0m\u001b[0mw4\u001b[0m \u001b[1;33m=\u001b[0m \u001b[0mbest_indv\u001b[0m\u001b[1;33m.\u001b[0m\u001b[0msolution\u001b[0m\u001b[1;33m\u001b[0m\u001b[1;33m\u001b[0m\u001b[0m\n\u001b[0m\u001b[0;32m     51\u001b[0m     \u001b[0mget_test_results\u001b[0m\u001b[1;33m(\u001b[0m\u001b[0mw1\u001b[0m\u001b[1;33m,\u001b[0m\u001b[0mw2\u001b[0m\u001b[1;33m,\u001b[0m\u001b[0mw3\u001b[0m\u001b[1;33m,\u001b[0m\u001b[0mw4\u001b[0m\u001b[1;33m)\u001b[0m\u001b[1;33m\u001b[0m\u001b[1;33m\u001b[0m\u001b[0m\n",
      "\u001b[1;31mValueError\u001b[0m: too many values to unpack (expected 4)"
     ]
    }
   ],
   "source": [
    "indv_template = DecimalIndividual(ranges=[(0,10)]*28, eps=[1]*28)\n",
    "population = Population(indv_template=indv_template, size=100).init()\n",
    "\n",
    "selection = LinearRankingSelection()\n",
    "crossover = UniformCrossover(pc=0.8, pe=0.5)\n",
    "mutation = FlipBitMutation(pm=0.1)\n",
    "\n",
    "# Create genetic algorithm engine.\n",
    "engine = GAEngine(population=population, selection=selection,\n",
    "                  crossover=crossover, mutation=mutation,\n",
    "                  analysis=[FitnessStore])\n",
    "\n",
    "@engine.fitness_register\n",
    "#@engine.minimize\n",
    "def fitness(indv):\n",
    "    w = list(indv.solution)\n",
    "    _, res = get_technology_accuracy(w, max_score, tech)\n",
    "    res = float(abs(res))\n",
    "    #print(w,': ',res)\n",
    "    return res\n",
    "\n",
    "def get_test_results(w1,w2,w3,w4):\n",
    "    predictions = m1*w1 + m2*w2 + m3*w3 + m4*w4\n",
    "    print('\\nRMSE error: ', np.sqrt(metrics.mean_squared_error(Y_test, predictions)))\n",
    "    for i,prediction in enumerate(predictions[:15]):\n",
    "        print ('Target: %s, Predicted: %s' % (Y_test.tolist()[i], abs(prediction)))\n",
    "\n",
    "# Define on-the-fly analysis.\n",
    "@engine.analysis_register\n",
    "class ConsoleOutputAnalysis(OnTheFlyAnalysis):\n",
    "    interval = 1\n",
    "    master_only = True\n",
    "\n",
    "    def register_step(self, g, population, engine):\n",
    "        best_indv = population.best_indv(engine.fitness)\n",
    "        msg = 'Generation: {}, best fitness: {:.3f}, best_individual: {}'.format(g, engine.ori_fmax, best_indv.solution)\n",
    "        self.logger.info(msg)\n",
    "\n",
    "    def finalize(self, population, engine):\n",
    "        best_indv = population.best_indv(engine.fitness)\n",
    "        x = best_indv.solution\n",
    "        y = engine.fmax\n",
    "        msg = 'Optimal solution: ({}, {})'.format(x, y)\n",
    "        self.logger.info(msg)\n",
    "\n",
    "if '__main__' == __name__:\n",
    "    # Run the GA engine.\n",
    "    engine.run(ng=100)\n",
    "    best_indv = engine.population.best_indv(engine.fitness)\n",
    "    w1,w2,w3,w4 = best_indv.solution\n",
    "    get_test_results(w1,w2,w3,w4)"
   ]
  },
  {
   "cell_type": "code",
   "execution_count": null,
   "metadata": {},
   "outputs": [],
   "source": []
  },
  {
   "cell_type": "code",
   "execution_count": null,
   "metadata": {},
   "outputs": [],
   "source": []
  },
  {
   "cell_type": "code",
   "execution_count": null,
   "metadata": {},
   "outputs": [],
   "source": []
  },
  {
   "cell_type": "code",
   "execution_count": null,
   "metadata": {},
   "outputs": [],
   "source": []
  },
  {
   "cell_type": "code",
   "execution_count": null,
   "metadata": {},
   "outputs": [],
   "source": []
  },
  {
   "cell_type": "code",
   "execution_count": null,
   "metadata": {},
   "outputs": [],
   "source": []
  },
  {
   "cell_type": "code",
   "execution_count": null,
   "metadata": {},
   "outputs": [],
   "source": []
  },
  {
   "cell_type": "code",
   "execution_count": null,
   "metadata": {},
   "outputs": [],
   "source": []
  },
  {
   "cell_type": "code",
   "execution_count": null,
   "metadata": {},
   "outputs": [],
   "source": []
  },
  {
   "cell_type": "code",
   "execution_count": null,
   "metadata": {},
   "outputs": [],
   "source": []
  },
  {
   "cell_type": "code",
   "execution_count": null,
   "metadata": {},
   "outputs": [],
   "source": []
  },
  {
   "cell_type": "code",
   "execution_count": null,
   "metadata": {},
   "outputs": [],
   "source": []
  },
  {
   "cell_type": "code",
   "execution_count": null,
   "metadata": {},
   "outputs": [],
   "source": []
  },
  {
   "cell_type": "code",
   "execution_count": null,
   "metadata": {},
   "outputs": [],
   "source": []
  },
  {
   "cell_type": "code",
   "execution_count": null,
   "metadata": {},
   "outputs": [],
   "source": []
  },
  {
   "cell_type": "code",
   "execution_count": null,
   "metadata": {},
   "outputs": [],
   "source": []
  },
  {
   "cell_type": "code",
   "execution_count": null,
   "metadata": {},
   "outputs": [],
   "source": []
  },
  {
   "cell_type": "code",
   "execution_count": null,
   "metadata": {},
   "outputs": [],
   "source": []
  },
  {
   "cell_type": "code",
   "execution_count": null,
   "metadata": {},
   "outputs": [],
   "source": []
  },
  {
   "cell_type": "code",
   "execution_count": null,
   "metadata": {},
   "outputs": [],
   "source": []
  },
  {
   "cell_type": "code",
   "execution_count": null,
   "metadata": {},
   "outputs": [],
   "source": []
  },
  {
   "cell_type": "code",
   "execution_count": null,
   "metadata": {},
   "outputs": [],
   "source": []
  },
  {
   "cell_type": "code",
   "execution_count": null,
   "metadata": {},
   "outputs": [],
   "source": []
  },
  {
   "cell_type": "code",
   "execution_count": null,
   "metadata": {},
   "outputs": [],
   "source": []
  },
  {
   "cell_type": "code",
   "execution_count": null,
   "metadata": {},
   "outputs": [],
   "source": []
  },
  {
   "cell_type": "code",
   "execution_count": null,
   "metadata": {},
   "outputs": [],
   "source": []
  },
  {
   "cell_type": "code",
   "execution_count": null,
   "metadata": {},
   "outputs": [],
   "source": []
  },
  {
   "cell_type": "code",
   "execution_count": null,
   "metadata": {},
   "outputs": [],
   "source": []
  },
  {
   "cell_type": "code",
   "execution_count": null,
   "metadata": {},
   "outputs": [],
   "source": []
  },
  {
   "cell_type": "code",
   "execution_count": null,
   "metadata": {},
   "outputs": [],
   "source": []
  },
  {
   "cell_type": "code",
   "execution_count": null,
   "metadata": {},
   "outputs": [],
   "source": []
  },
  {
   "cell_type": "code",
   "execution_count": null,
   "metadata": {},
   "outputs": [],
   "source": []
  },
  {
   "cell_type": "code",
   "execution_count": null,
   "metadata": {},
   "outputs": [],
   "source": [
    "t2"
   ]
  },
  {
   "cell_type": "code",
   "execution_count": null,
   "metadata": {},
   "outputs": [],
   "source": []
  },
  {
   "cell_type": "code",
   "execution_count": 131,
   "metadata": {},
   "outputs": [],
   "source": [
    "weights = np.ones(28)*2\n",
    "max_score = d6['score'].groupby([d6['tech_scorecard_question_id']]).max().sum()\n",
    "\n",
    "t1 = pd.DataFrame()\n",
    "for i in tech['ico_symbol'].unique().tolist():\n",
    "    temp = tech[tech['ico_symbol'] == i]\n",
    "    temp = temp.sort_values('question_number')\n",
    "    score = temp['score'] * weights[:len(temp)] \n",
    "    t1 = pd.concat([t1,pd.DataFrame([i, score.sum() / max_score * 100 / sum(weights[:len(temp)]) * len(temp)]).T])"
   ]
  },
  {
   "cell_type": "code",
   "execution_count": 132,
   "metadata": {},
   "outputs": [],
   "source": [
    "t1.columns = ['Coin','Score']"
   ]
  },
  {
   "cell_type": "code",
   "execution_count": 133,
   "metadata": {},
   "outputs": [],
   "source": [
    "ids = tech['ico_id'][tech['ico_symbol'].isin(t1['Coin'])].unique()"
   ]
  },
  {
   "cell_type": "code",
   "execution_count": 134,
   "metadata": {},
   "outputs": [],
   "source": [
    "t1['Alpha'] = d4['alpha'][d4['ico_id'].isin(ids)].values"
   ]
  },
  {
   "cell_type": "code",
   "execution_count": 135,
   "metadata": {},
   "outputs": [],
   "source": [
    "t1['Score_bins'] = t1['Score'].apply(get_bins)\n",
    "t1['Alpha_bins'] = pd.cut(t1['Alpha'],[np.floor(t1['Alpha'].min()),0,np.ceil(t1['Alpha'].max())])"
   ]
  },
  {
   "cell_type": "code",
   "execution_count": 136,
   "metadata": {},
   "outputs": [
    {
     "data": {
      "text/html": [
       "<div>\n",
       "<style scoped>\n",
       "    .dataframe tbody tr th:only-of-type {\n",
       "        vertical-align: middle;\n",
       "    }\n",
       "\n",
       "    .dataframe tbody tr th {\n",
       "        vertical-align: top;\n",
       "    }\n",
       "\n",
       "    .dataframe thead th {\n",
       "        text-align: right;\n",
       "    }\n",
       "</style>\n",
       "<table border=\"1\" class=\"dataframe\">\n",
       "  <thead>\n",
       "    <tr style=\"text-align: right;\">\n",
       "      <th></th>\n",
       "      <th>Coin</th>\n",
       "      <th>Score</th>\n",
       "      <th>Alpha</th>\n",
       "      <th>Score_bins</th>\n",
       "      <th>Alpha_bins</th>\n",
       "    </tr>\n",
       "  </thead>\n",
       "  <tbody>\n",
       "    <tr>\n",
       "      <th>0</th>\n",
       "      <td>ZRX</td>\n",
       "      <td>81.818182</td>\n",
       "      <td>-12.731300</td>\n",
       "      <td>8</td>\n",
       "      <td>(-143.0, 0.0]</td>\n",
       "    </tr>\n",
       "    <tr>\n",
       "      <th>0</th>\n",
       "      <td>TRX</td>\n",
       "      <td>81.818182</td>\n",
       "      <td>23.428200</td>\n",
       "      <td>8</td>\n",
       "      <td>(0.0, 243.0]</td>\n",
       "    </tr>\n",
       "    <tr>\n",
       "      <th>0</th>\n",
       "      <td>ONT</td>\n",
       "      <td>70.909091</td>\n",
       "      <td>-1.796800</td>\n",
       "      <td>7</td>\n",
       "      <td>(-143.0, 0.0]</td>\n",
       "    </tr>\n",
       "    <tr>\n",
       "      <th>0</th>\n",
       "      <td>ETH</td>\n",
       "      <td>98.181818</td>\n",
       "      <td>6.383400</td>\n",
       "      <td>9</td>\n",
       "      <td>(0.0, 243.0]</td>\n",
       "    </tr>\n",
       "    <tr>\n",
       "      <th>0</th>\n",
       "      <td>NEO</td>\n",
       "      <td>85.454545</td>\n",
       "      <td>-9.081200</td>\n",
       "      <td>8</td>\n",
       "      <td>(-143.0, 0.0]</td>\n",
       "    </tr>\n",
       "    <tr>\n",
       "      <th>0</th>\n",
       "      <td>BNB</td>\n",
       "      <td>90.909091</td>\n",
       "      <td>-41.463300</td>\n",
       "      <td>9</td>\n",
       "      <td>(-143.0, 0.0]</td>\n",
       "    </tr>\n",
       "    <tr>\n",
       "      <th>0</th>\n",
       "      <td>ADA</td>\n",
       "      <td>87.272727</td>\n",
       "      <td>-5.844000</td>\n",
       "      <td>8</td>\n",
       "      <td>(-143.0, 0.0]</td>\n",
       "    </tr>\n",
       "    <tr>\n",
       "      <th>0</th>\n",
       "      <td>LSK</td>\n",
       "      <td>74.545455</td>\n",
       "      <td>15.519000</td>\n",
       "      <td>7</td>\n",
       "      <td>(0.0, 243.0]</td>\n",
       "    </tr>\n",
       "    <tr>\n",
       "      <th>0</th>\n",
       "      <td>REP</td>\n",
       "      <td>74.545455</td>\n",
       "      <td>-11.537000</td>\n",
       "      <td>7</td>\n",
       "      <td>(-143.0, 0.0]</td>\n",
       "    </tr>\n",
       "    <tr>\n",
       "      <th>0</th>\n",
       "      <td>QTUM</td>\n",
       "      <td>67.272727</td>\n",
       "      <td>-0.737900</td>\n",
       "      <td>6</td>\n",
       "      <td>(-143.0, 0.0]</td>\n",
       "    </tr>\n",
       "    <tr>\n",
       "      <th>0</th>\n",
       "      <td>OMG</td>\n",
       "      <td>74.545455</td>\n",
       "      <td>-11.121800</td>\n",
       "      <td>7</td>\n",
       "      <td>(-143.0, 0.0]</td>\n",
       "    </tr>\n",
       "    <tr>\n",
       "      <th>0</th>\n",
       "      <td>BAT</td>\n",
       "      <td>40.000000</td>\n",
       "      <td>11.082700</td>\n",
       "      <td>3</td>\n",
       "      <td>(0.0, 243.0]</td>\n",
       "    </tr>\n",
       "    <tr>\n",
       "      <th>0</th>\n",
       "      <td>HOT</td>\n",
       "      <td>67.272727</td>\n",
       "      <td>0.311900</td>\n",
       "      <td>6</td>\n",
       "      <td>(0.0, 243.0]</td>\n",
       "    </tr>\n",
       "    <tr>\n",
       "      <th>0</th>\n",
       "      <td>EOS</td>\n",
       "      <td>80.000000</td>\n",
       "      <td>-12.562600</td>\n",
       "      <td>7</td>\n",
       "      <td>(-143.0, 0.0]</td>\n",
       "    </tr>\n",
       "    <tr>\n",
       "      <th>0</th>\n",
       "      <td>XRP</td>\n",
       "      <td>78.181818</td>\n",
       "      <td>-5.928900</td>\n",
       "      <td>7</td>\n",
       "      <td>(-143.0, 0.0]</td>\n",
       "    </tr>\n",
       "    <tr>\n",
       "      <th>0</th>\n",
       "      <td>BTC</td>\n",
       "      <td>98.181818</td>\n",
       "      <td>-6.073400</td>\n",
       "      <td>9</td>\n",
       "      <td>(-143.0, 0.0]</td>\n",
       "    </tr>\n",
       "    <tr>\n",
       "      <th>0</th>\n",
       "      <td>BCH</td>\n",
       "      <td>65.454545</td>\n",
       "      <td>-0.194200</td>\n",
       "      <td>6</td>\n",
       "      <td>(-143.0, 0.0]</td>\n",
       "    </tr>\n",
       "    <tr>\n",
       "      <th>0</th>\n",
       "      <td>LTC</td>\n",
       "      <td>56.363636</td>\n",
       "      <td>-2.898900</td>\n",
       "      <td>5</td>\n",
       "      <td>(-143.0, 0.0]</td>\n",
       "    </tr>\n",
       "    <tr>\n",
       "      <th>0</th>\n",
       "      <td>USDT</td>\n",
       "      <td>61.818182</td>\n",
       "      <td>6.145400</td>\n",
       "      <td>6</td>\n",
       "      <td>(0.0, 243.0]</td>\n",
       "    </tr>\n",
       "    <tr>\n",
       "      <th>0</th>\n",
       "      <td>XLM</td>\n",
       "      <td>81.818182</td>\n",
       "      <td>-3.158900</td>\n",
       "      <td>8</td>\n",
       "      <td>(-143.0, 0.0]</td>\n",
       "    </tr>\n",
       "    <tr>\n",
       "      <th>0</th>\n",
       "      <td>XMR</td>\n",
       "      <td>70.909091</td>\n",
       "      <td>-11.759300</td>\n",
       "      <td>7</td>\n",
       "      <td>(-143.0, 0.0]</td>\n",
       "    </tr>\n",
       "    <tr>\n",
       "      <th>0</th>\n",
       "      <td>DASH</td>\n",
       "      <td>85.454545</td>\n",
       "      <td>2.091400</td>\n",
       "      <td>8</td>\n",
       "      <td>(0.0, 243.0]</td>\n",
       "    </tr>\n",
       "    <tr>\n",
       "      <th>0</th>\n",
       "      <td>BSV</td>\n",
       "      <td>52.727273</td>\n",
       "      <td>-0.497900</td>\n",
       "      <td>5</td>\n",
       "      <td>(-143.0, 0.0]</td>\n",
       "    </tr>\n",
       "    <tr>\n",
       "      <th>0</th>\n",
       "      <td>XTZ</td>\n",
       "      <td>81.818182</td>\n",
       "      <td>24.047200</td>\n",
       "      <td>8</td>\n",
       "      <td>(0.0, 243.0]</td>\n",
       "    </tr>\n",
       "    <tr>\n",
       "      <th>0</th>\n",
       "      <td>MIOTA</td>\n",
       "      <td>80.000000</td>\n",
       "      <td>0.147400</td>\n",
       "      <td>7</td>\n",
       "      <td>(0.0, 243.0]</td>\n",
       "    </tr>\n",
       "    <tr>\n",
       "      <th>0</th>\n",
       "      <td>ETC</td>\n",
       "      <td>69.090909</td>\n",
       "      <td>8.846000</td>\n",
       "      <td>6</td>\n",
       "      <td>(0.0, 243.0]</td>\n",
       "    </tr>\n",
       "    <tr>\n",
       "      <th>0</th>\n",
       "      <td>XEM</td>\n",
       "      <td>67.272727</td>\n",
       "      <td>14.094900</td>\n",
       "      <td>6</td>\n",
       "      <td>(0.0, 243.0]</td>\n",
       "    </tr>\n",
       "    <tr>\n",
       "      <th>0</th>\n",
       "      <td>ZEC</td>\n",
       "      <td>80.000000</td>\n",
       "      <td>-12.444500</td>\n",
       "      <td>7</td>\n",
       "      <td>(-143.0, 0.0]</td>\n",
       "    </tr>\n",
       "    <tr>\n",
       "      <th>0</th>\n",
       "      <td>DOGE</td>\n",
       "      <td>40.000000</td>\n",
       "      <td>9.250100</td>\n",
       "      <td>3</td>\n",
       "      <td>(0.0, 243.0]</td>\n",
       "    </tr>\n",
       "    <tr>\n",
       "      <th>0</th>\n",
       "      <td>BTG</td>\n",
       "      <td>65.454545</td>\n",
       "      <td>9.475800</td>\n",
       "      <td>6</td>\n",
       "      <td>(0.0, 243.0]</td>\n",
       "    </tr>\n",
       "    <tr>\n",
       "      <th>0</th>\n",
       "      <td>USDC</td>\n",
       "      <td>60.000000</td>\n",
       "      <td>-15.063800</td>\n",
       "      <td>5</td>\n",
       "      <td>(-143.0, 0.0]</td>\n",
       "    </tr>\n",
       "    <tr>\n",
       "      <th>0</th>\n",
       "      <td>DCR</td>\n",
       "      <td>72.727273</td>\n",
       "      <td>-10.779300</td>\n",
       "      <td>7</td>\n",
       "      <td>(-143.0, 0.0]</td>\n",
       "    </tr>\n",
       "    <tr>\n",
       "      <th>0</th>\n",
       "      <td>NANO</td>\n",
       "      <td>61.818182</td>\n",
       "      <td>43.349900</td>\n",
       "      <td>6</td>\n",
       "      <td>(0.0, 243.0]</td>\n",
       "    </tr>\n",
       "    <tr>\n",
       "      <th>0</th>\n",
       "      <td>RVN</td>\n",
       "      <td>54.545455</td>\n",
       "      <td>-2.518000</td>\n",
       "      <td>5</td>\n",
       "      <td>(-143.0, 0.0]</td>\n",
       "    </tr>\n",
       "    <tr>\n",
       "      <th>0</th>\n",
       "      <td>BCD</td>\n",
       "      <td>41.818182</td>\n",
       "      <td>-12.615400</td>\n",
       "      <td>4</td>\n",
       "      <td>(-143.0, 0.0]</td>\n",
       "    </tr>\n",
       "    <tr>\n",
       "      <th>0</th>\n",
       "      <td>TUSD</td>\n",
       "      <td>45.454545</td>\n",
       "      <td>6.618800</td>\n",
       "      <td>4</td>\n",
       "      <td>(0.0, 243.0]</td>\n",
       "    </tr>\n",
       "    <tr>\n",
       "      <th>0</th>\n",
       "      <td>BTT</td>\n",
       "      <td>45.454545</td>\n",
       "      <td>-10.971800</td>\n",
       "      <td>4</td>\n",
       "      <td>(-143.0, 0.0]</td>\n",
       "    </tr>\n",
       "    <tr>\n",
       "      <th>0</th>\n",
       "      <td>HT</td>\n",
       "      <td>23.636364</td>\n",
       "      <td>2.184800</td>\n",
       "      <td>2</td>\n",
       "      <td>(0.0, 243.0]</td>\n",
       "    </tr>\n",
       "    <tr>\n",
       "      <th>0</th>\n",
       "      <td>PAX</td>\n",
       "      <td>61.818182</td>\n",
       "      <td>242.834900</td>\n",
       "      <td>6</td>\n",
       "      <td>(0.0, 243.0]</td>\n",
       "    </tr>\n",
       "    <tr>\n",
       "      <th>0</th>\n",
       "      <td>ABBC</td>\n",
       "      <td>29.090909</td>\n",
       "      <td>-142.688400</td>\n",
       "      <td>2</td>\n",
       "      <td>(-143.0, 0.0]</td>\n",
       "    </tr>\n",
       "    <tr>\n",
       "      <th>0</th>\n",
       "      <td>INB</td>\n",
       "      <td>67.272727</td>\n",
       "      <td>-42.692500</td>\n",
       "      <td>6</td>\n",
       "      <td>(-143.0, 0.0]</td>\n",
       "    </tr>\n",
       "    <tr>\n",
       "      <th>0</th>\n",
       "      <td>LEO</td>\n",
       "      <td>32.727273</td>\n",
       "      <td>-11.862200</td>\n",
       "      <td>3</td>\n",
       "      <td>(-143.0, 0.0]</td>\n",
       "    </tr>\n",
       "    <tr>\n",
       "      <th>0</th>\n",
       "      <td>ATOM</td>\n",
       "      <td>85.454545</td>\n",
       "      <td>-91.402200</td>\n",
       "      <td>8</td>\n",
       "      <td>(-143.0, 0.0]</td>\n",
       "    </tr>\n",
       "    <tr>\n",
       "      <th>0</th>\n",
       "      <td>VSYS</td>\n",
       "      <td>81.818182</td>\n",
       "      <td>-8.210300</td>\n",
       "      <td>8</td>\n",
       "      <td>(-143.0, 0.0]</td>\n",
       "    </tr>\n",
       "    <tr>\n",
       "      <th>0</th>\n",
       "      <td>HEDG</td>\n",
       "      <td>32.727273</td>\n",
       "      <td>-74.171600</td>\n",
       "      <td>3</td>\n",
       "      <td>(-143.0, 0.0]</td>\n",
       "    </tr>\n",
       "  </tbody>\n",
       "</table>\n",
       "</div>"
      ],
      "text/plain": [
       "    Coin     Score       Alpha  Score_bins     Alpha_bins\n",
       "0    ZRX 81.818182  -12.731300           8  (-143.0, 0.0]\n",
       "0    TRX 81.818182   23.428200           8   (0.0, 243.0]\n",
       "0    ONT 70.909091   -1.796800           7  (-143.0, 0.0]\n",
       "0    ETH 98.181818    6.383400           9   (0.0, 243.0]\n",
       "0    NEO 85.454545   -9.081200           8  (-143.0, 0.0]\n",
       "0    BNB 90.909091  -41.463300           9  (-143.0, 0.0]\n",
       "0    ADA 87.272727   -5.844000           8  (-143.0, 0.0]\n",
       "0    LSK 74.545455   15.519000           7   (0.0, 243.0]\n",
       "0    REP 74.545455  -11.537000           7  (-143.0, 0.0]\n",
       "0   QTUM 67.272727   -0.737900           6  (-143.0, 0.0]\n",
       "0    OMG 74.545455  -11.121800           7  (-143.0, 0.0]\n",
       "0    BAT 40.000000   11.082700           3   (0.0, 243.0]\n",
       "0    HOT 67.272727    0.311900           6   (0.0, 243.0]\n",
       "0    EOS 80.000000  -12.562600           7  (-143.0, 0.0]\n",
       "0    XRP 78.181818   -5.928900           7  (-143.0, 0.0]\n",
       "0    BTC 98.181818   -6.073400           9  (-143.0, 0.0]\n",
       "0    BCH 65.454545   -0.194200           6  (-143.0, 0.0]\n",
       "0    LTC 56.363636   -2.898900           5  (-143.0, 0.0]\n",
       "0   USDT 61.818182    6.145400           6   (0.0, 243.0]\n",
       "0    XLM 81.818182   -3.158900           8  (-143.0, 0.0]\n",
       "0    XMR 70.909091  -11.759300           7  (-143.0, 0.0]\n",
       "0   DASH 85.454545    2.091400           8   (0.0, 243.0]\n",
       "0    BSV 52.727273   -0.497900           5  (-143.0, 0.0]\n",
       "0    XTZ 81.818182   24.047200           8   (0.0, 243.0]\n",
       "0  MIOTA 80.000000    0.147400           7   (0.0, 243.0]\n",
       "0    ETC 69.090909    8.846000           6   (0.0, 243.0]\n",
       "0    XEM 67.272727   14.094900           6   (0.0, 243.0]\n",
       "0    ZEC 80.000000  -12.444500           7  (-143.0, 0.0]\n",
       "0   DOGE 40.000000    9.250100           3   (0.0, 243.0]\n",
       "0    BTG 65.454545    9.475800           6   (0.0, 243.0]\n",
       "0   USDC 60.000000  -15.063800           5  (-143.0, 0.0]\n",
       "0    DCR 72.727273  -10.779300           7  (-143.0, 0.0]\n",
       "0   NANO 61.818182   43.349900           6   (0.0, 243.0]\n",
       "0    RVN 54.545455   -2.518000           5  (-143.0, 0.0]\n",
       "0    BCD 41.818182  -12.615400           4  (-143.0, 0.0]\n",
       "0   TUSD 45.454545    6.618800           4   (0.0, 243.0]\n",
       "0    BTT 45.454545  -10.971800           4  (-143.0, 0.0]\n",
       "0     HT 23.636364    2.184800           2   (0.0, 243.0]\n",
       "0    PAX 61.818182  242.834900           6   (0.0, 243.0]\n",
       "0   ABBC 29.090909 -142.688400           2  (-143.0, 0.0]\n",
       "0    INB 67.272727  -42.692500           6  (-143.0, 0.0]\n",
       "0    LEO 32.727273  -11.862200           3  (-143.0, 0.0]\n",
       "0   ATOM 85.454545  -91.402200           8  (-143.0, 0.0]\n",
       "0   VSYS 81.818182   -8.210300           8  (-143.0, 0.0]\n",
       "0   HEDG 32.727273  -74.171600           3  (-143.0, 0.0]"
      ]
     },
     "execution_count": 136,
     "metadata": {},
     "output_type": "execute_result"
    }
   ],
   "source": [
    "t1"
   ]
  },
  {
   "cell_type": "code",
   "execution_count": 109,
   "metadata": {},
   "outputs": [
    {
     "data": {
      "text/plain": [
       "Alpha_bins  (-143.0, 0.0]  (0.0, 243.0]\n",
       "Score_bins                             \n",
       "2                1.000000      1.000000\n",
       "3                2.000000      2.000000\n",
       "4                2.000000      1.000000\n",
       "5                4.000000           nan\n",
       "6                3.000000      7.000000\n",
       "7                8.000000      2.000000\n",
       "8                6.000000      3.000000\n",
       "9                2.000000      1.000000"
      ]
     },
     "execution_count": 109,
     "metadata": {},
     "output_type": "execute_result"
    }
   ],
   "source": [
    "final = t1['Alpha_bins'].groupby([t1['Score_bins'],t1['Alpha_bins']]).count().unstack()\n",
    "final"
   ]
  },
  {
   "cell_type": "code",
   "execution_count": 121,
   "metadata": {},
   "outputs": [],
   "source": [
    "x0 = []\n",
    "x1 = []\n",
    "for j in range(10):\n",
    "    try:\n",
    "        x0.append(final.loc[j,0])\n",
    "    except:\n",
    "        x0.append(0)\n",
    "        \n",
    "for j in range(10):\n",
    "    try:\n",
    "        x1.append(final.loc[j,1])\n",
    "    except:\n",
    "        x1.append(0)"
   ]
  },
  {
   "cell_type": "code",
   "execution_count": 124,
   "metadata": {},
   "outputs": [],
   "source": [
    "x = pd.DataFrame()\n",
    "x[0] = x0\n",
    "x[1] = x1\n",
    "x.index = ['(0,10]','(10,20]','(20,30]','(30,40]','(40,50]','(50,60]','(60,70]','(70,80]','(80,90]','(90,100]']\n",
    "\n",
    "x.fillna(0,inplace=True)\n",
    "\n",
    "y = x.sum(axis=1)\n",
    "y1 = (x.iloc[0:5,0] / y[:5]) \n",
    "y2 = (x.iloc[5:,1] / y[5:])\n",
    "\n",
    "x['Accuracy'] = y1.append(y2).fillna(0).astype('float64').values * 100\n",
    "x.columns = [str(final.columns[0]),str(final.columns[1]),'Accuracy']"
   ]
  },
  {
   "cell_type": "code",
   "execution_count": 125,
   "metadata": {},
   "outputs": [
    {
     "data": {
      "text/html": [
       "<div>\n",
       "<style scoped>\n",
       "    .dataframe tbody tr th:only-of-type {\n",
       "        vertical-align: middle;\n",
       "    }\n",
       "\n",
       "    .dataframe tbody tr th {\n",
       "        vertical-align: top;\n",
       "    }\n",
       "\n",
       "    .dataframe thead th {\n",
       "        text-align: right;\n",
       "    }\n",
       "</style>\n",
       "<table border=\"1\" class=\"dataframe\">\n",
       "  <thead>\n",
       "    <tr style=\"text-align: right;\">\n",
       "      <th></th>\n",
       "      <th>(-143.0, 0.0]</th>\n",
       "      <th>(0.0, 243.0]</th>\n",
       "      <th>Accuracy</th>\n",
       "    </tr>\n",
       "  </thead>\n",
       "  <tbody>\n",
       "    <tr>\n",
       "      <th>(0,10]</th>\n",
       "      <td>0.000000</td>\n",
       "      <td>0.000000</td>\n",
       "      <td>0.000000</td>\n",
       "    </tr>\n",
       "    <tr>\n",
       "      <th>(10,20]</th>\n",
       "      <td>0.000000</td>\n",
       "      <td>0.000000</td>\n",
       "      <td>0.000000</td>\n",
       "    </tr>\n",
       "    <tr>\n",
       "      <th>(20,30]</th>\n",
       "      <td>1.000000</td>\n",
       "      <td>1.000000</td>\n",
       "      <td>50.000000</td>\n",
       "    </tr>\n",
       "    <tr>\n",
       "      <th>(30,40]</th>\n",
       "      <td>2.000000</td>\n",
       "      <td>2.000000</td>\n",
       "      <td>50.000000</td>\n",
       "    </tr>\n",
       "    <tr>\n",
       "      <th>(40,50]</th>\n",
       "      <td>2.000000</td>\n",
       "      <td>1.000000</td>\n",
       "      <td>66.666667</td>\n",
       "    </tr>\n",
       "    <tr>\n",
       "      <th>(50,60]</th>\n",
       "      <td>4.000000</td>\n",
       "      <td>0.000000</td>\n",
       "      <td>0.000000</td>\n",
       "    </tr>\n",
       "    <tr>\n",
       "      <th>(60,70]</th>\n",
       "      <td>3.000000</td>\n",
       "      <td>7.000000</td>\n",
       "      <td>70.000000</td>\n",
       "    </tr>\n",
       "    <tr>\n",
       "      <th>(70,80]</th>\n",
       "      <td>8.000000</td>\n",
       "      <td>2.000000</td>\n",
       "      <td>20.000000</td>\n",
       "    </tr>\n",
       "    <tr>\n",
       "      <th>(80,90]</th>\n",
       "      <td>6.000000</td>\n",
       "      <td>3.000000</td>\n",
       "      <td>33.333333</td>\n",
       "    </tr>\n",
       "    <tr>\n",
       "      <th>(90,100]</th>\n",
       "      <td>2.000000</td>\n",
       "      <td>1.000000</td>\n",
       "      <td>33.333333</td>\n",
       "    </tr>\n",
       "  </tbody>\n",
       "</table>\n",
       "</div>"
      ],
      "text/plain": [
       "          (-143.0, 0.0]  (0.0, 243.0]  Accuracy\n",
       "(0,10]         0.000000      0.000000  0.000000\n",
       "(10,20]        0.000000      0.000000  0.000000\n",
       "(20,30]        1.000000      1.000000 50.000000\n",
       "(30,40]        2.000000      2.000000 50.000000\n",
       "(40,50]        2.000000      1.000000 66.666667\n",
       "(50,60]        4.000000      0.000000  0.000000\n",
       "(60,70]        3.000000      7.000000 70.000000\n",
       "(70,80]        8.000000      2.000000 20.000000\n",
       "(80,90]        6.000000      3.000000 33.333333\n",
       "(90,100]       2.000000      1.000000 33.333333"
      ]
     },
     "execution_count": 125,
     "metadata": {},
     "output_type": "execute_result"
    }
   ],
   "source": [
    "x"
   ]
  },
  {
   "cell_type": "code",
   "execution_count": 126,
   "metadata": {},
   "outputs": [
    {
     "data": {
      "text/plain": [
       "0.4"
      ]
     },
     "execution_count": 126,
     "metadata": {},
     "output_type": "execute_result"
    }
   ],
   "source": [
    "x.iloc[0:5,0].append(x.iloc[5:10,1]).sum() / x.iloc[:,:2].sum(axis=1).sum()"
   ]
  },
  {
   "cell_type": "code",
   "execution_count": null,
   "metadata": {},
   "outputs": [],
   "source": []
  }
 ],
 "metadata": {
  "kernelspec": {
   "display_name": "Python 3",
   "language": "python",
   "name": "python3"
  },
  "language_info": {
   "codemirror_mode": {
    "name": "ipython",
    "version": 3
   },
   "file_extension": ".py",
   "mimetype": "text/x-python",
   "name": "python",
   "nbconvert_exporter": "python",
   "pygments_lexer": "ipython3",
   "version": "3.7.3"
  }
 },
 "nbformat": 4,
 "nbformat_minor": 2
}
