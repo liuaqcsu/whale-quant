{
 "cells": [
  {
   "cell_type": "code",
   "execution_count": 1,
   "metadata": {},
   "outputs": [
    {
     "name": "stderr",
     "output_type": "stream",
     "text": [
      "Using TensorFlow backend.\n"
     ]
    }
   ],
   "source": [
    "import numpy as np\n",
    "import pandas as pd\n",
    "import matplotlib.pyplot as plt\n",
    "import glob\n",
    "import json\n",
    "from cryptocompy import coin,price\n",
    "import tqdm\n",
    "import seaborn as sns\n",
    "sns.set();\n",
    "\n",
    "import io\n",
    "import requests\n",
    "import json\n",
    "from datetime import datetime\n",
    "import time\n",
    "from time import gmtime, strftime\n",
    "\n",
    "from sklearn import metrics\n",
    "from fbprophet import Prophet\n",
    "plt.rcParams[\"figure.figsize\"] = [14,8]\n",
    "pd.set_option('float_format', '{:f}'.format)\n",
    "\n",
    "import warnings\n",
    "warnings.filterwarnings(\"ignore\")\n",
    "\n",
    "pd.set_option('display.max_rows', 500)\n",
    "pd.set_option('display.max_columns', 500)\n",
    "pd.set_option('display.width', 1000)\n",
    "\n",
    "import datetime\n",
    "from datetime import datetime as dt\n",
    "from datetime import timedelta\n",
    "\n",
    "\n",
    "from tqdm import tqdm_notebook\n",
    "from livelossplot.keras import PlotLossesCallback\n",
    "\n",
    "\n",
    "from sklearn.linear_model import LinearRegression\n",
    "from sklearn.preprocessing import LabelEncoder\n",
    "from sklearn.model_selection import train_test_split\n",
    "from sklearn import metrics\n",
    "#from xgboost import XGBRegressor\n",
    "from catboost import CatBoostRegressor, Pool, cv\n",
    "import catboost\n",
    "from sklearn.ensemble import RandomForestRegressor\n",
    "\n",
    "from keras.models import Sequential\n",
    "from keras.layers import Dense\n",
    "from keras.models import model_from_json\n",
    "#from sklearn.cross_validation import cross_val_score\n",
    "#from sklearn.grid_search import GridSearchCV\n",
    "from numpy.random import seed\n",
    "seed(1)\n",
    "from tensorflow import set_random_seed\n",
    "set_random_seed(1)\n",
    "\n",
    "from keras.models import Sequential  \n",
    "from keras.layers.core import Dense, Activation  \n",
    "from keras.layers.recurrent import LSTM\n",
    "from keras.layers.advanced_activations import LeakyReLU\n",
    "\n",
    "from keras import optimizers\n",
    "from keras import backend as K\n",
    "\n",
    "adam = optimizers.Adam(lr=0.01, clipnorm=1.)\n",
    "\n",
    "def root_mean_squared_error(y_true, y_pred):\n",
    "    return K.sqrt(K.mean(K.square(y_pred - y_true), axis=-1)) \n",
    "def nn_r2_score(y_true, y_pred):\n",
    "    total_error = K.sum(K.square( y_true - K.mean(y_true) ) )\n",
    "    residual_error = K.sum(K.square( y_true - y_pred ))\n",
    "    R_squared = 1 - (residual_error / total_error)\n",
    "    return -R_squared\n",
    "\n",
    "\n",
    "from math import sin, cos\n",
    "\n",
    "from gaft import GAEngine\n",
    "from gaft.components import BinaryIndividual,DecimalIndividual\n",
    "from gaft.components import Population\n",
    "from gaft.operators import TournamentSelection, LinearRankingSelection\n",
    "from gaft.operators import UniformCrossover\n",
    "from gaft.operators import FlipBitMutation\n",
    "from gaft.analysis import ConsoleOutput\n",
    "\n",
    "# Analysis plugin base class.\n",
    "from gaft.plugin_interfaces.analysis import OnTheFlyAnalysis\n",
    "\n",
    "# Built-in best fitness analysis.\n",
    "from gaft.analysis.fitness_store import FitnessStore\n",
    "\n",
    "import MySQLdb \n",
    "import sshtunnel\n",
    "from sshtunnel import SSHTunnelForwarder"
   ]
  },
  {
   "cell_type": "code",
   "execution_count": 2,
   "metadata": {},
   "outputs": [
    {
     "name": "stderr",
     "output_type": "stream",
     "text": [
      "WARNING: Logging before flag parsing goes to stderr.\n",
      "I1015 07:02:35.323122 13116 transport.py:1819] Connected (version 2.0, client OpenSSH_7.6p1)\n",
      "I1015 07:02:37.708897 13116 transport.py:1819] Authentication (password) successful!\n"
     ]
    }
   ],
   "source": [
    "df = pd.DataFrame()\n",
    "d1 = pd.DataFrame()\n",
    "d2 = pd.DataFrame()\n",
    "d3 = pd.DataFrame()\n",
    "d4 = pd.DataFrame()\n",
    "d5 = pd.DataFrame()\n",
    "\n",
    "d6 = pd.DataFrame()\n",
    "\n",
    "with SSHTunnelForwarder(('206.189.186.74', 22), ssh_password='crypto1234', ssh_username='aagam', remote_bind_address=('127.0.0.1', 3306)) as server:\n",
    "    conn = MySQLdb.connect(host='localhost', port=server.local_bind_port, user='ianbalina', passwd='5!sT3jt26K%tFN*W',db='ianbalina')\n",
    "    cursor = conn.cursor()\n",
    "    \n",
    "    #cursor.execute(\"SELECT * FROM ianbalina.ico_price_daily_summaries;\") \n",
    "    #m = cursor.fetchone()\n",
    "    query = '''SELECT * FROM ianbalina.ico_price_daily_summaries;'''\n",
    "    data = pd.read_sql_query(query, conn)\n",
    "    df = pd.concat([df,data])\n",
    "    \n",
    "    query = '''SELECT * FROM ianbalina.ico_grade_history;'''\n",
    "    data = pd.read_sql_query(query, conn)\n",
    "    d1 = pd.concat([d1,data])\n",
    "    \n",
    "    query = '''SELECT * FROM ianbalina.ico_analytics;'''\n",
    "    data = pd.read_sql_query(query, conn)\n",
    "    d2 = pd.concat([d2,data])\n",
    "    \n",
    "    query = '''SELECT * FROM ianbalina.icos;'''\n",
    "    data = pd.read_sql_query(query, conn)\n",
    "    d3 = pd.concat([d3,data])\n",
    "    \n",
    "    query = '''SELECT * FROM ianbalina.ico_analytics;'''\n",
    "    data = pd.read_sql_query(query, conn)\n",
    "    d4 = pd.concat([d4,data])\n",
    "    \n",
    "    query = '''SELECT * FROM ianbalina.ico_grade_history_scores;'''\n",
    "    data = pd.read_sql_query(query, conn)\n",
    "    d5 = pd.concat([d5,data])\n",
    "    \n",
    "    query = '''SELECT * FROM ianbalina.tech_scorecard_options;'''\n",
    "    data = pd.read_sql_query(query, conn)\n",
    "    d6 = pd.concat([d6,data])\n",
    "    \n",
    "    conn.close() "
   ]
  },
  {
   "cell_type": "code",
   "execution_count": 3,
   "metadata": {},
   "outputs": [],
   "source": [
    "def get_bins(v):\n",
    "    if v <= 10:\n",
    "        return 0\n",
    "    elif v > 10 and v <= 20:\n",
    "        return 1\n",
    "    elif v > 20 and v <= 30:\n",
    "        return 2\n",
    "    elif v > 30 and v <= 40:\n",
    "        return 3\n",
    "    elif v > 40 and v <= 50:\n",
    "        return 4\n",
    "    elif v > 50 and v <= 60:\n",
    "        return 5\n",
    "    elif v > 60 and v <= 70:\n",
    "        return 6\n",
    "    elif v > 70 and v <= 80:\n",
    "        return 7\n",
    "    elif v > 80 and v <= 90:\n",
    "        return 8\n",
    "    elif v > 90:\n",
    "        return 9"
   ]
  },
  {
   "cell_type": "code",
   "execution_count": 4,
   "metadata": {},
   "outputs": [],
   "source": [
    "def get_technology_accuracy(weights, max_score, tech):\n",
    "    t1 = pd.DataFrame()\n",
    "\n",
    "    for i in tech['ico_symbol'].unique().tolist():\n",
    "        temp = tech[tech['ico_symbol'] == i]\n",
    "        temp = temp.sort_values('question_number')\n",
    "        score = temp['score'] * weights[:len(temp)] \n",
    "        \n",
    "        t1 = pd.concat([t1,pd.DataFrame([i, score.sum() / max_score * 100 / sum(weights[:len(temp)]) * len(temp)]).T])\n",
    "        \n",
    "    t1.columns = ['Coin','Score']\n",
    "    #print(t1)\n",
    "    #ids = tech['ico_id'][tech['ico_symbol'].isin(t1['Coin'])].unique()\n",
    "    alpha = []\n",
    "    for coin in t1['Coin']:\n",
    "        k = tech['ico_id'][tech['ico_symbol'] == coin].unique()\n",
    "        alpha.append(d4['alpha'][d4['ico_id'] == k[0]].values[0])\n",
    "    \n",
    "    t1['Alpha'] = alpha\n",
    "\n",
    "    t1['Score_bins'] = t1['Score'].apply(get_bins)\n",
    "    t1['Alpha_bins'] = pd.cut(t1['Alpha'],[np.floor(t1['Alpha'].min()),0,np.ceil(t1['Alpha'].max())])\n",
    "\n",
    "    final = t1['Alpha_bins'].groupby([t1['Score_bins'],t1['Alpha_bins']]).count().unstack()\n",
    "\n",
    "    x0 = []\n",
    "    x1 = []\n",
    "    for j in range(10):\n",
    "        try:\n",
    "            x0.append(final.loc[j,0])\n",
    "        except:\n",
    "            x0.append(0)\n",
    "\n",
    "    for j in range(10):\n",
    "        try:\n",
    "            x1.append(final.loc[j,1])\n",
    "        except:\n",
    "            x1.append(0)\n",
    "\n",
    "    x = pd.DataFrame()\n",
    "    x[0] = x0\n",
    "    x[1] = x1\n",
    "    x.index = ['(0,10]','(10,20]','(20,30]','(30,40]','(40,50]','(50,60]','(60,70]','(70,80]','(80,90]','(90,100]']\n",
    "\n",
    "    x.fillna(0,inplace=True)\n",
    "\n",
    "    y = x.sum(axis=1)\n",
    "    y1 = (x.iloc[0:5,0] / y[:5]) \n",
    "    y2 = (x.iloc[5:,1] / y[5:])\n",
    "\n",
    "    x['Accuracy'] = y1.append(y2).fillna(0).astype('float64').values * 100\n",
    "    x.columns = [str(final.columns[0]),str(final.columns[1]),'Accuracy']\n",
    "\n",
    "    accuracy = x.iloc[0:5,0].append(x.iloc[5:10,1]).sum() / x.iloc[:,:2].sum(axis=1).sum()\n",
    "    return x, accuracy"
   ]
  },
  {
   "cell_type": "code",
   "execution_count": 5,
   "metadata": {},
   "outputs": [],
   "source": [
    "tech = d5[d5['type'] == 1]\n",
    "d1 = d1[d1['date'] == d1['date'].sort_values().iloc[-1]]\n",
    "tech = tech[tech['ico_grade_history_id'].isin(d1['id'].unique())]\n",
    "tech = pd.merge(tech,d1[['id','ico_id']], left_on = 'ico_grade_history_id', right_on = 'id', how='left')\n",
    "tech = tech.drop('id_y', axis=1)\n",
    "tech.rename(columns={'id_x':'id'}, inplace=True)\n",
    "\n",
    "ids = d3['id'][d3['fundamentals_published_at'].notnull()].unique().tolist()\n",
    "coin = []\n",
    "for id in ids:\n",
    "    coin.append(df['ico_symbol'][df['ico_id'] == id].unique().tolist()[0])\n",
    "    \n",
    "tech = tech[tech['ico_id'].isin(ids)]\n",
    "temp = pd.DataFrame([ids,coin]).T\n",
    "temp.columns = ['ico_id','ico_symbol']\n",
    "\n",
    "tech = pd.merge(tech,temp)\n",
    "tech['question_number'] = tech['name'].str.split('_').str.get(-1)"
   ]
  },
  {
   "cell_type": "code",
   "execution_count": 16,
   "metadata": {},
   "outputs": [
    {
     "name": "stdout",
     "output_type": "stream",
     "text": [
      "    Coin     Score\n",
      "0    TRX 59.929900\n",
      "0    ICX 64.787300\n",
      "0    ONT 63.664900\n",
      "0    ETH 90.304000\n",
      "0    NEO 76.081700\n",
      "0    BNB 77.581700\n",
      "0    ADA 72.728000\n",
      "0    LSK 70.719600\n",
      "0    REP 78.840000\n",
      "0   QTUM 73.214900\n",
      "0    OMG 78.995000\n",
      "0    BAT 84.110200\n",
      "0    EOS 63.665500\n",
      "0    XRP 57.848100\n",
      "0    BTC 93.626000\n",
      "0    BCH 79.085000\n",
      "0    LTC 74.330000\n",
      "0    XLM 73.315200\n",
      "0    XMR 86.896000\n",
      "0   DASH 84.660000\n",
      "0    BSV 73.728000\n",
      "0    XTZ 71.634800\n",
      "0  MIOTA 72.342300\n",
      "0    ETC 71.294000\n",
      "0    MKR 81.114000\n",
      "0    ZEC 86.575000\n",
      "0   DOGE 53.304000\n",
      "0    BTG 63.347000\n",
      "0    DCR 82.650500\n",
      "0    BTT 48.928200\n",
      "0     HT 71.009800\n",
      "0    KCS 48.654200\n",
      "0   ATOM 81.771500\n",
      "0    VET 81.762700\n",
      "0   VSYS 52.853400\n"
     ]
    },
    {
     "data": {
      "text/plain": [
       "(          (-142.0, 0.0]  (0.0, 92.0]   Accuracy\n",
       " (0,10]         0.000000     0.000000   0.000000\n",
       " (10,20]        0.000000     0.000000   0.000000\n",
       " (20,30]        0.000000     0.000000   0.000000\n",
       " (30,40]        0.000000     0.000000   0.000000\n",
       " (40,50]        1.000000     1.000000  50.000000\n",
       " (50,60]        4.000000     0.000000   0.000000\n",
       " (60,70]        2.000000     2.000000  50.000000\n",
       " (70,80]       10.000000     5.000000  33.333333\n",
       " (80,90]        5.000000     3.000000  37.500000\n",
       " (90,100]       0.000000     2.000000 100.000000, 0.37142857142857144)"
      ]
     },
     "execution_count": 16,
     "metadata": {},
     "output_type": "execute_result"
    }
   ],
   "source": [
    "weights = np.ones(28)\n",
    "max_score = 100#d6['score'].groupby([d6['tech_scorecard_question_id']]).max().sum()\n",
    "\n",
    "get_technology_accuracy(weights, max_score, tech)"
   ]
  },
  {
   "cell_type": "code",
   "execution_count": null,
   "metadata": {},
   "outputs": [],
   "source": []
  },
  {
   "cell_type": "code",
   "execution_count": null,
   "metadata": {},
   "outputs": [],
   "source": []
  },
  {
   "cell_type": "code",
   "execution_count": 7,
   "metadata": {},
   "outputs": [],
   "source": [
    "d1 = d1[d1['date'] == d1['date'].sort_values().iloc[-1]]"
   ]
  },
  {
   "cell_type": "code",
   "execution_count": 8,
   "metadata": {},
   "outputs": [
    {
     "data": {
      "text/plain": [
       "array([ -41.0215,   -8.7302,   -5.7908,   -0.7861,  -11.1544,  -11.0794,\n",
       "         11.0396,    0.3483,  -12.4628,   -5.8929,   -6.0445,   -0.2176,\n",
       "         -2.8531,    6.1803,   -3.1604,    2.1257,   -0.5533,   24.3788,\n",
       "          0.143 ,    8.9078,  -12.38  ,    9.3292,    9.5223,  -15.0097,\n",
       "        -10.7704,   45.8284,   -2.5535,   -2.4369,    6.6354,  -10.917 ,\n",
       "          2.1384, -141.8958,  -73.9418,  -12.5754,   91.9429])"
      ]
     },
     "execution_count": 8,
     "metadata": {},
     "output_type": "execute_result"
    }
   ],
   "source": [
    "d4['alpha'][d4['ico_id'].isin(ids)].values"
   ]
  },
  {
   "cell_type": "code",
   "execution_count": 9,
   "metadata": {},
   "outputs": [],
   "source": [
    "ids = d3['id'][d3['fundamentals_published_at'].notnull()].unique().tolist()\n",
    "coin = []\n",
    "for id in ids:\n",
    "    coin.append(df['ico_symbol'][df['ico_id'] == id].unique().tolist()[0])\n",
    "    \n",
    "temp = pd.DataFrame()\n",
    "temp['Coin'] = coin\n",
    "temp['Score'] = d1['tokenmetrics_score'][d1['ico_id'].isin(ids)].values\n",
    "temp['Alpha'] = d4['alpha'][d4['ico_id'].isin(ids)].values"
   ]
  },
  {
   "cell_type": "code",
   "execution_count": 10,
   "metadata": {},
   "outputs": [
    {
     "data": {
      "text/plain": [
       "('Correlation: ', 0.1620055348224786)"
      ]
     },
     "execution_count": 10,
     "metadata": {},
     "output_type": "execute_result"
    }
   ],
   "source": [
    "temp[['Score','Alpha']] = temp[['Score','Alpha']].astype('float64')\n",
    "'Correlation: ', temp.corr().iloc[0,1]"
   ]
  },
  {
   "cell_type": "code",
   "execution_count": 11,
   "metadata": {},
   "outputs": [
    {
     "data": {
      "text/html": [
       "<div>\n",
       "<style scoped>\n",
       "    .dataframe tbody tr th:only-of-type {\n",
       "        vertical-align: middle;\n",
       "    }\n",
       "\n",
       "    .dataframe tbody tr th {\n",
       "        vertical-align: top;\n",
       "    }\n",
       "\n",
       "    .dataframe thead th {\n",
       "        text-align: right;\n",
       "    }\n",
       "</style>\n",
       "<table border=\"1\" class=\"dataframe\">\n",
       "  <thead>\n",
       "    <tr style=\"text-align: right;\">\n",
       "      <th></th>\n",
       "      <th>Coin</th>\n",
       "      <th>Score</th>\n",
       "      <th>Alpha</th>\n",
       "    </tr>\n",
       "  </thead>\n",
       "  <tbody>\n",
       "    <tr>\n",
       "      <th>0</th>\n",
       "      <td>TRX</td>\n",
       "      <td>59.929900</td>\n",
       "      <td>-41.021500</td>\n",
       "    </tr>\n",
       "    <tr>\n",
       "      <th>1</th>\n",
       "      <td>ICX</td>\n",
       "      <td>64.787300</td>\n",
       "      <td>-8.730200</td>\n",
       "    </tr>\n",
       "    <tr>\n",
       "      <th>2</th>\n",
       "      <td>ONT</td>\n",
       "      <td>63.664900</td>\n",
       "      <td>-5.790800</td>\n",
       "    </tr>\n",
       "    <tr>\n",
       "      <th>3</th>\n",
       "      <td>ETH</td>\n",
       "      <td>90.304000</td>\n",
       "      <td>-0.786100</td>\n",
       "    </tr>\n",
       "    <tr>\n",
       "      <th>4</th>\n",
       "      <td>NEO</td>\n",
       "      <td>76.081700</td>\n",
       "      <td>-11.154400</td>\n",
       "    </tr>\n",
       "    <tr>\n",
       "      <th>5</th>\n",
       "      <td>BNB</td>\n",
       "      <td>77.581700</td>\n",
       "      <td>-11.079400</td>\n",
       "    </tr>\n",
       "    <tr>\n",
       "      <th>6</th>\n",
       "      <td>ADA</td>\n",
       "      <td>72.728000</td>\n",
       "      <td>11.039600</td>\n",
       "    </tr>\n",
       "    <tr>\n",
       "      <th>7</th>\n",
       "      <td>LSK</td>\n",
       "      <td>70.719600</td>\n",
       "      <td>0.348300</td>\n",
       "    </tr>\n",
       "    <tr>\n",
       "      <th>8</th>\n",
       "      <td>REP</td>\n",
       "      <td>78.840000</td>\n",
       "      <td>-12.462800</td>\n",
       "    </tr>\n",
       "    <tr>\n",
       "      <th>9</th>\n",
       "      <td>QTUM</td>\n",
       "      <td>73.214900</td>\n",
       "      <td>-5.892900</td>\n",
       "    </tr>\n",
       "    <tr>\n",
       "      <th>10</th>\n",
       "      <td>OMG</td>\n",
       "      <td>78.995000</td>\n",
       "      <td>-6.044500</td>\n",
       "    </tr>\n",
       "    <tr>\n",
       "      <th>11</th>\n",
       "      <td>BAT</td>\n",
       "      <td>84.110200</td>\n",
       "      <td>-0.217600</td>\n",
       "    </tr>\n",
       "    <tr>\n",
       "      <th>12</th>\n",
       "      <td>EOS</td>\n",
       "      <td>63.665500</td>\n",
       "      <td>-2.853100</td>\n",
       "    </tr>\n",
       "    <tr>\n",
       "      <th>13</th>\n",
       "      <td>XRP</td>\n",
       "      <td>57.848100</td>\n",
       "      <td>6.180300</td>\n",
       "    </tr>\n",
       "    <tr>\n",
       "      <th>14</th>\n",
       "      <td>BTC</td>\n",
       "      <td>93.626000</td>\n",
       "      <td>-3.160400</td>\n",
       "    </tr>\n",
       "    <tr>\n",
       "      <th>15</th>\n",
       "      <td>BCH</td>\n",
       "      <td>79.085000</td>\n",
       "      <td>2.125700</td>\n",
       "    </tr>\n",
       "    <tr>\n",
       "      <th>16</th>\n",
       "      <td>LTC</td>\n",
       "      <td>74.330000</td>\n",
       "      <td>-0.553300</td>\n",
       "    </tr>\n",
       "    <tr>\n",
       "      <th>17</th>\n",
       "      <td>XLM</td>\n",
       "      <td>73.315200</td>\n",
       "      <td>24.378800</td>\n",
       "    </tr>\n",
       "    <tr>\n",
       "      <th>18</th>\n",
       "      <td>XMR</td>\n",
       "      <td>86.896000</td>\n",
       "      <td>0.143000</td>\n",
       "    </tr>\n",
       "    <tr>\n",
       "      <th>19</th>\n",
       "      <td>DASH</td>\n",
       "      <td>84.660000</td>\n",
       "      <td>8.907800</td>\n",
       "    </tr>\n",
       "    <tr>\n",
       "      <th>20</th>\n",
       "      <td>BSV</td>\n",
       "      <td>73.728000</td>\n",
       "      <td>-12.380000</td>\n",
       "    </tr>\n",
       "    <tr>\n",
       "      <th>21</th>\n",
       "      <td>XTZ</td>\n",
       "      <td>71.634800</td>\n",
       "      <td>9.329200</td>\n",
       "    </tr>\n",
       "    <tr>\n",
       "      <th>22</th>\n",
       "      <td>MIOTA</td>\n",
       "      <td>72.342300</td>\n",
       "      <td>9.522300</td>\n",
       "    </tr>\n",
       "    <tr>\n",
       "      <th>23</th>\n",
       "      <td>ETC</td>\n",
       "      <td>71.294000</td>\n",
       "      <td>-15.009700</td>\n",
       "    </tr>\n",
       "    <tr>\n",
       "      <th>24</th>\n",
       "      <td>MKR</td>\n",
       "      <td>81.114000</td>\n",
       "      <td>-10.770400</td>\n",
       "    </tr>\n",
       "    <tr>\n",
       "      <th>25</th>\n",
       "      <td>ZEC</td>\n",
       "      <td>86.575000</td>\n",
       "      <td>45.828400</td>\n",
       "    </tr>\n",
       "    <tr>\n",
       "      <th>26</th>\n",
       "      <td>DOGE</td>\n",
       "      <td>53.304000</td>\n",
       "      <td>-2.553500</td>\n",
       "    </tr>\n",
       "    <tr>\n",
       "      <th>27</th>\n",
       "      <td>BTG</td>\n",
       "      <td>63.347000</td>\n",
       "      <td>-2.436900</td>\n",
       "    </tr>\n",
       "    <tr>\n",
       "      <th>28</th>\n",
       "      <td>DCR</td>\n",
       "      <td>82.650500</td>\n",
       "      <td>6.635400</td>\n",
       "    </tr>\n",
       "    <tr>\n",
       "      <th>29</th>\n",
       "      <td>BTT</td>\n",
       "      <td>48.928200</td>\n",
       "      <td>-10.917000</td>\n",
       "    </tr>\n",
       "    <tr>\n",
       "      <th>30</th>\n",
       "      <td>HT</td>\n",
       "      <td>71.009800</td>\n",
       "      <td>2.138400</td>\n",
       "    </tr>\n",
       "    <tr>\n",
       "      <th>31</th>\n",
       "      <td>KCS</td>\n",
       "      <td>48.654200</td>\n",
       "      <td>-141.895800</td>\n",
       "    </tr>\n",
       "    <tr>\n",
       "      <th>32</th>\n",
       "      <td>ATOM</td>\n",
       "      <td>81.771500</td>\n",
       "      <td>-73.941800</td>\n",
       "    </tr>\n",
       "    <tr>\n",
       "      <th>33</th>\n",
       "      <td>VET</td>\n",
       "      <td>81.762700</td>\n",
       "      <td>-12.575400</td>\n",
       "    </tr>\n",
       "    <tr>\n",
       "      <th>34</th>\n",
       "      <td>VSYS</td>\n",
       "      <td>52.853400</td>\n",
       "      <td>91.942900</td>\n",
       "    </tr>\n",
       "  </tbody>\n",
       "</table>\n",
       "</div>"
      ],
      "text/plain": [
       "     Coin     Score       Alpha\n",
       "0     TRX 59.929900  -41.021500\n",
       "1     ICX 64.787300   -8.730200\n",
       "2     ONT 63.664900   -5.790800\n",
       "3     ETH 90.304000   -0.786100\n",
       "4     NEO 76.081700  -11.154400\n",
       "5     BNB 77.581700  -11.079400\n",
       "6     ADA 72.728000   11.039600\n",
       "7     LSK 70.719600    0.348300\n",
       "8     REP 78.840000  -12.462800\n",
       "9    QTUM 73.214900   -5.892900\n",
       "10    OMG 78.995000   -6.044500\n",
       "11    BAT 84.110200   -0.217600\n",
       "12    EOS 63.665500   -2.853100\n",
       "13    XRP 57.848100    6.180300\n",
       "14    BTC 93.626000   -3.160400\n",
       "15    BCH 79.085000    2.125700\n",
       "16    LTC 74.330000   -0.553300\n",
       "17    XLM 73.315200   24.378800\n",
       "18    XMR 86.896000    0.143000\n",
       "19   DASH 84.660000    8.907800\n",
       "20    BSV 73.728000  -12.380000\n",
       "21    XTZ 71.634800    9.329200\n",
       "22  MIOTA 72.342300    9.522300\n",
       "23    ETC 71.294000  -15.009700\n",
       "24    MKR 81.114000  -10.770400\n",
       "25    ZEC 86.575000   45.828400\n",
       "26   DOGE 53.304000   -2.553500\n",
       "27    BTG 63.347000   -2.436900\n",
       "28    DCR 82.650500    6.635400\n",
       "29    BTT 48.928200  -10.917000\n",
       "30     HT 71.009800    2.138400\n",
       "31    KCS 48.654200 -141.895800\n",
       "32   ATOM 81.771500  -73.941800\n",
       "33    VET 81.762700  -12.575400\n",
       "34   VSYS 52.853400   91.942900"
      ]
     },
     "execution_count": 11,
     "metadata": {},
     "output_type": "execute_result"
    }
   ],
   "source": [
    "temp"
   ]
  },
  {
   "cell_type": "code",
   "execution_count": 17,
   "metadata": {},
   "outputs": [],
   "source": [
    "temp['Score_bins'] = pd.cut(temp['Score'],[0,10,20,30,40,50,60,70,80,90,100])\n",
    "temp['Alpha_bins'] = pd.cut(temp['Alpha'],[np.floor(temp['Alpha'].min()),0,np.ceil(temp['Alpha'].max())])"
   ]
  },
  {
   "cell_type": "code",
   "execution_count": 18,
   "metadata": {},
   "outputs": [
    {
     "data": {
      "text/plain": [
       "Alpha_bins  (-142.0, 0.0]  (0.0, 92.0]\n",
       "Score_bins                            \n",
       "(40, 50]         2.000000          nan\n",
       "(50, 60]         2.000000     2.000000\n",
       "(60, 70]         4.000000          nan\n",
       "(70, 80]         8.000000     7.000000\n",
       "(80, 90]         4.000000     4.000000\n",
       "(90, 100]        2.000000          nan"
      ]
     },
     "execution_count": 18,
     "metadata": {},
     "output_type": "execute_result"
    }
   ],
   "source": [
    "final = temp['Alpha_bins'].groupby([temp['Score_bins'],temp['Alpha_bins']]).count().unstack()\n",
    "final"
   ]
  },
  {
   "cell_type": "code",
   "execution_count": 19,
   "metadata": {},
   "outputs": [],
   "source": [
    "x = pd.DataFrame()\n",
    "x[0] = [0,0,0,0] + final.values[:,0].tolist()\n",
    "x[1] = [0,0,0,0] + final.values[:,1].tolist()\n",
    "x.index = ['(0,10]','(10,20]','(20,30]','(30,40]','(40,50]','(50,60]','(60,70]','(70,80]','(80,90]','(90,100]']\n",
    "\n",
    "x.fillna(0,inplace=True)\n",
    "#x[final.columns[0]] = x[final.columns[0]].astype('float64')\n",
    "#x[final.columns[1]] = x[final.columns[1]].astype('float64')\n",
    "\n",
    "y = x.sum(axis=1)\n",
    "y1 = (x.iloc[0:5,0] / y[:5]) \n",
    "y2 = (x.iloc[5:,1] / y[5:])\n",
    "\n",
    "x['Accuracy'] = y1.append(y2).fillna(0).astype('float64').values * 100\n",
    "x.columns = [str(final.columns[0]),str(final.columns[1]),'Accuracy']"
   ]
  },
  {
   "cell_type": "code",
   "execution_count": 20,
   "metadata": {},
   "outputs": [
    {
     "data": {
      "text/html": [
       "<div>\n",
       "<style scoped>\n",
       "    .dataframe tbody tr th:only-of-type {\n",
       "        vertical-align: middle;\n",
       "    }\n",
       "\n",
       "    .dataframe tbody tr th {\n",
       "        vertical-align: top;\n",
       "    }\n",
       "\n",
       "    .dataframe thead th {\n",
       "        text-align: right;\n",
       "    }\n",
       "</style>\n",
       "<table border=\"1\" class=\"dataframe\">\n",
       "  <thead>\n",
       "    <tr style=\"text-align: right;\">\n",
       "      <th></th>\n",
       "      <th>(-142.0, 0.0]</th>\n",
       "      <th>(0.0, 92.0]</th>\n",
       "      <th>Accuracy</th>\n",
       "    </tr>\n",
       "  </thead>\n",
       "  <tbody>\n",
       "    <tr>\n",
       "      <th>(0,10]</th>\n",
       "      <td>0.000000</td>\n",
       "      <td>0.000000</td>\n",
       "      <td>0.000000</td>\n",
       "    </tr>\n",
       "    <tr>\n",
       "      <th>(10,20]</th>\n",
       "      <td>0.000000</td>\n",
       "      <td>0.000000</td>\n",
       "      <td>0.000000</td>\n",
       "    </tr>\n",
       "    <tr>\n",
       "      <th>(20,30]</th>\n",
       "      <td>0.000000</td>\n",
       "      <td>0.000000</td>\n",
       "      <td>0.000000</td>\n",
       "    </tr>\n",
       "    <tr>\n",
       "      <th>(30,40]</th>\n",
       "      <td>0.000000</td>\n",
       "      <td>0.000000</td>\n",
       "      <td>0.000000</td>\n",
       "    </tr>\n",
       "    <tr>\n",
       "      <th>(40,50]</th>\n",
       "      <td>2.000000</td>\n",
       "      <td>0.000000</td>\n",
       "      <td>100.000000</td>\n",
       "    </tr>\n",
       "    <tr>\n",
       "      <th>(50,60]</th>\n",
       "      <td>2.000000</td>\n",
       "      <td>2.000000</td>\n",
       "      <td>50.000000</td>\n",
       "    </tr>\n",
       "    <tr>\n",
       "      <th>(60,70]</th>\n",
       "      <td>4.000000</td>\n",
       "      <td>0.000000</td>\n",
       "      <td>0.000000</td>\n",
       "    </tr>\n",
       "    <tr>\n",
       "      <th>(70,80]</th>\n",
       "      <td>8.000000</td>\n",
       "      <td>7.000000</td>\n",
       "      <td>46.666667</td>\n",
       "    </tr>\n",
       "    <tr>\n",
       "      <th>(80,90]</th>\n",
       "      <td>4.000000</td>\n",
       "      <td>4.000000</td>\n",
       "      <td>50.000000</td>\n",
       "    </tr>\n",
       "    <tr>\n",
       "      <th>(90,100]</th>\n",
       "      <td>2.000000</td>\n",
       "      <td>0.000000</td>\n",
       "      <td>0.000000</td>\n",
       "    </tr>\n",
       "  </tbody>\n",
       "</table>\n",
       "</div>"
      ],
      "text/plain": [
       "          (-142.0, 0.0]  (0.0, 92.0]   Accuracy\n",
       "(0,10]         0.000000     0.000000   0.000000\n",
       "(10,20]        0.000000     0.000000   0.000000\n",
       "(20,30]        0.000000     0.000000   0.000000\n",
       "(30,40]        0.000000     0.000000   0.000000\n",
       "(40,50]        2.000000     0.000000 100.000000\n",
       "(50,60]        2.000000     2.000000  50.000000\n",
       "(60,70]        4.000000     0.000000   0.000000\n",
       "(70,80]        8.000000     7.000000  46.666667\n",
       "(80,90]        4.000000     4.000000  50.000000\n",
       "(90,100]       2.000000     0.000000   0.000000"
      ]
     },
     "execution_count": 20,
     "metadata": {},
     "output_type": "execute_result"
    }
   ],
   "source": [
    "x"
   ]
  },
  {
   "cell_type": "code",
   "execution_count": 21,
   "metadata": {},
   "outputs": [
    {
     "data": {
      "text/plain": [
       "0.42857142857142855"
      ]
     },
     "execution_count": 21,
     "metadata": {},
     "output_type": "execute_result"
    }
   ],
   "source": [
    "x.iloc[0:5,0].append(x.iloc[5:10,1]).sum() / x.iloc[:,:2].sum(axis=1).sum()"
   ]
  },
  {
   "cell_type": "code",
   "execution_count": 24,
   "metadata": {
    "scrolled": true
   },
   "outputs": [
    {
     "name": "stdout",
     "output_type": "stream",
     "text": [
      "gaft.ConsoleOutputAnalysis   INFO     Generation: 0, best fitness: 0.543, best_individual: [7, 10, 0, 5, 4, 8, 1, 2, 6, 0, 2, 10, 9, 7, 6, 10, 7, 1, 6, 0, 6, 5, 1, 5, 8, 0, 6, 6]\n"
     ]
    },
    {
     "name": "stderr",
     "output_type": "stream",
     "text": [
      "I1014 08:12:52.710677 11872 <ipython-input-24-46d7ad2432ef>:37] Generation: 0, best fitness: 0.543, best_individual: [7, 10, 0, 5, 4, 8, 1, 2, 6, 0, 2, 10, 9, 7, 6, 10, 7, 1, 6, 0, 6, 5, 1, 5, 8, 0, 6, 6]\n"
     ]
    },
    {
     "name": "stdout",
     "output_type": "stream",
     "text": [
      "gaft.ConsoleOutputAnalysis   INFO     Generation: 1, best fitness: 0.543, best_individual: [7, 10, 0, 5, 4, 8, 1, 2, 6, 0, 2, 10, 9, 7, 6, 10, 7, 1, 6, 0, 6, 5, 1, 5, 8, 0, 6, 6]\n"
     ]
    },
    {
     "name": "stderr",
     "output_type": "stream",
     "text": [
      "I1014 08:13:37.040265 11872 <ipython-input-24-46d7ad2432ef>:37] Generation: 1, best fitness: 0.543, best_individual: [7, 10, 0, 5, 4, 8, 1, 2, 6, 0, 2, 10, 9, 7, 6, 10, 7, 1, 6, 0, 6, 5, 1, 5, 8, 0, 6, 6]\n"
     ]
    },
    {
     "name": "stdout",
     "output_type": "stream",
     "text": [
      "gaft.ConsoleOutputAnalysis   INFO     Generation: 2, best fitness: 0.543, best_individual: [7, 10, 0, 5, 4, 8, 1, 2, 6, 0, 2, 10, 9, 7, 6, 10, 7, 1, 6, 0, 6, 5, 1, 5, 8, 0, 6, 6]\n"
     ]
    },
    {
     "name": "stderr",
     "output_type": "stream",
     "text": [
      "I1014 08:14:21.056058 11872 <ipython-input-24-46d7ad2432ef>:37] Generation: 2, best fitness: 0.543, best_individual: [7, 10, 0, 5, 4, 8, 1, 2, 6, 0, 2, 10, 9, 7, 6, 10, 7, 1, 6, 0, 6, 5, 1, 5, 8, 0, 6, 6]\n"
     ]
    },
    {
     "name": "stdout",
     "output_type": "stream",
     "text": [
      "gaft.ConsoleOutputAnalysis   INFO     Generation: 3, best fitness: 0.543, best_individual: [7, 10, 0, 5, 4, 8, 1, 2, 6, 0, 2, 10, 9, 7, 6, 10, 7, 1, 6, 0, 6, 5, 1, 5, 8, 0, 6, 6]\n"
     ]
    },
    {
     "name": "stderr",
     "output_type": "stream",
     "text": [
      "I1014 08:15:05.173508 11872 <ipython-input-24-46d7ad2432ef>:37] Generation: 3, best fitness: 0.543, best_individual: [7, 10, 0, 5, 4, 8, 1, 2, 6, 0, 2, 10, 9, 7, 6, 10, 7, 1, 6, 0, 6, 5, 1, 5, 8, 0, 6, 6]\n"
     ]
    },
    {
     "name": "stdout",
     "output_type": "stream",
     "text": [
      "gaft.ConsoleOutputAnalysis   INFO     Generation: 4, best fitness: 0.543, best_individual: [7, 10, 0, 5, 4, 8, 1, 2, 6, 0, 2, 10, 9, 7, 6, 10, 7, 1, 6, 0, 6, 5, 1, 5, 8, 0, 6, 6]\n"
     ]
    },
    {
     "name": "stderr",
     "output_type": "stream",
     "text": [
      "I1014 08:15:48.961950 11872 <ipython-input-24-46d7ad2432ef>:37] Generation: 4, best fitness: 0.543, best_individual: [7, 10, 0, 5, 4, 8, 1, 2, 6, 0, 2, 10, 9, 7, 6, 10, 7, 1, 6, 0, 6, 5, 1, 5, 8, 0, 6, 6]\n"
     ]
    },
    {
     "name": "stdout",
     "output_type": "stream",
     "text": [
      "gaft.ConsoleOutputAnalysis   INFO     Generation: 5, best fitness: 0.543, best_individual: [7, 10, 0, 5, 4, 8, 1, 2, 6, 0, 2, 10, 9, 7, 6, 10, 7, 1, 6, 0, 6, 5, 1, 5, 8, 0, 6, 6]\n"
     ]
    },
    {
     "name": "stderr",
     "output_type": "stream",
     "text": [
      "I1014 08:16:33.679073 11872 <ipython-input-24-46d7ad2432ef>:37] Generation: 5, best fitness: 0.543, best_individual: [7, 10, 0, 5, 4, 8, 1, 2, 6, 0, 2, 10, 9, 7, 6, 10, 7, 1, 6, 0, 6, 5, 1, 5, 8, 0, 6, 6]\n"
     ]
    },
    {
     "name": "stdout",
     "output_type": "stream",
     "text": [
      "gaft.ConsoleOutputAnalysis   INFO     Generation: 6, best fitness: 0.543, best_individual: [7, 10, 0, 5, 4, 8, 1, 2, 6, 0, 2, 10, 9, 7, 6, 10, 7, 1, 6, 0, 6, 5, 1, 5, 8, 0, 6, 6]\n"
     ]
    },
    {
     "name": "stderr",
     "output_type": "stream",
     "text": [
      "I1014 08:17:17.248620 11872 <ipython-input-24-46d7ad2432ef>:37] Generation: 6, best fitness: 0.543, best_individual: [7, 10, 0, 5, 4, 8, 1, 2, 6, 0, 2, 10, 9, 7, 6, 10, 7, 1, 6, 0, 6, 5, 1, 5, 8, 0, 6, 6]\n"
     ]
    },
    {
     "name": "stdout",
     "output_type": "stream",
     "text": [
      "gaft.ConsoleOutputAnalysis   INFO     Generation: 7, best fitness: 0.543, best_individual: [7, 10, 0, 5, 4, 8, 1, 2, 6, 0, 2, 10, 9, 7, 6, 10, 7, 1, 6, 0, 6, 5, 1, 5, 8, 0, 6, 6]\n"
     ]
    },
    {
     "name": "stderr",
     "output_type": "stream",
     "text": [
      "I1014 08:18:01.111716 11872 <ipython-input-24-46d7ad2432ef>:37] Generation: 7, best fitness: 0.543, best_individual: [7, 10, 0, 5, 4, 8, 1, 2, 6, 0, 2, 10, 9, 7, 6, 10, 7, 1, 6, 0, 6, 5, 1, 5, 8, 0, 6, 6]\n"
     ]
    },
    {
     "name": "stdout",
     "output_type": "stream",
     "text": [
      "gaft.ConsoleOutputAnalysis   INFO     Generation: 8, best fitness: 0.543, best_individual: [7, 10, 0, 5, 4, 8, 1, 2, 6, 0, 2, 10, 9, 7, 6, 10, 7, 1, 6, 0, 6, 5, 1, 5, 8, 0, 6, 6]\n"
     ]
    },
    {
     "name": "stderr",
     "output_type": "stream",
     "text": [
      "I1014 08:18:45.097075 11872 <ipython-input-24-46d7ad2432ef>:37] Generation: 8, best fitness: 0.543, best_individual: [7, 10, 0, 5, 4, 8, 1, 2, 6, 0, 2, 10, 9, 7, 6, 10, 7, 1, 6, 0, 6, 5, 1, 5, 8, 0, 6, 6]\n"
     ]
    },
    {
     "name": "stdout",
     "output_type": "stream",
     "text": [
      "gaft.ConsoleOutputAnalysis   INFO     Generation: 9, best fitness: 0.543, best_individual: [7, 10, 0, 5, 4, 8, 1, 2, 6, 0, 2, 10, 9, 7, 6, 10, 7, 1, 6, 0, 6, 5, 1, 5, 8, 0, 6, 6]\n"
     ]
    },
    {
     "name": "stderr",
     "output_type": "stream",
     "text": [
      "I1014 08:19:29.484026 11872 <ipython-input-24-46d7ad2432ef>:37] Generation: 9, best fitness: 0.543, best_individual: [7, 10, 0, 5, 4, 8, 1, 2, 6, 0, 2, 10, 9, 7, 6, 10, 7, 1, 6, 0, 6, 5, 1, 5, 8, 0, 6, 6]\n"
     ]
    },
    {
     "name": "stdout",
     "output_type": "stream",
     "text": [
      "gaft.ConsoleOutputAnalysis   INFO     Generation: 10, best fitness: 0.543, best_individual: [7, 10, 0, 5, 4, 8, 1, 2, 6, 0, 2, 10, 9, 7, 6, 10, 7, 1, 6, 0, 6, 5, 1, 5, 8, 0, 6, 6]\n"
     ]
    },
    {
     "name": "stderr",
     "output_type": "stream",
     "text": [
      "I1014 08:20:13.597223 11872 <ipython-input-24-46d7ad2432ef>:37] Generation: 10, best fitness: 0.543, best_individual: [7, 10, 0, 5, 4, 8, 1, 2, 6, 0, 2, 10, 9, 7, 6, 10, 7, 1, 6, 0, 6, 5, 1, 5, 8, 0, 6, 6]\n"
     ]
    },
    {
     "name": "stdout",
     "output_type": "stream",
     "text": [
      "gaft.ConsoleOutputAnalysis   INFO     Generation: 11, best fitness: 0.543, best_individual: [7, 10, 0, 5, 4, 8, 1, 2, 6, 0, 2, 10, 9, 7, 6, 10, 7, 1, 6, 0, 6, 5, 1, 5, 8, 0, 6, 6]\n"
     ]
    },
    {
     "name": "stderr",
     "output_type": "stream",
     "text": [
      "I1014 08:20:57.121309 11872 <ipython-input-24-46d7ad2432ef>:37] Generation: 11, best fitness: 0.543, best_individual: [7, 10, 0, 5, 4, 8, 1, 2, 6, 0, 2, 10, 9, 7, 6, 10, 7, 1, 6, 0, 6, 5, 1, 5, 8, 0, 6, 6]\n"
     ]
    },
    {
     "name": "stdout",
     "output_type": "stream",
     "text": [
      "gaft.ConsoleOutputAnalysis   INFO     Generation: 12, best fitness: 0.543, best_individual: [7, 10, 0, 5, 4, 8, 1, 2, 6, 0, 2, 10, 9, 7, 6, 10, 7, 1, 6, 0, 6, 5, 1, 5, 8, 0, 6, 6]\n"
     ]
    },
    {
     "name": "stderr",
     "output_type": "stream",
     "text": [
      "I1014 08:21:41.441515 11872 <ipython-input-24-46d7ad2432ef>:37] Generation: 12, best fitness: 0.543, best_individual: [7, 10, 0, 5, 4, 8, 1, 2, 6, 0, 2, 10, 9, 7, 6, 10, 7, 1, 6, 0, 6, 5, 1, 5, 8, 0, 6, 6]\n"
     ]
    },
    {
     "name": "stdout",
     "output_type": "stream",
     "text": [
      "gaft.ConsoleOutputAnalysis   INFO     Generation: 13, best fitness: 0.543, best_individual: [7, 10, 0, 5, 4, 8, 1, 2, 6, 0, 2, 10, 9, 7, 6, 10, 7, 1, 6, 0, 6, 5, 1, 5, 8, 0, 6, 6]\n"
     ]
    },
    {
     "name": "stderr",
     "output_type": "stream",
     "text": [
      "I1014 08:22:24.955204 11872 <ipython-input-24-46d7ad2432ef>:37] Generation: 13, best fitness: 0.543, best_individual: [7, 10, 0, 5, 4, 8, 1, 2, 6, 0, 2, 10, 9, 7, 6, 10, 7, 1, 6, 0, 6, 5, 1, 5, 8, 0, 6, 6]\n"
     ]
    },
    {
     "name": "stdout",
     "output_type": "stream",
     "text": [
      "gaft.ConsoleOutputAnalysis   INFO     Generation: 14, best fitness: 0.543, best_individual: [7, 10, 0, 5, 4, 8, 1, 2, 6, 0, 2, 10, 9, 7, 6, 10, 7, 1, 6, 0, 6, 5, 1, 5, 8, 0, 6, 6]\n"
     ]
    },
    {
     "name": "stderr",
     "output_type": "stream",
     "text": [
      "I1014 08:23:09.328249 11872 <ipython-input-24-46d7ad2432ef>:37] Generation: 14, best fitness: 0.543, best_individual: [7, 10, 0, 5, 4, 8, 1, 2, 6, 0, 2, 10, 9, 7, 6, 10, 7, 1, 6, 0, 6, 5, 1, 5, 8, 0, 6, 6]\n"
     ]
    },
    {
     "name": "stdout",
     "output_type": "stream",
     "text": [
      "gaft.ConsoleOutputAnalysis   INFO     Generation: 15, best fitness: 0.571, best_individual: [8, 7, 1, 10, 3, 5, 6, 0, 7, 10, 3, 5, 1, 3, 8, 3, 3, 1, 5, 2, 7, 9, 1, 2, 7, 2, 8, 10]\n"
     ]
    },
    {
     "name": "stderr",
     "output_type": "stream",
     "text": [
      "I1014 08:23:53.254066 11872 <ipython-input-24-46d7ad2432ef>:37] Generation: 15, best fitness: 0.571, best_individual: [8, 7, 1, 10, 3, 5, 6, 0, 7, 10, 3, 5, 1, 3, 8, 3, 3, 1, 5, 2, 7, 9, 1, 2, 7, 2, 8, 10]\n"
     ]
    },
    {
     "name": "stdout",
     "output_type": "stream",
     "text": [
      "gaft.ConsoleOutputAnalysis   INFO     Generation: 16, best fitness: 0.571, best_individual: [8, 7, 1, 10, 3, 5, 6, 0, 7, 10, 3, 5, 1, 3, 8, 3, 3, 1, 5, 2, 7, 9, 1, 2, 7, 2, 8, 10]\n"
     ]
    },
    {
     "name": "stderr",
     "output_type": "stream",
     "text": [
      "I1014 08:24:37.314368 11872 <ipython-input-24-46d7ad2432ef>:37] Generation: 16, best fitness: 0.571, best_individual: [8, 7, 1, 10, 3, 5, 6, 0, 7, 10, 3, 5, 1, 3, 8, 3, 3, 1, 5, 2, 7, 9, 1, 2, 7, 2, 8, 10]\n"
     ]
    },
    {
     "name": "stdout",
     "output_type": "stream",
     "text": [
      "gaft.ConsoleOutputAnalysis   INFO     Generation: 17, best fitness: 0.571, best_individual: [8, 7, 1, 10, 3, 5, 6, 0, 7, 10, 3, 5, 1, 3, 8, 3, 3, 1, 5, 2, 7, 9, 1, 2, 7, 2, 8, 10]\n"
     ]
    },
    {
     "name": "stderr",
     "output_type": "stream",
     "text": [
      "I1014 08:25:21.088565 11872 <ipython-input-24-46d7ad2432ef>:37] Generation: 17, best fitness: 0.571, best_individual: [8, 7, 1, 10, 3, 5, 6, 0, 7, 10, 3, 5, 1, 3, 8, 3, 3, 1, 5, 2, 7, 9, 1, 2, 7, 2, 8, 10]\n"
     ]
    },
    {
     "name": "stdout",
     "output_type": "stream",
     "text": [
      "gaft.ConsoleOutputAnalysis   INFO     Generation: 18, best fitness: 0.571, best_individual: [8, 7, 1, 10, 3, 5, 6, 0, 7, 10, 3, 5, 1, 3, 8, 3, 3, 1, 5, 2, 7, 9, 1, 2, 7, 2, 8, 10]\n"
     ]
    },
    {
     "name": "stderr",
     "output_type": "stream",
     "text": [
      "I1014 08:26:05.160181 11872 <ipython-input-24-46d7ad2432ef>:37] Generation: 18, best fitness: 0.571, best_individual: [8, 7, 1, 10, 3, 5, 6, 0, 7, 10, 3, 5, 1, 3, 8, 3, 3, 1, 5, 2, 7, 9, 1, 2, 7, 2, 8, 10]\n"
     ]
    },
    {
     "name": "stdout",
     "output_type": "stream",
     "text": [
      "gaft.ConsoleOutputAnalysis   INFO     Generation: 19, best fitness: 0.571, best_individual: [8, 7, 1, 10, 3, 5, 6, 0, 7, 10, 3, 5, 1, 3, 8, 3, 3, 1, 5, 2, 7, 9, 1, 2, 7, 2, 8, 10]\n"
     ]
    },
    {
     "name": "stderr",
     "output_type": "stream",
     "text": [
      "I1014 08:26:49.533610 11872 <ipython-input-24-46d7ad2432ef>:37] Generation: 19, best fitness: 0.571, best_individual: [8, 7, 1, 10, 3, 5, 6, 0, 7, 10, 3, 5, 1, 3, 8, 3, 3, 1, 5, 2, 7, 9, 1, 2, 7, 2, 8, 10]\n"
     ]
    },
    {
     "name": "stdout",
     "output_type": "stream",
     "text": [
      "gaft.ConsoleOutputAnalysis   INFO     Generation: 20, best fitness: 0.571, best_individual: [8, 7, 1, 10, 3, 5, 6, 0, 7, 10, 3, 5, 1, 3, 8, 3, 3, 1, 5, 2, 7, 9, 1, 2, 7, 2, 8, 10]\n"
     ]
    },
    {
     "name": "stderr",
     "output_type": "stream",
     "text": [
      "I1014 08:27:33.883419 11872 <ipython-input-24-46d7ad2432ef>:37] Generation: 20, best fitness: 0.571, best_individual: [8, 7, 1, 10, 3, 5, 6, 0, 7, 10, 3, 5, 1, 3, 8, 3, 3, 1, 5, 2, 7, 9, 1, 2, 7, 2, 8, 10]\n"
     ]
    },
    {
     "name": "stdout",
     "output_type": "stream",
     "text": [
      "gaft.ConsoleOutputAnalysis   INFO     Generation: 21, best fitness: 0.571, best_individual: [8, 7, 1, 10, 3, 5, 6, 0, 7, 10, 3, 5, 1, 3, 8, 3, 3, 1, 5, 2, 7, 9, 1, 2, 7, 2, 8, 10]\n"
     ]
    },
    {
     "name": "stderr",
     "output_type": "stream",
     "text": [
      "I1014 08:28:17.448409 11872 <ipython-input-24-46d7ad2432ef>:37] Generation: 21, best fitness: 0.571, best_individual: [8, 7, 1, 10, 3, 5, 6, 0, 7, 10, 3, 5, 1, 3, 8, 3, 3, 1, 5, 2, 7, 9, 1, 2, 7, 2, 8, 10]\n"
     ]
    },
    {
     "name": "stdout",
     "output_type": "stream",
     "text": [
      "gaft.ConsoleOutputAnalysis   INFO     Generation: 22, best fitness: 0.571, best_individual: [8, 7, 1, 10, 3, 5, 6, 0, 7, 10, 3, 5, 1, 3, 8, 3, 3, 1, 5, 2, 7, 9, 1, 2, 7, 2, 8, 10]\n"
     ]
    },
    {
     "name": "stderr",
     "output_type": "stream",
     "text": [
      "I1014 08:28:54.140758 11872 <ipython-input-24-46d7ad2432ef>:37] Generation: 22, best fitness: 0.571, best_individual: [8, 7, 1, 10, 3, 5, 6, 0, 7, 10, 3, 5, 1, 3, 8, 3, 3, 1, 5, 2, 7, 9, 1, 2, 7, 2, 8, 10]\n"
     ]
    },
    {
     "name": "stdout",
     "output_type": "stream",
     "text": [
      "gaft.ConsoleOutputAnalysis   INFO     Generation: 23, best fitness: 0.571, best_individual: [8, 7, 1, 10, 3, 5, 6, 0, 7, 10, 3, 5, 1, 3, 8, 3, 3, 1, 5, 2, 7, 9, 1, 2, 7, 2, 8, 10]\n"
     ]
    },
    {
     "name": "stderr",
     "output_type": "stream",
     "text": [
      "I1014 08:29:38.435455 11872 <ipython-input-24-46d7ad2432ef>:37] Generation: 23, best fitness: 0.571, best_individual: [8, 7, 1, 10, 3, 5, 6, 0, 7, 10, 3, 5, 1, 3, 8, 3, 3, 1, 5, 2, 7, 9, 1, 2, 7, 2, 8, 10]\n"
     ]
    },
    {
     "name": "stdout",
     "output_type": "stream",
     "text": [
      "gaft.ConsoleOutputAnalysis   INFO     Generation: 24, best fitness: 0.571, best_individual: [8, 7, 1, 10, 3, 5, 6, 0, 7, 10, 3, 5, 1, 3, 8, 3, 3, 1, 5, 2, 7, 9, 1, 2, 7, 2, 8, 10]\n"
     ]
    },
    {
     "name": "stderr",
     "output_type": "stream",
     "text": [
      "I1014 08:30:22.655300 11872 <ipython-input-24-46d7ad2432ef>:37] Generation: 24, best fitness: 0.571, best_individual: [8, 7, 1, 10, 3, 5, 6, 0, 7, 10, 3, 5, 1, 3, 8, 3, 3, 1, 5, 2, 7, 9, 1, 2, 7, 2, 8, 10]\n"
     ]
    },
    {
     "name": "stdout",
     "output_type": "stream",
     "text": [
      "gaft.ConsoleOutputAnalysis   INFO     Generation: 25, best fitness: 0.571, best_individual: [8, 7, 1, 10, 3, 5, 6, 0, 7, 10, 3, 5, 1, 3, 8, 3, 3, 1, 5, 2, 7, 9, 1, 2, 7, 2, 8, 10]\n"
     ]
    },
    {
     "name": "stderr",
     "output_type": "stream",
     "text": [
      "I1014 08:31:06.333537 11872 <ipython-input-24-46d7ad2432ef>:37] Generation: 25, best fitness: 0.571, best_individual: [8, 7, 1, 10, 3, 5, 6, 0, 7, 10, 3, 5, 1, 3, 8, 3, 3, 1, 5, 2, 7, 9, 1, 2, 7, 2, 8, 10]\n"
     ]
    },
    {
     "name": "stdout",
     "output_type": "stream",
     "text": [
      "gaft.ConsoleOutputAnalysis   INFO     Generation: 26, best fitness: 0.571, best_individual: [8, 7, 1, 10, 3, 5, 6, 0, 7, 10, 3, 5, 1, 3, 8, 3, 3, 1, 5, 2, 7, 9, 1, 2, 7, 2, 8, 10]\n"
     ]
    },
    {
     "name": "stderr",
     "output_type": "stream",
     "text": [
      "I1014 08:31:49.569957 11872 <ipython-input-24-46d7ad2432ef>:37] Generation: 26, best fitness: 0.571, best_individual: [8, 7, 1, 10, 3, 5, 6, 0, 7, 10, 3, 5, 1, 3, 8, 3, 3, 1, 5, 2, 7, 9, 1, 2, 7, 2, 8, 10]\n"
     ]
    },
    {
     "name": "stdout",
     "output_type": "stream",
     "text": [
      "gaft.ConsoleOutputAnalysis   INFO     Generation: 27, best fitness: 0.571, best_individual: [8, 7, 1, 10, 3, 5, 6, 0, 7, 10, 3, 5, 1, 3, 8, 3, 3, 1, 5, 2, 7, 9, 1, 2, 7, 2, 8, 10]\n"
     ]
    },
    {
     "name": "stderr",
     "output_type": "stream",
     "text": [
      "I1014 08:32:33.245183 11872 <ipython-input-24-46d7ad2432ef>:37] Generation: 27, best fitness: 0.571, best_individual: [8, 7, 1, 10, 3, 5, 6, 0, 7, 10, 3, 5, 1, 3, 8, 3, 3, 1, 5, 2, 7, 9, 1, 2, 7, 2, 8, 10]\n"
     ]
    },
    {
     "name": "stdout",
     "output_type": "stream",
     "text": [
      "gaft.ConsoleOutputAnalysis   INFO     Generation: 28, best fitness: 0.571, best_individual: [8, 7, 1, 10, 3, 5, 6, 0, 7, 10, 3, 5, 1, 3, 8, 3, 3, 1, 5, 2, 7, 9, 1, 2, 7, 2, 8, 10]\n"
     ]
    },
    {
     "name": "stderr",
     "output_type": "stream",
     "text": [
      "I1014 08:33:16.848463 11872 <ipython-input-24-46d7ad2432ef>:37] Generation: 28, best fitness: 0.571, best_individual: [8, 7, 1, 10, 3, 5, 6, 0, 7, 10, 3, 5, 1, 3, 8, 3, 3, 1, 5, 2, 7, 9, 1, 2, 7, 2, 8, 10]\n"
     ]
    },
    {
     "name": "stdout",
     "output_type": "stream",
     "text": [
      "gaft.ConsoleOutputAnalysis   INFO     Generation: 29, best fitness: 0.571, best_individual: [8, 7, 1, 10, 3, 5, 6, 0, 7, 10, 3, 5, 1, 3, 8, 3, 3, 1, 5, 2, 7, 9, 1, 2, 7, 2, 8, 10]\n"
     ]
    },
    {
     "name": "stderr",
     "output_type": "stream",
     "text": [
      "I1014 08:34:00.376043 11872 <ipython-input-24-46d7ad2432ef>:37] Generation: 29, best fitness: 0.571, best_individual: [8, 7, 1, 10, 3, 5, 6, 0, 7, 10, 3, 5, 1, 3, 8, 3, 3, 1, 5, 2, 7, 9, 1, 2, 7, 2, 8, 10]\n"
     ]
    },
    {
     "name": "stdout",
     "output_type": "stream",
     "text": [
      "gaft.ConsoleOutputAnalysis   INFO     Generation: 30, best fitness: 0.571, best_individual: [8, 7, 1, 10, 3, 5, 6, 0, 7, 10, 3, 5, 1, 3, 8, 3, 3, 1, 5, 2, 7, 9, 1, 2, 7, 2, 8, 10]\n"
     ]
    },
    {
     "name": "stderr",
     "output_type": "stream",
     "text": [
      "I1014 08:34:43.929899 11872 <ipython-input-24-46d7ad2432ef>:37] Generation: 30, best fitness: 0.571, best_individual: [8, 7, 1, 10, 3, 5, 6, 0, 7, 10, 3, 5, 1, 3, 8, 3, 3, 1, 5, 2, 7, 9, 1, 2, 7, 2, 8, 10]\n"
     ]
    },
    {
     "name": "stdout",
     "output_type": "stream",
     "text": [
      "gaft.ConsoleOutputAnalysis   INFO     Generation: 31, best fitness: 0.571, best_individual: [8, 7, 1, 10, 3, 5, 6, 0, 7, 10, 3, 5, 1, 3, 8, 3, 3, 1, 5, 2, 7, 9, 1, 2, 7, 2, 8, 10]\n"
     ]
    },
    {
     "name": "stderr",
     "output_type": "stream",
     "text": [
      "I1014 08:35:29.634886 11872 <ipython-input-24-46d7ad2432ef>:37] Generation: 31, best fitness: 0.571, best_individual: [8, 7, 1, 10, 3, 5, 6, 0, 7, 10, 3, 5, 1, 3, 8, 3, 3, 1, 5, 2, 7, 9, 1, 2, 7, 2, 8, 10]\n"
     ]
    },
    {
     "name": "stdout",
     "output_type": "stream",
     "text": [
      "gaft.ConsoleOutputAnalysis   INFO     Generation: 32, best fitness: 0.571, best_individual: [8, 7, 1, 10, 3, 5, 6, 0, 7, 10, 3, 5, 1, 3, 8, 3, 3, 1, 5, 2, 7, 9, 1, 2, 7, 2, 8, 10]\n"
     ]
    },
    {
     "name": "stderr",
     "output_type": "stream",
     "text": [
      "I1014 08:36:13.417087 11872 <ipython-input-24-46d7ad2432ef>:37] Generation: 32, best fitness: 0.571, best_individual: [8, 7, 1, 10, 3, 5, 6, 0, 7, 10, 3, 5, 1, 3, 8, 3, 3, 1, 5, 2, 7, 9, 1, 2, 7, 2, 8, 10]\n"
     ]
    },
    {
     "name": "stdout",
     "output_type": "stream",
     "text": [
      "gaft.ConsoleOutputAnalysis   INFO     Generation: 33, best fitness: 0.571, best_individual: [8, 7, 1, 10, 3, 5, 6, 0, 7, 10, 3, 5, 1, 3, 8, 3, 3, 1, 5, 2, 7, 9, 1, 2, 7, 2, 8, 10]\n"
     ]
    },
    {
     "name": "stderr",
     "output_type": "stream",
     "text": [
      "I1014 08:36:57.236428 11872 <ipython-input-24-46d7ad2432ef>:37] Generation: 33, best fitness: 0.571, best_individual: [8, 7, 1, 10, 3, 5, 6, 0, 7, 10, 3, 5, 1, 3, 8, 3, 3, 1, 5, 2, 7, 9, 1, 2, 7, 2, 8, 10]\n"
     ]
    },
    {
     "name": "stdout",
     "output_type": "stream",
     "text": [
      "gaft.ConsoleOutputAnalysis   INFO     Generation: 34, best fitness: 0.571, best_individual: [8, 7, 1, 10, 3, 5, 6, 0, 7, 10, 3, 5, 1, 3, 8, 3, 3, 1, 5, 2, 7, 9, 1, 2, 7, 2, 8, 10]\n"
     ]
    },
    {
     "name": "stderr",
     "output_type": "stream",
     "text": [
      "I1014 08:37:41.087895 11872 <ipython-input-24-46d7ad2432ef>:37] Generation: 34, best fitness: 0.571, best_individual: [8, 7, 1, 10, 3, 5, 6, 0, 7, 10, 3, 5, 1, 3, 8, 3, 3, 1, 5, 2, 7, 9, 1, 2, 7, 2, 8, 10]\n"
     ]
    },
    {
     "name": "stdout",
     "output_type": "stream",
     "text": [
      "gaft.ConsoleOutputAnalysis   INFO     Generation: 35, best fitness: 0.571, best_individual: [8, 7, 1, 10, 3, 5, 6, 0, 7, 10, 3, 5, 1, 3, 8, 3, 3, 1, 5, 2, 7, 9, 1, 2, 7, 2, 8, 10]\n"
     ]
    },
    {
     "name": "stderr",
     "output_type": "stream",
     "text": [
      "I1014 08:38:24.578880 11872 <ipython-input-24-46d7ad2432ef>:37] Generation: 35, best fitness: 0.571, best_individual: [8, 7, 1, 10, 3, 5, 6, 0, 7, 10, 3, 5, 1, 3, 8, 3, 3, 1, 5, 2, 7, 9, 1, 2, 7, 2, 8, 10]\n"
     ]
    },
    {
     "name": "stdout",
     "output_type": "stream",
     "text": [
      "gaft.ConsoleOutputAnalysis   INFO     Generation: 36, best fitness: 0.571, best_individual: [8, 7, 1, 10, 3, 5, 6, 0, 7, 10, 3, 5, 1, 3, 8, 3, 3, 1, 5, 2, 7, 9, 1, 2, 7, 2, 8, 10]\n"
     ]
    },
    {
     "name": "stderr",
     "output_type": "stream",
     "text": [
      "I1014 08:39:08.466350 11872 <ipython-input-24-46d7ad2432ef>:37] Generation: 36, best fitness: 0.571, best_individual: [8, 7, 1, 10, 3, 5, 6, 0, 7, 10, 3, 5, 1, 3, 8, 3, 3, 1, 5, 2, 7, 9, 1, 2, 7, 2, 8, 10]\n"
     ]
    },
    {
     "name": "stdout",
     "output_type": "stream",
     "text": [
      "gaft.ConsoleOutputAnalysis   INFO     Generation: 37, best fitness: 0.571, best_individual: [8, 7, 1, 10, 3, 5, 6, 0, 7, 10, 3, 5, 1, 3, 8, 3, 3, 1, 5, 2, 7, 9, 1, 2, 7, 2, 8, 10]\n"
     ]
    },
    {
     "name": "stderr",
     "output_type": "stream",
     "text": [
      "I1014 08:39:52.386965 11872 <ipython-input-24-46d7ad2432ef>:37] Generation: 37, best fitness: 0.571, best_individual: [8, 7, 1, 10, 3, 5, 6, 0, 7, 10, 3, 5, 1, 3, 8, 3, 3, 1, 5, 2, 7, 9, 1, 2, 7, 2, 8, 10]\n"
     ]
    },
    {
     "name": "stdout",
     "output_type": "stream",
     "text": [
      "gaft.ConsoleOutputAnalysis   INFO     Generation: 38, best fitness: 0.571, best_individual: [8, 7, 1, 10, 3, 5, 6, 0, 7, 10, 3, 5, 1, 3, 8, 3, 3, 1, 5, 2, 7, 9, 1, 2, 7, 2, 8, 10]\n"
     ]
    },
    {
     "name": "stderr",
     "output_type": "stream",
     "text": [
      "I1014 08:40:35.380137 11872 <ipython-input-24-46d7ad2432ef>:37] Generation: 38, best fitness: 0.571, best_individual: [8, 7, 1, 10, 3, 5, 6, 0, 7, 10, 3, 5, 1, 3, 8, 3, 3, 1, 5, 2, 7, 9, 1, 2, 7, 2, 8, 10]\n"
     ]
    },
    {
     "name": "stdout",
     "output_type": "stream",
     "text": [
      "gaft.ConsoleOutputAnalysis   INFO     Generation: 39, best fitness: 0.571, best_individual: [8, 7, 1, 10, 3, 5, 6, 0, 7, 10, 3, 5, 1, 3, 8, 3, 3, 1, 5, 2, 7, 9, 1, 2, 7, 2, 8, 10]\n"
     ]
    },
    {
     "name": "stderr",
     "output_type": "stream",
     "text": [
      "I1014 08:41:18.343205 11872 <ipython-input-24-46d7ad2432ef>:37] Generation: 39, best fitness: 0.571, best_individual: [8, 7, 1, 10, 3, 5, 6, 0, 7, 10, 3, 5, 1, 3, 8, 3, 3, 1, 5, 2, 7, 9, 1, 2, 7, 2, 8, 10]\n"
     ]
    },
    {
     "name": "stdout",
     "output_type": "stream",
     "text": [
      "gaft.ConsoleOutputAnalysis   INFO     Generation: 40, best fitness: 0.571, best_individual: [8, 7, 1, 10, 3, 5, 6, 0, 7, 10, 3, 5, 1, 3, 8, 3, 3, 1, 5, 2, 7, 9, 1, 2, 7, 2, 8, 10]\n"
     ]
    },
    {
     "name": "stderr",
     "output_type": "stream",
     "text": [
      "I1014 08:42:02.058188 11872 <ipython-input-24-46d7ad2432ef>:37] Generation: 40, best fitness: 0.571, best_individual: [8, 7, 1, 10, 3, 5, 6, 0, 7, 10, 3, 5, 1, 3, 8, 3, 3, 1, 5, 2, 7, 9, 1, 2, 7, 2, 8, 10]\n"
     ]
    },
    {
     "name": "stdout",
     "output_type": "stream",
     "text": [
      "gaft.ConsoleOutputAnalysis   INFO     Generation: 41, best fitness: 0.571, best_individual: [8, 7, 1, 10, 3, 5, 6, 0, 7, 10, 3, 5, 1, 3, 8, 3, 3, 1, 5, 2, 7, 9, 1, 2, 7, 2, 8, 10]\n"
     ]
    },
    {
     "name": "stderr",
     "output_type": "stream",
     "text": [
      "I1014 08:42:45.038508 11872 <ipython-input-24-46d7ad2432ef>:37] Generation: 41, best fitness: 0.571, best_individual: [8, 7, 1, 10, 3, 5, 6, 0, 7, 10, 3, 5, 1, 3, 8, 3, 3, 1, 5, 2, 7, 9, 1, 2, 7, 2, 8, 10]\n"
     ]
    },
    {
     "name": "stdout",
     "output_type": "stream",
     "text": [
      "gaft.ConsoleOutputAnalysis   INFO     Generation: 42, best fitness: 0.571, best_individual: [8, 7, 1, 10, 3, 5, 6, 0, 7, 10, 3, 5, 1, 3, 8, 3, 3, 1, 5, 2, 7, 9, 1, 2, 7, 2, 8, 10]\n"
     ]
    },
    {
     "name": "stderr",
     "output_type": "stream",
     "text": [
      "I1014 08:43:29.051479 11872 <ipython-input-24-46d7ad2432ef>:37] Generation: 42, best fitness: 0.571, best_individual: [8, 7, 1, 10, 3, 5, 6, 0, 7, 10, 3, 5, 1, 3, 8, 3, 3, 1, 5, 2, 7, 9, 1, 2, 7, 2, 8, 10]\n"
     ]
    },
    {
     "name": "stdout",
     "output_type": "stream",
     "text": [
      "gaft.ConsoleOutputAnalysis   INFO     Generation: 43, best fitness: 0.571, best_individual: [8, 7, 1, 10, 3, 5, 6, 0, 7, 10, 3, 5, 1, 3, 8, 3, 3, 1, 5, 2, 7, 9, 1, 2, 7, 2, 8, 10]\n"
     ]
    },
    {
     "name": "stderr",
     "output_type": "stream",
     "text": [
      "I1014 08:44:12.984316 11872 <ipython-input-24-46d7ad2432ef>:37] Generation: 43, best fitness: 0.571, best_individual: [8, 7, 1, 10, 3, 5, 6, 0, 7, 10, 3, 5, 1, 3, 8, 3, 3, 1, 5, 2, 7, 9, 1, 2, 7, 2, 8, 10]\n"
     ]
    },
    {
     "name": "stdout",
     "output_type": "stream",
     "text": [
      "gaft.ConsoleOutputAnalysis   INFO     Generation: 44, best fitness: 0.571, best_individual: [8, 7, 1, 10, 3, 5, 6, 0, 7, 10, 3, 5, 1, 3, 8, 3, 3, 1, 5, 2, 7, 9, 1, 2, 7, 2, 8, 10]\n"
     ]
    },
    {
     "name": "stderr",
     "output_type": "stream",
     "text": [
      "I1014 08:44:56.467638 11872 <ipython-input-24-46d7ad2432ef>:37] Generation: 44, best fitness: 0.571, best_individual: [8, 7, 1, 10, 3, 5, 6, 0, 7, 10, 3, 5, 1, 3, 8, 3, 3, 1, 5, 2, 7, 9, 1, 2, 7, 2, 8, 10]\n"
     ]
    },
    {
     "name": "stdout",
     "output_type": "stream",
     "text": [
      "gaft.ConsoleOutputAnalysis   INFO     Generation: 45, best fitness: 0.571, best_individual: [8, 7, 1, 10, 3, 5, 6, 0, 7, 10, 3, 5, 1, 3, 8, 3, 3, 1, 5, 2, 7, 9, 1, 2, 7, 2, 8, 10]\n"
     ]
    },
    {
     "name": "stderr",
     "output_type": "stream",
     "text": [
      "I1014 08:45:40.542090 11872 <ipython-input-24-46d7ad2432ef>:37] Generation: 45, best fitness: 0.571, best_individual: [8, 7, 1, 10, 3, 5, 6, 0, 7, 10, 3, 5, 1, 3, 8, 3, 3, 1, 5, 2, 7, 9, 1, 2, 7, 2, 8, 10]\n"
     ]
    },
    {
     "name": "stdout",
     "output_type": "stream",
     "text": [
      "gaft.ConsoleOutputAnalysis   INFO     Generation: 46, best fitness: 0.571, best_individual: [8, 7, 1, 10, 3, 5, 6, 0, 7, 10, 3, 5, 1, 3, 8, 3, 3, 1, 5, 2, 7, 9, 1, 2, 7, 2, 8, 10]\n"
     ]
    },
    {
     "name": "stderr",
     "output_type": "stream",
     "text": [
      "I1014 08:46:23.680583 11872 <ipython-input-24-46d7ad2432ef>:37] Generation: 46, best fitness: 0.571, best_individual: [8, 7, 1, 10, 3, 5, 6, 0, 7, 10, 3, 5, 1, 3, 8, 3, 3, 1, 5, 2, 7, 9, 1, 2, 7, 2, 8, 10]\n"
     ]
    },
    {
     "name": "stdout",
     "output_type": "stream",
     "text": [
      "gaft.ConsoleOutputAnalysis   INFO     Generation: 47, best fitness: 0.571, best_individual: [8, 7, 1, 10, 3, 5, 6, 0, 7, 10, 3, 5, 1, 3, 8, 3, 3, 1, 5, 2, 7, 9, 1, 2, 7, 2, 8, 10]\n"
     ]
    },
    {
     "name": "stderr",
     "output_type": "stream",
     "text": [
      "I1014 08:47:07.256173 11872 <ipython-input-24-46d7ad2432ef>:37] Generation: 47, best fitness: 0.571, best_individual: [8, 7, 1, 10, 3, 5, 6, 0, 7, 10, 3, 5, 1, 3, 8, 3, 3, 1, 5, 2, 7, 9, 1, 2, 7, 2, 8, 10]\n"
     ]
    },
    {
     "name": "stdout",
     "output_type": "stream",
     "text": [
      "gaft.ConsoleOutputAnalysis   INFO     Generation: 48, best fitness: 0.571, best_individual: [8, 7, 1, 10, 3, 5, 6, 0, 7, 10, 3, 5, 1, 3, 8, 3, 3, 1, 5, 2, 7, 9, 1, 2, 7, 2, 8, 10]\n"
     ]
    },
    {
     "name": "stderr",
     "output_type": "stream",
     "text": [
      "I1014 08:47:50.765755 11872 <ipython-input-24-46d7ad2432ef>:37] Generation: 48, best fitness: 0.571, best_individual: [8, 7, 1, 10, 3, 5, 6, 0, 7, 10, 3, 5, 1, 3, 8, 3, 3, 1, 5, 2, 7, 9, 1, 2, 7, 2, 8, 10]\n"
     ]
    },
    {
     "name": "stdout",
     "output_type": "stream",
     "text": [
      "gaft.ConsoleOutputAnalysis   INFO     Generation: 49, best fitness: 0.571, best_individual: [8, 7, 1, 10, 3, 5, 6, 0, 7, 10, 3, 5, 1, 3, 8, 3, 3, 1, 5, 2, 7, 9, 1, 2, 7, 2, 8, 10]\n"
     ]
    },
    {
     "name": "stderr",
     "output_type": "stream",
     "text": [
      "I1014 08:48:35.478796 11872 <ipython-input-24-46d7ad2432ef>:37] Generation: 49, best fitness: 0.571, best_individual: [8, 7, 1, 10, 3, 5, 6, 0, 7, 10, 3, 5, 1, 3, 8, 3, 3, 1, 5, 2, 7, 9, 1, 2, 7, 2, 8, 10]\n"
     ]
    },
    {
     "name": "stdout",
     "output_type": "stream",
     "text": [
      "gaft.ConsoleOutputAnalysis   INFO     Generation: 50, best fitness: 0.571, best_individual: [8, 7, 1, 10, 3, 5, 6, 0, 7, 10, 3, 5, 1, 3, 8, 3, 3, 1, 5, 2, 7, 9, 1, 2, 7, 2, 8, 10]\n"
     ]
    },
    {
     "name": "stderr",
     "output_type": "stream",
     "text": [
      "I1014 08:49:22.286011 11872 <ipython-input-24-46d7ad2432ef>:37] Generation: 50, best fitness: 0.571, best_individual: [8, 7, 1, 10, 3, 5, 6, 0, 7, 10, 3, 5, 1, 3, 8, 3, 3, 1, 5, 2, 7, 9, 1, 2, 7, 2, 8, 10]\n"
     ]
    },
    {
     "name": "stdout",
     "output_type": "stream",
     "text": [
      "gaft.ConsoleOutputAnalysis   INFO     Generation: 51, best fitness: 0.571, best_individual: [8, 7, 1, 10, 3, 5, 6, 0, 7, 10, 3, 5, 1, 3, 8, 3, 3, 1, 5, 2, 7, 9, 1, 2, 7, 2, 8, 10]\n"
     ]
    },
    {
     "name": "stderr",
     "output_type": "stream",
     "text": [
      "I1014 08:50:02.252994 11872 <ipython-input-24-46d7ad2432ef>:37] Generation: 51, best fitness: 0.571, best_individual: [8, 7, 1, 10, 3, 5, 6, 0, 7, 10, 3, 5, 1, 3, 8, 3, 3, 1, 5, 2, 7, 9, 1, 2, 7, 2, 8, 10]\n"
     ]
    },
    {
     "name": "stdout",
     "output_type": "stream",
     "text": [
      "gaft.ConsoleOutputAnalysis   INFO     Generation: 52, best fitness: 0.571, best_individual: [8, 7, 1, 10, 3, 5, 6, 0, 7, 10, 3, 5, 1, 3, 8, 3, 3, 1, 5, 2, 7, 9, 1, 2, 7, 2, 8, 10]\n"
     ]
    },
    {
     "name": "stderr",
     "output_type": "stream",
     "text": [
      "I1014 08:50:45.654352 11872 <ipython-input-24-46d7ad2432ef>:37] Generation: 52, best fitness: 0.571, best_individual: [8, 7, 1, 10, 3, 5, 6, 0, 7, 10, 3, 5, 1, 3, 8, 3, 3, 1, 5, 2, 7, 9, 1, 2, 7, 2, 8, 10]\n"
     ]
    },
    {
     "name": "stdout",
     "output_type": "stream",
     "text": [
      "gaft.ConsoleOutputAnalysis   INFO     Generation: 53, best fitness: 0.571, best_individual: [8, 7, 1, 10, 3, 5, 6, 0, 7, 10, 3, 5, 1, 3, 8, 3, 3, 1, 5, 2, 7, 9, 1, 2, 7, 2, 8, 10]\n"
     ]
    },
    {
     "name": "stderr",
     "output_type": "stream",
     "text": [
      "I1014 08:51:29.143450 11872 <ipython-input-24-46d7ad2432ef>:37] Generation: 53, best fitness: 0.571, best_individual: [8, 7, 1, 10, 3, 5, 6, 0, 7, 10, 3, 5, 1, 3, 8, 3, 3, 1, 5, 2, 7, 9, 1, 2, 7, 2, 8, 10]\n"
     ]
    },
    {
     "name": "stdout",
     "output_type": "stream",
     "text": [
      "gaft.ConsoleOutputAnalysis   INFO     Generation: 54, best fitness: 0.571, best_individual: [8, 7, 1, 10, 3, 5, 6, 0, 7, 10, 3, 5, 1, 3, 8, 3, 3, 1, 5, 2, 7, 9, 1, 2, 7, 2, 8, 10]\n"
     ]
    },
    {
     "name": "stderr",
     "output_type": "stream",
     "text": [
      "I1014 08:52:11.942240 11872 <ipython-input-24-46d7ad2432ef>:37] Generation: 54, best fitness: 0.571, best_individual: [8, 7, 1, 10, 3, 5, 6, 0, 7, 10, 3, 5, 1, 3, 8, 3, 3, 1, 5, 2, 7, 9, 1, 2, 7, 2, 8, 10]\n"
     ]
    },
    {
     "name": "stdout",
     "output_type": "stream",
     "text": [
      "gaft.ConsoleOutputAnalysis   INFO     Generation: 55, best fitness: 0.571, best_individual: [8, 7, 1, 10, 3, 5, 6, 0, 7, 10, 3, 5, 1, 3, 8, 3, 3, 1, 5, 2, 7, 9, 1, 2, 7, 2, 8, 10]\n"
     ]
    },
    {
     "name": "stderr",
     "output_type": "stream",
     "text": [
      "I1014 08:52:55.359953 11872 <ipython-input-24-46d7ad2432ef>:37] Generation: 55, best fitness: 0.571, best_individual: [8, 7, 1, 10, 3, 5, 6, 0, 7, 10, 3, 5, 1, 3, 8, 3, 3, 1, 5, 2, 7, 9, 1, 2, 7, 2, 8, 10]\n"
     ]
    },
    {
     "name": "stdout",
     "output_type": "stream",
     "text": [
      "gaft.ConsoleOutputAnalysis   INFO     Generation: 56, best fitness: 0.571, best_individual: [8, 7, 1, 10, 3, 5, 6, 0, 7, 10, 3, 5, 1, 3, 8, 3, 3, 1, 5, 2, 7, 9, 1, 2, 7, 2, 8, 10]\n"
     ]
    },
    {
     "name": "stderr",
     "output_type": "stream",
     "text": [
      "I1014 08:53:38.230134 11872 <ipython-input-24-46d7ad2432ef>:37] Generation: 56, best fitness: 0.571, best_individual: [8, 7, 1, 10, 3, 5, 6, 0, 7, 10, 3, 5, 1, 3, 8, 3, 3, 1, 5, 2, 7, 9, 1, 2, 7, 2, 8, 10]\n"
     ]
    },
    {
     "name": "stdout",
     "output_type": "stream",
     "text": [
      "gaft.ConsoleOutputAnalysis   INFO     Generation: 57, best fitness: 0.571, best_individual: [8, 7, 1, 10, 3, 5, 6, 0, 7, 10, 3, 5, 1, 3, 8, 3, 3, 1, 5, 2, 7, 9, 1, 2, 7, 2, 8, 10]\n"
     ]
    },
    {
     "name": "stderr",
     "output_type": "stream",
     "text": [
      "I1014 08:54:21.480458 11872 <ipython-input-24-46d7ad2432ef>:37] Generation: 57, best fitness: 0.571, best_individual: [8, 7, 1, 10, 3, 5, 6, 0, 7, 10, 3, 5, 1, 3, 8, 3, 3, 1, 5, 2, 7, 9, 1, 2, 7, 2, 8, 10]\n"
     ]
    },
    {
     "name": "stdout",
     "output_type": "stream",
     "text": [
      "gaft.ConsoleOutputAnalysis   INFO     Generation: 58, best fitness: 0.571, best_individual: [8, 7, 1, 10, 3, 5, 6, 0, 7, 10, 3, 5, 1, 3, 8, 3, 3, 1, 5, 2, 7, 9, 1, 2, 7, 2, 8, 10]\n"
     ]
    },
    {
     "name": "stderr",
     "output_type": "stream",
     "text": [
      "I1014 08:55:02.789310 11872 <ipython-input-24-46d7ad2432ef>:37] Generation: 58, best fitness: 0.571, best_individual: [8, 7, 1, 10, 3, 5, 6, 0, 7, 10, 3, 5, 1, 3, 8, 3, 3, 1, 5, 2, 7, 9, 1, 2, 7, 2, 8, 10]\n"
     ]
    },
    {
     "name": "stdout",
     "output_type": "stream",
     "text": [
      "gaft.ConsoleOutputAnalysis   INFO     Generation: 59, best fitness: 0.571, best_individual: [8, 7, 1, 10, 3, 5, 6, 0, 7, 10, 3, 5, 1, 3, 8, 3, 3, 1, 5, 2, 7, 9, 1, 2, 7, 2, 8, 10]\n"
     ]
    },
    {
     "name": "stderr",
     "output_type": "stream",
     "text": [
      "I1014 08:55:47.604482 11872 <ipython-input-24-46d7ad2432ef>:37] Generation: 59, best fitness: 0.571, best_individual: [8, 7, 1, 10, 3, 5, 6, 0, 7, 10, 3, 5, 1, 3, 8, 3, 3, 1, 5, 2, 7, 9, 1, 2, 7, 2, 8, 10]\n"
     ]
    },
    {
     "name": "stdout",
     "output_type": "stream",
     "text": [
      "gaft.ConsoleOutputAnalysis   INFO     Generation: 60, best fitness: 0.571, best_individual: [8, 7, 1, 10, 3, 5, 6, 0, 7, 10, 3, 5, 1, 3, 8, 3, 3, 1, 5, 2, 7, 9, 1, 2, 7, 2, 8, 10]\n"
     ]
    },
    {
     "name": "stderr",
     "output_type": "stream",
     "text": [
      "I1014 08:56:31.534736 11872 <ipython-input-24-46d7ad2432ef>:37] Generation: 60, best fitness: 0.571, best_individual: [8, 7, 1, 10, 3, 5, 6, 0, 7, 10, 3, 5, 1, 3, 8, 3, 3, 1, 5, 2, 7, 9, 1, 2, 7, 2, 8, 10]\n"
     ]
    },
    {
     "name": "stdout",
     "output_type": "stream",
     "text": [
      "gaft.ConsoleOutputAnalysis   INFO     Generation: 61, best fitness: 0.571, best_individual: [8, 7, 1, 10, 3, 5, 6, 0, 7, 10, 3, 5, 1, 3, 8, 3, 3, 1, 5, 2, 7, 9, 1, 2, 7, 2, 8, 10]\n"
     ]
    },
    {
     "name": "stderr",
     "output_type": "stream",
     "text": [
      "I1014 08:57:13.104748 11872 <ipython-input-24-46d7ad2432ef>:37] Generation: 61, best fitness: 0.571, best_individual: [8, 7, 1, 10, 3, 5, 6, 0, 7, 10, 3, 5, 1, 3, 8, 3, 3, 1, 5, 2, 7, 9, 1, 2, 7, 2, 8, 10]\n"
     ]
    },
    {
     "name": "stdout",
     "output_type": "stream",
     "text": [
      "gaft.ConsoleOutputAnalysis   INFO     Generation: 62, best fitness: 0.600, best_individual: [5, 2, 5, 7, 3, 0, 1, 0, 4, 1, 10, 7, 8, 6, 8, 10, 9, 0, 1, 0, 2, 7, 1, 2, 3, 8, 1, 7]\n"
     ]
    },
    {
     "name": "stderr",
     "output_type": "stream",
     "text": [
      "I1014 08:57:59.775753 11872 <ipython-input-24-46d7ad2432ef>:37] Generation: 62, best fitness: 0.600, best_individual: [5, 2, 5, 7, 3, 0, 1, 0, 4, 1, 10, 7, 8, 6, 8, 10, 9, 0, 1, 0, 2, 7, 1, 2, 3, 8, 1, 7]\n"
     ]
    },
    {
     "name": "stdout",
     "output_type": "stream",
     "text": [
      "gaft.ConsoleOutputAnalysis   INFO     Generation: 63, best fitness: 0.600, best_individual: [5, 2, 5, 7, 3, 0, 1, 0, 4, 1, 10, 7, 8, 6, 8, 10, 9, 0, 1, 0, 2, 7, 1, 2, 3, 8, 1, 7]\n"
     ]
    },
    {
     "name": "stderr",
     "output_type": "stream",
     "text": [
      "I1014 08:58:46.369813 11872 <ipython-input-24-46d7ad2432ef>:37] Generation: 63, best fitness: 0.600, best_individual: [5, 2, 5, 7, 3, 0, 1, 0, 4, 1, 10, 7, 8, 6, 8, 10, 9, 0, 1, 0, 2, 7, 1, 2, 3, 8, 1, 7]\n"
     ]
    },
    {
     "name": "stdout",
     "output_type": "stream",
     "text": [
      "gaft.ConsoleOutputAnalysis   INFO     Generation: 64, best fitness: 0.600, best_individual: [5, 2, 5, 7, 3, 0, 1, 0, 4, 1, 10, 7, 8, 6, 8, 10, 9, 0, 1, 0, 2, 7, 1, 2, 3, 8, 1, 7]\n"
     ]
    },
    {
     "name": "stderr",
     "output_type": "stream",
     "text": [
      "I1014 08:59:31.321964 11872 <ipython-input-24-46d7ad2432ef>:37] Generation: 64, best fitness: 0.600, best_individual: [5, 2, 5, 7, 3, 0, 1, 0, 4, 1, 10, 7, 8, 6, 8, 10, 9, 0, 1, 0, 2, 7, 1, 2, 3, 8, 1, 7]\n"
     ]
    },
    {
     "name": "stdout",
     "output_type": "stream",
     "text": [
      "gaft.ConsoleOutputAnalysis   INFO     Generation: 65, best fitness: 0.600, best_individual: [5, 2, 5, 7, 3, 0, 1, 0, 4, 1, 10, 7, 8, 6, 8, 10, 9, 0, 1, 0, 2, 7, 1, 2, 3, 8, 1, 7]\n"
     ]
    },
    {
     "name": "stderr",
     "output_type": "stream",
     "text": [
      "I1014 09:00:14.855909 11872 <ipython-input-24-46d7ad2432ef>:37] Generation: 65, best fitness: 0.600, best_individual: [5, 2, 5, 7, 3, 0, 1, 0, 4, 1, 10, 7, 8, 6, 8, 10, 9, 0, 1, 0, 2, 7, 1, 2, 3, 8, 1, 7]\n"
     ]
    },
    {
     "name": "stdout",
     "output_type": "stream",
     "text": [
      "gaft.ConsoleOutputAnalysis   INFO     Generation: 66, best fitness: 0.600, best_individual: [5, 2, 5, 7, 3, 0, 1, 0, 4, 1, 10, 7, 8, 6, 8, 10, 9, 0, 1, 0, 2, 7, 1, 2, 3, 8, 1, 7]\n"
     ]
    },
    {
     "name": "stderr",
     "output_type": "stream",
     "text": [
      "I1014 09:00:58.565665 11872 <ipython-input-24-46d7ad2432ef>:37] Generation: 66, best fitness: 0.600, best_individual: [5, 2, 5, 7, 3, 0, 1, 0, 4, 1, 10, 7, 8, 6, 8, 10, 9, 0, 1, 0, 2, 7, 1, 2, 3, 8, 1, 7]\n"
     ]
    },
    {
     "name": "stdout",
     "output_type": "stream",
     "text": [
      "gaft.ConsoleOutputAnalysis   INFO     Generation: 67, best fitness: 0.600, best_individual: [5, 2, 5, 7, 3, 0, 1, 0, 4, 1, 10, 7, 8, 6, 8, 10, 9, 0, 1, 0, 2, 7, 1, 2, 3, 8, 1, 7]\n"
     ]
    },
    {
     "name": "stderr",
     "output_type": "stream",
     "text": [
      "I1014 09:01:42.282589 11872 <ipython-input-24-46d7ad2432ef>:37] Generation: 67, best fitness: 0.600, best_individual: [5, 2, 5, 7, 3, 0, 1, 0, 4, 1, 10, 7, 8, 6, 8, 10, 9, 0, 1, 0, 2, 7, 1, 2, 3, 8, 1, 7]\n"
     ]
    },
    {
     "name": "stdout",
     "output_type": "stream",
     "text": [
      "gaft.ConsoleOutputAnalysis   INFO     Generation: 68, best fitness: 0.600, best_individual: [5, 2, 5, 7, 3, 0, 1, 0, 4, 1, 10, 7, 8, 6, 8, 10, 9, 0, 1, 0, 2, 7, 1, 2, 3, 8, 1, 7]\n"
     ]
    },
    {
     "name": "stderr",
     "output_type": "stream",
     "text": [
      "I1014 09:02:26.707101 11872 <ipython-input-24-46d7ad2432ef>:37] Generation: 68, best fitness: 0.600, best_individual: [5, 2, 5, 7, 3, 0, 1, 0, 4, 1, 10, 7, 8, 6, 8, 10, 9, 0, 1, 0, 2, 7, 1, 2, 3, 8, 1, 7]\n"
     ]
    },
    {
     "name": "stdout",
     "output_type": "stream",
     "text": [
      "gaft.ConsoleOutputAnalysis   INFO     Generation: 69, best fitness: 0.600, best_individual: [5, 2, 5, 7, 3, 0, 1, 0, 4, 1, 10, 7, 8, 6, 8, 10, 9, 0, 1, 0, 2, 7, 1, 2, 3, 8, 1, 7]\n"
     ]
    },
    {
     "name": "stderr",
     "output_type": "stream",
     "text": [
      "I1014 09:03:13.159436 11872 <ipython-input-24-46d7ad2432ef>:37] Generation: 69, best fitness: 0.600, best_individual: [5, 2, 5, 7, 3, 0, 1, 0, 4, 1, 10, 7, 8, 6, 8, 10, 9, 0, 1, 0, 2, 7, 1, 2, 3, 8, 1, 7]\n"
     ]
    },
    {
     "name": "stdout",
     "output_type": "stream",
     "text": [
      "gaft.ConsoleOutputAnalysis   INFO     Generation: 70, best fitness: 0.600, best_individual: [5, 2, 5, 7, 3, 0, 1, 0, 4, 1, 10, 7, 8, 6, 8, 10, 9, 0, 1, 0, 2, 7, 1, 2, 3, 8, 1, 7]\n"
     ]
    },
    {
     "name": "stderr",
     "output_type": "stream",
     "text": [
      "I1014 09:03:56.646751 11872 <ipython-input-24-46d7ad2432ef>:37] Generation: 70, best fitness: 0.600, best_individual: [5, 2, 5, 7, 3, 0, 1, 0, 4, 1, 10, 7, 8, 6, 8, 10, 9, 0, 1, 0, 2, 7, 1, 2, 3, 8, 1, 7]\n"
     ]
    },
    {
     "name": "stdout",
     "output_type": "stream",
     "text": [
      "gaft.ConsoleOutputAnalysis   INFO     Generation: 71, best fitness: 0.600, best_individual: [5, 2, 5, 7, 3, 0, 1, 0, 4, 1, 10, 7, 8, 6, 8, 10, 9, 0, 1, 0, 2, 7, 1, 2, 3, 8, 1, 7]\n"
     ]
    },
    {
     "name": "stderr",
     "output_type": "stream",
     "text": [
      "I1014 09:04:40.072247 11872 <ipython-input-24-46d7ad2432ef>:37] Generation: 71, best fitness: 0.600, best_individual: [5, 2, 5, 7, 3, 0, 1, 0, 4, 1, 10, 7, 8, 6, 8, 10, 9, 0, 1, 0, 2, 7, 1, 2, 3, 8, 1, 7]\n"
     ]
    },
    {
     "name": "stdout",
     "output_type": "stream",
     "text": [
      "gaft.ConsoleOutputAnalysis   INFO     Generation: 72, best fitness: 0.600, best_individual: [5, 2, 5, 7, 3, 0, 1, 0, 4, 1, 10, 7, 8, 6, 8, 10, 9, 0, 1, 0, 2, 7, 1, 2, 3, 8, 1, 7]\n"
     ]
    },
    {
     "name": "stderr",
     "output_type": "stream",
     "text": [
      "I1014 09:05:23.702613 11872 <ipython-input-24-46d7ad2432ef>:37] Generation: 72, best fitness: 0.600, best_individual: [5, 2, 5, 7, 3, 0, 1, 0, 4, 1, 10, 7, 8, 6, 8, 10, 9, 0, 1, 0, 2, 7, 1, 2, 3, 8, 1, 7]\n"
     ]
    },
    {
     "name": "stdout",
     "output_type": "stream",
     "text": [
      "gaft.ConsoleOutputAnalysis   INFO     Generation: 73, best fitness: 0.600, best_individual: [5, 2, 5, 7, 3, 0, 1, 0, 4, 1, 10, 7, 8, 6, 8, 10, 9, 0, 1, 0, 2, 7, 1, 2, 3, 8, 1, 7]\n"
     ]
    },
    {
     "name": "stderr",
     "output_type": "stream",
     "text": [
      "I1014 09:06:07.176148 11872 <ipython-input-24-46d7ad2432ef>:37] Generation: 73, best fitness: 0.600, best_individual: [5, 2, 5, 7, 3, 0, 1, 0, 4, 1, 10, 7, 8, 6, 8, 10, 9, 0, 1, 0, 2, 7, 1, 2, 3, 8, 1, 7]\n"
     ]
    },
    {
     "name": "stdout",
     "output_type": "stream",
     "text": [
      "gaft.ConsoleOutputAnalysis   INFO     Generation: 74, best fitness: 0.600, best_individual: [5, 2, 5, 7, 3, 0, 1, 0, 4, 1, 10, 7, 8, 6, 8, 10, 9, 0, 1, 0, 2, 7, 1, 2, 3, 8, 1, 7]\n"
     ]
    },
    {
     "name": "stderr",
     "output_type": "stream",
     "text": [
      "I1014 09:06:50.774535 11872 <ipython-input-24-46d7ad2432ef>:37] Generation: 74, best fitness: 0.600, best_individual: [5, 2, 5, 7, 3, 0, 1, 0, 4, 1, 10, 7, 8, 6, 8, 10, 9, 0, 1, 0, 2, 7, 1, 2, 3, 8, 1, 7]\n"
     ]
    },
    {
     "name": "stdout",
     "output_type": "stream",
     "text": [
      "gaft.ConsoleOutputAnalysis   INFO     Generation: 75, best fitness: 0.600, best_individual: [5, 2, 5, 7, 3, 0, 1, 0, 4, 1, 10, 7, 8, 6, 8, 10, 9, 0, 1, 0, 2, 7, 1, 2, 3, 8, 1, 7]\n"
     ]
    },
    {
     "name": "stderr",
     "output_type": "stream",
     "text": [
      "I1014 09:07:34.447273 11872 <ipython-input-24-46d7ad2432ef>:37] Generation: 75, best fitness: 0.600, best_individual: [5, 2, 5, 7, 3, 0, 1, 0, 4, 1, 10, 7, 8, 6, 8, 10, 9, 0, 1, 0, 2, 7, 1, 2, 3, 8, 1, 7]\n"
     ]
    },
    {
     "name": "stdout",
     "output_type": "stream",
     "text": [
      "gaft.ConsoleOutputAnalysis   INFO     Generation: 76, best fitness: 0.600, best_individual: [5, 2, 5, 7, 3, 0, 1, 0, 4, 1, 10, 7, 8, 6, 8, 10, 9, 0, 1, 0, 2, 7, 1, 2, 3, 8, 1, 7]\n"
     ]
    },
    {
     "name": "stderr",
     "output_type": "stream",
     "text": [
      "I1014 09:08:18.457709 11872 <ipython-input-24-46d7ad2432ef>:37] Generation: 76, best fitness: 0.600, best_individual: [5, 2, 5, 7, 3, 0, 1, 0, 4, 1, 10, 7, 8, 6, 8, 10, 9, 0, 1, 0, 2, 7, 1, 2, 3, 8, 1, 7]\n"
     ]
    },
    {
     "name": "stdout",
     "output_type": "stream",
     "text": [
      "gaft.ConsoleOutputAnalysis   INFO     Generation: 77, best fitness: 0.600, best_individual: [5, 2, 5, 7, 3, 0, 1, 0, 4, 1, 10, 7, 8, 6, 8, 10, 9, 0, 1, 0, 2, 7, 1, 2, 3, 8, 1, 7]\n"
     ]
    },
    {
     "name": "stderr",
     "output_type": "stream",
     "text": [
      "I1014 09:09:01.781137 11872 <ipython-input-24-46d7ad2432ef>:37] Generation: 77, best fitness: 0.600, best_individual: [5, 2, 5, 7, 3, 0, 1, 0, 4, 1, 10, 7, 8, 6, 8, 10, 9, 0, 1, 0, 2, 7, 1, 2, 3, 8, 1, 7]\n"
     ]
    },
    {
     "name": "stdout",
     "output_type": "stream",
     "text": [
      "gaft.ConsoleOutputAnalysis   INFO     Generation: 78, best fitness: 0.600, best_individual: [5, 2, 5, 7, 3, 0, 1, 0, 4, 1, 10, 7, 8, 6, 8, 10, 9, 0, 1, 0, 2, 7, 1, 2, 3, 8, 1, 7]\n"
     ]
    },
    {
     "name": "stderr",
     "output_type": "stream",
     "text": [
      "I1014 09:09:45.324808 11872 <ipython-input-24-46d7ad2432ef>:37] Generation: 78, best fitness: 0.600, best_individual: [5, 2, 5, 7, 3, 0, 1, 0, 4, 1, 10, 7, 8, 6, 8, 10, 9, 0, 1, 0, 2, 7, 1, 2, 3, 8, 1, 7]\n"
     ]
    },
    {
     "name": "stdout",
     "output_type": "stream",
     "text": [
      "gaft.ConsoleOutputAnalysis   INFO     Generation: 79, best fitness: 0.600, best_individual: [5, 2, 5, 7, 3, 0, 1, 0, 4, 1, 10, 7, 8, 6, 8, 10, 9, 0, 1, 0, 2, 7, 1, 2, 3, 8, 1, 7]\n"
     ]
    },
    {
     "name": "stderr",
     "output_type": "stream",
     "text": [
      "I1014 09:10:28.644314 11872 <ipython-input-24-46d7ad2432ef>:37] Generation: 79, best fitness: 0.600, best_individual: [5, 2, 5, 7, 3, 0, 1, 0, 4, 1, 10, 7, 8, 6, 8, 10, 9, 0, 1, 0, 2, 7, 1, 2, 3, 8, 1, 7]\n"
     ]
    },
    {
     "name": "stdout",
     "output_type": "stream",
     "text": [
      "gaft.ConsoleOutputAnalysis   INFO     Generation: 80, best fitness: 0.600, best_individual: [5, 2, 5, 7, 3, 0, 1, 0, 4, 1, 10, 7, 8, 6, 8, 10, 9, 0, 1, 0, 2, 7, 1, 2, 3, 8, 1, 7]\n"
     ]
    },
    {
     "name": "stderr",
     "output_type": "stream",
     "text": [
      "I1014 09:11:11.992792 11872 <ipython-input-24-46d7ad2432ef>:37] Generation: 80, best fitness: 0.600, best_individual: [5, 2, 5, 7, 3, 0, 1, 0, 4, 1, 10, 7, 8, 6, 8, 10, 9, 0, 1, 0, 2, 7, 1, 2, 3, 8, 1, 7]\n"
     ]
    },
    {
     "name": "stdout",
     "output_type": "stream",
     "text": [
      "gaft.ConsoleOutputAnalysis   INFO     Generation: 81, best fitness: 0.600, best_individual: [5, 2, 5, 7, 3, 0, 1, 0, 4, 1, 10, 7, 8, 6, 8, 10, 9, 0, 1, 0, 2, 7, 1, 2, 3, 8, 1, 7]\n"
     ]
    },
    {
     "name": "stderr",
     "output_type": "stream",
     "text": [
      "I1014 09:11:55.331312 11872 <ipython-input-24-46d7ad2432ef>:37] Generation: 81, best fitness: 0.600, best_individual: [5, 2, 5, 7, 3, 0, 1, 0, 4, 1, 10, 7, 8, 6, 8, 10, 9, 0, 1, 0, 2, 7, 1, 2, 3, 8, 1, 7]\n"
     ]
    },
    {
     "name": "stdout",
     "output_type": "stream",
     "text": [
      "gaft.ConsoleOutputAnalysis   INFO     Generation: 82, best fitness: 0.600, best_individual: [5, 2, 5, 7, 3, 0, 1, 0, 4, 1, 10, 7, 8, 6, 8, 10, 9, 0, 1, 0, 2, 7, 1, 2, 3, 8, 1, 7]\n"
     ]
    },
    {
     "name": "stderr",
     "output_type": "stream",
     "text": [
      "I1014 09:12:38.730561 11872 <ipython-input-24-46d7ad2432ef>:37] Generation: 82, best fitness: 0.600, best_individual: [5, 2, 5, 7, 3, 0, 1, 0, 4, 1, 10, 7, 8, 6, 8, 10, 9, 0, 1, 0, 2, 7, 1, 2, 3, 8, 1, 7]\n"
     ]
    },
    {
     "name": "stdout",
     "output_type": "stream",
     "text": [
      "gaft.ConsoleOutputAnalysis   INFO     Generation: 83, best fitness: 0.600, best_individual: [5, 2, 5, 7, 3, 0, 1, 0, 4, 1, 10, 7, 8, 6, 8, 10, 9, 0, 1, 0, 2, 7, 1, 2, 3, 8, 1, 7]\n"
     ]
    },
    {
     "name": "stderr",
     "output_type": "stream",
     "text": [
      "I1014 09:13:22.628891 11872 <ipython-input-24-46d7ad2432ef>:37] Generation: 83, best fitness: 0.600, best_individual: [5, 2, 5, 7, 3, 0, 1, 0, 4, 1, 10, 7, 8, 6, 8, 10, 9, 0, 1, 0, 2, 7, 1, 2, 3, 8, 1, 7]\n"
     ]
    },
    {
     "name": "stdout",
     "output_type": "stream",
     "text": [
      "gaft.ConsoleOutputAnalysis   INFO     Generation: 84, best fitness: 0.600, best_individual: [5, 2, 5, 7, 3, 0, 1, 0, 4, 1, 10, 7, 8, 6, 8, 10, 9, 0, 1, 0, 2, 7, 1, 2, 3, 8, 1, 7]\n"
     ]
    },
    {
     "name": "stderr",
     "output_type": "stream",
     "text": [
      "I1014 09:14:06.204949 11872 <ipython-input-24-46d7ad2432ef>:37] Generation: 84, best fitness: 0.600, best_individual: [5, 2, 5, 7, 3, 0, 1, 0, 4, 1, 10, 7, 8, 6, 8, 10, 9, 0, 1, 0, 2, 7, 1, 2, 3, 8, 1, 7]\n"
     ]
    },
    {
     "name": "stdout",
     "output_type": "stream",
     "text": [
      "gaft.ConsoleOutputAnalysis   INFO     Generation: 85, best fitness: 0.600, best_individual: [5, 2, 5, 7, 3, 0, 1, 0, 4, 1, 10, 7, 8, 6, 8, 10, 9, 0, 1, 0, 2, 7, 1, 2, 3, 8, 1, 7]\n"
     ]
    },
    {
     "name": "stderr",
     "output_type": "stream",
     "text": [
      "I1014 09:14:50.447847 11872 <ipython-input-24-46d7ad2432ef>:37] Generation: 85, best fitness: 0.600, best_individual: [5, 2, 5, 7, 3, 0, 1, 0, 4, 1, 10, 7, 8, 6, 8, 10, 9, 0, 1, 0, 2, 7, 1, 2, 3, 8, 1, 7]\n"
     ]
    },
    {
     "name": "stdout",
     "output_type": "stream",
     "text": [
      "gaft.ConsoleOutputAnalysis   INFO     Generation: 86, best fitness: 0.600, best_individual: [5, 2, 5, 7, 3, 0, 1, 0, 4, 1, 10, 7, 8, 6, 8, 10, 9, 0, 1, 0, 2, 7, 1, 2, 3, 8, 1, 7]\n"
     ]
    },
    {
     "name": "stderr",
     "output_type": "stream",
     "text": [
      "I1014 09:15:34.051795 11872 <ipython-input-24-46d7ad2432ef>:37] Generation: 86, best fitness: 0.600, best_individual: [5, 2, 5, 7, 3, 0, 1, 0, 4, 1, 10, 7, 8, 6, 8, 10, 9, 0, 1, 0, 2, 7, 1, 2, 3, 8, 1, 7]\n"
     ]
    },
    {
     "name": "stdout",
     "output_type": "stream",
     "text": [
      "gaft.ConsoleOutputAnalysis   INFO     Generation: 87, best fitness: 0.600, best_individual: [5, 2, 5, 7, 3, 0, 1, 0, 4, 1, 10, 7, 8, 6, 8, 10, 9, 0, 1, 0, 2, 7, 1, 2, 3, 8, 1, 7]\n"
     ]
    },
    {
     "name": "stderr",
     "output_type": "stream",
     "text": [
      "I1014 09:16:17.621560 11872 <ipython-input-24-46d7ad2432ef>:37] Generation: 87, best fitness: 0.600, best_individual: [5, 2, 5, 7, 3, 0, 1, 0, 4, 1, 10, 7, 8, 6, 8, 10, 9, 0, 1, 0, 2, 7, 1, 2, 3, 8, 1, 7]\n"
     ]
    },
    {
     "name": "stdout",
     "output_type": "stream",
     "text": [
      "gaft.ConsoleOutputAnalysis   INFO     Generation: 88, best fitness: 0.600, best_individual: [5, 2, 5, 7, 3, 0, 1, 0, 4, 1, 10, 7, 8, 6, 8, 10, 9, 0, 1, 0, 2, 7, 1, 2, 3, 8, 1, 7]\n"
     ]
    },
    {
     "name": "stderr",
     "output_type": "stream",
     "text": [
      "I1014 09:17:00.641866 11872 <ipython-input-24-46d7ad2432ef>:37] Generation: 88, best fitness: 0.600, best_individual: [5, 2, 5, 7, 3, 0, 1, 0, 4, 1, 10, 7, 8, 6, 8, 10, 9, 0, 1, 0, 2, 7, 1, 2, 3, 8, 1, 7]\n"
     ]
    },
    {
     "name": "stdout",
     "output_type": "stream",
     "text": [
      "gaft.ConsoleOutputAnalysis   INFO     Generation: 89, best fitness: 0.600, best_individual: [5, 2, 5, 7, 3, 0, 1, 0, 4, 1, 10, 7, 8, 6, 8, 10, 9, 0, 1, 0, 2, 7, 1, 2, 3, 8, 1, 7]\n"
     ]
    },
    {
     "name": "stderr",
     "output_type": "stream",
     "text": [
      "I1014 09:17:43.868466 11872 <ipython-input-24-46d7ad2432ef>:37] Generation: 89, best fitness: 0.600, best_individual: [5, 2, 5, 7, 3, 0, 1, 0, 4, 1, 10, 7, 8, 6, 8, 10, 9, 0, 1, 0, 2, 7, 1, 2, 3, 8, 1, 7]\n"
     ]
    },
    {
     "name": "stdout",
     "output_type": "stream",
     "text": [
      "gaft.ConsoleOutputAnalysis   INFO     Generation: 90, best fitness: 0.600, best_individual: [5, 2, 5, 7, 3, 0, 1, 0, 4, 1, 10, 7, 8, 6, 8, 10, 9, 0, 1, 0, 2, 7, 1, 2, 3, 8, 1, 7]\n"
     ]
    },
    {
     "name": "stderr",
     "output_type": "stream",
     "text": [
      "I1014 09:18:26.967498 11872 <ipython-input-24-46d7ad2432ef>:37] Generation: 90, best fitness: 0.600, best_individual: [5, 2, 5, 7, 3, 0, 1, 0, 4, 1, 10, 7, 8, 6, 8, 10, 9, 0, 1, 0, 2, 7, 1, 2, 3, 8, 1, 7]\n"
     ]
    },
    {
     "name": "stdout",
     "output_type": "stream",
     "text": [
      "gaft.ConsoleOutputAnalysis   INFO     Generation: 91, best fitness: 0.600, best_individual: [5, 2, 5, 7, 3, 0, 1, 0, 4, 1, 10, 7, 8, 6, 8, 10, 9, 0, 1, 0, 2, 7, 1, 2, 3, 8, 1, 7]\n"
     ]
    },
    {
     "name": "stderr",
     "output_type": "stream",
     "text": [
      "I1014 09:19:10.410905 11872 <ipython-input-24-46d7ad2432ef>:37] Generation: 91, best fitness: 0.600, best_individual: [5, 2, 5, 7, 3, 0, 1, 0, 4, 1, 10, 7, 8, 6, 8, 10, 9, 0, 1, 0, 2, 7, 1, 2, 3, 8, 1, 7]\n"
     ]
    },
    {
     "name": "stdout",
     "output_type": "stream",
     "text": [
      "gaft.ConsoleOutputAnalysis   INFO     Generation: 92, best fitness: 0.600, best_individual: [5, 2, 5, 7, 3, 0, 1, 0, 4, 1, 10, 7, 8, 6, 8, 10, 9, 0, 1, 0, 2, 7, 1, 2, 3, 8, 1, 7]\n"
     ]
    },
    {
     "name": "stderr",
     "output_type": "stream",
     "text": [
      "I1014 09:19:53.686967 11872 <ipython-input-24-46d7ad2432ef>:37] Generation: 92, best fitness: 0.600, best_individual: [5, 2, 5, 7, 3, 0, 1, 0, 4, 1, 10, 7, 8, 6, 8, 10, 9, 0, 1, 0, 2, 7, 1, 2, 3, 8, 1, 7]\n"
     ]
    },
    {
     "name": "stdout",
     "output_type": "stream",
     "text": [
      "gaft.ConsoleOutputAnalysis   INFO     Generation: 93, best fitness: 0.600, best_individual: [5, 2, 5, 7, 3, 0, 1, 0, 4, 1, 10, 7, 8, 6, 8, 10, 9, 0, 1, 0, 2, 7, 1, 2, 3, 8, 1, 7]\n"
     ]
    },
    {
     "name": "stderr",
     "output_type": "stream",
     "text": [
      "I1014 09:20:37.110976 11872 <ipython-input-24-46d7ad2432ef>:37] Generation: 93, best fitness: 0.600, best_individual: [5, 2, 5, 7, 3, 0, 1, 0, 4, 1, 10, 7, 8, 6, 8, 10, 9, 0, 1, 0, 2, 7, 1, 2, 3, 8, 1, 7]\n"
     ]
    },
    {
     "name": "stdout",
     "output_type": "stream",
     "text": [
      "gaft.ConsoleOutputAnalysis   INFO     Generation: 94, best fitness: 0.600, best_individual: [5, 2, 5, 7, 3, 0, 1, 0, 4, 1, 10, 7, 8, 6, 8, 10, 9, 0, 1, 0, 2, 7, 1, 2, 3, 8, 1, 7]\n"
     ]
    },
    {
     "name": "stderr",
     "output_type": "stream",
     "text": [
      "I1014 09:21:21.027045 11872 <ipython-input-24-46d7ad2432ef>:37] Generation: 94, best fitness: 0.600, best_individual: [5, 2, 5, 7, 3, 0, 1, 0, 4, 1, 10, 7, 8, 6, 8, 10, 9, 0, 1, 0, 2, 7, 1, 2, 3, 8, 1, 7]\n"
     ]
    },
    {
     "name": "stdout",
     "output_type": "stream",
     "text": [
      "gaft.ConsoleOutputAnalysis   INFO     Generation: 95, best fitness: 0.600, best_individual: [5, 2, 5, 7, 3, 0, 1, 0, 4, 1, 10, 7, 8, 6, 8, 10, 9, 0, 1, 0, 2, 7, 1, 2, 3, 8, 1, 7]\n"
     ]
    },
    {
     "name": "stderr",
     "output_type": "stream",
     "text": [
      "I1014 09:22:04.008934 11872 <ipython-input-24-46d7ad2432ef>:37] Generation: 95, best fitness: 0.600, best_individual: [5, 2, 5, 7, 3, 0, 1, 0, 4, 1, 10, 7, 8, 6, 8, 10, 9, 0, 1, 0, 2, 7, 1, 2, 3, 8, 1, 7]\n"
     ]
    },
    {
     "name": "stdout",
     "output_type": "stream",
     "text": [
      "gaft.ConsoleOutputAnalysis   INFO     Generation: 96, best fitness: 0.600, best_individual: [5, 2, 5, 7, 3, 0, 1, 0, 4, 1, 10, 7, 8, 6, 8, 10, 9, 0, 1, 0, 2, 7, 1, 2, 3, 8, 1, 7]\n"
     ]
    },
    {
     "name": "stderr",
     "output_type": "stream",
     "text": [
      "I1014 09:22:47.958167 11872 <ipython-input-24-46d7ad2432ef>:37] Generation: 96, best fitness: 0.600, best_individual: [5, 2, 5, 7, 3, 0, 1, 0, 4, 1, 10, 7, 8, 6, 8, 10, 9, 0, 1, 0, 2, 7, 1, 2, 3, 8, 1, 7]\n"
     ]
    },
    {
     "name": "stdout",
     "output_type": "stream",
     "text": [
      "gaft.ConsoleOutputAnalysis   INFO     Generation: 97, best fitness: 0.600, best_individual: [5, 2, 5, 7, 3, 0, 1, 0, 4, 1, 10, 7, 8, 6, 8, 10, 9, 0, 1, 0, 2, 7, 1, 2, 3, 8, 1, 7]\n"
     ]
    },
    {
     "name": "stderr",
     "output_type": "stream",
     "text": [
      "I1014 09:23:31.373766 11872 <ipython-input-24-46d7ad2432ef>:37] Generation: 97, best fitness: 0.600, best_individual: [5, 2, 5, 7, 3, 0, 1, 0, 4, 1, 10, 7, 8, 6, 8, 10, 9, 0, 1, 0, 2, 7, 1, 2, 3, 8, 1, 7]\n"
     ]
    },
    {
     "name": "stdout",
     "output_type": "stream",
     "text": [
      "gaft.ConsoleOutputAnalysis   INFO     Generation: 98, best fitness: 0.600, best_individual: [5, 2, 5, 7, 3, 0, 1, 0, 4, 1, 10, 7, 8, 6, 8, 10, 9, 0, 1, 0, 2, 7, 1, 2, 3, 8, 1, 7]\n"
     ]
    },
    {
     "name": "stderr",
     "output_type": "stream",
     "text": [
      "I1014 09:24:15.104462 11872 <ipython-input-24-46d7ad2432ef>:37] Generation: 98, best fitness: 0.600, best_individual: [5, 2, 5, 7, 3, 0, 1, 0, 4, 1, 10, 7, 8, 6, 8, 10, 9, 0, 1, 0, 2, 7, 1, 2, 3, 8, 1, 7]\n"
     ]
    },
    {
     "name": "stdout",
     "output_type": "stream",
     "text": [
      "gaft.ConsoleOutputAnalysis   INFO     Generation: 99, best fitness: 0.600, best_individual: [5, 2, 5, 7, 3, 0, 1, 0, 4, 1, 10, 7, 8, 6, 8, 10, 9, 0, 1, 0, 2, 7, 1, 2, 3, 8, 1, 7]\n"
     ]
    },
    {
     "name": "stderr",
     "output_type": "stream",
     "text": [
      "I1014 09:24:58.758178 11872 <ipython-input-24-46d7ad2432ef>:37] Generation: 99, best fitness: 0.600, best_individual: [5, 2, 5, 7, 3, 0, 1, 0, 4, 1, 10, 7, 8, 6, 8, 10, 9, 0, 1, 0, 2, 7, 1, 2, 3, 8, 1, 7]\n"
     ]
    },
    {
     "name": "stdout",
     "output_type": "stream",
     "text": [
      "gaft.FitnessStore   INFO     Best fitness values are written to best_fit.py\n"
     ]
    },
    {
     "name": "stderr",
     "output_type": "stream",
     "text": [
      "I1014 09:24:58.762840 11872 fitness_store.py:48] Best fitness values are written to best_fit.py\n"
     ]
    },
    {
     "name": "stdout",
     "output_type": "stream",
     "text": [
      "gaft.ConsoleOutputAnalysis   INFO     Optimal solution: ([5, 2, 5, 7, 3, 0, 1, 0, 4, 1, 10, 7, 8, 6, 8, 10, 9, 0, 1, 0, 2, 7, 1, 2, 3, 8, 1, 7], 0.6)\n"
     ]
    },
    {
     "name": "stderr",
     "output_type": "stream",
     "text": [
      "I1014 09:24:58.767853 11872 <ipython-input-24-46d7ad2432ef>:44] Optimal solution: ([5, 2, 5, 7, 3, 0, 1, 0, 4, 1, 10, 7, 8, 6, 8, 10, 9, 0, 1, 0, 2, 7, 1, 2, 3, 8, 1, 7], 0.6)\n"
     ]
    },
    {
     "ename": "ValueError",
     "evalue": "too many values to unpack (expected 4)",
     "output_type": "error",
     "traceback": [
      "\u001b[1;31m---------------------------------------------------------------------------\u001b[0m",
      "\u001b[1;31mValueError\u001b[0m                                Traceback (most recent call last)",
      "\u001b[1;32m<ipython-input-24-46d7ad2432ef>\u001b[0m in \u001b[0;36m<module>\u001b[1;34m\u001b[0m\n\u001b[0;32m     48\u001b[0m     \u001b[0mengine\u001b[0m\u001b[1;33m.\u001b[0m\u001b[0mrun\u001b[0m\u001b[1;33m(\u001b[0m\u001b[0mng\u001b[0m\u001b[1;33m=\u001b[0m\u001b[1;36m100\u001b[0m\u001b[1;33m)\u001b[0m\u001b[1;33m\u001b[0m\u001b[1;33m\u001b[0m\u001b[0m\n\u001b[0;32m     49\u001b[0m     \u001b[0mbest_indv\u001b[0m \u001b[1;33m=\u001b[0m \u001b[0mengine\u001b[0m\u001b[1;33m.\u001b[0m\u001b[0mpopulation\u001b[0m\u001b[1;33m.\u001b[0m\u001b[0mbest_indv\u001b[0m\u001b[1;33m(\u001b[0m\u001b[0mengine\u001b[0m\u001b[1;33m.\u001b[0m\u001b[0mfitness\u001b[0m\u001b[1;33m)\u001b[0m\u001b[1;33m\u001b[0m\u001b[1;33m\u001b[0m\u001b[0m\n\u001b[1;32m---> 50\u001b[1;33m     \u001b[0mw1\u001b[0m\u001b[1;33m,\u001b[0m\u001b[0mw2\u001b[0m\u001b[1;33m,\u001b[0m\u001b[0mw3\u001b[0m\u001b[1;33m,\u001b[0m\u001b[0mw4\u001b[0m \u001b[1;33m=\u001b[0m \u001b[0mbest_indv\u001b[0m\u001b[1;33m.\u001b[0m\u001b[0msolution\u001b[0m\u001b[1;33m\u001b[0m\u001b[1;33m\u001b[0m\u001b[0m\n\u001b[0m\u001b[0;32m     51\u001b[0m     \u001b[0mget_test_results\u001b[0m\u001b[1;33m(\u001b[0m\u001b[0mw1\u001b[0m\u001b[1;33m,\u001b[0m\u001b[0mw2\u001b[0m\u001b[1;33m,\u001b[0m\u001b[0mw3\u001b[0m\u001b[1;33m,\u001b[0m\u001b[0mw4\u001b[0m\u001b[1;33m)\u001b[0m\u001b[1;33m\u001b[0m\u001b[1;33m\u001b[0m\u001b[0m\n",
      "\u001b[1;31mValueError\u001b[0m: too many values to unpack (expected 4)"
     ]
    }
   ],
   "source": [
    "indv_template = DecimalIndividual(ranges=[(0,10)]*28, eps=[1]*28)\n",
    "population = Population(indv_template=indv_template, size=100).init()\n",
    "\n",
    "selection = LinearRankingSelection()\n",
    "crossover = UniformCrossover(pc=0.8, pe=0.5)\n",
    "mutation = FlipBitMutation(pm=0.1)\n",
    "\n",
    "# Create genetic algorithm engine.\n",
    "engine = GAEngine(population=population, selection=selection,\n",
    "                  crossover=crossover, mutation=mutation,\n",
    "                  analysis=[FitnessStore])\n",
    "\n",
    "@engine.fitness_register\n",
    "#@engine.minimize\n",
    "def fitness(indv):\n",
    "    w = list(indv.solution)\n",
    "    _, res = get_technology_accuracy(w, max_score, tech)\n",
    "    res = float(abs(res))\n",
    "    #print(w,': ',res)\n",
    "    return res\n",
    "\n",
    "def get_test_results(w1,w2,w3,w4):\n",
    "    predictions = m1*w1 + m2*w2 + m3*w3 + m4*w4\n",
    "    print('\\nRMSE error: ', np.sqrt(metrics.mean_squared_error(Y_test, predictions)))\n",
    "    for i,prediction in enumerate(predictions[:15]):\n",
    "        print ('Target: %s, Predicted: %s' % (Y_test.tolist()[i], abs(prediction)))\n",
    "\n",
    "# Define on-the-fly analysis.\n",
    "@engine.analysis_register\n",
    "class ConsoleOutputAnalysis(OnTheFlyAnalysis):\n",
    "    interval = 1\n",
    "    master_only = True\n",
    "\n",
    "    def register_step(self, g, population, engine):\n",
    "        best_indv = population.best_indv(engine.fitness)\n",
    "        msg = 'Generation: {}, best fitness: {:.3f}, best_individual: {}'.format(g, engine.ori_fmax, best_indv.solution)\n",
    "        self.logger.info(msg)\n",
    "\n",
    "    def finalize(self, population, engine):\n",
    "        best_indv = population.best_indv(engine.fitness)\n",
    "        x = best_indv.solution\n",
    "        y = engine.fmax\n",
    "        msg = 'Optimal solution: ({}, {})'.format(x, y)\n",
    "        self.logger.info(msg)\n",
    "\n",
    "if '__main__' == __name__:\n",
    "    # Run the GA engine.\n",
    "    engine.run(ng=100)\n",
    "    best_indv = engine.population.best_indv(engine.fitness)\n",
    "    w1,w2,w3,w4 = best_indv.solution\n",
    "    get_test_results(w1,w2,w3,w4)"
   ]
  },
  {
   "cell_type": "code",
   "execution_count": 25,
   "metadata": {},
   "outputs": [],
   "source": [
    "weights = [5, 2, 5, 7, 3, 0, 1, 0, 4, 1, 10, 7, 8, 6, 8, 10, 9, 0, 1, 0, 2, 7, 1, 2, 3, 8, 1, 7]\n",
    "\n",
    "max_score = 100#d6['score'].groupby([d6['tech_scorecard_question_id']]).max().sum()\n",
    "\n",
    "y,z = get_technology_accuracy(weights, max_score, tech)"
   ]
  },
  {
   "cell_type": "code",
   "execution_count": 26,
   "metadata": {},
   "outputs": [
    {
     "data": {
      "text/html": [
       "<div>\n",
       "<style scoped>\n",
       "    .dataframe tbody tr th:only-of-type {\n",
       "        vertical-align: middle;\n",
       "    }\n",
       "\n",
       "    .dataframe tbody tr th {\n",
       "        vertical-align: top;\n",
       "    }\n",
       "\n",
       "    .dataframe thead th {\n",
       "        text-align: right;\n",
       "    }\n",
       "</style>\n",
       "<table border=\"1\" class=\"dataframe\">\n",
       "  <thead>\n",
       "    <tr style=\"text-align: right;\">\n",
       "      <th></th>\n",
       "      <th>(-142.0, 0.0]</th>\n",
       "      <th>(0.0, 92.0]</th>\n",
       "      <th>Accuracy</th>\n",
       "    </tr>\n",
       "  </thead>\n",
       "  <tbody>\n",
       "    <tr>\n",
       "      <th>(0,10]</th>\n",
       "      <td>0</td>\n",
       "      <td>0</td>\n",
       "      <td>0.000000</td>\n",
       "    </tr>\n",
       "    <tr>\n",
       "      <th>(10,20]</th>\n",
       "      <td>0</td>\n",
       "      <td>0</td>\n",
       "      <td>0.000000</td>\n",
       "    </tr>\n",
       "    <tr>\n",
       "      <th>(20,30]</th>\n",
       "      <td>0</td>\n",
       "      <td>0</td>\n",
       "      <td>0.000000</td>\n",
       "    </tr>\n",
       "    <tr>\n",
       "      <th>(30,40]</th>\n",
       "      <td>2</td>\n",
       "      <td>1</td>\n",
       "      <td>66.666667</td>\n",
       "    </tr>\n",
       "    <tr>\n",
       "      <th>(40,50]</th>\n",
       "      <td>8</td>\n",
       "      <td>1</td>\n",
       "      <td>88.888889</td>\n",
       "    </tr>\n",
       "    <tr>\n",
       "      <th>(50,60]</th>\n",
       "      <td>7</td>\n",
       "      <td>4</td>\n",
       "      <td>36.363636</td>\n",
       "    </tr>\n",
       "    <tr>\n",
       "      <th>(60,70]</th>\n",
       "      <td>4</td>\n",
       "      <td>5</td>\n",
       "      <td>55.555556</td>\n",
       "    </tr>\n",
       "    <tr>\n",
       "      <th>(70,80]</th>\n",
       "      <td>1</td>\n",
       "      <td>2</td>\n",
       "      <td>66.666667</td>\n",
       "    </tr>\n",
       "    <tr>\n",
       "      <th>(80,90]</th>\n",
       "      <td>0</td>\n",
       "      <td>0</td>\n",
       "      <td>0.000000</td>\n",
       "    </tr>\n",
       "    <tr>\n",
       "      <th>(90,100]</th>\n",
       "      <td>0</td>\n",
       "      <td>0</td>\n",
       "      <td>0.000000</td>\n",
       "    </tr>\n",
       "  </tbody>\n",
       "</table>\n",
       "</div>"
      ],
      "text/plain": [
       "          (-142.0, 0.0]  (0.0, 92.0]  Accuracy\n",
       "(0,10]                0            0  0.000000\n",
       "(10,20]               0            0  0.000000\n",
       "(20,30]               0            0  0.000000\n",
       "(30,40]               2            1 66.666667\n",
       "(40,50]               8            1 88.888889\n",
       "(50,60]               7            4 36.363636\n",
       "(60,70]               4            5 55.555556\n",
       "(70,80]               1            2 66.666667\n",
       "(80,90]               0            0  0.000000\n",
       "(90,100]              0            0  0.000000"
      ]
     },
     "execution_count": 26,
     "metadata": {},
     "output_type": "execute_result"
    }
   ],
   "source": [
    "y"
   ]
  },
  {
   "cell_type": "code",
   "execution_count": 28,
   "metadata": {},
   "outputs": [
    {
     "data": {
      "text/html": [
       "<div>\n",
       "<style scoped>\n",
       "    .dataframe tbody tr th:only-of-type {\n",
       "        vertical-align: middle;\n",
       "    }\n",
       "\n",
       "    .dataframe tbody tr th {\n",
       "        vertical-align: top;\n",
       "    }\n",
       "\n",
       "    .dataframe thead th {\n",
       "        text-align: right;\n",
       "    }\n",
       "</style>\n",
       "<table border=\"1\" class=\"dataframe\">\n",
       "  <thead>\n",
       "    <tr style=\"text-align: right;\">\n",
       "      <th></th>\n",
       "      <th>(-142.0, 0.0]</th>\n",
       "      <th>(0.0, 92.0]</th>\n",
       "      <th>Accuracy</th>\n",
       "    </tr>\n",
       "  </thead>\n",
       "  <tbody>\n",
       "    <tr>\n",
       "      <th>(0,10]</th>\n",
       "      <td>0.000000</td>\n",
       "      <td>0.000000</td>\n",
       "      <td>0.000000</td>\n",
       "    </tr>\n",
       "    <tr>\n",
       "      <th>(10,20]</th>\n",
       "      <td>0.000000</td>\n",
       "      <td>0.000000</td>\n",
       "      <td>0.000000</td>\n",
       "    </tr>\n",
       "    <tr>\n",
       "      <th>(20,30]</th>\n",
       "      <td>0.000000</td>\n",
       "      <td>0.000000</td>\n",
       "      <td>0.000000</td>\n",
       "    </tr>\n",
       "    <tr>\n",
       "      <th>(30,40]</th>\n",
       "      <td>0.000000</td>\n",
       "      <td>0.000000</td>\n",
       "      <td>0.000000</td>\n",
       "    </tr>\n",
       "    <tr>\n",
       "      <th>(40,50]</th>\n",
       "      <td>2.000000</td>\n",
       "      <td>0.000000</td>\n",
       "      <td>100.000000</td>\n",
       "    </tr>\n",
       "    <tr>\n",
       "      <th>(50,60]</th>\n",
       "      <td>2.000000</td>\n",
       "      <td>2.000000</td>\n",
       "      <td>50.000000</td>\n",
       "    </tr>\n",
       "    <tr>\n",
       "      <th>(60,70]</th>\n",
       "      <td>4.000000</td>\n",
       "      <td>0.000000</td>\n",
       "      <td>0.000000</td>\n",
       "    </tr>\n",
       "    <tr>\n",
       "      <th>(70,80]</th>\n",
       "      <td>8.000000</td>\n",
       "      <td>7.000000</td>\n",
       "      <td>46.666667</td>\n",
       "    </tr>\n",
       "    <tr>\n",
       "      <th>(80,90]</th>\n",
       "      <td>4.000000</td>\n",
       "      <td>4.000000</td>\n",
       "      <td>50.000000</td>\n",
       "    </tr>\n",
       "    <tr>\n",
       "      <th>(90,100]</th>\n",
       "      <td>2.000000</td>\n",
       "      <td>0.000000</td>\n",
       "      <td>0.000000</td>\n",
       "    </tr>\n",
       "  </tbody>\n",
       "</table>\n",
       "</div>"
      ],
      "text/plain": [
       "          (-142.0, 0.0]  (0.0, 92.0]   Accuracy\n",
       "(0,10]         0.000000     0.000000   0.000000\n",
       "(10,20]        0.000000     0.000000   0.000000\n",
       "(20,30]        0.000000     0.000000   0.000000\n",
       "(30,40]        0.000000     0.000000   0.000000\n",
       "(40,50]        2.000000     0.000000 100.000000\n",
       "(50,60]        2.000000     2.000000  50.000000\n",
       "(60,70]        4.000000     0.000000   0.000000\n",
       "(70,80]        8.000000     7.000000  46.666667\n",
       "(80,90]        4.000000     4.000000  50.000000\n",
       "(90,100]       2.000000     0.000000   0.000000"
      ]
     },
     "execution_count": 28,
     "metadata": {},
     "output_type": "execute_result"
    }
   ],
   "source": [
    "x"
   ]
  },
  {
   "cell_type": "code",
   "execution_count": null,
   "metadata": {},
   "outputs": [],
   "source": []
  }
 ],
 "metadata": {
  "kernelspec": {
   "display_name": "Python 3",
   "language": "python",
   "name": "python3"
  },
  "language_info": {
   "codemirror_mode": {
    "name": "ipython",
    "version": 3
   },
   "file_extension": ".py",
   "mimetype": "text/x-python",
   "name": "python",
   "nbconvert_exporter": "python",
   "pygments_lexer": "ipython3",
   "version": "3.7.3"
  }
 },
 "nbformat": 4,
 "nbformat_minor": 2
}
