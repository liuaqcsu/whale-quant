{
 "cells": [
  {
   "cell_type": "code",
   "execution_count": 1,
   "metadata": {},
   "outputs": [],
   "source": [
    "import pandas as pd\n",
    "from pypfopt import EfficientFrontier\n",
    "from pypfopt import risk_models\n",
    "from pypfopt import expected_returns\n",
    "\n",
    "import MySQLdb \n",
    "import numpy as np"
   ]
  },
  {
   "cell_type": "code",
   "execution_count": 2,
   "metadata": {},
   "outputs": [],
   "source": [
    "ieo = pd.DataFrame()\n",
    "price = pd.DataFrame()\n",
    "grades = pd.DataFrame()\n",
    "\n",
    "\n",
    "conn = MySQLdb.connect(host='tokenmetrics-restored-27-05.cxuzrhvtziar.us-east-1.rds.amazonaws.com', user='admin', passwd='WiG8Rled2cTvZ5JibJui',db='tokenmetrics')\n",
    "cursor = conn.cursor()\n",
    "\n",
    "query = '''SELECT * FROM icos;'''\n",
    "data = pd.read_sql_query(query, conn)\n",
    "ieo = pd.concat([ieo,data])\n",
    "\n",
    "query = 'SELECT * FROM ico_price_daily_summaries where currency =\"USD\";'\n",
    "data = pd.read_sql_query(query, conn)\n",
    "price = pd.concat([price,data])\n",
    "\n",
    "query = 'SELECT * FROM ico_ml_grade_history;'\n",
    "data = pd.read_sql_query(query, conn)\n",
    "grades = pd.concat([grades,data])\n",
    "    \n",
    "conn.close() "
   ]
  },
  {
   "cell_type": "code",
   "execution_count": 3,
   "metadata": {},
   "outputs": [],
   "source": [
    "ieo.sort_values('ico_market_cap', ascending=False, inplace=True)\n",
    "ieo = ieo.drop(ieo[ieo['id'] == 3245].index)\n",
    "ieo = ieo[:150]\n",
    "ieo['weight'] = ieo['ico_market_cap'] / ieo['ico_market_cap'].sum()\n",
    "ieo = pd.merge(ieo,price[['ico_id','ico_symbol']], left_on='id',right_on='ico_id',how='inner')\n",
    "ieo = ieo.drop_duplicates('id')\n",
    "weight = ieo[['ico_symbol','weight']]\n",
    "weight = weight.sort_values('ico_symbol')\n",
    "\n",
    "ieos = ieo['id'][:150]\n",
    "df = price[price['ico_id'].isin(ieos)]\n",
    "df = df.drop_duplicates(subset=['ico_symbol','date']).sort_values(by='date')\n",
    "\n",
    "\n",
    "#temp = temp.dropna()"
   ]
  },
  {
   "cell_type": "code",
   "execution_count": 4,
   "metadata": {},
   "outputs": [],
   "source": [
    "temp = df['close'].groupby([df['date'],df['ico_symbol']]).mean()\n",
    "temp = temp.unstack().sort_index()\n",
    "temp.index = pd.to_datetime(temp.index)"
   ]
  },
  {
   "cell_type": "code",
   "execution_count": 5,
   "metadata": {},
   "outputs": [
    {
     "name": "stdout",
     "output_type": "stream",
     "text": [
      "OrderedDict([('ABBC', 0.0), ('ADA', 0.0), ('AE', 0.0), ('ALGO', 0.0), ('AMPL', 0.02233), ('AR', 0.05207), ('ATOM', 0.0), ('BAT', 0.0), ('BAY', 0.00418), ('BCD', 0.0), ('BCH', 0.0), ('BCN', 0.0), ('BNB', 0.0), ('BNT', 0.0), ('BOTX', 0.09367), ('BSV', 0.0), ('BTC', 0.0), ('BTG', 0.0), ('BTM', 0.0), ('BTRS', 0.00077), ('BTS', 0.0), ('BTT', 0.0), ('BZT', 0.0), ('CCC', 0.00294), ('CCXX', 0.07066), ('CEL', 0.02064), ('CENNZ', 0.0), ('CKB', 0.05176), ('COMP', 0.01299), ('CRO', 0.0), ('DAI', 0.0), ('DASH', 0.0), ('DCR', 0.0), ('DEV', 0.02413), ('DGB', 0.0), ('DOGE', 0.01387), ('EKT', 0.0), ('ELA', 0.0), ('ELAMA', 0.0), ('ENJ', 0.0), ('EON', 0.0), ('EOS', 0.0), ('ETC', 0.0), ('ETH', 0.0), ('FST', 0.01519), ('FXC', 0.1), ('GAP', 0.0), ('GTN', 0.0), ('GUSD', 0.0), ('GXC', 0.0), ('HC', 0.0), ('HDAC', 0.02774), ('HEDG', 0.0), ('HIVE', 0.0), ('HMR', 0.0), ('HOT', 0.0), ('HT', 0.0), ('ICX', 0.0), ('INB', 0.0), ('INO', 0.0), ('IOST', 0.0), ('KBC', 0.0), ('KCS', 0.0), ('KIN', 0.0), ('KMD', 0.0), ('KNC', 0.0), ('LBC', 0.0), ('LEND', 0.0), ('LEO', 0.0), ('LINK', 0.0), ('LSK', 0.0), ('LTC', 0.0), ('MCO', 0.0), ('MIN', 0.0), ('MIOTA', 0.0), ('MKR', 0.0), ('MONA', 0.0), ('MXM', 0.00254), ('NANO', 0.0), ('NEO', 0.0), ('NEXO', 0.0), ('NGC', 0.0), ('NIM', 0.0), ('NMR', 0.0), ('OMG', 0.0), ('ONT', 0.0), ('PAX', 0.1), ('PIX', 0.00112), ('PLF', 0.02741), ('QBIT', 0.01428), ('QNT', 0.0), ('QQQ', 0.00543), ('QTUM', 0.0), ('REN', 0.0), ('REP', 0.0), ('RVN', 0.0), ('SC', 0.0), ('SEELE', 0.0), ('SNX', 0.0211), ('SXP', 0.0), ('TAGZ5', 0.00131), ('THETA', 0.0), ('THR', 0.0), ('TNC', 0.0), ('TRX', 0.0), ('TUSD', 0.1), ('UMA', 0.01359), ('USDC', 0.1), ('USDT', 0.1), ('UUU', 0.0), ('VEE', 0.00028), ('VEST', 0.0), ('VET', 0.0), ('VSYS', 0.0), ('WAVES', 0.0), ('WTC', 0.0), ('XEM', 0.0), ('XIN', 0.0), ('XLM', 0.0), ('XMR', 0.0), ('XRP', 0.0), ('XTZ', 0.0), ('XVG', 0.0), ('ZB', 0.0), ('ZEC', 0.0), ('ZRX', 0.0)])\n",
      "Expected annual return: 200.5%\n",
      "Annual volatility: 15.9%\n",
      "Sharpe Ratio: 12.50\n"
     ]
    },
    {
     "name": "stderr",
     "output_type": "stream",
     "text": [
      "C:\\Users\\Aagam\\Anaconda3\\lib\\site-packages\\pypfopt\\risk_models.py:68: UserWarning: The covariance matrix is non positive semidefinite. Amending eigenvalues.\n",
      "  \"The covariance matrix is non positive semidefinite. Amending eigenvalues.\"\n",
      "C:\\Users\\Aagam\\Anaconda3\\lib\\site-packages\\pypfopt\\risk_models.py:87: UserWarning: Could not fix matrix. Please try a different risk model.\n",
      "  warnings.warn(\"Could not fix matrix. Please try a different risk model.\")\n"
     ]
    },
    {
     "data": {
      "text/plain": [
       "(2.004568604751039, 0.1588257180687363, 12.495259765752552)"
      ]
     },
     "execution_count": 5,
     "metadata": {},
     "output_type": "execute_result"
    }
   ],
   "source": [
    "# Calculate expected returns and sample covariance\n",
    "mu = expected_returns.mean_historical_return(temp.loc['2019-01-01':])\n",
    "S = risk_models.sample_cov(temp.loc['2019-01-01':])\n",
    "\n",
    "# Optimise for maximal Sharpe ratio\n",
    "ef = EfficientFrontier(mu, S, weight_bounds=(0, 0.1))\n",
    "raw_weights = ef.max_sharpe()\n",
    "cleaned_weights = ef.clean_weights()\n",
    "ef.save_weights_to_file(\"weights.csv\")  # saves to file\n",
    "print(cleaned_weights)\n",
    "ef.portfolio_performance(verbose=True)"
   ]
  },
  {
   "cell_type": "code",
   "execution_count": 9,
   "metadata": {},
   "outputs": [],
   "source": [
    "weights = pd.DataFrame.from_dict(dict(cleaned_weights), orient='index')\n",
    "weights = weights[weights[0] > 0]"
   ]
  },
  {
   "cell_type": "raw",
   "metadata": {},
   "source": [
    "from pypfopt.discrete_allocation import DiscreteAllocation, get_latest_prices\n",
    "\n",
    "\n",
    "latest_prices = temp.iloc[-1]#get_latest_prices(df)\n",
    "\n",
    "da = DiscreteAllocation(cleaned_weights, latest_prices, total_portfolio_value=10000,short_ratio=0.01)\n",
    "allocation, leftover = da.lp_portfolio()\n",
    "print(\"Discrete allocation:\", allocation)\n",
    "print(\"Funds remaining: ${:.2f}\".format(leftover))"
   ]
  },
  {
   "cell_type": "raw",
   "metadata": {},
   "source": [
    "price = price.sort_values('date',ascending=False)\n",
    "price = price[price['date'] == price['date'].iloc[0]]\n",
    "\n",
    "allocation = pd.merge(allocation, price[['ico_symbol', 'close']])"
   ]
  },
  {
   "cell_type": "markdown",
   "metadata": {},
   "source": [
    "price = price.sort_values('date',ascending=False)\n",
    "price = price[price['date'] == price['date'].iloc[0]]\n",
    "\n",
    "allocation = pd.DataFrame.from_dict(allocation,orient='index')\n",
    "allocation.columns = ['Token Volume']\n",
    "allocation['ico_symbol'] = allocation.index\n",
    "\n",
    "allocation = pd.merge(allocation, price[['close','ico_symbol']])\n",
    "\n",
    "allocation['Holding Amount'] = abs(allocation['Token Volume']) * allocation['close']\n",
    "allocation['Position'] = np.where(allocation['Token Volume']<0, 'Short', 'Long')\n",
    "allocation"
   ]
  },
  {
   "cell_type": "code",
   "execution_count": 10,
   "metadata": {},
   "outputs": [],
   "source": [
    "allocation = pd.DataFrame()\n",
    "allocation['ico_symbol'] = weights.index.tolist()\n",
    "allocation['weights'] = weights[0].tolist()"
   ]
  },
  {
   "cell_type": "code",
   "execution_count": 20,
   "metadata": {},
   "outputs": [],
   "source": [
    "close = []\n",
    "for symbol in allocation['ico_symbol'].tolist():\n",
    "    temp = price[price['ico_symbol'] == symbol]\n",
    "    temp = temp.sort_values('date',ascending=False)\n",
    "    temp = temp[temp['date'] == temp['date'].iloc[0]]\n",
    "    close.append(temp['close'].values[0])"
   ]
  },
  {
   "cell_type": "code",
   "execution_count": 22,
   "metadata": {},
   "outputs": [],
   "source": [
    "allocation['price'] = close"
   ]
  },
  {
   "cell_type": "code",
   "execution_count": 26,
   "metadata": {},
   "outputs": [],
   "source": [
    "allocation['Holding Amount'] = allocation['weights'] * 10000"
   ]
  },
  {
   "cell_type": "code",
   "execution_count": 27,
   "metadata": {},
   "outputs": [],
   "source": [
    "allocation['% Holding'] = allocation['Holding Amount'] / allocation['Holding Amount'].sum()"
   ]
  },
  {
   "cell_type": "code",
   "execution_count": 28,
   "metadata": {},
   "outputs": [
    {
     "data": {
      "text/html": [
       "<div>\n",
       "<style scoped>\n",
       "    .dataframe tbody tr th:only-of-type {\n",
       "        vertical-align: middle;\n",
       "    }\n",
       "\n",
       "    .dataframe tbody tr th {\n",
       "        vertical-align: top;\n",
       "    }\n",
       "\n",
       "    .dataframe thead th {\n",
       "        text-align: right;\n",
       "    }\n",
       "</style>\n",
       "<table border=\"1\" class=\"dataframe\">\n",
       "  <thead>\n",
       "    <tr style=\"text-align: right;\">\n",
       "      <th></th>\n",
       "      <th>ico_symbol</th>\n",
       "      <th>weights</th>\n",
       "      <th>price</th>\n",
       "      <th>Holding Amount</th>\n",
       "      <th>% Holding</th>\n",
       "    </tr>\n",
       "  </thead>\n",
       "  <tbody>\n",
       "    <tr>\n",
       "      <th>0</th>\n",
       "      <td>AMPL</td>\n",
       "      <td>0.02233</td>\n",
       "      <td>1.866241</td>\n",
       "      <td>223.3</td>\n",
       "      <td>0.02233</td>\n",
       "    </tr>\n",
       "    <tr>\n",
       "      <th>1</th>\n",
       "      <td>AR</td>\n",
       "      <td>0.05207</td>\n",
       "      <td>1.534375</td>\n",
       "      <td>520.7</td>\n",
       "      <td>0.05207</td>\n",
       "    </tr>\n",
       "    <tr>\n",
       "      <th>2</th>\n",
       "      <td>BAY</td>\n",
       "      <td>0.00418</td>\n",
       "      <td>0.175920</td>\n",
       "      <td>41.8</td>\n",
       "      <td>0.00418</td>\n",
       "    </tr>\n",
       "    <tr>\n",
       "      <th>3</th>\n",
       "      <td>BOTX</td>\n",
       "      <td>0.09367</td>\n",
       "      <td>0.064931</td>\n",
       "      <td>936.7</td>\n",
       "      <td>0.09367</td>\n",
       "    </tr>\n",
       "    <tr>\n",
       "      <th>4</th>\n",
       "      <td>BTRS</td>\n",
       "      <td>0.00077</td>\n",
       "      <td>82.910934</td>\n",
       "      <td>7.7</td>\n",
       "      <td>0.00077</td>\n",
       "    </tr>\n",
       "    <tr>\n",
       "      <th>5</th>\n",
       "      <td>CCC</td>\n",
       "      <td>0.00294</td>\n",
       "      <td>0.001729</td>\n",
       "      <td>29.4</td>\n",
       "      <td>0.00294</td>\n",
       "    </tr>\n",
       "    <tr>\n",
       "      <th>6</th>\n",
       "      <td>CCXX</td>\n",
       "      <td>0.07066</td>\n",
       "      <td>20.431122</td>\n",
       "      <td>706.6</td>\n",
       "      <td>0.07066</td>\n",
       "    </tr>\n",
       "    <tr>\n",
       "      <th>7</th>\n",
       "      <td>CEL</td>\n",
       "      <td>0.02064</td>\n",
       "      <td>0.431572</td>\n",
       "      <td>206.4</td>\n",
       "      <td>0.02064</td>\n",
       "    </tr>\n",
       "    <tr>\n",
       "      <th>8</th>\n",
       "      <td>CKB</td>\n",
       "      <td>0.05176</td>\n",
       "      <td>0.005493</td>\n",
       "      <td>517.6</td>\n",
       "      <td>0.05176</td>\n",
       "    </tr>\n",
       "    <tr>\n",
       "      <th>9</th>\n",
       "      <td>COMP</td>\n",
       "      <td>0.01299</td>\n",
       "      <td>157.967163</td>\n",
       "      <td>129.9</td>\n",
       "      <td>0.01299</td>\n",
       "    </tr>\n",
       "    <tr>\n",
       "      <th>10</th>\n",
       "      <td>DEV</td>\n",
       "      <td>0.02413</td>\n",
       "      <td>1.186773</td>\n",
       "      <td>241.3</td>\n",
       "      <td>0.02413</td>\n",
       "    </tr>\n",
       "    <tr>\n",
       "      <th>11</th>\n",
       "      <td>DOGE</td>\n",
       "      <td>0.01387</td>\n",
       "      <td>0.003273</td>\n",
       "      <td>138.7</td>\n",
       "      <td>0.01387</td>\n",
       "    </tr>\n",
       "    <tr>\n",
       "      <th>12</th>\n",
       "      <td>FST</td>\n",
       "      <td>0.01519</td>\n",
       "      <td>0.442817</td>\n",
       "      <td>151.9</td>\n",
       "      <td>0.01519</td>\n",
       "    </tr>\n",
       "    <tr>\n",
       "      <th>13</th>\n",
       "      <td>FXC</td>\n",
       "      <td>0.10000</td>\n",
       "      <td>0.003728</td>\n",
       "      <td>1000.0</td>\n",
       "      <td>0.10000</td>\n",
       "    </tr>\n",
       "    <tr>\n",
       "      <th>14</th>\n",
       "      <td>HDAC</td>\n",
       "      <td>0.02774</td>\n",
       "      <td>0.029780</td>\n",
       "      <td>277.4</td>\n",
       "      <td>0.02774</td>\n",
       "    </tr>\n",
       "    <tr>\n",
       "      <th>15</th>\n",
       "      <td>MXM</td>\n",
       "      <td>0.00254</td>\n",
       "      <td>0.009198</td>\n",
       "      <td>25.4</td>\n",
       "      <td>0.00254</td>\n",
       "    </tr>\n",
       "    <tr>\n",
       "      <th>16</th>\n",
       "      <td>PAX</td>\n",
       "      <td>0.10000</td>\n",
       "      <td>0.999972</td>\n",
       "      <td>1000.0</td>\n",
       "      <td>0.10000</td>\n",
       "    </tr>\n",
       "    <tr>\n",
       "      <th>17</th>\n",
       "      <td>PIX</td>\n",
       "      <td>0.00112</td>\n",
       "      <td>0.000843</td>\n",
       "      <td>11.2</td>\n",
       "      <td>0.00112</td>\n",
       "    </tr>\n",
       "    <tr>\n",
       "      <th>18</th>\n",
       "      <td>PLF</td>\n",
       "      <td>0.02741</td>\n",
       "      <td>0.105896</td>\n",
       "      <td>274.1</td>\n",
       "      <td>0.02741</td>\n",
       "    </tr>\n",
       "    <tr>\n",
       "      <th>19</th>\n",
       "      <td>QBIT</td>\n",
       "      <td>0.01428</td>\n",
       "      <td>31.979509</td>\n",
       "      <td>142.8</td>\n",
       "      <td>0.01428</td>\n",
       "    </tr>\n",
       "    <tr>\n",
       "      <th>20</th>\n",
       "      <td>QQQ</td>\n",
       "      <td>0.00543</td>\n",
       "      <td>0.020346</td>\n",
       "      <td>54.3</td>\n",
       "      <td>0.00543</td>\n",
       "    </tr>\n",
       "    <tr>\n",
       "      <th>21</th>\n",
       "      <td>SNX</td>\n",
       "      <td>0.02110</td>\n",
       "      <td>3.575330</td>\n",
       "      <td>211.0</td>\n",
       "      <td>0.02110</td>\n",
       "    </tr>\n",
       "    <tr>\n",
       "      <th>22</th>\n",
       "      <td>TAGZ5</td>\n",
       "      <td>0.00131</td>\n",
       "      <td>0.039273</td>\n",
       "      <td>13.1</td>\n",
       "      <td>0.00131</td>\n",
       "    </tr>\n",
       "    <tr>\n",
       "      <th>23</th>\n",
       "      <td>TUSD</td>\n",
       "      <td>0.10000</td>\n",
       "      <td>1.000269</td>\n",
       "      <td>1000.0</td>\n",
       "      <td>0.10000</td>\n",
       "    </tr>\n",
       "    <tr>\n",
       "      <th>24</th>\n",
       "      <td>UMA</td>\n",
       "      <td>0.01359</td>\n",
       "      <td>2.645490</td>\n",
       "      <td>135.9</td>\n",
       "      <td>0.01359</td>\n",
       "    </tr>\n",
       "    <tr>\n",
       "      <th>25</th>\n",
       "      <td>USDC</td>\n",
       "      <td>0.10000</td>\n",
       "      <td>1.000886</td>\n",
       "      <td>1000.0</td>\n",
       "      <td>0.10000</td>\n",
       "    </tr>\n",
       "    <tr>\n",
       "      <th>26</th>\n",
       "      <td>USDT</td>\n",
       "      <td>0.10000</td>\n",
       "      <td>1.001786</td>\n",
       "      <td>1000.0</td>\n",
       "      <td>0.10000</td>\n",
       "    </tr>\n",
       "    <tr>\n",
       "      <th>27</th>\n",
       "      <td>VEE</td>\n",
       "      <td>0.00028</td>\n",
       "      <td>0.001513</td>\n",
       "      <td>2.8</td>\n",
       "      <td>0.00028</td>\n",
       "    </tr>\n",
       "  </tbody>\n",
       "</table>\n",
       "</div>"
      ],
      "text/plain": [
       "   ico_symbol  weights       price  Holding Amount  % Holding\n",
       "0        AMPL  0.02233    1.866241           223.3    0.02233\n",
       "1          AR  0.05207    1.534375           520.7    0.05207\n",
       "2         BAY  0.00418    0.175920            41.8    0.00418\n",
       "3        BOTX  0.09367    0.064931           936.7    0.09367\n",
       "4        BTRS  0.00077   82.910934             7.7    0.00077\n",
       "5         CCC  0.00294    0.001729            29.4    0.00294\n",
       "6        CCXX  0.07066   20.431122           706.6    0.07066\n",
       "7         CEL  0.02064    0.431572           206.4    0.02064\n",
       "8         CKB  0.05176    0.005493           517.6    0.05176\n",
       "9        COMP  0.01299  157.967163           129.9    0.01299\n",
       "10        DEV  0.02413    1.186773           241.3    0.02413\n",
       "11       DOGE  0.01387    0.003273           138.7    0.01387\n",
       "12        FST  0.01519    0.442817           151.9    0.01519\n",
       "13        FXC  0.10000    0.003728          1000.0    0.10000\n",
       "14       HDAC  0.02774    0.029780           277.4    0.02774\n",
       "15        MXM  0.00254    0.009198            25.4    0.00254\n",
       "16        PAX  0.10000    0.999972          1000.0    0.10000\n",
       "17        PIX  0.00112    0.000843            11.2    0.00112\n",
       "18        PLF  0.02741    0.105896           274.1    0.02741\n",
       "19       QBIT  0.01428   31.979509           142.8    0.01428\n",
       "20        QQQ  0.00543    0.020346            54.3    0.00543\n",
       "21        SNX  0.02110    3.575330           211.0    0.02110\n",
       "22      TAGZ5  0.00131    0.039273            13.1    0.00131\n",
       "23       TUSD  0.10000    1.000269          1000.0    0.10000\n",
       "24        UMA  0.01359    2.645490           135.9    0.01359\n",
       "25       USDC  0.10000    1.000886          1000.0    0.10000\n",
       "26       USDT  0.10000    1.001786          1000.0    0.10000\n",
       "27        VEE  0.00028    0.001513             2.8    0.00028"
      ]
     },
     "execution_count": 28,
     "metadata": {},
     "output_type": "execute_result"
    }
   ],
   "source": [
    "allocation"
   ]
  },
  {
   "cell_type": "markdown",
   "metadata": {},
   "source": [
    "### Views"
   ]
  },
  {
   "cell_type": "code",
   "execution_count": 29,
   "metadata": {},
   "outputs": [],
   "source": [
    "from pypfopt import black_litterman\n",
    "from pypfopt.black_litterman import BlackLittermanModel\n",
    "from pypfopt.efficient_frontier import EfficientFrontier\n",
    "\n",
    "grades = grades[grades['ico_id'].isin(ieos)]\n",
    "grades = pd.merge(grades,price[['ico_id','ico_symbol']], on='ico_id',how='inner')\n",
    "grades = grades.drop_duplicates(['ico_id','date'])\n",
    "grades = grades.sort_values('date', ascending=False)\n",
    "grades = grades[grades['date'] == grades['date'].iloc[0]]"
   ]
  },
  {
   "cell_type": "code",
   "execution_count": 33,
   "metadata": {},
   "outputs": [],
   "source": [
    "grades['view'] = grades['final_grade'] / grades['final_grade'].sum()\n",
    "views = grades[['ico_symbol','view']]\n",
    "views.set_index('ico_symbol', inplace=True)\n",
    "views = views.to_dict()\n",
    "viewdict = views['view']\n",
    "\n",
    "temp = df['close'].groupby([df['date'],df['ico_symbol']]).mean()\n",
    "temp = temp.unstack().sort_index()\n",
    "temp.index = pd.to_datetime(temp.index)\n",
    "\n",
    "cov_matrix = temp.loc['2019-01-01':].cov()"
   ]
  },
  {
   "cell_type": "code",
   "execution_count": 34,
   "metadata": {
    "scrolled": true
   },
   "outputs": [
    {
     "name": "stderr",
     "output_type": "stream",
     "text": [
      "C:\\Users\\Aagam\\Anaconda3\\lib\\site-packages\\pypfopt\\black_litterman.py:442: RuntimeWarning: invalid value encountered in multiply\n",
      "  A = risk_aversion * self.cov_matrix\n",
      "C:\\Users\\Aagam\\Anaconda3\\lib\\site-packages\\pypfopt\\base_optimizer.py:87: RuntimeWarning: invalid value encountered in less\n",
      "  clean_weights[np.abs(clean_weights) < cutoff] = 0\n"
     ]
    }
   ],
   "source": [
    "bl = BlackLittermanModel(cov_matrix, pi=\"equal\", absolute_views=viewdict, omega='default')\n",
    "\n",
    "rets = bl.bl_returns()\n",
    "ef = EfficientFrontier(rets, cov_matrix, weight_bounds=(0, 0.1))\n",
    "\n",
    "# OR use return-implied weights\n",
    "delta = black_litterman.market_implied_risk_aversion(temp.loc['2019-01-01':])\n",
    "bl.bl_weights(delta.values)\n",
    "weights = bl.clean_weights()"
   ]
  },
  {
   "cell_type": "code",
   "execution_count": 37,
   "metadata": {},
   "outputs": [],
   "source": [
    "weights = pd.DataFrame.from_dict(dict(weights), orient='index')\n",
    "weights = weights[weights[0] > 0]"
   ]
  },
  {
   "cell_type": "code",
   "execution_count": 38,
   "metadata": {},
   "outputs": [
    {
     "data": {
      "text/html": [
       "<div>\n",
       "<style scoped>\n",
       "    .dataframe tbody tr th:only-of-type {\n",
       "        vertical-align: middle;\n",
       "    }\n",
       "\n",
       "    .dataframe tbody tr th {\n",
       "        vertical-align: top;\n",
       "    }\n",
       "\n",
       "    .dataframe thead th {\n",
       "        text-align: right;\n",
       "    }\n",
       "</style>\n",
       "<table border=\"1\" class=\"dataframe\">\n",
       "  <thead>\n",
       "    <tr style=\"text-align: right;\">\n",
       "      <th></th>\n",
       "      <th>0</th>\n",
       "    </tr>\n",
       "  </thead>\n",
       "  <tbody>\n",
       "  </tbody>\n",
       "</table>\n",
       "</div>"
      ],
      "text/plain": [
       "Empty DataFrame\n",
       "Columns: [0]\n",
       "Index: []"
      ]
     },
     "execution_count": 38,
     "metadata": {},
     "output_type": "execute_result"
    }
   ],
   "source": [
    "weights"
   ]
  },
  {
   "cell_type": "code",
   "execution_count": null,
   "metadata": {},
   "outputs": [],
   "source": []
  },
  {
   "cell_type": "code",
   "execution_count": null,
   "metadata": {},
   "outputs": [],
   "source": []
  },
  {
   "cell_type": "code",
   "execution_count": 12,
   "metadata": {},
   "outputs": [
    {
     "name": "stdout",
     "output_type": "stream",
     "text": [
      "Discrete allocation: {'HT': 5.0, 'TRX': 555171.0, 'XLM': 1106.0, 'XTZ': 28.0, 'LBC': -5.0, 'XRP': -4.0}\n",
      "Funds remaining: $0.08\n"
     ]
    }
   ],
   "source": [
    "da = DiscreteAllocation(weights, latest_prices, total_portfolio_value=10000,short_ratio=0.0001)\n",
    "allocation, leftover = da.lp_portfolio()\n",
    "print(\"Discrete allocation:\", allocation)\n",
    "print(\"Funds remaining: ${:.2f}\".format(leftover))"
   ]
  },
  {
   "cell_type": "code",
   "execution_count": 13,
   "metadata": {},
   "outputs": [
    {
     "data": {
      "text/html": [
       "<div>\n",
       "<style scoped>\n",
       "    .dataframe tbody tr th:only-of-type {\n",
       "        vertical-align: middle;\n",
       "    }\n",
       "\n",
       "    .dataframe tbody tr th {\n",
       "        vertical-align: top;\n",
       "    }\n",
       "\n",
       "    .dataframe thead th {\n",
       "        text-align: right;\n",
       "    }\n",
       "</style>\n",
       "<table border=\"1\" class=\"dataframe\">\n",
       "  <thead>\n",
       "    <tr style=\"text-align: right;\">\n",
       "      <th></th>\n",
       "      <th>Token Volume</th>\n",
       "      <th>ico_symbol</th>\n",
       "      <th>close</th>\n",
       "      <th>Holding Amount</th>\n",
       "      <th>Position</th>\n",
       "    </tr>\n",
       "  </thead>\n",
       "  <tbody>\n",
       "    <tr>\n",
       "      <th>0</th>\n",
       "      <td>5.0</td>\n",
       "      <td>HT</td>\n",
       "      <td>4.238911</td>\n",
       "      <td>21.194553</td>\n",
       "      <td>Long</td>\n",
       "    </tr>\n",
       "    <tr>\n",
       "      <th>1</th>\n",
       "      <td>555171.0</td>\n",
       "      <td>TRX</td>\n",
       "      <td>0.017635</td>\n",
       "      <td>9790.570328</td>\n",
       "      <td>Long</td>\n",
       "    </tr>\n",
       "    <tr>\n",
       "      <th>2</th>\n",
       "      <td>1106.0</td>\n",
       "      <td>XLM</td>\n",
       "      <td>0.096894</td>\n",
       "      <td>107.164875</td>\n",
       "      <td>Long</td>\n",
       "    </tr>\n",
       "    <tr>\n",
       "      <th>3</th>\n",
       "      <td>28.0</td>\n",
       "      <td>XTZ</td>\n",
       "      <td>2.895190</td>\n",
       "      <td>81.065320</td>\n",
       "      <td>Long</td>\n",
       "    </tr>\n",
       "    <tr>\n",
       "      <th>4</th>\n",
       "      <td>-5.0</td>\n",
       "      <td>LBC</td>\n",
       "      <td>0.025488</td>\n",
       "      <td>0.127438</td>\n",
       "      <td>Short</td>\n",
       "    </tr>\n",
       "    <tr>\n",
       "      <th>5</th>\n",
       "      <td>-4.0</td>\n",
       "      <td>XRP</td>\n",
       "      <td>0.199965</td>\n",
       "      <td>0.799861</td>\n",
       "      <td>Short</td>\n",
       "    </tr>\n",
       "  </tbody>\n",
       "</table>\n",
       "</div>"
      ],
      "text/plain": [
       "   Token Volume ico_symbol     close  Holding Amount Position\n",
       "0           5.0         HT  4.238911       21.194553     Long\n",
       "1      555171.0        TRX  0.017635     9790.570328     Long\n",
       "2        1106.0        XLM  0.096894      107.164875     Long\n",
       "3          28.0        XTZ  2.895190       81.065320     Long\n",
       "4          -5.0        LBC  0.025488        0.127438    Short\n",
       "5          -4.0        XRP  0.199965        0.799861    Short"
      ]
     },
     "execution_count": 13,
     "metadata": {},
     "output_type": "execute_result"
    }
   ],
   "source": [
    "price = price.sort_values('date',ascending=False)\n",
    "price = price[price['date'] == price['date'].iloc[0]]\n",
    "\n",
    "allocation = pd.DataFrame.from_dict(allocation,orient='index')\n",
    "allocation.columns = ['Token Volume']\n",
    "allocation['ico_symbol'] = allocation.index\n",
    "\n",
    "allocation = pd.merge(allocation, price[['close','ico_symbol']])\n",
    "\n",
    "allocation['Holding Amount'] = abs(allocation['Token Volume']) * allocation['close']\n",
    "allocation['Position'] = np.where(allocation['Token Volume']<0, 'Short', 'Long')\n",
    "allocation"
   ]
  },
  {
   "cell_type": "code",
   "execution_count": null,
   "metadata": {},
   "outputs": [],
   "source": []
  },
  {
   "cell_type": "code",
   "execution_count": null,
   "metadata": {},
   "outputs": [],
   "source": []
  }
 ],
 "metadata": {
  "kernelspec": {
   "display_name": "Python 3",
   "language": "python",
   "name": "python3"
  },
  "language_info": {
   "codemirror_mode": {
    "name": "ipython",
    "version": 3
   },
   "file_extension": ".py",
   "mimetype": "text/x-python",
   "name": "python",
   "nbconvert_exporter": "python",
   "pygments_lexer": "ipython3",
   "version": "3.7.4"
  }
 },
 "nbformat": 4,
 "nbformat_minor": 2
}
