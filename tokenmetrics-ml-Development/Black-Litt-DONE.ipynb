{
 "cells": [
  {
   "cell_type": "code",
   "execution_count": 11,
   "metadata": {},
   "outputs": [],
   "source": [
    "import pandas as pd  \n",
    "import numpy as np\n",
    "import matplotlib.pyplot as plt\n",
    "\n",
    "import glob, os\n",
    "import json\n",
    "\n",
    "#import MySQLdb \n",
    "#import sshtunnel\n",
    "#from sshtunnel import SSHTunnelForwarder\n",
    "from sklearn.metrics import mean_absolute_error, mean_squared_error\n",
    "#from datetime import date \n",
    "from datetime import datetime\n",
    "\n",
    "pd.set_option('float_format', '{:f}'.format)\n",
    "\n",
    "import pandas as pd\n",
    " \n",
    "\n",
    "#import MySQLdb \n",
    "import numpy as np"
   ]
  },
  {
   "cell_type": "code",
   "execution_count": 25,
   "metadata": {},
   "outputs": [],
   "source": [
    "\n",
    "import mysql.connector\n",
    "ieo = pd.DataFrame()\n",
    "price = pd.DataFrame()\n",
    "grades = pd.DataFrame()\n",
    "\n",
    "\n",
    "conn = mysql.connector.connect(host='tokenmetrics-restored-27-05.cxuzrhvtziar.us-east-1.rds.amazonaws.com', user='admin', passwd='WiG8Rled2cTvZ5JibJui',db='tokenmetrics')\n",
    "cursor = conn.cursor()\n",
    "\n",
    " \n",
    "\n",
    "query = 'SELECT * FROM ico_price_daily_summaries where currency =\"USD\";'\n",
    "data = pd.read_sql_query(query, conn)\n",
    "price = pd.concat([ieo,price])\n",
    " \n",
    "    \n",
    "conn.close()"
   ]
  },
  {
   "cell_type": "code",
   "execution_count": 36,
   "metadata": {},
   "outputs": [
    {
     "ename": "AttributeError",
     "evalue": "'NoneType' object has no attribute 'items'",
     "output_type": "error",
     "traceback": [
      "\u001b[0;31m---------------------------------------------------------------------------\u001b[0m",
      "\u001b[0;31mAttributeError\u001b[0m                            Traceback (most recent call last)",
      "\u001b[0;32m/Applications/anaconda3/lib/python3.7/site-packages/IPython/core/formatters.py\u001b[0m in \u001b[0;36m__call__\u001b[0;34m(self, obj)\u001b[0m\n\u001b[1;32m    343\u001b[0m             \u001b[0mmethod\u001b[0m \u001b[0;34m=\u001b[0m \u001b[0mget_real_method\u001b[0m\u001b[0;34m(\u001b[0m\u001b[0mobj\u001b[0m\u001b[0;34m,\u001b[0m \u001b[0mself\u001b[0m\u001b[0;34m.\u001b[0m\u001b[0mprint_method\u001b[0m\u001b[0;34m)\u001b[0m\u001b[0;34m\u001b[0m\u001b[0;34m\u001b[0m\u001b[0m\n\u001b[1;32m    344\u001b[0m             \u001b[0;32mif\u001b[0m \u001b[0mmethod\u001b[0m \u001b[0;32mis\u001b[0m \u001b[0;32mnot\u001b[0m \u001b[0;32mNone\u001b[0m\u001b[0;34m:\u001b[0m\u001b[0;34m\u001b[0m\u001b[0;34m\u001b[0m\u001b[0m\n\u001b[0;32m--> 345\u001b[0;31m                 \u001b[0;32mreturn\u001b[0m \u001b[0mmethod\u001b[0m\u001b[0;34m(\u001b[0m\u001b[0;34m)\u001b[0m\u001b[0;34m\u001b[0m\u001b[0;34m\u001b[0m\u001b[0m\n\u001b[0m\u001b[1;32m    346\u001b[0m             \u001b[0;32mreturn\u001b[0m \u001b[0;32mNone\u001b[0m\u001b[0;34m\u001b[0m\u001b[0;34m\u001b[0m\u001b[0m\n\u001b[1;32m    347\u001b[0m         \u001b[0;32melse\u001b[0m\u001b[0;34m:\u001b[0m\u001b[0;34m\u001b[0m\u001b[0;34m\u001b[0m\u001b[0m\n",
      "\u001b[0;32m/Applications/anaconda3/lib/python3.7/site-packages/pandas/core/frame.py\u001b[0m in \u001b[0;36m_repr_html_\u001b[0;34m(self)\u001b[0m\n\u001b[1;32m    732\u001b[0m             \u001b[0mself\u001b[0m\u001b[0;34m.\u001b[0m\u001b[0minfo\u001b[0m\u001b[0;34m(\u001b[0m\u001b[0mbuf\u001b[0m\u001b[0;34m=\u001b[0m\u001b[0mbuf\u001b[0m\u001b[0;34m)\u001b[0m\u001b[0;34m\u001b[0m\u001b[0;34m\u001b[0m\u001b[0m\n\u001b[1;32m    733\u001b[0m             \u001b[0;32mreturn\u001b[0m \u001b[0mbuf\u001b[0m\u001b[0;34m.\u001b[0m\u001b[0mgetvalue\u001b[0m\u001b[0;34m(\u001b[0m\u001b[0;34m)\u001b[0m\u001b[0;34m\u001b[0m\u001b[0;34m\u001b[0m\u001b[0m\n\u001b[0;32m--> 734\u001b[0;31m \u001b[0;34m\u001b[0m\u001b[0m\n\u001b[0m\u001b[1;32m    735\u001b[0m         \u001b[0mmax_rows\u001b[0m \u001b[0;34m=\u001b[0m \u001b[0mget_option\u001b[0m\u001b[0;34m(\u001b[0m\u001b[0;34m\"display.max_rows\"\u001b[0m\u001b[0;34m)\u001b[0m\u001b[0;34m\u001b[0m\u001b[0;34m\u001b[0m\u001b[0m\n\u001b[1;32m    736\u001b[0m         \u001b[0mmin_rows\u001b[0m \u001b[0;34m=\u001b[0m \u001b[0mget_option\u001b[0m\u001b[0;34m(\u001b[0m\u001b[0;34m\"display.min_rows\"\u001b[0m\u001b[0;34m)\u001b[0m\u001b[0;34m\u001b[0m\u001b[0;34m\u001b[0m\u001b[0m\n",
      "\u001b[0;32m/Applications/anaconda3/lib/python3.7/site-packages/pandas/io/formats/format.py\u001b[0m in \u001b[0;36mto_html\u001b[0;34m(self, buf, encoding, classes, notebook, border)\u001b[0m\n\u001b[1;32m    982\u001b[0m             \u001b[0mA\u001b[0m\u001b[0;31m \u001b[0m\u001b[0;31m`\u001b[0m\u001b[0;31m`\u001b[0m\u001b[0mborder\u001b[0m\u001b[0;34m=\u001b[0m\u001b[0mborder\u001b[0m\u001b[0;31m`\u001b[0m\u001b[0;31m`\u001b[0m \u001b[0mattribute\u001b[0m \u001b[0;32mis\u001b[0m \u001b[0mincluded\u001b[0m \u001b[0;32min\u001b[0m \u001b[0mthe\u001b[0m \u001b[0mopening\u001b[0m\u001b[0;34m\u001b[0m\u001b[0;34m\u001b[0m\u001b[0m\n\u001b[1;32m    983\u001b[0m             \u001b[0;31m`\u001b[0m\u001b[0;31m`\u001b[0m\u001b[0;34m<\u001b[0m\u001b[0mtable\u001b[0m\u001b[0;34m>\u001b[0m\u001b[0;31m`\u001b[0m\u001b[0;31m`\u001b[0m \u001b[0mtag\u001b[0m\u001b[0;34m.\u001b[0m \u001b[0mDefault\u001b[0m\u001b[0;31m \u001b[0m\u001b[0;31m`\u001b[0m\u001b[0;31m`\u001b[0m\u001b[0mpd\u001b[0m\u001b[0;34m.\u001b[0m\u001b[0moptions\u001b[0m\u001b[0;34m.\u001b[0m\u001b[0mdisplay\u001b[0m\u001b[0;34m.\u001b[0m\u001b[0mhtml\u001b[0m\u001b[0;34m.\u001b[0m\u001b[0mborder\u001b[0m\u001b[0;31m`\u001b[0m\u001b[0;31m`\u001b[0m\u001b[0;34m.\u001b[0m\u001b[0;34m\u001b[0m\u001b[0;34m\u001b[0m\u001b[0m\n\u001b[0;32m--> 984\u001b[0;31m         \"\"\"\n\u001b[0m\u001b[1;32m    985\u001b[0m         \u001b[0;32mfrom\u001b[0m \u001b[0mpandas\u001b[0m\u001b[0;34m.\u001b[0m\u001b[0mio\u001b[0m\u001b[0;34m.\u001b[0m\u001b[0mformats\u001b[0m\u001b[0;34m.\u001b[0m\u001b[0mhtml\u001b[0m \u001b[0;32mimport\u001b[0m \u001b[0mHTMLFormatter\u001b[0m\u001b[0;34m,\u001b[0m \u001b[0mNotebookFormatter\u001b[0m\u001b[0;34m\u001b[0m\u001b[0;34m\u001b[0m\u001b[0m\n\u001b[1;32m    986\u001b[0m \u001b[0;34m\u001b[0m\u001b[0m\n",
      "\u001b[0;32m/Applications/anaconda3/lib/python3.7/site-packages/pandas/io/formats/html.py\u001b[0m in \u001b[0;36m__init__\u001b[0;34m(self, formatter, classes, border)\u001b[0m\n\u001b[1;32m     57\u001b[0m         self.col_space = {\n\u001b[1;32m     58\u001b[0m             \u001b[0mcolumn\u001b[0m\u001b[0;34m:\u001b[0m \u001b[0;34mf\"{value}px\"\u001b[0m \u001b[0;32mif\u001b[0m \u001b[0misinstance\u001b[0m\u001b[0;34m(\u001b[0m\u001b[0mvalue\u001b[0m\u001b[0;34m,\u001b[0m \u001b[0mint\u001b[0m\u001b[0;34m)\u001b[0m \u001b[0;32melse\u001b[0m \u001b[0mvalue\u001b[0m\u001b[0;34m\u001b[0m\u001b[0;34m\u001b[0m\u001b[0m\n\u001b[0;32m---> 59\u001b[0;31m             \u001b[0;32mfor\u001b[0m \u001b[0mcolumn\u001b[0m\u001b[0;34m,\u001b[0m \u001b[0mvalue\u001b[0m \u001b[0;32min\u001b[0m \u001b[0mself\u001b[0m\u001b[0;34m.\u001b[0m\u001b[0mfmt\u001b[0m\u001b[0;34m.\u001b[0m\u001b[0mcol_space\u001b[0m\u001b[0;34m.\u001b[0m\u001b[0mitems\u001b[0m\u001b[0;34m(\u001b[0m\u001b[0;34m)\u001b[0m\u001b[0;34m\u001b[0m\u001b[0;34m\u001b[0m\u001b[0m\n\u001b[0m\u001b[1;32m     60\u001b[0m         }\n\u001b[1;32m     61\u001b[0m \u001b[0;34m\u001b[0m\u001b[0m\n",
      "\u001b[0;31mAttributeError\u001b[0m: 'NoneType' object has no attribute 'items'"
     ]
    },
    {
     "data": {
      "text/plain": [
       "Empty DataFrame\n",
       "Columns: []\n",
       "Index: []"
      ]
     },
     "execution_count": 36,
     "metadata": {},
     "output_type": "execute_result"
    }
   ],
   "source": [
    "price.head()"
   ]
  },
  {
   "cell_type": "code",
   "execution_count": 34,
   "metadata": {},
   "outputs": [
    {
     "ename": "KeyError",
     "evalue": "\"None of [Index(['ico_id', 'ico_symbol'], dtype='object')] are in the [columns]\"",
     "output_type": "error",
     "traceback": [
      "\u001b[0;31m---------------------------------------------------------------------------\u001b[0m",
      "\u001b[0;31mKeyError\u001b[0m                                  Traceback (most recent call last)",
      "\u001b[0;32m<ipython-input-34-f64561c3125d>\u001b[0m in \u001b[0;36m<module>\u001b[0;34m\u001b[0m\n\u001b[1;32m      2\u001b[0m \u001b[0mieo\u001b[0m \u001b[0;34m=\u001b[0m \u001b[0mieo\u001b[0m\u001b[0;34m[\u001b[0m\u001b[0;34m:\u001b[0m\u001b[0;36m250\u001b[0m\u001b[0;34m]\u001b[0m\u001b[0;34m\u001b[0m\u001b[0;34m\u001b[0m\u001b[0m\n\u001b[1;32m      3\u001b[0m \u001b[0;31m#ieo['weight'] = ieo['ico_market_cap'] / ieo['ico_market_cap'].sum()\u001b[0m\u001b[0;34m\u001b[0m\u001b[0;34m\u001b[0m\u001b[0;34m\u001b[0m\u001b[0m\n\u001b[0;32m----> 4\u001b[0;31m \u001b[0mieo\u001b[0m \u001b[0;34m=\u001b[0m \u001b[0mpd\u001b[0m\u001b[0;34m.\u001b[0m\u001b[0mmerge\u001b[0m\u001b[0;34m(\u001b[0m\u001b[0mieo\u001b[0m\u001b[0;34m,\u001b[0m\u001b[0mprice\u001b[0m\u001b[0;34m[\u001b[0m\u001b[0;34m[\u001b[0m\u001b[0;34m'ico_id'\u001b[0m\u001b[0;34m,\u001b[0m\u001b[0;34m'ico_symbol'\u001b[0m\u001b[0;34m]\u001b[0m\u001b[0;34m]\u001b[0m\u001b[0;34m,\u001b[0m \u001b[0mleft_on\u001b[0m\u001b[0;34m=\u001b[0m\u001b[0;34m'id'\u001b[0m\u001b[0;34m,\u001b[0m\u001b[0mright_on\u001b[0m\u001b[0;34m=\u001b[0m\u001b[0;34m'ico_id'\u001b[0m\u001b[0;34m,\u001b[0m\u001b[0mhow\u001b[0m\u001b[0;34m=\u001b[0m\u001b[0;34m'inner'\u001b[0m\u001b[0;34m)\u001b[0m\u001b[0;34m\u001b[0m\u001b[0;34m\u001b[0m\u001b[0m\n\u001b[0m\u001b[1;32m      5\u001b[0m \u001b[0;31m#ieo = ieo.drop_duplicates('id')\u001b[0m\u001b[0;34m\u001b[0m\u001b[0;34m\u001b[0m\u001b[0;34m\u001b[0m\u001b[0m\n\u001b[1;32m      6\u001b[0m \u001b[0;31m#weight = ieo[['ico_symbol','weight']]\u001b[0m\u001b[0;34m\u001b[0m\u001b[0;34m\u001b[0m\u001b[0;34m\u001b[0m\u001b[0m\n",
      "\u001b[0;32m/Applications/anaconda3/lib/python3.7/site-packages/pandas/core/frame.py\u001b[0m in \u001b[0;36m__getitem__\u001b[0;34m(self, key)\u001b[0m\n\u001b[1;32m   2804\u001b[0m                 \u001b[0mnew_values\u001b[0m\u001b[0;34m,\u001b[0m \u001b[0mindex\u001b[0m\u001b[0;34m=\u001b[0m\u001b[0mself\u001b[0m\u001b[0;34m.\u001b[0m\u001b[0mcolumns\u001b[0m\u001b[0;34m,\u001b[0m \u001b[0mcolumns\u001b[0m\u001b[0;34m=\u001b[0m\u001b[0mself\u001b[0m\u001b[0;34m.\u001b[0m\u001b[0mindex\u001b[0m\u001b[0;34m\u001b[0m\u001b[0;34m\u001b[0m\u001b[0m\n\u001b[1;32m   2805\u001b[0m             )\n\u001b[0;32m-> 2806\u001b[0;31m \u001b[0;34m\u001b[0m\u001b[0m\n\u001b[0m\u001b[1;32m   2807\u001b[0m         \u001b[0;32mreturn\u001b[0m \u001b[0mresult\u001b[0m\u001b[0;34m.\u001b[0m\u001b[0m__finalize__\u001b[0m\u001b[0;34m(\u001b[0m\u001b[0mself\u001b[0m\u001b[0;34m,\u001b[0m \u001b[0mmethod\u001b[0m\u001b[0;34m=\u001b[0m\u001b[0;34m\"transpose\"\u001b[0m\u001b[0;34m)\u001b[0m\u001b[0;34m\u001b[0m\u001b[0;34m\u001b[0m\u001b[0m\n\u001b[1;32m   2808\u001b[0m \u001b[0;34m\u001b[0m\u001b[0m\n",
      "\u001b[0;32m/Applications/anaconda3/lib/python3.7/site-packages/pandas/core/indexing.py\u001b[0m in \u001b[0;36m_get_listlike_indexer\u001b[0;34m(self, key, axis, raise_missing)\u001b[0m\n\u001b[1;32m   1550\u001b[0m                 \u001b[0mtake_split_path\u001b[0m \u001b[0;34m=\u001b[0m \u001b[0;32mnot\u001b[0m \u001b[0mblk\u001b[0m\u001b[0;34m.\u001b[0m\u001b[0m_can_hold_element\u001b[0m\u001b[0;34m(\u001b[0m\u001b[0mval\u001b[0m\u001b[0;34m)\u001b[0m\u001b[0;34m\u001b[0m\u001b[0;34m\u001b[0m\u001b[0m\n\u001b[1;32m   1551\u001b[0m \u001b[0;34m\u001b[0m\u001b[0m\n\u001b[0;32m-> 1552\u001b[0;31m         \u001b[0;31m# if we have any multi-indexes that have non-trivial slices\u001b[0m\u001b[0;34m\u001b[0m\u001b[0;34m\u001b[0m\u001b[0;34m\u001b[0m\u001b[0m\n\u001b[0m\u001b[1;32m   1553\u001b[0m         \u001b[0;31m# (not null slices) then we must take the split path, xref\u001b[0m\u001b[0;34m\u001b[0m\u001b[0;34m\u001b[0m\u001b[0;34m\u001b[0m\u001b[0m\n\u001b[1;32m   1554\u001b[0m         \u001b[0;31m# GH 10360, GH 27841\u001b[0m\u001b[0;34m\u001b[0m\u001b[0;34m\u001b[0m\u001b[0;34m\u001b[0m\u001b[0m\n",
      "\u001b[0;32m/Applications/anaconda3/lib/python3.7/site-packages/pandas/core/indexing.py\u001b[0m in \u001b[0;36m_validate_read_indexer\u001b[0;34m(self, key, indexer, axis, raise_missing)\u001b[0m\n\u001b[1;32m   1637\u001b[0m \u001b[0;34m\u001b[0m\u001b[0m\n\u001b[1;32m   1638\u001b[0m             \u001b[0;32mif\u001b[0m \u001b[0;32mnot\u001b[0m \u001b[0misinstance\u001b[0m\u001b[0;34m(\u001b[0m\u001b[0mindexer\u001b[0m\u001b[0;34m,\u001b[0m \u001b[0mtuple\u001b[0m\u001b[0;34m)\u001b[0m\u001b[0;34m:\u001b[0m\u001b[0;34m\u001b[0m\u001b[0;34m\u001b[0m\u001b[0m\n\u001b[0;32m-> 1639\u001b[0;31m                 \u001b[0mindexer\u001b[0m \u001b[0;34m=\u001b[0m \u001b[0m_tuplify\u001b[0m\u001b[0;34m(\u001b[0m\u001b[0mself\u001b[0m\u001b[0;34m.\u001b[0m\u001b[0mndim\u001b[0m\u001b[0;34m,\u001b[0m \u001b[0mindexer\u001b[0m\u001b[0;34m)\u001b[0m\u001b[0;34m\u001b[0m\u001b[0;34m\u001b[0m\u001b[0m\n\u001b[0m\u001b[1;32m   1640\u001b[0m \u001b[0;34m\u001b[0m\u001b[0m\n\u001b[1;32m   1641\u001b[0m             \u001b[0;32mif\u001b[0m \u001b[0misinstance\u001b[0m\u001b[0;34m(\u001b[0m\u001b[0mvalue\u001b[0m\u001b[0;34m,\u001b[0m \u001b[0mABCSeries\u001b[0m\u001b[0;34m)\u001b[0m\u001b[0;34m:\u001b[0m\u001b[0;34m\u001b[0m\u001b[0;34m\u001b[0m\u001b[0m\n",
      "\u001b[0;31mKeyError\u001b[0m: \"None of [Index(['ico_id', 'ico_symbol'], dtype='object')] are in the [columns]\""
     ]
    }
   ],
   "source": [
    "#ieo = ieo.drop(ieo[ieo['id'] == 3245].index)\n",
    "ieo = ieo[:250]\n",
    "#ieo['weight'] = ieo['ico_market_cap'] / ieo['ico_market_cap'].sum()\n",
    "ieo = pd.merge(ieo,price[['ico_id','ico_symbol']], left_on='id',right_on='ico_id',how='inner')\n",
    "#ieo = ieo.drop_duplicates('id')\n",
    "#weight = ieo[['ico_symbol','weight']]\n",
    "#weight = weight.sort_values('ico_symbol')\n",
    "\n",
    "ieos = ieo['id'][:250]\n",
    "df = price[price['ico_id'].isin(ieos)]\n",
    "#df = df.drop_duplicates(subset=['date']).sort_values(by='date')\n",
    "\n",
    "\n",
    "#temp = temp.dropna()"
   ]
  },
  {
   "cell_type": "code",
   "execution_count": 16,
   "metadata": {},
   "outputs": [],
   "source": [
    "#price"
   ]
  },
  {
   "cell_type": "code",
   "execution_count": 32,
   "metadata": {},
   "outputs": [],
   "source": [
    "temp = df['close'].groupby([df['date'],df['ico_symbol']]).mean()\n",
    "temp = temp.unstack().sort_index()\n",
    "temp.index = pd.to_datetime(temp.index)"
   ]
  },
  {
   "cell_type": "code",
   "execution_count": 33,
   "metadata": {},
   "outputs": [
    {
     "ename": "AttributeError",
     "evalue": "'NoneType' object has no attribute 'items'",
     "output_type": "error",
     "traceback": [
      "\u001b[0;31m---------------------------------------------------------------------------\u001b[0m",
      "\u001b[0;31mAttributeError\u001b[0m                            Traceback (most recent call last)",
      "\u001b[0;32m/Applications/anaconda3/lib/python3.7/site-packages/IPython/core/formatters.py\u001b[0m in \u001b[0;36m__call__\u001b[0;34m(self, obj)\u001b[0m\n\u001b[1;32m    343\u001b[0m             \u001b[0mmethod\u001b[0m \u001b[0;34m=\u001b[0m \u001b[0mget_real_method\u001b[0m\u001b[0;34m(\u001b[0m\u001b[0mobj\u001b[0m\u001b[0;34m,\u001b[0m \u001b[0mself\u001b[0m\u001b[0;34m.\u001b[0m\u001b[0mprint_method\u001b[0m\u001b[0;34m)\u001b[0m\u001b[0;34m\u001b[0m\u001b[0;34m\u001b[0m\u001b[0m\n\u001b[1;32m    344\u001b[0m             \u001b[0;32mif\u001b[0m \u001b[0mmethod\u001b[0m \u001b[0;32mis\u001b[0m \u001b[0;32mnot\u001b[0m \u001b[0;32mNone\u001b[0m\u001b[0;34m:\u001b[0m\u001b[0;34m\u001b[0m\u001b[0;34m\u001b[0m\u001b[0m\n\u001b[0;32m--> 345\u001b[0;31m                 \u001b[0;32mreturn\u001b[0m \u001b[0mmethod\u001b[0m\u001b[0;34m(\u001b[0m\u001b[0;34m)\u001b[0m\u001b[0;34m\u001b[0m\u001b[0;34m\u001b[0m\u001b[0m\n\u001b[0m\u001b[1;32m    346\u001b[0m             \u001b[0;32mreturn\u001b[0m \u001b[0;32mNone\u001b[0m\u001b[0;34m\u001b[0m\u001b[0;34m\u001b[0m\u001b[0m\n\u001b[1;32m    347\u001b[0m         \u001b[0;32melse\u001b[0m\u001b[0;34m:\u001b[0m\u001b[0;34m\u001b[0m\u001b[0;34m\u001b[0m\u001b[0m\n",
      "\u001b[0;32m/Applications/anaconda3/lib/python3.7/site-packages/pandas/core/frame.py\u001b[0m in \u001b[0;36m_repr_html_\u001b[0;34m(self)\u001b[0m\n\u001b[1;32m    732\u001b[0m             \u001b[0mself\u001b[0m\u001b[0;34m.\u001b[0m\u001b[0minfo\u001b[0m\u001b[0;34m(\u001b[0m\u001b[0mbuf\u001b[0m\u001b[0;34m=\u001b[0m\u001b[0mbuf\u001b[0m\u001b[0;34m)\u001b[0m\u001b[0;34m\u001b[0m\u001b[0;34m\u001b[0m\u001b[0m\n\u001b[1;32m    733\u001b[0m             \u001b[0;32mreturn\u001b[0m \u001b[0mbuf\u001b[0m\u001b[0;34m.\u001b[0m\u001b[0mgetvalue\u001b[0m\u001b[0;34m(\u001b[0m\u001b[0;34m)\u001b[0m\u001b[0;34m\u001b[0m\u001b[0;34m\u001b[0m\u001b[0m\n\u001b[0;32m--> 734\u001b[0;31m \u001b[0;34m\u001b[0m\u001b[0m\n\u001b[0m\u001b[1;32m    735\u001b[0m         \u001b[0mmax_rows\u001b[0m \u001b[0;34m=\u001b[0m \u001b[0mget_option\u001b[0m\u001b[0;34m(\u001b[0m\u001b[0;34m\"display.max_rows\"\u001b[0m\u001b[0;34m)\u001b[0m\u001b[0;34m\u001b[0m\u001b[0;34m\u001b[0m\u001b[0m\n\u001b[1;32m    736\u001b[0m         \u001b[0mmin_rows\u001b[0m \u001b[0;34m=\u001b[0m \u001b[0mget_option\u001b[0m\u001b[0;34m(\u001b[0m\u001b[0;34m\"display.min_rows\"\u001b[0m\u001b[0;34m)\u001b[0m\u001b[0;34m\u001b[0m\u001b[0;34m\u001b[0m\u001b[0m\n",
      "\u001b[0;32m/Applications/anaconda3/lib/python3.7/site-packages/pandas/io/formats/format.py\u001b[0m in \u001b[0;36mto_html\u001b[0;34m(self, buf, encoding, classes, notebook, border)\u001b[0m\n\u001b[1;32m    982\u001b[0m             \u001b[0mA\u001b[0m\u001b[0;31m \u001b[0m\u001b[0;31m`\u001b[0m\u001b[0;31m`\u001b[0m\u001b[0mborder\u001b[0m\u001b[0;34m=\u001b[0m\u001b[0mborder\u001b[0m\u001b[0;31m`\u001b[0m\u001b[0;31m`\u001b[0m \u001b[0mattribute\u001b[0m \u001b[0;32mis\u001b[0m \u001b[0mincluded\u001b[0m \u001b[0;32min\u001b[0m \u001b[0mthe\u001b[0m \u001b[0mopening\u001b[0m\u001b[0;34m\u001b[0m\u001b[0;34m\u001b[0m\u001b[0m\n\u001b[1;32m    983\u001b[0m             \u001b[0;31m`\u001b[0m\u001b[0;31m`\u001b[0m\u001b[0;34m<\u001b[0m\u001b[0mtable\u001b[0m\u001b[0;34m>\u001b[0m\u001b[0;31m`\u001b[0m\u001b[0;31m`\u001b[0m \u001b[0mtag\u001b[0m\u001b[0;34m.\u001b[0m \u001b[0mDefault\u001b[0m\u001b[0;31m \u001b[0m\u001b[0;31m`\u001b[0m\u001b[0;31m`\u001b[0m\u001b[0mpd\u001b[0m\u001b[0;34m.\u001b[0m\u001b[0moptions\u001b[0m\u001b[0;34m.\u001b[0m\u001b[0mdisplay\u001b[0m\u001b[0;34m.\u001b[0m\u001b[0mhtml\u001b[0m\u001b[0;34m.\u001b[0m\u001b[0mborder\u001b[0m\u001b[0;31m`\u001b[0m\u001b[0;31m`\u001b[0m\u001b[0;34m.\u001b[0m\u001b[0;34m\u001b[0m\u001b[0;34m\u001b[0m\u001b[0m\n\u001b[0;32m--> 984\u001b[0;31m         \"\"\"\n\u001b[0m\u001b[1;32m    985\u001b[0m         \u001b[0;32mfrom\u001b[0m \u001b[0mpandas\u001b[0m\u001b[0;34m.\u001b[0m\u001b[0mio\u001b[0m\u001b[0;34m.\u001b[0m\u001b[0mformats\u001b[0m\u001b[0;34m.\u001b[0m\u001b[0mhtml\u001b[0m \u001b[0;32mimport\u001b[0m \u001b[0mHTMLFormatter\u001b[0m\u001b[0;34m,\u001b[0m \u001b[0mNotebookFormatter\u001b[0m\u001b[0;34m\u001b[0m\u001b[0;34m\u001b[0m\u001b[0m\n\u001b[1;32m    986\u001b[0m \u001b[0;34m\u001b[0m\u001b[0m\n",
      "\u001b[0;32m/Applications/anaconda3/lib/python3.7/site-packages/pandas/io/formats/html.py\u001b[0m in \u001b[0;36m__init__\u001b[0;34m(self, formatter, classes, border)\u001b[0m\n\u001b[1;32m     57\u001b[0m         self.col_space = {\n\u001b[1;32m     58\u001b[0m             \u001b[0mcolumn\u001b[0m\u001b[0;34m:\u001b[0m \u001b[0;34mf\"{value}px\"\u001b[0m \u001b[0;32mif\u001b[0m \u001b[0misinstance\u001b[0m\u001b[0;34m(\u001b[0m\u001b[0mvalue\u001b[0m\u001b[0;34m,\u001b[0m \u001b[0mint\u001b[0m\u001b[0;34m)\u001b[0m \u001b[0;32melse\u001b[0m \u001b[0mvalue\u001b[0m\u001b[0;34m\u001b[0m\u001b[0;34m\u001b[0m\u001b[0m\n\u001b[0;32m---> 59\u001b[0;31m             \u001b[0;32mfor\u001b[0m \u001b[0mcolumn\u001b[0m\u001b[0;34m,\u001b[0m \u001b[0mvalue\u001b[0m \u001b[0;32min\u001b[0m \u001b[0mself\u001b[0m\u001b[0;34m.\u001b[0m\u001b[0mfmt\u001b[0m\u001b[0;34m.\u001b[0m\u001b[0mcol_space\u001b[0m\u001b[0;34m.\u001b[0m\u001b[0mitems\u001b[0m\u001b[0;34m(\u001b[0m\u001b[0;34m)\u001b[0m\u001b[0;34m\u001b[0m\u001b[0;34m\u001b[0m\u001b[0m\n\u001b[0m\u001b[1;32m     60\u001b[0m         }\n\u001b[1;32m     61\u001b[0m \u001b[0;34m\u001b[0m\u001b[0m\n",
      "\u001b[0;31mAttributeError\u001b[0m: 'NoneType' object has no attribute 'items'"
     ]
    },
    {
     "data": {
      "text/plain": [
       "ico_symbol      ABT  AGI     AION     ALGO  AMB  ART      AST  ATL      AVT  \\\n",
       "date                                                                          \n",
       "2017-12-23      nan  nan      nan      nan  nan  nan      nan  nan 3.021000   \n",
       "2017-12-24      nan  nan      nan      nan  nan  nan      nan  nan 3.520100   \n",
       "2017-12-25      nan  nan      nan      nan  nan  nan      nan  nan 4.311900   \n",
       "2017-12-26      nan  nan      nan      nan  nan  nan      nan  nan 4.515200   \n",
       "2017-12-27      nan  nan      nan      nan  nan  nan      nan  nan 4.460100   \n",
       "...             ...  ...      ...      ...  ...  ...      ...  ...      ...   \n",
       "2020-10-04 0.091347  nan 0.079392 0.312413  nan  nan 0.113097  nan      nan   \n",
       "2020-10-05 0.091802  nan 0.079770 0.317825  nan  nan 0.118141  nan      nan   \n",
       "2020-10-06 0.089350  nan 0.074170 0.287457  nan  nan 0.102908  nan      nan   \n",
       "2020-10-07 0.087188  nan 0.073989 0.305144  nan  nan 0.112045  nan      nan   \n",
       "2020-10-08 0.087630  nan 0.071470 0.299059  nan  nan 0.110193  nan      nan   \n",
       "\n",
       "ico_symbol  BDG  ...  VEE  VZT      WAN  XNK  ZCN  ZCO      ZIL  ZLA  ZP  \\\n",
       "date             ...                                                       \n",
       "2017-12-23  nan  ...  nan  nan      nan  nan  nan  nan      nan  nan nan   \n",
       "2017-12-24  nan  ...  nan  nan      nan  nan  nan  nan      nan  nan nan   \n",
       "2017-12-25  nan  ...  nan  nan      nan  nan  nan  nan      nan  nan nan   \n",
       "2017-12-26  nan  ...  nan  nan      nan  nan  nan  nan      nan  nan nan   \n",
       "2017-12-27  nan  ...  nan  nan      nan  nan  nan  nan      nan  nan nan   \n",
       "...         ...  ...  ...  ...      ...  ...  ...  ...      ...  ...  ..   \n",
       "2020-10-04  nan  ...  nan  nan 0.259649  nan  nan  nan 0.021381  nan nan   \n",
       "2020-10-05  nan  ...  nan  nan 0.257321  nan  nan  nan 0.020647  nan nan   \n",
       "2020-10-06  nan  ...  nan  nan 0.237674  nan  nan  nan 0.018231  nan nan   \n",
       "2020-10-07  nan  ...  nan  nan 0.241686  nan  nan  nan 0.018695  nan nan   \n",
       "2020-10-08  nan  ...  nan  nan 0.241142  nan  nan  nan 0.018426  nan nan   \n",
       "\n",
       "ico_symbol      ZRX  \n",
       "date                 \n",
       "2017-12-23      nan  \n",
       "2017-12-24      nan  \n",
       "2017-12-25      nan  \n",
       "2017-12-26      nan  \n",
       "2017-12-27      nan  \n",
       "...             ...  \n",
       "2020-10-04 0.377374  \n",
       "2020-10-05 0.375062  \n",
       "2020-10-06 0.350991  \n",
       "2020-10-07 0.355567  \n",
       "2020-10-08 0.348530  \n",
       "\n",
       "[1017 rows x 87 columns]"
      ]
     },
     "execution_count": 33,
     "metadata": {},
     "output_type": "execute_result"
    }
   ],
   "source": [
    "temp"
   ]
  },
  {
   "cell_type": "code",
   "execution_count": 18,
   "metadata": {},
   "outputs": [],
   "source": [
    "col = temp.loc['2019-01-01':].isnull().sum() <= 400"
   ]
  },
  {
   "cell_type": "code",
   "execution_count": 19,
   "metadata": {},
   "outputs": [],
   "source": [
    "col = col[col == True]"
   ]
  },
  {
   "cell_type": "code",
   "execution_count": 20,
   "metadata": {},
   "outputs": [],
   "source": [
    "col = col.index.tolist()"
   ]
  },
  {
   "cell_type": "code",
   "execution_count": 9,
   "metadata": {},
   "outputs": [
    {
     "data": {
      "text/html": [
       "<div>\n",
       "<style scoped>\n",
       "    .dataframe tbody tr th:only-of-type {\n",
       "        vertical-align: middle;\n",
       "    }\n",
       "\n",
       "    .dataframe tbody tr th {\n",
       "        vertical-align: top;\n",
       "    }\n",
       "\n",
       "    .dataframe thead th {\n",
       "        text-align: right;\n",
       "    }\n",
       "</style>\n",
       "<table border=\"1\" class=\"dataframe\">\n",
       "  <thead>\n",
       "    <tr style=\"text-align: right;\">\n",
       "      <th>ico_symbol</th>\n",
       "      <th>ABT</th>\n",
       "      <th>AGI</th>\n",
       "      <th>AION</th>\n",
       "      <th>ALGO</th>\n",
       "      <th>AMB</th>\n",
       "      <th>AST</th>\n",
       "      <th>AVT</th>\n",
       "      <th>BEAM</th>\n",
       "      <th>BLZ</th>\n",
       "      <th>BRD</th>\n",
       "      <th>...</th>\n",
       "      <th>QSP</th>\n",
       "      <th>RHOC</th>\n",
       "      <th>STX</th>\n",
       "      <th>THETA</th>\n",
       "      <th>TNT</th>\n",
       "      <th>TRX</th>\n",
       "      <th>VEE</th>\n",
       "      <th>WAN</th>\n",
       "      <th>ZIL</th>\n",
       "      <th>ZRX</th>\n",
       "    </tr>\n",
       "    <tr>\n",
       "      <th>date</th>\n",
       "      <th></th>\n",
       "      <th></th>\n",
       "      <th></th>\n",
       "      <th></th>\n",
       "      <th></th>\n",
       "      <th></th>\n",
       "      <th></th>\n",
       "      <th></th>\n",
       "      <th></th>\n",
       "      <th></th>\n",
       "      <th></th>\n",
       "      <th></th>\n",
       "      <th></th>\n",
       "      <th></th>\n",
       "      <th></th>\n",
       "      <th></th>\n",
       "      <th></th>\n",
       "      <th></th>\n",
       "      <th></th>\n",
       "      <th></th>\n",
       "      <th></th>\n",
       "    </tr>\n",
       "  </thead>\n",
       "  <tbody>\n",
       "    <tr>\n",
       "      <th>2019-01-01</th>\n",
       "      <td>nan</td>\n",
       "      <td>0.048279</td>\n",
       "      <td>0.124450</td>\n",
       "      <td>nan</td>\n",
       "      <td>nan</td>\n",
       "      <td>nan</td>\n",
       "      <td>0.172200</td>\n",
       "      <td>nan</td>\n",
       "      <td>nan</td>\n",
       "      <td>nan</td>\n",
       "      <td>...</td>\n",
       "      <td>nan</td>\n",
       "      <td>nan</td>\n",
       "      <td>nan</td>\n",
       "      <td>nan</td>\n",
       "      <td>0.011300</td>\n",
       "      <td>0.018680</td>\n",
       "      <td>0.003250</td>\n",
       "      <td>nan</td>\n",
       "      <td>0.020146</td>\n",
       "      <td>0.291770</td>\n",
       "    </tr>\n",
       "    <tr>\n",
       "      <th>2019-01-02</th>\n",
       "      <td>nan</td>\n",
       "      <td>0.040905</td>\n",
       "      <td>nan</td>\n",
       "      <td>nan</td>\n",
       "      <td>nan</td>\n",
       "      <td>nan</td>\n",
       "      <td>0.172100</td>\n",
       "      <td>nan</td>\n",
       "      <td>nan</td>\n",
       "      <td>nan</td>\n",
       "      <td>...</td>\n",
       "      <td>nan</td>\n",
       "      <td>nan</td>\n",
       "      <td>nan</td>\n",
       "      <td>nan</td>\n",
       "      <td>0.011400</td>\n",
       "      <td>0.019280</td>\n",
       "      <td>0.003250</td>\n",
       "      <td>nan</td>\n",
       "      <td>0.020293</td>\n",
       "      <td>0.311820</td>\n",
       "    </tr>\n",
       "    <tr>\n",
       "      <th>2019-01-03</th>\n",
       "      <td>nan</td>\n",
       "      <td>0.052000</td>\n",
       "      <td>0.163170</td>\n",
       "      <td>nan</td>\n",
       "      <td>0.066780</td>\n",
       "      <td>nan</td>\n",
       "      <td>0.172100</td>\n",
       "      <td>nan</td>\n",
       "      <td>nan</td>\n",
       "      <td>nan</td>\n",
       "      <td>...</td>\n",
       "      <td>nan</td>\n",
       "      <td>nan</td>\n",
       "      <td>nan</td>\n",
       "      <td>nan</td>\n",
       "      <td>0.011800</td>\n",
       "      <td>0.019740</td>\n",
       "      <td>0.003636</td>\n",
       "      <td>nan</td>\n",
       "      <td>0.020874</td>\n",
       "      <td>0.324250</td>\n",
       "    </tr>\n",
       "    <tr>\n",
       "      <th>2019-01-04</th>\n",
       "      <td>nan</td>\n",
       "      <td>0.049127</td>\n",
       "      <td>0.181140</td>\n",
       "      <td>nan</td>\n",
       "      <td>nan</td>\n",
       "      <td>nan</td>\n",
       "      <td>0.192000</td>\n",
       "      <td>nan</td>\n",
       "      <td>nan</td>\n",
       "      <td>nan</td>\n",
       "      <td>...</td>\n",
       "      <td>nan</td>\n",
       "      <td>nan</td>\n",
       "      <td>nan</td>\n",
       "      <td>nan</td>\n",
       "      <td>0.012100</td>\n",
       "      <td>0.019660</td>\n",
       "      <td>0.003350</td>\n",
       "      <td>nan</td>\n",
       "      <td>0.020572</td>\n",
       "      <td>0.316810</td>\n",
       "    </tr>\n",
       "    <tr>\n",
       "      <th>2019-01-05</th>\n",
       "      <td>nan</td>\n",
       "      <td>0.052000</td>\n",
       "      <td>nan</td>\n",
       "      <td>nan</td>\n",
       "      <td>nan</td>\n",
       "      <td>nan</td>\n",
       "      <td>0.199330</td>\n",
       "      <td>nan</td>\n",
       "      <td>nan</td>\n",
       "      <td>nan</td>\n",
       "      <td>...</td>\n",
       "      <td>nan</td>\n",
       "      <td>nan</td>\n",
       "      <td>nan</td>\n",
       "      <td>nan</td>\n",
       "      <td>0.011500</td>\n",
       "      <td>0.021050</td>\n",
       "      <td>nan</td>\n",
       "      <td>nan</td>\n",
       "      <td>0.020538</td>\n",
       "      <td>0.316670</td>\n",
       "    </tr>\n",
       "    <tr>\n",
       "      <th>...</th>\n",
       "      <td>...</td>\n",
       "      <td>...</td>\n",
       "      <td>...</td>\n",
       "      <td>...</td>\n",
       "      <td>...</td>\n",
       "      <td>...</td>\n",
       "      <td>...</td>\n",
       "      <td>...</td>\n",
       "      <td>...</td>\n",
       "      <td>...</td>\n",
       "      <td>...</td>\n",
       "      <td>...</td>\n",
       "      <td>...</td>\n",
       "      <td>...</td>\n",
       "      <td>...</td>\n",
       "      <td>...</td>\n",
       "      <td>...</td>\n",
       "      <td>...</td>\n",
       "      <td>...</td>\n",
       "      <td>...</td>\n",
       "      <td>...</td>\n",
       "    </tr>\n",
       "    <tr>\n",
       "      <th>2020-08-14</th>\n",
       "      <td>0.120008</td>\n",
       "      <td>nan</td>\n",
       "      <td>0.127253</td>\n",
       "      <td>0.642132</td>\n",
       "      <td>nan</td>\n",
       "      <td>0.210248</td>\n",
       "      <td>nan</td>\n",
       "      <td>0.560370</td>\n",
       "      <td>nan</td>\n",
       "      <td>0.146723</td>\n",
       "      <td>...</td>\n",
       "      <td>nan</td>\n",
       "      <td>nan</td>\n",
       "      <td>0.312905</td>\n",
       "      <td>0.399683</td>\n",
       "      <td>0.020550</td>\n",
       "      <td>0.024765</td>\n",
       "      <td>nan</td>\n",
       "      <td>0.420909</td>\n",
       "      <td>0.025067</td>\n",
       "      <td>0.528425</td>\n",
       "    </tr>\n",
       "    <tr>\n",
       "      <th>2020-08-15</th>\n",
       "      <td>0.118508</td>\n",
       "      <td>nan</td>\n",
       "      <td>0.122454</td>\n",
       "      <td>0.638736</td>\n",
       "      <td>nan</td>\n",
       "      <td>0.188401</td>\n",
       "      <td>nan</td>\n",
       "      <td>0.556561</td>\n",
       "      <td>nan</td>\n",
       "      <td>0.138952</td>\n",
       "      <td>...</td>\n",
       "      <td>nan</td>\n",
       "      <td>nan</td>\n",
       "      <td>0.288432</td>\n",
       "      <td>0.386007</td>\n",
       "      <td>0.019915</td>\n",
       "      <td>0.025174</td>\n",
       "      <td>nan</td>\n",
       "      <td>0.409575</td>\n",
       "      <td>0.024734</td>\n",
       "      <td>0.498299</td>\n",
       "    </tr>\n",
       "    <tr>\n",
       "      <th>2020-08-16</th>\n",
       "      <td>0.116632</td>\n",
       "      <td>nan</td>\n",
       "      <td>0.124795</td>\n",
       "      <td>0.632562</td>\n",
       "      <td>nan</td>\n",
       "      <td>0.174053</td>\n",
       "      <td>nan</td>\n",
       "      <td>0.543748</td>\n",
       "      <td>nan</td>\n",
       "      <td>0.142932</td>\n",
       "      <td>...</td>\n",
       "      <td>nan</td>\n",
       "      <td>nan</td>\n",
       "      <td>0.277467</td>\n",
       "      <td>0.396346</td>\n",
       "      <td>0.020092</td>\n",
       "      <td>0.028253</td>\n",
       "      <td>nan</td>\n",
       "      <td>0.430559</td>\n",
       "      <td>0.026575</td>\n",
       "      <td>0.602489</td>\n",
       "    </tr>\n",
       "    <tr>\n",
       "      <th>2020-08-17</th>\n",
       "      <td>0.114553</td>\n",
       "      <td>nan</td>\n",
       "      <td>0.125529</td>\n",
       "      <td>0.583213</td>\n",
       "      <td>nan</td>\n",
       "      <td>0.314877</td>\n",
       "      <td>nan</td>\n",
       "      <td>0.599731</td>\n",
       "      <td>nan</td>\n",
       "      <td>0.144547</td>\n",
       "      <td>...</td>\n",
       "      <td>nan</td>\n",
       "      <td>nan</td>\n",
       "      <td>0.266456</td>\n",
       "      <td>0.386026</td>\n",
       "      <td>0.019288</td>\n",
       "      <td>0.030241</td>\n",
       "      <td>nan</td>\n",
       "      <td>0.422979</td>\n",
       "      <td>0.025164</td>\n",
       "      <td>0.559644</td>\n",
       "    </tr>\n",
       "    <tr>\n",
       "      <th>2020-08-18</th>\n",
       "      <td>0.107163</td>\n",
       "      <td>nan</td>\n",
       "      <td>0.124273</td>\n",
       "      <td>0.566720</td>\n",
       "      <td>nan</td>\n",
       "      <td>0.257775</td>\n",
       "      <td>nan</td>\n",
       "      <td>0.590181</td>\n",
       "      <td>nan</td>\n",
       "      <td>0.143335</td>\n",
       "      <td>...</td>\n",
       "      <td>nan</td>\n",
       "      <td>nan</td>\n",
       "      <td>0.255819</td>\n",
       "      <td>0.428232</td>\n",
       "      <td>0.018887</td>\n",
       "      <td>0.030906</td>\n",
       "      <td>nan</td>\n",
       "      <td>0.402224</td>\n",
       "      <td>0.023631</td>\n",
       "      <td>0.554877</td>\n",
       "    </tr>\n",
       "  </tbody>\n",
       "</table>\n",
       "<p>592 rows × 46 columns</p>\n",
       "</div>"
      ],
      "text/plain": [
       "ico_symbol      ABT      AGI     AION     ALGO      AMB      AST      AVT  \\\n",
       "date                                                                        \n",
       "2019-01-01      nan 0.048279 0.124450      nan      nan      nan 0.172200   \n",
       "2019-01-02      nan 0.040905      nan      nan      nan      nan 0.172100   \n",
       "2019-01-03      nan 0.052000 0.163170      nan 0.066780      nan 0.172100   \n",
       "2019-01-04      nan 0.049127 0.181140      nan      nan      nan 0.192000   \n",
       "2019-01-05      nan 0.052000      nan      nan      nan      nan 0.199330   \n",
       "...             ...      ...      ...      ...      ...      ...      ...   \n",
       "2020-08-14 0.120008      nan 0.127253 0.642132      nan 0.210248      nan   \n",
       "2020-08-15 0.118508      nan 0.122454 0.638736      nan 0.188401      nan   \n",
       "2020-08-16 0.116632      nan 0.124795 0.632562      nan 0.174053      nan   \n",
       "2020-08-17 0.114553      nan 0.125529 0.583213      nan 0.314877      nan   \n",
       "2020-08-18 0.107163      nan 0.124273 0.566720      nan 0.257775      nan   \n",
       "\n",
       "ico_symbol     BEAM  BLZ      BRD  ...  QSP  RHOC      STX    THETA      TNT  \\\n",
       "date                               ...                                         \n",
       "2019-01-01      nan  nan      nan  ...  nan   nan      nan      nan 0.011300   \n",
       "2019-01-02      nan  nan      nan  ...  nan   nan      nan      nan 0.011400   \n",
       "2019-01-03      nan  nan      nan  ...  nan   nan      nan      nan 0.011800   \n",
       "2019-01-04      nan  nan      nan  ...  nan   nan      nan      nan 0.012100   \n",
       "2019-01-05      nan  nan      nan  ...  nan   nan      nan      nan 0.011500   \n",
       "...             ...  ...      ...  ...  ...   ...      ...      ...      ...   \n",
       "2020-08-14 0.560370  nan 0.146723  ...  nan   nan 0.312905 0.399683 0.020550   \n",
       "2020-08-15 0.556561  nan 0.138952  ...  nan   nan 0.288432 0.386007 0.019915   \n",
       "2020-08-16 0.543748  nan 0.142932  ...  nan   nan 0.277467 0.396346 0.020092   \n",
       "2020-08-17 0.599731  nan 0.144547  ...  nan   nan 0.266456 0.386026 0.019288   \n",
       "2020-08-18 0.590181  nan 0.143335  ...  nan   nan 0.255819 0.428232 0.018887   \n",
       "\n",
       "ico_symbol      TRX      VEE      WAN      ZIL      ZRX  \n",
       "date                                                     \n",
       "2019-01-01 0.018680 0.003250      nan 0.020146 0.291770  \n",
       "2019-01-02 0.019280 0.003250      nan 0.020293 0.311820  \n",
       "2019-01-03 0.019740 0.003636      nan 0.020874 0.324250  \n",
       "2019-01-04 0.019660 0.003350      nan 0.020572 0.316810  \n",
       "2019-01-05 0.021050      nan      nan 0.020538 0.316670  \n",
       "...             ...      ...      ...      ...      ...  \n",
       "2020-08-14 0.024765      nan 0.420909 0.025067 0.528425  \n",
       "2020-08-15 0.025174      nan 0.409575 0.024734 0.498299  \n",
       "2020-08-16 0.028253      nan 0.430559 0.026575 0.602489  \n",
       "2020-08-17 0.030241      nan 0.422979 0.025164 0.559644  \n",
       "2020-08-18 0.030906      nan 0.402224 0.023631 0.554877  \n",
       "\n",
       "[592 rows x 46 columns]"
      ]
     },
     "execution_count": 9,
     "metadata": {},
     "output_type": "execute_result"
    }
   ],
   "source": [
    "temp[col].loc['2019-01-01':]"
   ]
  },
  {
   "cell_type": "code",
   "execution_count": 10,
   "metadata": {},
   "outputs": [],
   "source": [
    "#col"
   ]
  },
  {
   "cell_type": "code",
   "execution_count": 11,
   "metadata": {},
   "outputs": [],
   "source": [
    "#temp"
   ]
  },
  {
   "cell_type": "code",
   "execution_count": 12,
   "metadata": {},
   "outputs": [
    {
     "name": "stdout",
     "output_type": "stream",
     "text": [
      "OrderedDict([('ABT', 0.0), ('AGI', 0.0), ('AION', 0.0), ('ALGO', 0.0), ('AMB', 0.0), ('AST', 0.14957), ('AVT', 0.0483), ('BEAM', 0.0), ('BLZ', 0.0), ('BRD', 0.0), ('CAT', 0.00641), ('DRGN', 0.0), ('ENG', 0.0), ('FSN', 0.10738), ('FUEL', 0.0), ('FX', 0.0), ('GNX', 0.0), ('GRIN', 0.0), ('GTO', 0.0), ('ICX', 0.0), ('JNT', 0.0), ('KEY', 0.0), ('KNC', 0.17014), ('LEND', 0.00165), ('LOOM', 0.0), ('MATIC', 0.13169), ('MOBI', 0.0), ('NAS', 0.0), ('NGC', 0.0), ('NRG', 0.0), ('ONT', 0.0), ('PHX', 0.0), ('POA', 0.13995), ('POWR', 0.0), ('QASH', 0.0), ('QLC', 0.0), ('QSP', 0.0), ('RHOC', 0.02901), ('STX', 0.01796), ('THETA', 0.13522), ('TNT', 0.05679), ('TRX', 0.0), ('VEE', 0.00592), ('WAN', 0.0), ('ZIL', 0.0), ('ZRX', 0.0)])\n",
      "Expected annual return: 296.4%\n",
      "Annual volatility: 98.1%\n",
      "Sharpe Ratio: 3.00\n"
     ]
    },
    {
     "data": {
      "text/plain": [
       "(2.9641905617613347, 0.9811893895822381, 3.0006343250561294)"
      ]
     },
     "execution_count": 12,
     "metadata": {},
     "output_type": "execute_result"
    }
   ],
   "source": [
    "# Calculate expected returns and sample covariance\n",
    "mu = expected_returns.mean_historical_return(temp[col].loc['2019-01-01':])\n",
    "S = risk_models.sample_cov(temp[col].loc['2019-01-01':])\n",
    "\n",
    "# Optimise for maximal Sharpe ratio\n",
    "ef = EfficientFrontier(mu, S)\n",
    "raw_weights = ef.max_sharpe()\n",
    "cleaned_weights = ef.clean_weights()\n",
    "ef.save_weights_to_file(\"weights.csv\")  # saves to file\n",
    "print(cleaned_weights)\n",
    "ef.portfolio_performance(verbose=True)"
   ]
  },
  {
   "cell_type": "code",
   "execution_count": 13,
   "metadata": {},
   "outputs": [],
   "source": [
    "weights = pd.DataFrame.from_dict(dict(cleaned_weights), orient='index')\n",
    "weights = weights[weights[0] > 0]"
   ]
  },
  {
   "cell_type": "code",
   "execution_count": 14,
   "metadata": {},
   "outputs": [
    {
     "name": "stdout",
     "output_type": "stream",
     "text": [
      "             0\n",
      "AST   0.149570\n",
      "AVT   0.048300\n",
      "CAT   0.006410\n",
      "FSN   0.107380\n",
      "KNC   0.170140\n",
      "LEND  0.001650\n",
      "MATIC 0.131690\n",
      "POA   0.139950\n",
      "RHOC  0.029010\n",
      "STX   0.017960\n",
      "THETA 0.135220\n",
      "TNT   0.056790\n",
      "VEE   0.005920\n"
     ]
    }
   ],
   "source": [
    "print(weights)\n"
   ]
  },
  {
   "cell_type": "code",
   "execution_count": 15,
   "metadata": {},
   "outputs": [
    {
     "name": "stdout",
     "output_type": "stream",
     "text": [
      "[[0.14957]\n",
      " [0.0483 ]\n",
      " [0.00641]\n",
      " [0.10738]\n",
      " [0.17014]\n",
      " [0.00165]\n",
      " [0.13169]\n",
      " [0.13995]\n",
      " [0.02901]\n",
      " [0.01796]\n",
      " [0.13522]\n",
      " [0.05679]\n",
      " [0.00592]]\n",
      "[0.99999]\n"
     ]
    }
   ],
   "source": [
    "w_mkt =  np.array([weights[0]]).T\n",
    "print (np.around(w_mkt, 6))\n",
    "\n",
    "lmda = 2.7\n",
    "tau = 0.05\n",
    "\n",
    "print(sum(w_mkt))"
   ]
  },
  {
   "cell_type": "markdown",
   "metadata": {},
   "source": [
    "# Correlation"
   ]
  },
  {
   "cell_type": "code",
   "execution_count": 16,
   "metadata": {},
   "outputs": [],
   "source": [
    "temp = pd.DataFrame()\n",
    "\n",
    "conn = MySQLdb.connect(host='tokenmetrics-restored-27-05.cxuzrhvtziar.us-east-1.rds.amazonaws.com', user='admin', passwd='WiG8Rled2cTvZ5JibJui',db='tokenmetrics')\n",
    "cursor = conn.cursor()\n",
    "\n",
    "query = 'SELECT * FROM ico_price_daily_summaries where ico_symbol IN '+ str(tuple(weights.index)) +' and currency = \"USD\";'\n",
    "data = pd.read_sql_query(query, conn)\n",
    "temp = pd.concat([temp,data])\n",
    "    \n",
    "conn.close()"
   ]
  },
  {
   "cell_type": "code",
   "execution_count": 17,
   "metadata": {},
   "outputs": [],
   "source": [
    "temp = temp['close'].groupby([temp['date'],temp['ico_symbol']]).mean()\n",
    "temp = temp.unstack().sort_index()\n",
    "temp.index = pd.to_datetime(temp.index)"
   ]
  },
  {
   "cell_type": "code",
   "execution_count": 18,
   "metadata": {},
   "outputs": [],
   "source": [
    "temp = temp.loc['2019-01-01':]"
   ]
  },
  {
   "cell_type": "code",
   "execution_count": 19,
   "metadata": {},
   "outputs": [
    {
     "data": {
      "text/html": [
       "<div>\n",
       "<style scoped>\n",
       "    .dataframe tbody tr th:only-of-type {\n",
       "        vertical-align: middle;\n",
       "    }\n",
       "\n",
       "    .dataframe tbody tr th {\n",
       "        vertical-align: top;\n",
       "    }\n",
       "\n",
       "    .dataframe thead th {\n",
       "        text-align: right;\n",
       "    }\n",
       "</style>\n",
       "<table border=\"1\" class=\"dataframe\">\n",
       "  <thead>\n",
       "    <tr style=\"text-align: right;\">\n",
       "      <th>ico_symbol</th>\n",
       "      <th>AST</th>\n",
       "      <th>AVT</th>\n",
       "      <th>CAT</th>\n",
       "      <th>FSN</th>\n",
       "      <th>KNC</th>\n",
       "      <th>LEND</th>\n",
       "      <th>MATIC</th>\n",
       "      <th>POA</th>\n",
       "      <th>RHOC</th>\n",
       "      <th>STX</th>\n",
       "      <th>THETA</th>\n",
       "      <th>TNT</th>\n",
       "      <th>VEE</th>\n",
       "    </tr>\n",
       "    <tr>\n",
       "      <th>ico_symbol</th>\n",
       "      <th></th>\n",
       "      <th></th>\n",
       "      <th></th>\n",
       "      <th></th>\n",
       "      <th></th>\n",
       "      <th></th>\n",
       "      <th></th>\n",
       "      <th></th>\n",
       "      <th></th>\n",
       "      <th></th>\n",
       "      <th></th>\n",
       "      <th></th>\n",
       "      <th></th>\n",
       "    </tr>\n",
       "  </thead>\n",
       "  <tbody>\n",
       "    <tr>\n",
       "      <th>AST</th>\n",
       "      <td>1.000000</td>\n",
       "      <td>0.817974</td>\n",
       "      <td>-0.306240</td>\n",
       "      <td>0.412163</td>\n",
       "      <td>0.646541</td>\n",
       "      <td>0.742782</td>\n",
       "      <td>0.470291</td>\n",
       "      <td>0.801687</td>\n",
       "      <td>0.448770</td>\n",
       "      <td>0.404245</td>\n",
       "      <td>0.700473</td>\n",
       "      <td>-0.385815</td>\n",
       "      <td>0.030164</td>\n",
       "    </tr>\n",
       "    <tr>\n",
       "      <th>AVT</th>\n",
       "      <td>0.817974</td>\n",
       "      <td>1.000000</td>\n",
       "      <td>-0.172049</td>\n",
       "      <td>0.182978</td>\n",
       "      <td>0.449998</td>\n",
       "      <td>0.100123</td>\n",
       "      <td>0.579265</td>\n",
       "      <td>0.714958</td>\n",
       "      <td>0.351586</td>\n",
       "      <td>-0.302465</td>\n",
       "      <td>0.531285</td>\n",
       "      <td>-0.561120</td>\n",
       "      <td>0.079664</td>\n",
       "    </tr>\n",
       "    <tr>\n",
       "      <th>CAT</th>\n",
       "      <td>-0.306240</td>\n",
       "      <td>-0.172049</td>\n",
       "      <td>1.000000</td>\n",
       "      <td>-0.355970</td>\n",
       "      <td>-0.289453</td>\n",
       "      <td>-0.219028</td>\n",
       "      <td>-0.169276</td>\n",
       "      <td>-0.295004</td>\n",
       "      <td>-0.028644</td>\n",
       "      <td>-0.147566</td>\n",
       "      <td>-0.288398</td>\n",
       "      <td>0.191183</td>\n",
       "      <td>-0.281105</td>\n",
       "    </tr>\n",
       "    <tr>\n",
       "      <th>FSN</th>\n",
       "      <td>0.412163</td>\n",
       "      <td>0.182978</td>\n",
       "      <td>-0.355970</td>\n",
       "      <td>1.000000</td>\n",
       "      <td>-0.036847</td>\n",
       "      <td>-0.163670</td>\n",
       "      <td>0.149571</td>\n",
       "      <td>0.338778</td>\n",
       "      <td>0.800571</td>\n",
       "      <td>-0.229716</td>\n",
       "      <td>0.132763</td>\n",
       "      <td>-0.157329</td>\n",
       "      <td>0.019700</td>\n",
       "    </tr>\n",
       "    <tr>\n",
       "      <th>KNC</th>\n",
       "      <td>0.646541</td>\n",
       "      <td>0.449998</td>\n",
       "      <td>-0.289453</td>\n",
       "      <td>-0.036847</td>\n",
       "      <td>1.000000</td>\n",
       "      <td>0.914332</td>\n",
       "      <td>0.413068</td>\n",
       "      <td>0.570414</td>\n",
       "      <td>-0.488734</td>\n",
       "      <td>0.632983</td>\n",
       "      <td>0.826917</td>\n",
       "      <td>-0.055061</td>\n",
       "      <td>0.034911</td>\n",
       "    </tr>\n",
       "    <tr>\n",
       "      <th>LEND</th>\n",
       "      <td>0.742782</td>\n",
       "      <td>0.100123</td>\n",
       "      <td>-0.219028</td>\n",
       "      <td>-0.163670</td>\n",
       "      <td>0.914332</td>\n",
       "      <td>1.000000</td>\n",
       "      <td>0.532027</td>\n",
       "      <td>0.295042</td>\n",
       "      <td>0.355537</td>\n",
       "      <td>0.704994</td>\n",
       "      <td>0.836394</td>\n",
       "      <td>-0.231029</td>\n",
       "      <td>0.172546</td>\n",
       "    </tr>\n",
       "    <tr>\n",
       "      <th>MATIC</th>\n",
       "      <td>0.470291</td>\n",
       "      <td>0.579265</td>\n",
       "      <td>-0.169276</td>\n",
       "      <td>0.149571</td>\n",
       "      <td>0.413068</td>\n",
       "      <td>0.532027</td>\n",
       "      <td>1.000000</td>\n",
       "      <td>0.598469</td>\n",
       "      <td>0.009732</td>\n",
       "      <td>0.271380</td>\n",
       "      <td>0.503266</td>\n",
       "      <td>0.025312</td>\n",
       "      <td>0.046927</td>\n",
       "    </tr>\n",
       "    <tr>\n",
       "      <th>POA</th>\n",
       "      <td>0.801687</td>\n",
       "      <td>0.714958</td>\n",
       "      <td>-0.295004</td>\n",
       "      <td>0.338778</td>\n",
       "      <td>0.570414</td>\n",
       "      <td>0.295042</td>\n",
       "      <td>0.598469</td>\n",
       "      <td>1.000000</td>\n",
       "      <td>-0.372018</td>\n",
       "      <td>-0.150871</td>\n",
       "      <td>0.504104</td>\n",
       "      <td>-0.408456</td>\n",
       "      <td>0.065939</td>\n",
       "    </tr>\n",
       "    <tr>\n",
       "      <th>RHOC</th>\n",
       "      <td>0.448770</td>\n",
       "      <td>0.351586</td>\n",
       "      <td>-0.028644</td>\n",
       "      <td>0.800571</td>\n",
       "      <td>-0.488734</td>\n",
       "      <td>0.355537</td>\n",
       "      <td>0.009732</td>\n",
       "      <td>-0.372018</td>\n",
       "      <td>1.000000</td>\n",
       "      <td>-0.181978</td>\n",
       "      <td>0.062359</td>\n",
       "      <td>0.213497</td>\n",
       "      <td>0.242902</td>\n",
       "    </tr>\n",
       "    <tr>\n",
       "      <th>STX</th>\n",
       "      <td>0.404245</td>\n",
       "      <td>-0.302465</td>\n",
       "      <td>-0.147566</td>\n",
       "      <td>-0.229716</td>\n",
       "      <td>0.632983</td>\n",
       "      <td>0.704994</td>\n",
       "      <td>0.271380</td>\n",
       "      <td>-0.150871</td>\n",
       "      <td>-0.181978</td>\n",
       "      <td>1.000000</td>\n",
       "      <td>0.562607</td>\n",
       "      <td>0.193613</td>\n",
       "      <td>0.078834</td>\n",
       "    </tr>\n",
       "    <tr>\n",
       "      <th>THETA</th>\n",
       "      <td>0.700473</td>\n",
       "      <td>0.531285</td>\n",
       "      <td>-0.288398</td>\n",
       "      <td>0.132763</td>\n",
       "      <td>0.826917</td>\n",
       "      <td>0.836394</td>\n",
       "      <td>0.503266</td>\n",
       "      <td>0.504104</td>\n",
       "      <td>0.062359</td>\n",
       "      <td>0.562607</td>\n",
       "      <td>1.000000</td>\n",
       "      <td>-0.205380</td>\n",
       "      <td>0.035336</td>\n",
       "    </tr>\n",
       "    <tr>\n",
       "      <th>TNT</th>\n",
       "      <td>-0.385815</td>\n",
       "      <td>-0.561120</td>\n",
       "      <td>0.191183</td>\n",
       "      <td>-0.157329</td>\n",
       "      <td>-0.055061</td>\n",
       "      <td>-0.231029</td>\n",
       "      <td>0.025312</td>\n",
       "      <td>-0.408456</td>\n",
       "      <td>0.213497</td>\n",
       "      <td>0.193613</td>\n",
       "      <td>-0.205380</td>\n",
       "      <td>1.000000</td>\n",
       "      <td>-0.058217</td>\n",
       "    </tr>\n",
       "    <tr>\n",
       "      <th>VEE</th>\n",
       "      <td>0.030164</td>\n",
       "      <td>0.079664</td>\n",
       "      <td>-0.281105</td>\n",
       "      <td>0.019700</td>\n",
       "      <td>0.034911</td>\n",
       "      <td>0.172546</td>\n",
       "      <td>0.046927</td>\n",
       "      <td>0.065939</td>\n",
       "      <td>0.242902</td>\n",
       "      <td>0.078834</td>\n",
       "      <td>0.035336</td>\n",
       "      <td>-0.058217</td>\n",
       "      <td>1.000000</td>\n",
       "    </tr>\n",
       "  </tbody>\n",
       "</table>\n",
       "</div>"
      ],
      "text/plain": [
       "ico_symbol       AST       AVT       CAT       FSN       KNC      LEND  \\\n",
       "ico_symbol                                                               \n",
       "AST         1.000000  0.817974 -0.306240  0.412163  0.646541  0.742782   \n",
       "AVT         0.817974  1.000000 -0.172049  0.182978  0.449998  0.100123   \n",
       "CAT        -0.306240 -0.172049  1.000000 -0.355970 -0.289453 -0.219028   \n",
       "FSN         0.412163  0.182978 -0.355970  1.000000 -0.036847 -0.163670   \n",
       "KNC         0.646541  0.449998 -0.289453 -0.036847  1.000000  0.914332   \n",
       "LEND        0.742782  0.100123 -0.219028 -0.163670  0.914332  1.000000   \n",
       "MATIC       0.470291  0.579265 -0.169276  0.149571  0.413068  0.532027   \n",
       "POA         0.801687  0.714958 -0.295004  0.338778  0.570414  0.295042   \n",
       "RHOC        0.448770  0.351586 -0.028644  0.800571 -0.488734  0.355537   \n",
       "STX         0.404245 -0.302465 -0.147566 -0.229716  0.632983  0.704994   \n",
       "THETA       0.700473  0.531285 -0.288398  0.132763  0.826917  0.836394   \n",
       "TNT        -0.385815 -0.561120  0.191183 -0.157329 -0.055061 -0.231029   \n",
       "VEE         0.030164  0.079664 -0.281105  0.019700  0.034911  0.172546   \n",
       "\n",
       "ico_symbol     MATIC       POA      RHOC       STX     THETA       TNT  \\\n",
       "ico_symbol                                                               \n",
       "AST         0.470291  0.801687  0.448770  0.404245  0.700473 -0.385815   \n",
       "AVT         0.579265  0.714958  0.351586 -0.302465  0.531285 -0.561120   \n",
       "CAT        -0.169276 -0.295004 -0.028644 -0.147566 -0.288398  0.191183   \n",
       "FSN         0.149571  0.338778  0.800571 -0.229716  0.132763 -0.157329   \n",
       "KNC         0.413068  0.570414 -0.488734  0.632983  0.826917 -0.055061   \n",
       "LEND        0.532027  0.295042  0.355537  0.704994  0.836394 -0.231029   \n",
       "MATIC       1.000000  0.598469  0.009732  0.271380  0.503266  0.025312   \n",
       "POA         0.598469  1.000000 -0.372018 -0.150871  0.504104 -0.408456   \n",
       "RHOC        0.009732 -0.372018  1.000000 -0.181978  0.062359  0.213497   \n",
       "STX         0.271380 -0.150871 -0.181978  1.000000  0.562607  0.193613   \n",
       "THETA       0.503266  0.504104  0.062359  0.562607  1.000000 -0.205380   \n",
       "TNT         0.025312 -0.408456  0.213497  0.193613 -0.205380  1.000000   \n",
       "VEE         0.046927  0.065939  0.242902  0.078834  0.035336 -0.058217   \n",
       "\n",
       "ico_symbol       VEE  \n",
       "ico_symbol            \n",
       "AST         0.030164  \n",
       "AVT         0.079664  \n",
       "CAT        -0.281105  \n",
       "FSN         0.019700  \n",
       "KNC         0.034911  \n",
       "LEND        0.172546  \n",
       "MATIC       0.046927  \n",
       "POA         0.065939  \n",
       "RHOC        0.242902  \n",
       "STX         0.078834  \n",
       "THETA       0.035336  \n",
       "TNT        -0.058217  \n",
       "VEE         1.000000  "
      ]
     },
     "execution_count": 19,
     "metadata": {},
     "output_type": "execute_result"
    }
   ],
   "source": [
    "corr = temp.corr('pearson')\n",
    "corr.fillna(0, inplace=True)\n",
    "corr"
   ]
  },
  {
   "cell_type": "markdown",
   "metadata": {},
   "source": [
    "# Covariance"
   ]
  },
  {
   "cell_type": "code",
   "execution_count": 20,
   "metadata": {},
   "outputs": [],
   "source": [
    "temp_log = np.log(temp)"
   ]
  },
  {
   "cell_type": "code",
   "execution_count": 21,
   "metadata": {},
   "outputs": [],
   "source": [
    "std = temp_log.std(axis=0)"
   ]
  },
  {
   "cell_type": "code",
   "execution_count": 22,
   "metadata": {},
   "outputs": [
    {
     "data": {
      "text/plain": [
       "ico_symbol\n",
       "AST     0.622017\n",
       "AVT     0.252228\n",
       "CAT     1.135424\n",
       "FSN     0.746141\n",
       "KNC     0.729228\n",
       "LEND    1.474504\n",
       "MATIC   0.321216\n",
       "POA     0.419434\n",
       "RHOC    0.518729\n",
       "STX     1.025927\n",
       "THETA   0.405806\n",
       "TNT     0.493675\n",
       "VEE     0.516587\n",
       "dtype: float64"
      ]
     },
     "execution_count": 22,
     "metadata": {},
     "output_type": "execute_result"
    }
   ],
   "source": [
    "std"
   ]
  },
  {
   "cell_type": "code",
   "execution_count": 23,
   "metadata": {},
   "outputs": [],
   "source": [
    "correlation = np.array(corr)\n",
    "stdev = std\n"
   ]
  },
  {
   "cell_type": "code",
   "execution_count": 24,
   "metadata": {},
   "outputs": [],
   "source": [
    "## This is the change\n",
    "\n",
    "stand = np.array([stdev])"
   ]
  },
  {
   "cell_type": "code",
   "execution_count": 25,
   "metadata": {},
   "outputs": [
    {
     "data": {
      "text/plain": [
       "array([[0.62201738, 0.25222798, 1.13542368, 0.74614068, 0.72922809,\n",
       "        1.47450388, 0.32121618, 0.41943414, 0.51872857, 1.0259267 ,\n",
       "        0.40580594, 0.49367451, 0.51658724]])"
      ]
     },
     "execution_count": 25,
     "metadata": {},
     "output_type": "execute_result"
    }
   ],
   "source": [
    "stand"
   ]
  },
  {
   "cell_type": "code",
   "execution_count": 26,
   "metadata": {},
   "outputs": [
    {
     "data": {
      "text/plain": [
       "array([[0.62201738],\n",
       "       [0.25222798],\n",
       "       [1.13542368],\n",
       "       [0.74614068],\n",
       "       [0.72922809],\n",
       "       [1.47450388],\n",
       "       [0.32121618],\n",
       "       [0.41943414],\n",
       "       [0.51872857],\n",
       "       [1.0259267 ],\n",
       "       [0.40580594],\n",
       "       [0.49367451],\n",
       "       [0.51658724]])"
      ]
     },
     "execution_count": 26,
     "metadata": {},
     "output_type": "execute_result"
    }
   ],
   "source": [
    "stand.T"
   ]
  },
  {
   "cell_type": "code",
   "execution_count": 27,
   "metadata": {},
   "outputs": [],
   "source": [
    "cov = correlation * np.dot(stand.T, stand)"
   ]
  },
  {
   "cell_type": "code",
   "execution_count": 28,
   "metadata": {},
   "outputs": [
    {
     "data": {
      "text/plain": [
       "array([[ 3.86905622e-01,  1.28332049e-01, -2.16282833e-01,\n",
       "         1.91289897e-01,  2.93266196e-01,  6.81255244e-01,\n",
       "         9.39651546e-02,  2.09156485e-01,  1.44799386e-01,\n",
       "         2.57966558e-01,  1.76812160e-01, -1.18473698e-01,\n",
       "         9.69248280e-03],\n",
       "       [ 1.28332049e-01,  6.36189519e-02, -4.92724527e-02,\n",
       "         3.44359883e-02,  8.27688956e-02,  3.72369237e-02,\n",
       "         4.69319186e-02,  7.56375370e-02,  4.60007108e-02,\n",
       "        -7.82680889e-02,  5.43800311e-02, -6.98698163e-02,\n",
       "         1.03800380e-02],\n",
       "       [-2.16282833e-01, -4.92724527e-02,  1.28918694e+00,\n",
       "        -3.01572421e-01, -2.39661709e-01, -3.66693812e-01,\n",
       "        -6.17378592e-02, -1.40491561e-01, -1.68703627e-02,\n",
       "        -1.71893410e-01, -1.32882647e-01,  1.07163541e-01,\n",
       "        -1.64880562e-01],\n",
       "       [ 1.91289897e-01,  3.44359883e-02, -3.01572421e-01,\n",
       "         5.56725908e-01, -2.00488156e-02, -1.80067859e-01,\n",
       "         3.58479762e-02,  1.06022860e-01,  3.09856459e-01,\n",
       "        -1.75843922e-01,  4.01991041e-02, -5.79523295e-02,\n",
       "         7.59330756e-03],\n",
       "       [ 2.93266196e-01,  8.27688956e-02, -2.39661709e-01,\n",
       "        -2.00488156e-02,  5.31773608e-01,  9.83134735e-01,\n",
       "         9.67569482e-02,  1.74468560e-01, -1.84873952e-01,\n",
       "         4.73556308e-01,  2.44705562e-01, -1.98218962e-02,\n",
       "         1.31512670e-02],\n",
       "       [ 6.81255244e-01,  3.72369237e-02, -3.66693812e-01,\n",
       "        -1.80067859e-01,  9.83134735e-01,  2.17416171e+00,\n",
       "         2.51986330e-01,  1.82471153e-01,  2.71938239e-01,\n",
       "         1.06646692e+00,  5.00466814e-01, -1.68171981e-01,\n",
       "         1.31430137e-01],\n",
       "       [ 9.39651546e-02,  4.69319186e-02, -6.17378592e-02,\n",
       "         3.58479762e-02,  9.67569482e-02,  2.51986330e-01,\n",
       "         1.03179836e-01,  8.06310990e-02,  1.62163139e-03,\n",
       "         8.94315991e-02,  6.56014127e-02,  4.01387189e-03,\n",
       "         7.78696996e-03],\n",
       "       [ 2.09156485e-01,  7.56375370e-02, -1.40491561e-01,\n",
       "         1.06022860e-01,  1.74468560e-01,  1.82471153e-01,\n",
       "         8.06310990e-02,  1.75925001e-01, -8.09408766e-02,\n",
       "        -6.49213057e-02,  8.58029842e-02, -8.45764169e-02,\n",
       "         1.42873458e-02],\n",
       "       [ 1.44799386e-01,  4.60007108e-02, -1.68703627e-02,\n",
       "         3.09856459e-01, -1.84873952e-01,  2.71938239e-01,\n",
       "         1.62163139e-03, -8.09408766e-02,  2.69079325e-01,\n",
       "        -9.68448430e-02,  1.31266717e-02,  5.46729434e-02,\n",
       "         6.50902318e-02],\n",
       "       [ 2.57966558e-01, -7.82680889e-02, -1.71893410e-01,\n",
       "        -1.75843922e-01,  4.73556308e-01,  1.06646692e+00,\n",
       "         8.94315991e-02, -6.49213057e-02, -9.68448430e-02,\n",
       "         1.05252560e+00,  2.34228698e-01,  9.80601746e-02,\n",
       "         4.17806512e-02],\n",
       "       [ 1.76812160e-01,  5.43800311e-02, -1.32882647e-01,\n",
       "         4.01991041e-02,  2.44705562e-01,  5.00466814e-01,\n",
       "         6.56014127e-02,  8.58029842e-02,  1.31266717e-02,\n",
       "         2.34228698e-01,  1.64678465e-01, -4.11449288e-02,\n",
       "         7.40762919e-03],\n",
       "       [-1.18473698e-01, -6.98698163e-02,  1.07163541e-01,\n",
       "        -5.79523295e-02, -1.98218962e-02, -1.68171981e-01,\n",
       "         4.01387189e-03, -8.45764169e-02,  5.46729434e-02,\n",
       "         9.80601746e-02, -4.11449288e-02,  2.43714523e-01,\n",
       "        -1.48468779e-02],\n",
       "       [ 9.69248280e-03,  1.03800380e-02, -1.64880562e-01,\n",
       "         7.59330756e-03,  1.31512670e-02,  1.31430137e-01,\n",
       "         7.78696996e-03,  1.42873458e-02,  6.50902318e-02,\n",
       "         4.17806512e-02,  7.40762919e-03, -1.48468779e-02,\n",
       "         2.66862376e-01]])"
      ]
     },
     "execution_count": 28,
     "metadata": {},
     "output_type": "execute_result"
    }
   ],
   "source": [
    "cov"
   ]
  },
  {
   "cell_type": "markdown",
   "metadata": {},
   "source": [
    "# Equilibrium Returns\n"
   ]
  },
  {
   "cell_type": "code",
   "execution_count": 29,
   "metadata": {
    "scrolled": true
   },
   "outputs": [
    {
     "name": "stdout",
     "output_type": "stream",
     "text": [
      "AST  ----> Expected return= [54.52916193] Stdev= 38.69056221834482\n",
      "AVT  ----> Expected return= [16.18234065] Stdev= 6.36189518977643\n",
      "CAT  ----> Expected return= [-39.00335312] Stdev= 128.9186942141805\n",
      "FSN  ----> Expected return= [30.23823964] Stdev= 55.672590766588925\n",
      "KNC  ----> Expected return= [56.32538979] Stdev= 53.17736078143685\n",
      "LEND  ----> Expected return= [107.33307322] Stdev= 217.41617059030776\n",
      "MATIC  ----> Expected return= [19.52715061] Stdev= 10.317983571204367\n",
      "POA  ----> Expected return= [30.78401443] Stdev= 17.592500055112822\n",
      "RHOC  ----> Expected return= [7.08904005] Stdev= 26.907932519932093\n",
      "STX  ----> Expected return= [41.42455498] Stdev= 105.25255965695894\n",
      "THETA  ----> Expected return= [32.45586607] Stdev= 16.467846473212266\n",
      "TNT  ----> Expected return= [-8.11415614] Stdev= 24.371452277856207\n",
      "VEE  ----> Expected return= [3.12279858] Stdev= 26.686237568130096\n"
     ]
    }
   ],
   "source": [
    "r_eq = lmda*np.dot(cov, w_mkt)\n",
    "\n",
    "for i in range(len(r_eq)):\n",
    "    print(weights.index[i],\" ---->\", \"Expected return=\", r_eq[i]*100, \"Stdev=\", cov[i,i]*100)"
   ]
  },
  {
   "cell_type": "markdown",
   "metadata": {},
   "source": [
    "# STEP 2: Add Views\n",
    "### a) Matrix P (identify which assets)\n",
    "### b) Matrix Q (by how much they outperform)\n",
    "### c) Matrix Omega (uncertainty of views = tau*stdev(asset in view)"
   ]
  },
  {
   "cell_type": "code",
   "execution_count": 30,
   "metadata": {},
   "outputs": [
    {
     "data": {
      "text/plain": [
       "13"
      ]
     },
     "execution_count": 30,
     "metadata": {},
     "output_type": "execute_result"
    }
   ],
   "source": [
    "len(weights)"
   ]
  },
  {
   "cell_type": "code",
   "execution_count": 31,
   "metadata": {},
   "outputs": [],
   "source": [
    "# Here we only add absolute views\n",
    "\n",
    "# BTC-ETH-MATIC-MKR-STX-ATOM-DASH-NEO-BNB-ZEC-PAXG-AE-DCR-ADA-ZIL-WAVES-ZRX-XMR-ZEN-HOT\n",
    "\n",
    "# in this case, no views for BTC and ETH\n",
    "\n",
    "P = np.identity(len(weights))\n",
    "\n",
    "# Using DELTA as views\n",
    "\n",
    "Q = np.array([ [0.5],[0.092], [0.026], [-0.25], [0.021], [0.26], [0.013], [-0.001], [0.017], [0.115], [0.039], [-0.005], [0.30] ])\n",
    "\n",
    "\n",
    "# Assume 95% certainty of all views\n",
    "# the smaller the tau, the closer you get to your views distribution, so more extreme the long-shorts\n",
    "# the higher the tau, the closer to remain to market equilibrium, so not a big shift\n",
    "\n",
    "Omega = np.identity(len(weights)) * tau\n",
    "\n"
   ]
  },
  {
   "cell_type": "markdown",
   "metadata": {},
   "source": [
    "# STEP 3: Combine views with equilibrium returns\n",
    "### a) update return vector\n",
    "### b) update covariance matrix\n",
    "### c) Find new optimal Black-Litterman weights"
   ]
  },
  {
   "cell_type": "code",
   "execution_count": 32,
   "metadata": {},
   "outputs": [
    {
     "name": "stdout",
     "output_type": "stream",
     "text": [
      "AST  -----> Rebalance(%): [7.88927075] -----> Opt Weight: [22.84627075]\n",
      "AVT  -----> Rebalance(%): [-1.44026777] -----> Opt Weight: [3.38973223]\n",
      "CAT  -----> Rebalance(%): [3.27666374] -----> Opt Weight: [3.91766374]\n",
      "FSN  -----> Rebalance(%): [-13.98160271] -----> Opt Weight: [-3.24360271]\n",
      "KNC  -----> Rebalance(%): [-7.46868667] -----> Opt Weight: [9.54531333]\n",
      "LEND  -----> Rebalance(%): [-7.79899932] -----> Opt Weight: [-7.63399932]\n",
      "MATIC  -----> Rebalance(%): [-3.30999872] -----> Opt Weight: [9.85900128]\n",
      "POA  -----> Rebalance(%): [-6.98971358] -----> Opt Weight: [7.00528642]\n",
      "RHOC  -----> Rebalance(%): [0.50880851] -----> Opt Weight: [3.40980851]\n",
      "STX  -----> Rebalance(%): [-1.40141888] -----> Opt Weight: [0.39458112]\n",
      "THETA  -----> Rebalance(%): [-3.91930046] -----> Opt Weight: [9.60269954]\n",
      "TNT  -----> Rebalance(%): [0.19541576] -----> Opt Weight: [5.87441576]\n",
      "VEE  -----> Rebalance(%): [8.97290466] -----> Opt Weight: [9.56490466]\n"
     ]
    },
    {
     "data": {
      "image/png": "[encoded data removed]",
      "text/plain": [
       "<Figure size 432x288 with 1 Axes>"
      ]
     },
     "metadata": {
      "needs_background": "light"
     },
     "output_type": "display_data"
    }
   ],
   "source": [
    "r_eq_2 = r_eq + np.dot(np.dot(tau*np.dot(cov, P.T), np.linalg.inv(tau*np.dot(np.dot(P, cov), P.T)+Omega)), (Q-np.dot(P,r_eq)))\n",
    "\n",
    "\n",
    "cov_2 = cov + tau*cov - tau*np.dot(np.dot(np.dot(cov,P.T), np.linalg.inv(tau*np.dot(np.dot(P,cov),P.T)+Omega)), tau*np.dot(P,cov))\n",
    "\n",
    "w_opt = np.dot(np.linalg.inv(lmda*cov_2),r_eq_2)\n",
    "\n",
    "\n",
    "df = pd.DataFrame([w_mkt.reshape(len(weights)), w_opt.reshape(len(weights))],\n",
    "                  columns=weights.index.tolist(),\n",
    "                  index=['Mean-Var Equilibrium Weights','Black-Litterman Optimal Weights'])\n",
    "\n",
    "df.T.plot(kind='bar', color='br')\n",
    "\n",
    "# change in weights:\n",
    "\n",
    "ch = w_opt - w_mkt\n",
    "\n",
    "\n",
    "for i in range(len(ch)):\n",
    "    #print(weights.index[i],\" ---->\", \"Expected return=\", r_eq[i]*100, \"Stdev=\", cov[i,i]*100)    \n",
    "    print(weights.index[i],\" ----->\", \"Rebalance(%):\", ch[i]*100, \"-----> Opt Weight:\", w_opt[i]*100)"
   ]
  },
  {
   "cell_type": "code",
   "execution_count": 33,
   "metadata": {},
   "outputs": [
    {
     "name": "stdout",
     "output_type": "stream",
     "text": [
      "[[0.14957]\n",
      " [0.0483 ]\n",
      " [0.00641]\n",
      " [0.10738]\n",
      " [0.17014]\n",
      " [0.00165]\n",
      " [0.13169]\n",
      " [0.13995]\n",
      " [0.02901]\n",
      " [0.01796]\n",
      " [0.13522]\n",
      " [0.05679]\n",
      " [0.00592]]\n",
      "[0.99999]\n",
      "[[ 0.22846271]\n",
      " [ 0.03389732]\n",
      " [ 0.03917664]\n",
      " [-0.03243603]\n",
      " [ 0.09545313]\n",
      " [-0.07633999]\n",
      " [ 0.09859001]\n",
      " [ 0.07005286]\n",
      " [ 0.03409809]\n",
      " [ 0.00394581]\n",
      " [ 0.096027  ]\n",
      " [ 0.05874416]\n",
      " [ 0.09564905]]\n",
      "[0.74532075]\n"
     ]
    }
   ],
   "source": [
    "print(w_mkt)\n",
    "print(sum(w_mkt))\n",
    "print(w_opt)\n",
    "print(sum(w_opt))\n"
   ]
  },
  {
   "cell_type": "markdown",
   "metadata": {},
   "source": [
    "# Now adding no shorts constraint and also max allocation per asset of 35%, and make weights sum up to 1\n"
   ]
  },
  {
   "cell_type": "code",
   "execution_count": 34,
   "metadata": {},
   "outputs": [
    {
     "name": "stdout",
     "output_type": "stream",
     "text": [
      "Percent Initially Shorted= 0.10877602037933347\n",
      "Excess Long based on 35% constraint= 0.0\n",
      "Remaining to Allocate= [0.25467925]\n",
      "[0.14590323]\n",
      "[[0.22846271]\n",
      " [0.03389732]\n",
      " [0.03917664]\n",
      " [0.        ]\n",
      " [0.09545313]\n",
      " [0.        ]\n",
      " [0.09859001]\n",
      " [0.07005286]\n",
      " [0.03409809]\n",
      " [0.00394581]\n",
      " [0.096027  ]\n",
      " [0.05874416]\n",
      " [0.09564905]]\n"
     ]
    }
   ],
   "source": [
    "too_short = []\n",
    "too_long = []\n",
    "# This is new\n",
    "to_alloc = []\n",
    "\n",
    "\n",
    "\n",
    "for i in range(len(weights)):\n",
    "    \n",
    "    if w_opt[i] <0:\n",
    "\n",
    "        too_short = np.append(too_short, w_opt[i])\n",
    "        w_opt[i]=0\n",
    "\n",
    "    elif w_opt[i] >0.35:\n",
    "\n",
    "        too_long = np.append(too_long, w_opt[i]-0.35)\n",
    "        w_opt[i] = 0.15\n",
    "# This is new\n",
    "if sum(w_opt)<1:\n",
    "    to_alloc = np.append(to_alloc, 1-sum(w_opt))\n",
    "    \n",
    "\n",
    "#print(w_opt)\n",
    "pct_shorted = -np.sum(too_short)\n",
    "pct_excess_long = np.sum(too_long)\n",
    "# This is new\n",
    "remains = pct_shorted+pct_excess_long+to_alloc\n",
    "\n",
    "print(\"Percent Initially Shorted=\", pct_shorted)\n",
    "print(\"Excess Long based on 35% constraint=\", pct_excess_long)\n",
    "print(\"Remaining to Allocate=\", remains)\n",
    "\n",
    "print(to_alloc)\n",
    "print(w_opt)"
   ]
  },
  {
   "cell_type": "code",
   "execution_count": 35,
   "metadata": {},
   "outputs": [
    {
     "name": "stdout",
     "output_type": "stream",
     "text": [
      "[0.85409677]\n"
     ]
    }
   ],
   "source": [
    "len(w_opt)\n",
    "print(sum(w_opt))"
   ]
  },
  {
   "cell_type": "code",
   "execution_count": 36,
   "metadata": {},
   "outputs": [
    {
     "name": "stdout",
     "output_type": "stream",
     "text": [
      "AST  -----> Rebalance(%): [17.90651628] -----> Opt Weight: [32.86351628]\n",
      "AVT  -----> Rebalance(%): [-0.64299853] -----> Opt Weight: [4.18700147]\n",
      "CAT  -----> Rebalance(%): [2.58246623] -----> Opt Weight: [3.22346623]\n",
      "FSN  -----> Rebalance(%): [-10.738] -----> Opt Weight: [0.]\n",
      "KNC  -----> Rebalance(%): [-8.27587408] -----> Opt Weight: [8.73812592]\n",
      "LEND  -----> Rebalance(%): [4.42873007] -----> Opt Weight: [4.59373007]\n",
      "MATIC  -----> Rebalance(%): [-4.29796998] -----> Opt Weight: [8.87103002]\n",
      "POA  -----> Rebalance(%): [-8.2714586] -----> Opt Weight: [5.7235414]\n",
      "RHOC  -----> Rebalance(%): [-0.38877083] -----> Opt Weight: [2.51222917]\n",
      "STX  -----> Rebalance(%): [-0.08439607] -----> Opt Weight: [1.71160393]\n",
      "THETA  -----> Rebalance(%): [-4.31972422] -----> Opt Weight: [9.20227578]\n",
      "TNT  -----> Rebalance(%): [-1.08632925] -----> Opt Weight: [4.59267075]\n",
      "VEE  -----> Rebalance(%): [14.47055398] -----> Opt Weight: [15.06255398]\n"
     ]
    },
    {
     "data": {
      "image/png": "[encoded data removed]",
      "text/plain": [
       "<Figure size 432x288 with 1 Axes>"
      ]
     },
     "metadata": {
      "needs_background": "light"
     },
     "output_type": "display_data"
    }
   ],
   "source": [
    "## Now adding proportionally to the DELTA:\n",
    "# 2- Invest the remaining amount proportionally to the views\n",
    "\n",
    "D = np.array([ [0.5],[0.092], [0.026], [-0.25], [0.021], [0.26], [0.013], [-0.001], [0.017], [0.115], [0.039], [-0.005], [0.30]])\n",
    "\n",
    "propor = D/sum(D)\n",
    "\n",
    "\n",
    "\n",
    "for j in range(len(weights)):\n",
    "    if propor[j]<0:\n",
    "        propor[j] = 0\n",
    "        \n",
    "w_opt_propor = w_opt + propor*remains\n",
    "        \n",
    "if sum(w_opt_propor)>1:\n",
    "    w_opt_propor = w_opt_propor - (sum(w_opt_propor)-1)/len(weights)\n",
    "    \n",
    "for k in range(len(weights)):\n",
    "    if w_opt_propor[k]<0:\n",
    "        w_opt_propor[k]=0\n",
    "    \n",
    "    \n",
    "df = pd.DataFrame([w_mkt.reshape(len(weights)), w_opt_propor.reshape(len(weights))],\n",
    "                  columns=weights.index.tolist(),\n",
    "                  index=['Mean-Var Equilibrium Weights','Black-Litterman Optimal Weights'])\n",
    "\n",
    "df.T.plot(kind='bar', color='br')\n",
    "\n",
    "# change in weights:\n",
    "\n",
    "ch_propor = w_opt_propor - w_mkt\n",
    "\n",
    "for i in range(len(ch)):\n",
    "    #print(weights.index[i],\" ---->\", \"Expected return=\", r_eq[i]*100, \"Stdev=\", cov[i,i]*100)    \n",
    "    print(weights.index[i],\" ----->\", \"Rebalance(%):\", ch_propor[i]*100, \"-----> Opt Weight:\", w_opt_propor[i]*100)"
   ]
  },
  {
   "cell_type": "markdown",
   "metadata": {},
   "source": [
    "# Views said:\n",
    "#### AST will go up 50%\n",
    "#### VEE will go up 30%\n",
    "#### FSN will go down 25%"
   ]
  },
  {
   "cell_type": "code",
   "execution_count": 37,
   "metadata": {},
   "outputs": [
    {
     "name": "stdout",
     "output_type": "stream",
     "text": [
      "[1.01281745]\n"
     ]
    }
   ],
   "source": [
    "print(sum(w_opt_propor))"
   ]
  },
  {
   "cell_type": "code",
   "execution_count": null,
   "metadata": {},
   "outputs": [],
   "source": []
  }
 ],
 "metadata": {
  "kernelspec": {
   "display_name": "Python 3",
   "language": "python",
   "name": "python3"
  },
  "language_info": {
   "codemirror_mode": {
    "name": "ipython",
    "version": 3
   },
   "file_extension": ".py",
   "mimetype": "text/x-python",
   "name": "python",
   "nbconvert_exporter": "python",
   "pygments_lexer": "ipython3",
   "version": "3.7.6"
  }
 },
 "nbformat": 4,
 "nbformat_minor": 4
}
