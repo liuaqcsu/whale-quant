{
 "cells": [
  {
   "cell_type": "code",
   "execution_count": 1,
   "metadata": {},
   "outputs": [
    {
     "ename": "ModuleNotFoundError",
     "evalue": "No module named 'zipline'",
     "output_type": "error",
     "traceback": [
      "\u001b[0;31m---------------------------------------------------------------------------\u001b[0m",
      "\u001b[0;31mModuleNotFoundError\u001b[0m                       Traceback (most recent call last)",
      "\u001b[0;32m<ipython-input-1-4a057d0d36b6>\u001b[0m in \u001b[0;36m<module>\u001b[0;34m\u001b[0m\n\u001b[0;32m----> 1\u001b[0;31m \u001b[0;32mimport\u001b[0m \u001b[0mzipline\u001b[0m\u001b[0;34m\u001b[0m\u001b[0;34m\u001b[0m\u001b[0m\n\u001b[0m\u001b[1;32m      2\u001b[0m \u001b[0;32mfrom\u001b[0m \u001b[0mzipline\u001b[0m\u001b[0;34m.\u001b[0m\u001b[0mapi\u001b[0m \u001b[0;32mimport\u001b[0m \u001b[0msymbol\u001b[0m\u001b[0;34m,\u001b[0m \u001b[0morder_target_percent\u001b[0m\u001b[0;34m,\u001b[0m \u001b[0mrecord\u001b[0m\u001b[0;34m,\u001b[0m \u001b[0mschedule_function\u001b[0m\u001b[0;34m\u001b[0m\u001b[0;34m\u001b[0m\u001b[0m\n\u001b[1;32m      3\u001b[0m \u001b[0;32mimport\u001b[0m \u001b[0mtalib\u001b[0m \u001b[0;32mas\u001b[0m \u001b[0mta\u001b[0m\u001b[0;34m\u001b[0m\u001b[0;34m\u001b[0m\u001b[0m\n\u001b[1;32m      4\u001b[0m \u001b[0;32mimport\u001b[0m \u001b[0mpandas\u001b[0m \u001b[0;32mas\u001b[0m \u001b[0mpd\u001b[0m\u001b[0;34m\u001b[0m\u001b[0;34m\u001b[0m\u001b[0m\n\u001b[1;32m      5\u001b[0m \u001b[0;32mfrom\u001b[0m \u001b[0mzipline\u001b[0m\u001b[0;34m.\u001b[0m\u001b[0mutils\u001b[0m\u001b[0;34m.\u001b[0m\u001b[0mevents\u001b[0m \u001b[0;32mimport\u001b[0m \u001b[0mdate_rules\u001b[0m\u001b[0;34m,\u001b[0m \u001b[0mtime_rules\u001b[0m\u001b[0;34m\u001b[0m\u001b[0;34m\u001b[0m\u001b[0m\n",
      "\u001b[0;31mModuleNotFoundError\u001b[0m: No module named 'zipline'"
     ]
    }
   ],
   "source": [
    "import zipline\n",
    "from zipline.api import symbol, order_target_percent, record, schedule_function\n",
    "import talib as ta\n",
    "import pandas as pd\n",
    "from zipline.utils.events import date_rules, time_rules\n",
    "\n",
    "\n",
    "def initialize(context):\n",
    "    context.asset = symbol('ETH')\n",
    "\n",
    "    schedule_function(rebalance, date_rules.every_day(), time_rules.market_open())\n",
    "\n",
    "\n",
    "def rebalance(context, data):\n",
    "    history = data.history(context.asset, ['close'], 40, '1d')\n",
    "    date = history.index.values[-1]\n",
    "    close = history['close'].values\n",
    "    price = data.current(context.asset, 'close')\n",
    "    record(price=price)\n",
    "\n",
    "    macd_raw, signal, hist = ta.MACD(close, fastperiod=12,\n",
    "            slowperiod=26, signalperiod=9)\n",
    "\n",
    "    macd = macd_raw[-1] - signal[-1]\n",
    "\n",
    "    current_position = context.portfolio.positions[context.asset].amount\n",
    "\n",
    "    if macd > 0 and current_position == 0:\n",
    "        print(str(date) + \"==>触发买入\")\n",
    "        order_target_percent(context.asset, 1.0)\n",
    "    elif macd < 0 and current_position > 0:\n",
    "        print(str(date) + \"==>触发卖出\")\n",
    "        order_target_percent(context.asset, 0.0)\n",
    "    else:\n",
    "        print(str(date) + \"==>无交易\")\n",
    "\n",
    "\n",
    "if __name__ == '__main__':\n",
    "    start_session = pd.to_datetime('2013-01-01', utc=True)\n",
    "    end_session = pd.to_datetime('2013-10-01', utc=True)\n",
    "    bundle_name = \"custom-csv-bundle\"\n",
    "    capital = 10000\n",
    "\n",
    "    perf = zipline.run_algorithm(start=start_session,\n",
    "                                 end=end_session,\n",
    "                                 initialize=initialize,\n",
    "                                 bundle=bundle_name,\n",
    "                                 capital_base=capital)\n",
    "\n",
    "    perf.to_pickle(\"output.pkl\")\n",
    "\n"
   ]
  },
  {
   "cell_type": "code",
   "execution_count": null,
   "metadata": {},
   "outputs": [],
   "source": []
  }
 ],
 "metadata": {
  "kernelspec": {
   "display_name": "Python 3",
   "language": "python",
   "name": "python3"
  },
  "language_info": {
   "codemirror_mode": {
    "name": "ipython",
    "version": 3
   },
   "file_extension": ".py",
   "mimetype": "text/x-python",
   "name": "python",
   "nbconvert_exporter": "python",
   "pygments_lexer": "ipython3",
   "version": "3.7.6"
  }
 },
 "nbformat": 4,
 "nbformat_minor": 4
}
